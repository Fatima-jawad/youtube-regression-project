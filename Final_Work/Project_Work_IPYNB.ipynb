{
  "nbformat": 4,
  "nbformat_minor": 0,
  "metadata": {
    "colab": {
      "name": "Project_Work.ipynb",
      "provenance": [],
      "collapsed_sections": []
    },
    "kernelspec": {
      "display_name": "Python 3",
      "language": "python",
      "name": "python3"
    },
    "language_info": {
      "codemirror_mode": {
        "name": "ipython",
        "version": 3
      },
      "file_extension": ".py",
      "mimetype": "text/x-python",
      "name": "python",
      "nbconvert_exporter": "python",
      "pygments_lexer": "ipython3",
      "version": "3.8.3"
    }
  },
  "cells": [
    {
      "cell_type": "markdown",
      "metadata": {
        "id": "fcS36vnmoVnv"
      },
      "source": [
        "# A Study of the Effect of YouTube Tech Channels to the Units Sold of Newly Released Devices"
      ]
    },
    {
      "cell_type": "code",
      "metadata": {
        "id": "OlP4DvXFoVn4"
      },
      "source": [
        "# Libraries used\n",
        "\n",
        "import requests\n",
        "from bs4 import BeautifulSoup\n",
        "import pandas as pd\n",
        "from fake_useragent import UserAgent\n",
        "import time, os\n",
        "import numpy as np\n",
        "import sys\n",
        "from tqdm import tqdm\n",
        "from api import *\n",
        "import google_auth_oauthlib.flow\n",
        "import googleapiclient.discovery\n",
        "import googleapiclient.errors\n",
        "import statsmodels.api as sm\n",
        "import statsmodels.formula.api as smf\n",
        "import patsy\n",
        "import seaborn as sns\n",
        "import matplotlib.pyplot as plt\n",
        "from sklearn.metrics import mean_absolute_error, mean_squared_error, accuracy_score\n",
        "from sklearn.linear_model import Lasso, Ridge, ElasticNet, LinearRegression, LogisticRegression\n",
        "from sklearn.model_selection import (cross_val_score, train_test_split, \n",
        "                                     KFold, GridSearchCV, train_test_split) \n",
        "from sklearn.preprocessing import StandardScaler, PolynomialFeatures\n",
        "from sklearn.pipeline import make_pipeline\n",
        "from sklearn import svm\n",
        "from sklearn.ensemble import RandomForestRegressor"
      ],
      "execution_count": 139,
      "outputs": []
    },
    {
      "cell_type": "markdown",
      "metadata": {
        "id": "QynWY310oVn9"
      },
      "source": [
        "## Scrapping"
      ]
    },
    {
      "cell_type": "markdown",
      "metadata": {
        "id": "Ka43-_y5oVn9"
      },
      "source": [
        "### In this section, we will scrap Wikipedia to get the number of units sold for each device."
      ]
    },
    {
      "cell_type": "code",
      "metadata": {
        "id": "EZ9rvXBzoVn-",
        "colab": {
          "base_uri": "https://localhost:8080/"
        },
        "outputId": "8bdbc76c-8302-43ce-f194-c2e699061cee"
      },
      "source": [
        "url = \"https://en.wikipedia.org/wiki/List_of_best-selling_mobile_phones#Top-selling_mobile_phones\"\n",
        "wikipage = requests.get(url)\n",
        "soup = BeautifulSoup(wikipage.text, \"html5lib\")\n",
        "print(wikipage.status_code)"
      ],
      "execution_count": 2,
      "outputs": [
        {
          "output_type": "stream",
          "name": "stdout",
          "text": [
            "200\n"
          ]
        }
      ]
    },
    {
      "cell_type": "code",
      "metadata": {
        "id": "nidc4UMOoVoA"
      },
      "source": [
        "columns = soup.find('table', class_='wikitable').find('tr') "
      ],
      "execution_count": 3,
      "outputs": []
    },
    {
      "cell_type": "code",
      "metadata": {
        "id": "gw8qqladoVoB"
      },
      "source": [
        "column_names = columns.text\n",
        "column_names = column_names.replace('\\n','  ').strip().split('  ')\n",
        "column_names = [value for value in column_names if value != '']\n",
        "column_names.append('x')"
      ],
      "execution_count": 4,
      "outputs": []
    },
    {
      "cell_type": "code",
      "metadata": {
        "id": "L6ZfRqn9oVoC"
      },
      "source": [
        "data = soup.find('table', class_='wikitable').find('tbody')"
      ],
      "execution_count": 5,
      "outputs": []
    },
    {
      "cell_type": "code",
      "metadata": {
        "id": "nR07dPkioVoD"
      },
      "source": [
        "devices_list = []\n",
        "for row in data.find_all('tr')[1:]:\n",
        "    devices_list.append(row.text.strip().split('\\n\\n'))"
      ],
      "execution_count": 6,
      "outputs": []
    },
    {
      "cell_type": "code",
      "metadata": {
        "id": "fwsNHuavoVoE",
        "colab": {
          "base_uri": "https://localhost:8080/",
          "height": 419
        },
        "outputId": "d457293a-c962-45cf-dd3a-2d6edca0abd2"
      },
      "source": [
        "units_sold_df = pd.DataFrame(devices_list, columns=column_names)\n",
        "units_sold_df"
      ],
      "execution_count": 7,
      "outputs": [
        {
          "output_type": "execute_result",
          "data": {
            "text/html": [
              "<div>\n",
              "<style scoped>\n",
              "    .dataframe tbody tr th:only-of-type {\n",
              "        vertical-align: middle;\n",
              "    }\n",
              "\n",
              "    .dataframe tbody tr th {\n",
              "        vertical-align: top;\n",
              "    }\n",
              "\n",
              "    .dataframe thead th {\n",
              "        text-align: right;\n",
              "    }\n",
              "</style>\n",
              "<table border=\"1\" class=\"dataframe\">\n",
              "  <thead>\n",
              "    <tr style=\"text-align: right;\">\n",
              "      <th></th>\n",
              "      <th>Manufacturer</th>\n",
              "      <th>Model</th>\n",
              "      <th>Form factor</th>\n",
              "      <th>Smartphone?</th>\n",
              "      <th>Year</th>\n",
              "      <th>Graph (million units)</th>\n",
              "      <th>x</th>\n",
              "    </tr>\n",
              "  </thead>\n",
              "  <tbody>\n",
              "    <tr>\n",
              "      <th>0</th>\n",
              "      <td>Nokia</td>\n",
              "      <td>1100</td>\n",
              "      <td>Bar</td>\n",
              "      <td>No</td>\n",
              "      <td>2003</td>\n",
              "      <td>250[3][1][4]</td>\n",
              "      <td>250</td>\n",
              "    </tr>\n",
              "    <tr>\n",
              "      <th>1</th>\n",
              "      <td>Nokia</td>\n",
              "      <td>1110</td>\n",
              "      <td>Bar</td>\n",
              "      <td>No</td>\n",
              "      <td>2005</td>\n",
              "      <td>250[3][1][5]</td>\n",
              "      <td>250</td>\n",
              "    </tr>\n",
              "    <tr>\n",
              "      <th>2</th>\n",
              "      <td>Apple</td>\n",
              "      <td>iPhone 6 and iPhone 6 Plus</td>\n",
              "      <td>Touchscreen</td>\n",
              "      <td>Yes</td>\n",
              "      <td>2014</td>\n",
              "      <td>222[2][3]</td>\n",
              "      <td>222</td>\n",
              "    </tr>\n",
              "    <tr>\n",
              "      <th>3</th>\n",
              "      <td>Nokia</td>\n",
              "      <td>105 (2013) and 105 (2015)</td>\n",
              "      <td>Bar</td>\n",
              "      <td>No</td>\n",
              "      <td>2013</td>\n",
              "      <td>200[6]</td>\n",
              "      <td>200</td>\n",
              "    </tr>\n",
              "    <tr>\n",
              "      <th>4</th>\n",
              "      <td>Nokia</td>\n",
              "      <td>3210</td>\n",
              "      <td>Bar</td>\n",
              "      <td>No</td>\n",
              "      <td>1999</td>\n",
              "      <td>160[1][5][7]</td>\n",
              "      <td>160</td>\n",
              "    </tr>\n",
              "    <tr>\n",
              "      <th>...</th>\n",
              "      <td>...</td>\n",
              "      <td>...</td>\n",
              "      <td>...</td>\n",
              "      <td>...</td>\n",
              "      <td>...</td>\n",
              "      <td>...</td>\n",
              "      <td>...</td>\n",
              "    </tr>\n",
              "    <tr>\n",
              "      <th>110</th>\n",
              "      <td>LG</td>\n",
              "      <td>G2</td>\n",
              "      <td>Touchscreen</td>\n",
              "      <td>Yes</td>\n",
              "      <td>2013</td>\n",
              "      <td>3[62][63]</td>\n",
              "      <td>3</td>\n",
              "    </tr>\n",
              "    <tr>\n",
              "      <th>111</th>\n",
              "      <td>LeTV</td>\n",
              "      <td>LeEco Le 1s</td>\n",
              "      <td>Touchscreen</td>\n",
              "      <td>Yes</td>\n",
              "      <td>2016</td>\n",
              "      <td>3[64][65]</td>\n",
              "      <td>3</td>\n",
              "    </tr>\n",
              "    <tr>\n",
              "      <th>112</th>\n",
              "      <td>Google</td>\n",
              "      <td>Pixel and Pixel XL</td>\n",
              "      <td>Touchscreen</td>\n",
              "      <td>Yes</td>\n",
              "      <td>2016</td>\n",
              "      <td>2.1[66]</td>\n",
              "      <td>2.1</td>\n",
              "    </tr>\n",
              "    <tr>\n",
              "      <th>113</th>\n",
              "      <td>Palm</td>\n",
              "      <td>Centro</td>\n",
              "      <td>Keyboard bar</td>\n",
              "      <td>Yes</td>\n",
              "      <td>2007</td>\n",
              "      <td>2[67]</td>\n",
              "      <td>2</td>\n",
              "    </tr>\n",
              "    <tr>\n",
              "      <th>114</th>\n",
              "      <td>Nokia</td>\n",
              "      <td>N97</td>\n",
              "      <td>Tilt slider</td>\n",
              "      <td>Yes</td>\n",
              "      <td>2009</td>\n",
              "      <td>2[4]</td>\n",
              "      <td>2</td>\n",
              "    </tr>\n",
              "  </tbody>\n",
              "</table>\n",
              "<p>115 rows × 7 columns</p>\n",
              "</div>"
            ],
            "text/plain": [
              "    Manufacturer                       Model  ... Graph (million units)    x\n",
              "0          Nokia                        1100  ...          250[3][1][4]  250\n",
              "1          Nokia                        1110  ...          250[3][1][5]  250\n",
              "2          Apple  iPhone 6 and iPhone 6 Plus  ...             222[2][3]  222\n",
              "3          Nokia   105 (2013) and 105 (2015)  ...                200[6]  200\n",
              "4          Nokia                        3210  ...          160[1][5][7]  160\n",
              "..           ...                         ...  ...                   ...  ...\n",
              "110           LG                          G2  ...             3[62][63]    3\n",
              "111         LeTV                 LeEco Le 1s  ...             3[64][65]    3\n",
              "112       Google          Pixel and Pixel XL  ...               2.1[66]  2.1\n",
              "113         Palm                      Centro  ...                 2[67]    2\n",
              "114        Nokia                         N97  ...                  2[4]    2\n",
              "\n",
              "[115 rows x 7 columns]"
            ]
          },
          "metadata": {},
          "execution_count": 7
        }
      ]
    },
    {
      "cell_type": "code",
      "metadata": {
        "id": "lpLMfxEjoVoF",
        "colab": {
          "base_uri": "https://localhost:8080/",
          "height": 204
        },
        "outputId": "69383512-4986-4496-e55a-6c610f31c1cb"
      },
      "source": [
        "units_sold_df.drop(columns=['Graph (million units)', 'Form factor'],inplace=True)\n",
        "units_sold_df.head()"
      ],
      "execution_count": 8,
      "outputs": [
        {
          "output_type": "execute_result",
          "data": {
            "text/html": [
              "<div>\n",
              "<style scoped>\n",
              "    .dataframe tbody tr th:only-of-type {\n",
              "        vertical-align: middle;\n",
              "    }\n",
              "\n",
              "    .dataframe tbody tr th {\n",
              "        vertical-align: top;\n",
              "    }\n",
              "\n",
              "    .dataframe thead th {\n",
              "        text-align: right;\n",
              "    }\n",
              "</style>\n",
              "<table border=\"1\" class=\"dataframe\">\n",
              "  <thead>\n",
              "    <tr style=\"text-align: right;\">\n",
              "      <th></th>\n",
              "      <th>Manufacturer</th>\n",
              "      <th>Model</th>\n",
              "      <th>Smartphone?</th>\n",
              "      <th>Year</th>\n",
              "      <th>x</th>\n",
              "    </tr>\n",
              "  </thead>\n",
              "  <tbody>\n",
              "    <tr>\n",
              "      <th>0</th>\n",
              "      <td>Nokia</td>\n",
              "      <td>1100</td>\n",
              "      <td>No</td>\n",
              "      <td>2003</td>\n",
              "      <td>250</td>\n",
              "    </tr>\n",
              "    <tr>\n",
              "      <th>1</th>\n",
              "      <td>Nokia</td>\n",
              "      <td>1110</td>\n",
              "      <td>No</td>\n",
              "      <td>2005</td>\n",
              "      <td>250</td>\n",
              "    </tr>\n",
              "    <tr>\n",
              "      <th>2</th>\n",
              "      <td>Apple</td>\n",
              "      <td>iPhone 6 and iPhone 6 Plus</td>\n",
              "      <td>Yes</td>\n",
              "      <td>2014</td>\n",
              "      <td>222</td>\n",
              "    </tr>\n",
              "    <tr>\n",
              "      <th>3</th>\n",
              "      <td>Nokia</td>\n",
              "      <td>105 (2013) and 105 (2015)</td>\n",
              "      <td>No</td>\n",
              "      <td>2013</td>\n",
              "      <td>200</td>\n",
              "    </tr>\n",
              "    <tr>\n",
              "      <th>4</th>\n",
              "      <td>Nokia</td>\n",
              "      <td>3210</td>\n",
              "      <td>No</td>\n",
              "      <td>1999</td>\n",
              "      <td>160</td>\n",
              "    </tr>\n",
              "  </tbody>\n",
              "</table>\n",
              "</div>"
            ],
            "text/plain": [
              "  Manufacturer                       Model Smartphone?  Year    x\n",
              "0        Nokia                        1100          No  2003  250\n",
              "1        Nokia                        1110          No  2005  250\n",
              "2        Apple  iPhone 6 and iPhone 6 Plus         Yes  2014  222\n",
              "3        Nokia   105 (2013) and 105 (2015)          No  2013  200\n",
              "4        Nokia                        3210          No  1999  160"
            ]
          },
          "metadata": {},
          "execution_count": 8
        }
      ]
    },
    {
      "cell_type": "code",
      "metadata": {
        "id": "u6bVB45hoVoG"
      },
      "source": [
        "units_sold_df.rename(columns={'Manufacturer':'company_name', \n",
        "                              'Model':'device', \n",
        "                              'x':'units', \n",
        "                              'Smartphone?':'smartphone?', \n",
        "                              'Year': 'year'},inplace=True)"
      ],
      "execution_count": 9,
      "outputs": []
    },
    {
      "cell_type": "code",
      "metadata": {
        "id": "sDIamJ0DoVoH"
      },
      "source": [
        "units_sold_df = units_sold_df[units_sold_df['smartphone?'] == 'Yes'].reset_index(drop=True).drop(columns=['smartphone?'])"
      ],
      "execution_count": 10,
      "outputs": []
    },
    {
      "cell_type": "code",
      "metadata": {
        "id": "LR7DbL91oVoH"
      },
      "source": [
        "units_sold_df['year'] = units_sold_df['year'].astype('int32')\n",
        "units_sold_df['units'] = units_sold_df['units'].astype('float32') * 1000000"
      ],
      "execution_count": 11,
      "outputs": []
    },
    {
      "cell_type": "code",
      "metadata": {
        "id": "tgChVYokoVoI"
      },
      "source": [
        "units_sold_df['company_name'] = units_sold_df.company_name.str.upper()\n",
        "units_sold_df['device'] = units_sold_df.device.str.upper()"
      ],
      "execution_count": 12,
      "outputs": []
    },
    {
      "cell_type": "code",
      "metadata": {
        "id": "PYuQsXbgoVoI",
        "colab": {
          "base_uri": "https://localhost:8080/",
          "height": 204
        },
        "outputId": "a281ed4d-a9ef-442d-b735-b4bdf566b71e"
      },
      "source": [
        "units_sold_df.head()"
      ],
      "execution_count": 13,
      "outputs": [
        {
          "output_type": "execute_result",
          "data": {
            "text/html": [
              "<div>\n",
              "<style scoped>\n",
              "    .dataframe tbody tr th:only-of-type {\n",
              "        vertical-align: middle;\n",
              "    }\n",
              "\n",
              "    .dataframe tbody tr th {\n",
              "        vertical-align: top;\n",
              "    }\n",
              "\n",
              "    .dataframe thead th {\n",
              "        text-align: right;\n",
              "    }\n",
              "</style>\n",
              "<table border=\"1\" class=\"dataframe\">\n",
              "  <thead>\n",
              "    <tr style=\"text-align: right;\">\n",
              "      <th></th>\n",
              "      <th>company_name</th>\n",
              "      <th>device</th>\n",
              "      <th>year</th>\n",
              "      <th>units</th>\n",
              "    </tr>\n",
              "  </thead>\n",
              "  <tbody>\n",
              "    <tr>\n",
              "      <th>0</th>\n",
              "      <td>APPLE</td>\n",
              "      <td>IPHONE 6 AND IPHONE 6 PLUS</td>\n",
              "      <td>2014</td>\n",
              "      <td>2.220000e+08</td>\n",
              "    </tr>\n",
              "    <tr>\n",
              "      <th>1</th>\n",
              "      <td>NOKIA</td>\n",
              "      <td>6600</td>\n",
              "      <td>2003</td>\n",
              "      <td>1.500000e+08</td>\n",
              "    </tr>\n",
              "    <tr>\n",
              "      <th>2</th>\n",
              "      <td>NOKIA</td>\n",
              "      <td>5230</td>\n",
              "      <td>2009</td>\n",
              "      <td>1.500000e+08</td>\n",
              "    </tr>\n",
              "    <tr>\n",
              "      <th>3</th>\n",
              "      <td>APPLE</td>\n",
              "      <td>IPHONE 11</td>\n",
              "      <td>2019</td>\n",
              "      <td>1.021000e+08</td>\n",
              "    </tr>\n",
              "    <tr>\n",
              "      <th>4</th>\n",
              "      <td>APPLE</td>\n",
              "      <td>IPHONE 12 AND IPHONE 12 MINI</td>\n",
              "      <td>2020</td>\n",
              "      <td>1.000000e+08</td>\n",
              "    </tr>\n",
              "  </tbody>\n",
              "</table>\n",
              "</div>"
            ],
            "text/plain": [
              "  company_name                        device  year         units\n",
              "0        APPLE    IPHONE 6 AND IPHONE 6 PLUS  2014  2.220000e+08\n",
              "1        NOKIA                          6600  2003  1.500000e+08\n",
              "2        NOKIA                          5230  2009  1.500000e+08\n",
              "3        APPLE                     IPHONE 11  2019  1.021000e+08\n",
              "4        APPLE  IPHONE 12 AND IPHONE 12 MINI  2020  1.000000e+08"
            ]
          },
          "metadata": {},
          "execution_count": 13
        }
      ]
    },
    {
      "cell_type": "markdown",
      "metadata": {
        "id": "XxTECgTCoVoJ"
      },
      "source": [
        "We notice that in some cases, there are two devices in the 'device' column. Next, we will clean it."
      ]
    },
    {
      "cell_type": "code",
      "metadata": {
        "id": "UUaMm-jzoVoJ"
      },
      "source": [
        "cn = []                 # company_name\n",
        "d = []                  # device\n",
        "y = []                  # year\n",
        "u = []                  # year\n",
        "\n",
        "for a_string in units_sold_df.device:\n",
        "    for a_list in a_string.split('AND'):\n",
        "        \n",
        "        cn.append(units_sold_df[units_sold_df['device'] == a_string].company_name.values[0])\n",
        "        d.append(a_list.split(',')[0].strip().upper())\n",
        "        y.append(units_sold_df[units_sold_df['device'] == a_string].year.values[0])\n",
        "        u.append(units_sold_df[units_sold_df['device'] == a_string].units.values[0].astype(int))\n",
        "\n",
        "units_sold_df_mod = pd.DataFrame({'company_name': cn,\n",
        "                                  'device': d,\n",
        "                                  'year': y,\n",
        "                                  'units': u})"
      ],
      "execution_count": 14,
      "outputs": []
    },
    {
      "cell_type": "code",
      "metadata": {
        "id": "7ixBMLLmoVoK",
        "colab": {
          "base_uri": "https://localhost:8080/",
          "height": 204
        },
        "outputId": "14780eea-3aef-4231-81d1-def933d6969d"
      },
      "source": [
        "units_sold_df_mod.head()"
      ],
      "execution_count": 15,
      "outputs": [
        {
          "output_type": "execute_result",
          "data": {
            "text/html": [
              "<div>\n",
              "<style scoped>\n",
              "    .dataframe tbody tr th:only-of-type {\n",
              "        vertical-align: middle;\n",
              "    }\n",
              "\n",
              "    .dataframe tbody tr th {\n",
              "        vertical-align: top;\n",
              "    }\n",
              "\n",
              "    .dataframe thead th {\n",
              "        text-align: right;\n",
              "    }\n",
              "</style>\n",
              "<table border=\"1\" class=\"dataframe\">\n",
              "  <thead>\n",
              "    <tr style=\"text-align: right;\">\n",
              "      <th></th>\n",
              "      <th>company_name</th>\n",
              "      <th>device</th>\n",
              "      <th>year</th>\n",
              "      <th>units</th>\n",
              "    </tr>\n",
              "  </thead>\n",
              "  <tbody>\n",
              "    <tr>\n",
              "      <th>0</th>\n",
              "      <td>APPLE</td>\n",
              "      <td>IPHONE 6</td>\n",
              "      <td>2014</td>\n",
              "      <td>222000000</td>\n",
              "    </tr>\n",
              "    <tr>\n",
              "      <th>1</th>\n",
              "      <td>APPLE</td>\n",
              "      <td>IPHONE 6 PLUS</td>\n",
              "      <td>2014</td>\n",
              "      <td>222000000</td>\n",
              "    </tr>\n",
              "    <tr>\n",
              "      <th>2</th>\n",
              "      <td>NOKIA</td>\n",
              "      <td>6600</td>\n",
              "      <td>2003</td>\n",
              "      <td>150000000</td>\n",
              "    </tr>\n",
              "    <tr>\n",
              "      <th>3</th>\n",
              "      <td>NOKIA</td>\n",
              "      <td>5230</td>\n",
              "      <td>2009</td>\n",
              "      <td>150000000</td>\n",
              "    </tr>\n",
              "    <tr>\n",
              "      <th>4</th>\n",
              "      <td>APPLE</td>\n",
              "      <td>IPHONE 11</td>\n",
              "      <td>2019</td>\n",
              "      <td>102099998</td>\n",
              "    </tr>\n",
              "  </tbody>\n",
              "</table>\n",
              "</div>"
            ],
            "text/plain": [
              "  company_name         device  year      units\n",
              "0        APPLE       IPHONE 6  2014  222000000\n",
              "1        APPLE  IPHONE 6 PLUS  2014  222000000\n",
              "2        NOKIA           6600  2003  150000000\n",
              "3        NOKIA           5230  2009  150000000\n",
              "4        APPLE      IPHONE 11  2019  102099998"
            ]
          },
          "metadata": {},
          "execution_count": 15
        }
      ]
    },
    {
      "cell_type": "markdown",
      "metadata": {
        "id": "9FlCKKqFoVoK"
      },
      "source": [
        "### In this section, we will scrap (https://www.gsmarena.com/makers.php3) to get all companies names, devices and number of devices."
      ]
    },
    {
      "cell_type": "code",
      "metadata": {
        "id": "oFpfe8jroVoK",
        "colab": {
          "base_uri": "https://localhost:8080/"
        },
        "outputId": "3201898f-18f1-45ee-bc31-bad9baf64dbb"
      },
      "source": [
        "the_link = 'https://www.gsmarena.com/makers.php3'\n",
        "ua = UserAgent()\n",
        "def get_soup(the_link):\n",
        "    source_code = requests.get(the_link, headers = {'User-agent': ua.random})\n",
        "    return BeautifulSoup(source_code.text, 'html5lib')"
      ],
      "execution_count": 26,
      "outputs": [
        {
          "output_type": "stream",
          "name": "stderr",
          "text": [
            "Error occurred during loading data. Trying to use cache server https://fake-useragent.herokuapp.com/browsers/0.1.11\n",
            "Traceback (most recent call last):\n",
            "  File \"/usr/local/lib/python3.7/dist-packages/fake_useragent/utils.py\", line 154, in load\n",
            "    for item in get_browsers(verify_ssl=verify_ssl):\n",
            "  File \"/usr/local/lib/python3.7/dist-packages/fake_useragent/utils.py\", line 99, in get_browsers\n",
            "    html = html.split('<table class=\"w3-table-all notranslate\">')[1]\n",
            "IndexError: list index out of range\n"
          ]
        }
      ]
    },
    {
      "cell_type": "code",
      "metadata": {
        "id": "mC6qsW3OoVoL"
      },
      "source": [
        "soup = get_soup(the_link)\n",
        "list_of_companies = soup.find('div', {'class': 'st-text'})\n",
        "\n",
        "company_name = []\n",
        "links = []\n",
        "number_of_devices = []\n",
        "\n",
        "for anchor in list_of_companies.findAll('a'):\n",
        "    company_name.append(anchor.text.strip())\n",
        "    links.append('https://www.gsmarena.com/'+anchor.attrs['href'])\n",
        "    number_of_devices.append(anchor.find('span').text)"
      ],
      "execution_count": 27,
      "outputs": []
    },
    {
      "cell_type": "markdown",
      "metadata": {
        "id": "Bt_CyhdpoVoL"
      },
      "source": [
        "We notice that companies names and the number of devices in company_name list are compined into a single string as shown below."
      ]
    },
    {
      "cell_type": "code",
      "metadata": {
        "id": "nV3CubY9oVoL",
        "colab": {
          "base_uri": "https://localhost:8080/"
        },
        "outputId": "66c0264d-82d3-44f0-83b7-416a7bb4849f"
      },
      "source": [
        "print(company_name[:2])\n",
        "print(number_of_devices[:2])"
      ],
      "execution_count": 28,
      "outputs": [
        {
          "output_type": "stream",
          "name": "stdout",
          "text": [
            "['Acer100 devices', 'alcatel405 devices']\n",
            "['100 devices', '405 devices']\n"
          ]
        }
      ]
    },
    {
      "cell_type": "markdown",
      "metadata": {
        "id": "HdAcjiHcoVoL"
      },
      "source": [
        "We will now clean the data"
      ]
    },
    {
      "cell_type": "code",
      "metadata": {
        "id": "NerCha5BoVoM"
      },
      "source": [
        "for i in range(len(company_name)):\n",
        "    company_name[i] = company_name[i].replace(number_of_devices[i],'')"
      ],
      "execution_count": 29,
      "outputs": []
    },
    {
      "cell_type": "code",
      "metadata": {
        "id": "t3mLciYLoVoM",
        "colab": {
          "base_uri": "https://localhost:8080/"
        },
        "outputId": "f5ef0f7a-026f-4664-ae53-28f0e86ada63"
      },
      "source": [
        "# Now data is cleaned\n",
        "print(company_name[:2])\n",
        "print(number_of_devices[:2])"
      ],
      "execution_count": 30,
      "outputs": [
        {
          "output_type": "stream",
          "name": "stdout",
          "text": [
            "['Acer', 'alcatel']\n",
            "['100 devices', '405 devices']\n"
          ]
        }
      ]
    },
    {
      "cell_type": "code",
      "metadata": {
        "id": "uDTvAdl9oVoM"
      },
      "source": [
        "df1 = pd.DataFrame()\n",
        "df1['company_name'] = company_name\n",
        "df1['link'] = links\n",
        "df1['number_of_devices'] = [int(i.replace('devices','').strip()) for i in number_of_devices]"
      ],
      "execution_count": 31,
      "outputs": []
    },
    {
      "cell_type": "code",
      "metadata": {
        "id": "J-PwXXjHoVoM"
      },
      "source": [
        "df1['company_name'] = df1.company_name.str.upper()"
      ],
      "execution_count": 32,
      "outputs": []
    },
    {
      "cell_type": "code",
      "metadata": {
        "id": "5SFSCfJ3oVoN"
      },
      "source": [
        "df2 = pd.merge(df1, units_sold_df_mod, on='company_name')[['company_name', 'link']].drop_duplicates().reset_index(drop=True)"
      ],
      "execution_count": 33,
      "outputs": []
    },
    {
      "cell_type": "code",
      "metadata": {
        "id": "madNjJayoVoN",
        "colab": {
          "base_uri": "https://localhost:8080/",
          "height": 390
        },
        "outputId": "3f1c7040-b7c2-4a5e-915e-5c88693bc8a5"
      },
      "source": [
        "df2"
      ],
      "execution_count": 34,
      "outputs": [
        {
          "output_type": "execute_result",
          "data": {
            "text/html": [
              "<div>\n",
              "<style scoped>\n",
              "    .dataframe tbody tr th:only-of-type {\n",
              "        vertical-align: middle;\n",
              "    }\n",
              "\n",
              "    .dataframe tbody tr th {\n",
              "        vertical-align: top;\n",
              "    }\n",
              "\n",
              "    .dataframe thead th {\n",
              "        text-align: right;\n",
              "    }\n",
              "</style>\n",
              "<table border=\"1\" class=\"dataframe\">\n",
              "  <thead>\n",
              "    <tr style=\"text-align: right;\">\n",
              "      <th></th>\n",
              "      <th>company_name</th>\n",
              "      <th>link</th>\n",
              "    </tr>\n",
              "  </thead>\n",
              "  <tbody>\n",
              "    <tr>\n",
              "      <th>0</th>\n",
              "      <td>APPLE</td>\n",
              "      <td>https://www.gsmarena.com/apple-phones-48.php</td>\n",
              "    </tr>\n",
              "    <tr>\n",
              "      <th>1</th>\n",
              "      <td>GOOGLE</td>\n",
              "      <td>https://www.gsmarena.com/google-phones-107.php</td>\n",
              "    </tr>\n",
              "    <tr>\n",
              "      <th>2</th>\n",
              "      <td>HTC</td>\n",
              "      <td>https://www.gsmarena.com/htc-phones-45.php</td>\n",
              "    </tr>\n",
              "    <tr>\n",
              "      <th>3</th>\n",
              "      <td>HUAWEI</td>\n",
              "      <td>https://www.gsmarena.com/huawei-phones-58.php</td>\n",
              "    </tr>\n",
              "    <tr>\n",
              "      <th>4</th>\n",
              "      <td>LG</td>\n",
              "      <td>https://www.gsmarena.com/lg-phones-20.php</td>\n",
              "    </tr>\n",
              "    <tr>\n",
              "      <th>5</th>\n",
              "      <td>MOTOROLA</td>\n",
              "      <td>https://www.gsmarena.com/motorola-phones-4.php</td>\n",
              "    </tr>\n",
              "    <tr>\n",
              "      <th>6</th>\n",
              "      <td>NOKIA</td>\n",
              "      <td>https://www.gsmarena.com/nokia-phones-1.php</td>\n",
              "    </tr>\n",
              "    <tr>\n",
              "      <th>7</th>\n",
              "      <td>OPPO</td>\n",
              "      <td>https://www.gsmarena.com/oppo-phones-82.php</td>\n",
              "    </tr>\n",
              "    <tr>\n",
              "      <th>8</th>\n",
              "      <td>PALM</td>\n",
              "      <td>https://www.gsmarena.com/palm-phones-27.php</td>\n",
              "    </tr>\n",
              "    <tr>\n",
              "      <th>9</th>\n",
              "      <td>SAMSUNG</td>\n",
              "      <td>https://www.gsmarena.com/samsung-phones-9.php</td>\n",
              "    </tr>\n",
              "    <tr>\n",
              "      <th>10</th>\n",
              "      <td>XIAOMI</td>\n",
              "      <td>https://www.gsmarena.com/xiaomi-phones-80.php</td>\n",
              "    </tr>\n",
              "  </tbody>\n",
              "</table>\n",
              "</div>"
            ],
            "text/plain": [
              "   company_name                                            link\n",
              "0         APPLE    https://www.gsmarena.com/apple-phones-48.php\n",
              "1        GOOGLE  https://www.gsmarena.com/google-phones-107.php\n",
              "2           HTC      https://www.gsmarena.com/htc-phones-45.php\n",
              "3        HUAWEI   https://www.gsmarena.com/huawei-phones-58.php\n",
              "4            LG       https://www.gsmarena.com/lg-phones-20.php\n",
              "5      MOTOROLA  https://www.gsmarena.com/motorola-phones-4.php\n",
              "6         NOKIA     https://www.gsmarena.com/nokia-phones-1.php\n",
              "7          OPPO     https://www.gsmarena.com/oppo-phones-82.php\n",
              "8          PALM     https://www.gsmarena.com/palm-phones-27.php\n",
              "9       SAMSUNG   https://www.gsmarena.com/samsung-phones-9.php\n",
              "10       XIAOMI   https://www.gsmarena.com/xiaomi-phones-80.php"
            ]
          },
          "metadata": {},
          "execution_count": 34
        }
      ]
    },
    {
      "cell_type": "markdown",
      "metadata": {
        "id": "tjKK25rboVoN"
      },
      "source": [
        "Now we wand to scrap on the companies that we have its devices number of units sold."
      ]
    },
    {
      "cell_type": "code",
      "metadata": {
        "id": "8wLpaDbGoVoN"
      },
      "source": [
        "devices = []\n",
        "companies_names = []\n",
        "for a_link in tqdm(df2.link.values):   #for a_link in ['https://www.gsmarena.com/acer-phones-59.php']:\n",
        "    soup = get_soup(a_link)\n",
        "    cn = df1[df1['link'] == a_link]['company_name'].values[0]\n",
        "    \n",
        "    # We'll now generate a list with all the pages containing a company's device \n",
        "    all_pages_links = [a_link]\n",
        "    list_of_pages = soup.find('div', {'class': 'nav-pages'})\n",
        "    try:\n",
        "        for i in list_of_pages.find_all('a'):\n",
        "            all_pages_links.append('https://www.gsmarena.com/'+i.get('href'))\n",
        "    except:\n",
        "        pass\n",
        "    \n",
        "    # We'll get all the devices names \n",
        "    for page_link in all_pages_links:\n",
        "        soup = get_soup(page_link)\n",
        "        list_of_devices = soup.find('div', {'class': 'makers'})\n",
        "        time.sleep(1+np.random.randint(0,1))\n",
        "        try:\n",
        "            for name in list_of_devices.find_all('span'):\n",
        "                time.sleep(1+np.random.randint(0,1))\n",
        "                devices.append(name.text)\n",
        "                companies_names.append(cn)\n",
        "        except:\n",
        "            devices.append(list_of_pages.find('span').text)\n",
        "    time.sleep(1+np.random.randint(0,1))"
      ],
      "execution_count": 36,
      "outputs": []
    },
    {
      "cell_type": "code",
      "metadata": {
        "id": "taCCAhypoVoO"
      },
      "source": [
        "# Now we will create a dataframe that contains the companies names and the names of the devices\n",
        "CN_D = pd.DataFrame({'company_name':companies_names, 'device':devices})\n",
        "CN_D.to_csv('CN_D.csv', index = False)"
      ],
      "execution_count": null,
      "outputs": []
    },
    {
      "cell_type": "markdown",
      "metadata": {
        "id": "cdwWRV86oVoO"
      },
      "source": [
        "Since scrapping takes alot of time to run, we'll use the saved data in the csv file."
      ]
    },
    {
      "cell_type": "code",
      "metadata": {
        "id": "DPnxlH1SoVoP",
        "colab": {
          "base_uri": "https://localhost:8080/",
          "height": 419
        },
        "outputId": "975296e8-2c59-496c-cb8b-11e733e882d2"
      },
      "source": [
        "CN_D = pd.read_csv('CN_D.csv')\n",
        "CN_D"
      ],
      "execution_count": 37,
      "outputs": [
        {
          "output_type": "execute_result",
          "data": {
            "text/html": [
              "<div>\n",
              "<style scoped>\n",
              "    .dataframe tbody tr th:only-of-type {\n",
              "        vertical-align: middle;\n",
              "    }\n",
              "\n",
              "    .dataframe tbody tr th {\n",
              "        vertical-align: top;\n",
              "    }\n",
              "\n",
              "    .dataframe thead th {\n",
              "        text-align: right;\n",
              "    }\n",
              "</style>\n",
              "<table border=\"1\" class=\"dataframe\">\n",
              "  <thead>\n",
              "    <tr style=\"text-align: right;\">\n",
              "      <th></th>\n",
              "      <th>company_name</th>\n",
              "      <th>device</th>\n",
              "    </tr>\n",
              "  </thead>\n",
              "  <tbody>\n",
              "    <tr>\n",
              "      <th>0</th>\n",
              "      <td>APPLE</td>\n",
              "      <td>iPhone 13 Pro Max</td>\n",
              "    </tr>\n",
              "    <tr>\n",
              "      <th>1</th>\n",
              "      <td>APPLE</td>\n",
              "      <td>iPhone 13 Pro</td>\n",
              "    </tr>\n",
              "    <tr>\n",
              "      <th>2</th>\n",
              "      <td>APPLE</td>\n",
              "      <td>iPhone 13</td>\n",
              "    </tr>\n",
              "    <tr>\n",
              "      <th>3</th>\n",
              "      <td>APPLE</td>\n",
              "      <td>iPhone 13 mini</td>\n",
              "    </tr>\n",
              "    <tr>\n",
              "      <th>4</th>\n",
              "      <td>APPLE</td>\n",
              "      <td>iPad mini (2021)</td>\n",
              "    </tr>\n",
              "    <tr>\n",
              "      <th>...</th>\n",
              "      <td>...</td>\n",
              "      <td>...</td>\n",
              "    </tr>\n",
              "    <tr>\n",
              "      <th>4207</th>\n",
              "      <td>XIAOMI</td>\n",
              "      <td>Mi Max 4 Pro</td>\n",
              "    </tr>\n",
              "    <tr>\n",
              "      <th>4208</th>\n",
              "      <td>XIAOMI</td>\n",
              "      <td>Mi Max 4</td>\n",
              "    </tr>\n",
              "    <tr>\n",
              "      <th>4209</th>\n",
              "      <td>XIAOMI</td>\n",
              "      <td>Mi 6c</td>\n",
              "    </tr>\n",
              "    <tr>\n",
              "      <th>4210</th>\n",
              "      <td>XIAOMI</td>\n",
              "      <td>Redmi Pro 2</td>\n",
              "    </tr>\n",
              "    <tr>\n",
              "      <th>4211</th>\n",
              "      <td>XIAOMI</td>\n",
              "      <td>Mi Note Plus</td>\n",
              "    </tr>\n",
              "  </tbody>\n",
              "</table>\n",
              "<p>4212 rows × 2 columns</p>\n",
              "</div>"
            ],
            "text/plain": [
              "     company_name             device\n",
              "0           APPLE  iPhone 13 Pro Max\n",
              "1           APPLE      iPhone 13 Pro\n",
              "2           APPLE          iPhone 13\n",
              "3           APPLE     iPhone 13 mini\n",
              "4           APPLE   iPad mini (2021)\n",
              "...           ...                ...\n",
              "4207       XIAOMI       Mi Max 4 Pro\n",
              "4208       XIAOMI           Mi Max 4\n",
              "4209       XIAOMI              Mi 6c\n",
              "4210       XIAOMI        Redmi Pro 2\n",
              "4211       XIAOMI       Mi Note Plus\n",
              "\n",
              "[4212 rows x 2 columns]"
            ]
          },
          "metadata": {},
          "execution_count": 37
        }
      ]
    },
    {
      "cell_type": "code",
      "metadata": {
        "id": "8OMyltDAoVoP"
      },
      "source": [
        "# Now we will join the two dataframes\n",
        "df_devices = pd.merge(df1, CN_D, on='company_name')"
      ],
      "execution_count": 38,
      "outputs": []
    },
    {
      "cell_type": "code",
      "metadata": {
        "id": "RVg0Pi9boVoP"
      },
      "source": [
        "df_devices['device'] = df_devices.device.str.upper()"
      ],
      "execution_count": 39,
      "outputs": []
    },
    {
      "cell_type": "code",
      "metadata": {
        "id": "meBAp5aRoVoV",
        "colab": {
          "base_uri": "https://localhost:8080/",
          "height": 419
        },
        "outputId": "e6161769-6947-4217-fac8-7b95fd847a1b"
      },
      "source": [
        "df_devices"
      ],
      "execution_count": 40,
      "outputs": [
        {
          "output_type": "execute_result",
          "data": {
            "text/html": [
              "<div>\n",
              "<style scoped>\n",
              "    .dataframe tbody tr th:only-of-type {\n",
              "        vertical-align: middle;\n",
              "    }\n",
              "\n",
              "    .dataframe tbody tr th {\n",
              "        vertical-align: top;\n",
              "    }\n",
              "\n",
              "    .dataframe thead th {\n",
              "        text-align: right;\n",
              "    }\n",
              "</style>\n",
              "<table border=\"1\" class=\"dataframe\">\n",
              "  <thead>\n",
              "    <tr style=\"text-align: right;\">\n",
              "      <th></th>\n",
              "      <th>company_name</th>\n",
              "      <th>link</th>\n",
              "      <th>number_of_devices</th>\n",
              "      <th>device</th>\n",
              "    </tr>\n",
              "  </thead>\n",
              "  <tbody>\n",
              "    <tr>\n",
              "      <th>0</th>\n",
              "      <td>APPLE</td>\n",
              "      <td>https://www.gsmarena.com/apple-phones-48.php</td>\n",
              "      <td>98</td>\n",
              "      <td>IPHONE 13 PRO MAX</td>\n",
              "    </tr>\n",
              "    <tr>\n",
              "      <th>1</th>\n",
              "      <td>APPLE</td>\n",
              "      <td>https://www.gsmarena.com/apple-phones-48.php</td>\n",
              "      <td>98</td>\n",
              "      <td>IPHONE 13 PRO</td>\n",
              "    </tr>\n",
              "    <tr>\n",
              "      <th>2</th>\n",
              "      <td>APPLE</td>\n",
              "      <td>https://www.gsmarena.com/apple-phones-48.php</td>\n",
              "      <td>98</td>\n",
              "      <td>IPHONE 13</td>\n",
              "    </tr>\n",
              "    <tr>\n",
              "      <th>3</th>\n",
              "      <td>APPLE</td>\n",
              "      <td>https://www.gsmarena.com/apple-phones-48.php</td>\n",
              "      <td>98</td>\n",
              "      <td>IPHONE 13 MINI</td>\n",
              "    </tr>\n",
              "    <tr>\n",
              "      <th>4</th>\n",
              "      <td>APPLE</td>\n",
              "      <td>https://www.gsmarena.com/apple-phones-48.php</td>\n",
              "      <td>98</td>\n",
              "      <td>IPAD MINI (2021)</td>\n",
              "    </tr>\n",
              "    <tr>\n",
              "      <th>...</th>\n",
              "      <td>...</td>\n",
              "      <td>...</td>\n",
              "      <td>...</td>\n",
              "      <td>...</td>\n",
              "    </tr>\n",
              "    <tr>\n",
              "      <th>4207</th>\n",
              "      <td>XIAOMI</td>\n",
              "      <td>https://www.gsmarena.com/xiaomi-phones-80.php</td>\n",
              "      <td>231</td>\n",
              "      <td>MI MAX 4 PRO</td>\n",
              "    </tr>\n",
              "    <tr>\n",
              "      <th>4208</th>\n",
              "      <td>XIAOMI</td>\n",
              "      <td>https://www.gsmarena.com/xiaomi-phones-80.php</td>\n",
              "      <td>231</td>\n",
              "      <td>MI MAX 4</td>\n",
              "    </tr>\n",
              "    <tr>\n",
              "      <th>4209</th>\n",
              "      <td>XIAOMI</td>\n",
              "      <td>https://www.gsmarena.com/xiaomi-phones-80.php</td>\n",
              "      <td>231</td>\n",
              "      <td>MI 6C</td>\n",
              "    </tr>\n",
              "    <tr>\n",
              "      <th>4210</th>\n",
              "      <td>XIAOMI</td>\n",
              "      <td>https://www.gsmarena.com/xiaomi-phones-80.php</td>\n",
              "      <td>231</td>\n",
              "      <td>REDMI PRO 2</td>\n",
              "    </tr>\n",
              "    <tr>\n",
              "      <th>4211</th>\n",
              "      <td>XIAOMI</td>\n",
              "      <td>https://www.gsmarena.com/xiaomi-phones-80.php</td>\n",
              "      <td>231</td>\n",
              "      <td>MI NOTE PLUS</td>\n",
              "    </tr>\n",
              "  </tbody>\n",
              "</table>\n",
              "<p>4212 rows × 4 columns</p>\n",
              "</div>"
            ],
            "text/plain": [
              "     company_name  ...             device\n",
              "0           APPLE  ...  IPHONE 13 PRO MAX\n",
              "1           APPLE  ...      IPHONE 13 PRO\n",
              "2           APPLE  ...          IPHONE 13\n",
              "3           APPLE  ...     IPHONE 13 MINI\n",
              "4           APPLE  ...   IPAD MINI (2021)\n",
              "...           ...  ...                ...\n",
              "4207       XIAOMI  ...       MI MAX 4 PRO\n",
              "4208       XIAOMI  ...           MI MAX 4\n",
              "4209       XIAOMI  ...              MI 6C\n",
              "4210       XIAOMI  ...        REDMI PRO 2\n",
              "4211       XIAOMI  ...       MI NOTE PLUS\n",
              "\n",
              "[4212 rows x 4 columns]"
            ]
          },
          "metadata": {},
          "execution_count": 40
        }
      ]
    },
    {
      "cell_type": "markdown",
      "metadata": {
        "id": "ErOFKGjJoVoW"
      },
      "source": [
        "### In the next section, we will scrap YouTube to get the length of the video, number of like and dislikes, the channels names, and the devices the reviews were about."
      ]
    },
    {
      "cell_type": "code",
      "metadata": {
        "id": "ZlbHZCpBoVoW"
      },
      "source": [
        "videoIds=[]\n",
        "scopes = [\"https://www.googleapis.com/auth/youtube.readonly\"]\n",
        "os.environ[\"OAUTHLIB_INSECURE_TRANSPORT\"] = \"1\""
      ],
      "execution_count": null,
      "outputs": []
    },
    {
      "cell_type": "code",
      "metadata": {
        "id": "gfaAfwD3oVoW"
      },
      "source": [
        "# SETUP\n",
        "api_service_name = \"youtube\"\n",
        "api_version = \"v3\"\n",
        "token = api_token\n",
        "youtube = googleapiclient.discovery.build(api_service_name, api_version, developerKey=token)"
      ],
      "execution_count": null,
      "outputs": []
    },
    {
      "cell_type": "code",
      "metadata": {
        "id": "24QPuFwqoVoW"
      },
      "source": [
        "# Three of the most popular Tech channels were selected\n",
        "channels_names = ['marquesbrownlee','unboxtherapy','Mrwhosetheboss']\n",
        "ranges = [] # Number of videos devided by 50"
      ],
      "execution_count": null,
      "outputs": []
    },
    {
      "cell_type": "code",
      "metadata": {
        "id": "S5gaOx-9oVoX"
      },
      "source": [
        "def get_upload_list(a_channel_name):\n",
        "    uploads_lists = []\n",
        "    # Get Channel details (Find the uploads playlist id from it)\n",
        "    channelReq = youtube.channels().list(\n",
        "        part=\"snippet,contentDetails,statistics\",\n",
        "        forUsername=a_channel_name\n",
        "    )\n",
        "    channelRes = channelReq.execute()\n",
        "    uploads_lists.append(channelRes['items'][0]['contentDetails']['relatedPlaylists']['uploads'])\n",
        "    \n",
        "    \n",
        "    return uploads_lists"
      ],
      "execution_count": null,
      "outputs": []
    },
    {
      "cell_type": "code",
      "metadata": {
        "id": "WaMzBaRGoVoX"
      },
      "source": [
        "def get_vids_ids(channels_names, uploads_list, ranges):\n",
        "    videos_Ids=[]\n",
        "    channels_names_modified = []\n",
        "    \n",
        "    for i in range(len(channels_names)):\n",
        "        # ---------------------------------------------------------------------------------\n",
        "        # Get the uploads of a channel\n",
        "        uploadsReq = youtube.playlistItems().list(\n",
        "            part=\"snippet,contentDetails\",\n",
        "            maxResults=50,\n",
        "            playlistId=uploads_list[i],\n",
        "        )\n",
        "        uploadsRes = uploadsReq.execute()\n",
        "        for video in range(len(uploadsRes['items'])):\n",
        "            videos_Ids.append(uploadsRes['items'][video]['contentDetails']['videoId'])\n",
        "            channels_names_modified.append(channels_names[i])\n",
        "        # ---------------------------------------------------------------------------------    \n",
        "        NEXT_PAGE_TOKEN = uploadsRes['nextPageToken']\n",
        "        for page in range(ranges[i]):\n",
        "            # Get the uploads of a channel\n",
        "            nextUploadsReq = youtube.playlistItems().list(\n",
        "                part=\"snippet,contentDetails\",\n",
        "                maxResults=50,\n",
        "                playlistId=uploads_list[i],\n",
        "                pageToken=NEXT_PAGE_TOKEN\n",
        "            )\n",
        "            nextUploadsRes = nextUploadsReq.execute()\n",
        "            try:\n",
        "                NEXT_PAGE_TOKEN = nextUploadsRes['nextPageToken']\n",
        "                for video in range(len(nextUploadsRes['items'])):\n",
        "                    videos_Ids.append(nextUploadsRes['items'][video]['contentDetails']['videoId'])\n",
        "                    channels_names_modified.append(channels_names[i])\n",
        "            except:\n",
        "                print('No next page on:   '+ channels_names[i])\n",
        "    return videos_Ids, channels_names_modified"
      ],
      "execution_count": null,
      "outputs": []
    },
    {
      "cell_type": "code",
      "metadata": {
        "id": "lfzBRsYsoVoY"
      },
      "source": [
        "def get_vid_details(videoIds, channels_names_modified):\n",
        "    titles = []\n",
        "    tags = []\n",
        "    likeCount = []\n",
        "    viewCount = []\n",
        "    dislikeCount = []\n",
        "    commentCount = []\n",
        "    vidDuration = []\n",
        "    # ---------------------------------------------------------------------------------\n",
        "    # Get channel's stats videos details\n",
        "    fifties = 0\n",
        "    for iter in range(len(videoIds)):\n",
        "        vidReq = youtube.videos().list(\n",
        "            part=\"snippet,contentDetails,statistics\",\n",
        "            id=videoIds[iter]\n",
        "        )\n",
        "        vidRes = vidReq.execute()\n",
        "        try:\n",
        "            viewCount.append(vidRes['items'][0]['statistics']['viewCount'])\n",
        "        except:\n",
        "            print('video with no viewCount') \n",
        "            viewCount.append(None)\n",
        "        try:\n",
        "            likeCount.append(vidRes['items'][0]['statistics']['likeCount'])\n",
        "        except:\n",
        "            print('video with no likeCount') \n",
        "            likeCount.append(None)\n",
        "        try:\n",
        "            dislikeCount.append(vidRes['items'][0]['statistics']['dislikeCount'])\n",
        "        except:\n",
        "            print('video with no dislikeCount') \n",
        "            dislikeCount.append(None)\n",
        "        try:\n",
        "            commentCount.append(vidRes['items'][0]['statistics']['commentCount'])\n",
        "        except:\n",
        "            print('video with no commentCount') \n",
        "            commentCount.append(None)\n",
        "        try:\n",
        "            vidDuration.append(vidRes['items'][0]['contentDetails']['duration'])\n",
        "        except:\n",
        "            print('video with no vidDuration') \n",
        "            vidDuration.append(None)    \n",
        "        try:\n",
        "            titles.append(vidRes['items'][0]['snippet']['title'])\n",
        "        except:\n",
        "            print('video with no titles') \n",
        "            titles.append(None)\n",
        "        try:\n",
        "            tags.append(vidRes['items'][0]['snippet']['tags'])\n",
        "        except:\n",
        "            print('video with no tags') \n",
        "            tags.append(None)\n",
        "            \n",
        "    df = pd.DataFrame({'channel_name': channels_names_modified, \n",
        "                         'titles': titles, \n",
        "                         'tags': tags, \n",
        "                         'likes_number': likeCount, \n",
        "                         'views count': viewCount,\n",
        "                         'dislikes_number': dislikeCount, \n",
        "                         'commens_count': commentCount,\n",
        "                         'duration': vidDuration\n",
        "                         })\n",
        "    return df"
      ],
      "execution_count": null,
      "outputs": []
    },
    {
      "cell_type": "code",
      "metadata": {
        "id": "ztmG-G51oVoY"
      },
      "source": [
        "yt_df.to_csv('youtube_data.csv')"
      ],
      "execution_count": 43,
      "outputs": []
    },
    {
      "cell_type": "code",
      "metadata": {
        "id": "-ZZFaXo0oVoZ"
      },
      "source": [
        "yt_df = pd.read_csv('youtube_data.csv', index_col=0).reset_index(drop=True)"
      ],
      "execution_count": 42,
      "outputs": []
    },
    {
      "cell_type": "code",
      "metadata": {
        "id": "LbCQVzBToVoZ",
        "colab": {
          "base_uri": "https://localhost:8080/"
        },
        "outputId": "a1982cef-5e7b-419c-f69c-07f4d8db98b1"
      },
      "source": [
        "# We will now clean the duration and convert it to seconds\n",
        "# We considered all the possibilities shown below:\n",
        "\n",
        "# H M S\n",
        "# H M\n",
        "# H   S\n",
        "# H \n",
        "#   M S\n",
        "#   M\n",
        "#     S\n",
        "\n",
        "# Where (H = hours), (M = Minutes) and (S = Seconds).\n",
        "\n",
        "for i in range(yt_df.shape[0]):\n",
        "    x = yt_df.video_duration.str.strip('PT').iloc[i]\n",
        "    if 'H' in x and 'M' in x and 'S' in x:\n",
        "        h = int(x.split('H')[0])\n",
        "        m = int(x.split('H')[1].split('M')[0])\n",
        "        s = int(x.split('H')[1].split('M')[1].strip('S'))\n",
        "        yt_df['video_duration'].iloc[i] = (h * 60 * 60) + (m * 60) + s\n",
        "        \n",
        "    elif 'H' in x and 'M' in x and 'S' not in x:\n",
        "        h = int(x.split('H')[0])\n",
        "        m = int(x.split('H')[1].strip('M'))\n",
        "        yt_df['video_duration'].iloc[i] = (h * 60 * 60) + (m * 60)\n",
        "        \n",
        "    elif 'H' in x and 'M' not in x and 'S' in x:\n",
        "        h = int(x.split('H')[0])\n",
        "        s = int(x.split('H')[1].strip('S'))\n",
        "        yt_df['video_duration'].iloc[i] = (h * 60 * 60) + s\n",
        "                \n",
        "    elif 'H' in x and 'M' not in x and 'S' not in x:\n",
        "        h = int(x.strip('H'))\n",
        "        yt_df['video_duration'].iloc[i] = (h * 60 * 60)\n",
        "        \n",
        "    elif not 'H' in x and 'M' in x and 'S' in x:\n",
        "        m = int(x.split('M')[0])\n",
        "        s = int(x.split('M')[1].strip('S'))\n",
        "        yt_df['video_duration'].iloc[i] = (m * 60) + s\n",
        "        \n",
        "    elif not 'H' in x and 'M' in x and 'S' not in x:\n",
        "        m = int(x.strip('M'))\n",
        "        yt_df['video_duration'].iloc[i] = (m * 60)\n",
        "        \n",
        "    elif not 'H' in x and 'M' not in x and 'S' in x:\n",
        "        s = int(x.strip('S'))\n",
        "        yt_df['video_duration'].iloc[i] = s\n",
        "    "
      ],
      "execution_count": 44,
      "outputs": [
        {
          "output_type": "stream",
          "name": "stderr",
          "text": [
            "/usr/local/lib/python3.7/dist-packages/pandas/core/indexing.py:670: SettingWithCopyWarning: \n",
            "A value is trying to be set on a copy of a slice from a DataFrame\n",
            "\n",
            "See the caveats in the documentation: https://pandas.pydata.org/pandas-docs/stable/user_guide/indexing.html#returning-a-view-versus-a-copy\n",
            "  iloc._setitem_with_indexer(indexer, value)\n"
          ]
        }
      ]
    },
    {
      "cell_type": "code",
      "metadata": {
        "id": "MpIQ8HOCdBLC",
        "colab": {
          "base_uri": "https://localhost:8080/",
          "height": 114
        },
        "outputId": "5d978478-cb3e-4a9e-f4a5-07e922c49c02"
      },
      "source": [
        "# Let's now clean the column that contains the tags\n",
        "yt_df.head(1)"
      ],
      "execution_count": 45,
      "outputs": [
        {
          "output_type": "execute_result",
          "data": {
            "text/html": [
              "<div>\n",
              "<style scoped>\n",
              "    .dataframe tbody tr th:only-of-type {\n",
              "        vertical-align: middle;\n",
              "    }\n",
              "\n",
              "    .dataframe tbody tr th {\n",
              "        vertical-align: top;\n",
              "    }\n",
              "\n",
              "    .dataframe thead th {\n",
              "        text-align: right;\n",
              "    }\n",
              "</style>\n",
              "<table border=\"1\" class=\"dataframe\">\n",
              "  <thead>\n",
              "    <tr style=\"text-align: right;\">\n",
              "      <th></th>\n",
              "      <th>channel_name</th>\n",
              "      <th>titles</th>\n",
              "      <th>tags</th>\n",
              "      <th>likes_number</th>\n",
              "      <th>views count</th>\n",
              "      <th>dislikes_number</th>\n",
              "      <th>commens_count</th>\n",
              "      <th>video_duration</th>\n",
              "    </tr>\n",
              "  </thead>\n",
              "  <tbody>\n",
              "    <tr>\n",
              "      <th>0</th>\n",
              "      <td>MKBHD</td>\n",
              "      <td>Surface Laptop Studio Impressions: Windows 11 ...</td>\n",
              "      <td>['surface laptop', 'surface studio', 'surface ...</td>\n",
              "      <td>80208.0</td>\n",
              "      <td>2184860.0</td>\n",
              "      <td>1472.0</td>\n",
              "      <td>5720.0</td>\n",
              "      <td>687</td>\n",
              "    </tr>\n",
              "  </tbody>\n",
              "</table>\n",
              "</div>"
            ],
            "text/plain": [
              "  channel_name  ... video_duration\n",
              "0        MKBHD  ...            687\n",
              "\n",
              "[1 rows x 8 columns]"
            ]
          },
          "metadata": {},
          "execution_count": 45
        }
      ]
    },
    {
      "cell_type": "code",
      "metadata": {
        "id": "P7cID8LUoVoZ"
      },
      "source": [
        "# We want to get all the data inside each column and split each element into a new row\n",
        "\n",
        "yt_df['channel_name'] = yt_df.channel_name.str.upper()\n",
        "yt_df.dropna(inplace = True)\n",
        "yt_df.reset_index(drop=True, inplace = True)"
      ],
      "execution_count": 46,
      "outputs": []
    },
    {
      "cell_type": "code",
      "metadata": {
        "id": "Zguo7fPHoVoa"
      },
      "source": [
        "channel_name = []\n",
        "titles = []\n",
        "tags = []\n",
        "likes_number = []\n",
        "views_count = []\n",
        "dislikes_number = []\n",
        "commens_count = []\n",
        "video_duration = []\n",
        "for ii in range(yt_df.shape[0]): \n",
        "    for i in yt_df.tags.iloc[ii].strip(\"'[]'\").split(','):\n",
        "        channel_name.append(yt_df.channel_name.iloc[ii])\n",
        "        tags.append(i.strip().strip(\"''\").strip())\n",
        "        titles.append(yt_df.titles.iloc[ii])\n",
        "        likes_number.append(yt_df.likes_number.iloc[ii])\n",
        "        dislikes_number.append(yt_df.dislikes_number.iloc[ii])\n",
        "        commens_count.append(yt_df.commens_count.iloc[ii])\n",
        "        video_duration.append(yt_df.video_duration.iloc[ii])\n",
        "        views_count.append(yt_df['views count'].iloc[ii])"
      ],
      "execution_count": 47,
      "outputs": []
    },
    {
      "cell_type": "code",
      "metadata": {
        "id": "zrdO94QooVob"
      },
      "source": [
        "yt_df_modified = pd.DataFrame({'channel_name': channel_name,\n",
        "                               'titles': titles,\n",
        "                               'tags': tags,\n",
        "                               'likes_number': likes_number,\n",
        "                               'views_count': views_count,\n",
        "                               'dislikes_number': dislikes_number,\n",
        "                               'commens_count': commens_count,\n",
        "                               'video_duration': video_duration})"
      ],
      "execution_count": 48,
      "outputs": []
    },
    {
      "cell_type": "code",
      "metadata": {
        "id": "SfjbQrFioVob"
      },
      "source": [
        "yt_df_modified['tags'] = yt_df_modified.tags.str.upper()"
      ],
      "execution_count": 49,
      "outputs": []
    },
    {
      "cell_type": "code",
      "metadata": {
        "id": "mk2UHjTzoVob",
        "colab": {
          "base_uri": "https://localhost:8080/",
          "height": 589
        },
        "outputId": "7fbc2666-2ae3-4735-8c0e-e90552ad7753"
      },
      "source": [
        "yt_df_modified"
      ],
      "execution_count": 50,
      "outputs": [
        {
          "output_type": "execute_result",
          "data": {
            "text/html": [
              "<div>\n",
              "<style scoped>\n",
              "    .dataframe tbody tr th:only-of-type {\n",
              "        vertical-align: middle;\n",
              "    }\n",
              "\n",
              "    .dataframe tbody tr th {\n",
              "        vertical-align: top;\n",
              "    }\n",
              "\n",
              "    .dataframe thead th {\n",
              "        text-align: right;\n",
              "    }\n",
              "</style>\n",
              "<table border=\"1\" class=\"dataframe\">\n",
              "  <thead>\n",
              "    <tr style=\"text-align: right;\">\n",
              "      <th></th>\n",
              "      <th>channel_name</th>\n",
              "      <th>titles</th>\n",
              "      <th>tags</th>\n",
              "      <th>likes_number</th>\n",
              "      <th>views_count</th>\n",
              "      <th>dislikes_number</th>\n",
              "      <th>commens_count</th>\n",
              "      <th>video_duration</th>\n",
              "    </tr>\n",
              "  </thead>\n",
              "  <tbody>\n",
              "    <tr>\n",
              "      <th>0</th>\n",
              "      <td>MKBHD</td>\n",
              "      <td>Surface Laptop Studio Impressions: Windows 11 ...</td>\n",
              "      <td>SURFACE LAPTOP</td>\n",
              "      <td>80208.0</td>\n",
              "      <td>2184860.0</td>\n",
              "      <td>1472.0</td>\n",
              "      <td>5720.0</td>\n",
              "      <td>687</td>\n",
              "    </tr>\n",
              "    <tr>\n",
              "      <th>1</th>\n",
              "      <td>MKBHD</td>\n",
              "      <td>Surface Laptop Studio Impressions: Windows 11 ...</td>\n",
              "      <td>SURFACE STUDIO</td>\n",
              "      <td>80208.0</td>\n",
              "      <td>2184860.0</td>\n",
              "      <td>1472.0</td>\n",
              "      <td>5720.0</td>\n",
              "      <td>687</td>\n",
              "    </tr>\n",
              "    <tr>\n",
              "      <th>2</th>\n",
              "      <td>MKBHD</td>\n",
              "      <td>Surface Laptop Studio Impressions: Windows 11 ...</td>\n",
              "      <td>SURFACE LAPTOP STUDIO</td>\n",
              "      <td>80208.0</td>\n",
              "      <td>2184860.0</td>\n",
              "      <td>1472.0</td>\n",
              "      <td>5720.0</td>\n",
              "      <td>687</td>\n",
              "    </tr>\n",
              "    <tr>\n",
              "      <th>3</th>\n",
              "      <td>MKBHD</td>\n",
              "      <td>Surface Laptop Studio Impressions: Windows 11 ...</td>\n",
              "      <td>MKBHD</td>\n",
              "      <td>80208.0</td>\n",
              "      <td>2184860.0</td>\n",
              "      <td>1472.0</td>\n",
              "      <td>5720.0</td>\n",
              "      <td>687</td>\n",
              "    </tr>\n",
              "    <tr>\n",
              "      <th>4</th>\n",
              "      <td>MKBHD</td>\n",
              "      <td>Surface Laptop Studio Impressions: Windows 11 ...</td>\n",
              "      <td>MKBHD</td>\n",
              "      <td>80208.0</td>\n",
              "      <td>2184860.0</td>\n",
              "      <td>1472.0</td>\n",
              "      <td>5720.0</td>\n",
              "      <td>687</td>\n",
              "    </tr>\n",
              "    <tr>\n",
              "      <th>...</th>\n",
              "      <td>...</td>\n",
              "      <td>...</td>\n",
              "      <td>...</td>\n",
              "      <td>...</td>\n",
              "      <td>...</td>\n",
              "      <td>...</td>\n",
              "      <td>...</td>\n",
              "      <td>...</td>\n",
              "    </tr>\n",
              "    <tr>\n",
              "      <th>127117</th>\n",
              "      <td>UNBOX_THERAPY</td>\n",
              "      <td>Lacie 2big Quadra Unboxing &amp; Overview in HD!</td>\n",
              "      <td>HOT</td>\n",
              "      <td>170.0</td>\n",
              "      <td>10440.0</td>\n",
              "      <td>5.0</td>\n",
              "      <td>17.0</td>\n",
              "      <td>283</td>\n",
              "    </tr>\n",
              "    <tr>\n",
              "      <th>127118</th>\n",
              "      <td>UNBOX_THERAPY</td>\n",
              "      <td>Lacie 2big Quadra Unboxing &amp; Overview in HD!</td>\n",
              "      <td>SWAP</td>\n",
              "      <td>170.0</td>\n",
              "      <td>10440.0</td>\n",
              "      <td>5.0</td>\n",
              "      <td>17.0</td>\n",
              "      <td>283</td>\n",
              "    </tr>\n",
              "    <tr>\n",
              "      <th>127119</th>\n",
              "      <td>UNBOX_THERAPY</td>\n",
              "      <td>Lacie 2big Quadra Unboxing &amp; Overview in HD!</td>\n",
              "      <td>7200RPM</td>\n",
              "      <td>170.0</td>\n",
              "      <td>10440.0</td>\n",
              "      <td>5.0</td>\n",
              "      <td>17.0</td>\n",
              "      <td>283</td>\n",
              "    </tr>\n",
              "    <tr>\n",
              "      <th>127120</th>\n",
              "      <td>UNBOX_THERAPY</td>\n",
              "      <td>Lacie 2big Quadra Unboxing &amp; Overview in HD!</td>\n",
              "      <td>32MB</td>\n",
              "      <td>170.0</td>\n",
              "      <td>10440.0</td>\n",
              "      <td>5.0</td>\n",
              "      <td>17.0</td>\n",
              "      <td>283</td>\n",
              "    </tr>\n",
              "    <tr>\n",
              "      <th>127121</th>\n",
              "      <td>UNBOX_THERAPY</td>\n",
              "      <td>Lacie 2big Quadra Unboxing &amp; Overview in HD!</td>\n",
              "      <td>CACHE</td>\n",
              "      <td>170.0</td>\n",
              "      <td>10440.0</td>\n",
              "      <td>5.0</td>\n",
              "      <td>17.0</td>\n",
              "      <td>283</td>\n",
              "    </tr>\n",
              "  </tbody>\n",
              "</table>\n",
              "<p>127122 rows × 8 columns</p>\n",
              "</div>"
            ],
            "text/plain": [
              "         channel_name  ... video_duration\n",
              "0               MKBHD  ...            687\n",
              "1               MKBHD  ...            687\n",
              "2               MKBHD  ...            687\n",
              "3               MKBHD  ...            687\n",
              "4               MKBHD  ...            687\n",
              "...               ...  ...            ...\n",
              "127117  UNBOX_THERAPY  ...            283\n",
              "127118  UNBOX_THERAPY  ...            283\n",
              "127119  UNBOX_THERAPY  ...            283\n",
              "127120  UNBOX_THERAPY  ...            283\n",
              "127121  UNBOX_THERAPY  ...            283\n",
              "\n",
              "[127122 rows x 8 columns]"
            ]
          },
          "metadata": {},
          "execution_count": 50
        }
      ]
    },
    {
      "cell_type": "markdown",
      "metadata": {
        "id": "p_D7Y1jIoVoc"
      },
      "source": [
        "### Final DataFrame preparation."
      ]
    },
    {
      "cell_type": "markdown",
      "metadata": {
        "id": "o-ivUsKGdg02"
      },
      "source": [
        "To obtain our final data frame, we will join the three datasets obtained from scrapping together."
      ]
    },
    {
      "cell_type": "code",
      "metadata": {
        "id": "yT98X8vGoVoc",
        "colab": {
          "base_uri": "https://localhost:8080/",
          "height": 80
        },
        "outputId": "480fcd05-299c-48d4-b261-97b95c5a946f"
      },
      "source": [
        "df_devices.head(1)"
      ],
      "execution_count": 51,
      "outputs": [
        {
          "output_type": "execute_result",
          "data": {
            "text/html": [
              "<div>\n",
              "<style scoped>\n",
              "    .dataframe tbody tr th:only-of-type {\n",
              "        vertical-align: middle;\n",
              "    }\n",
              "\n",
              "    .dataframe tbody tr th {\n",
              "        vertical-align: top;\n",
              "    }\n",
              "\n",
              "    .dataframe thead th {\n",
              "        text-align: right;\n",
              "    }\n",
              "</style>\n",
              "<table border=\"1\" class=\"dataframe\">\n",
              "  <thead>\n",
              "    <tr style=\"text-align: right;\">\n",
              "      <th></th>\n",
              "      <th>company_name</th>\n",
              "      <th>link</th>\n",
              "      <th>number_of_devices</th>\n",
              "      <th>device</th>\n",
              "    </tr>\n",
              "  </thead>\n",
              "  <tbody>\n",
              "    <tr>\n",
              "      <th>0</th>\n",
              "      <td>APPLE</td>\n",
              "      <td>https://www.gsmarena.com/apple-phones-48.php</td>\n",
              "      <td>98</td>\n",
              "      <td>IPHONE 13 PRO MAX</td>\n",
              "    </tr>\n",
              "  </tbody>\n",
              "</table>\n",
              "</div>"
            ],
            "text/plain": [
              "  company_name  ...             device\n",
              "0        APPLE  ...  IPHONE 13 PRO MAX\n",
              "\n",
              "[1 rows x 4 columns]"
            ]
          },
          "metadata": {},
          "execution_count": 51
        }
      ]
    },
    {
      "cell_type": "code",
      "metadata": {
        "id": "0QK78fXeoVoc",
        "colab": {
          "base_uri": "https://localhost:8080/",
          "height": 80
        },
        "outputId": "74323175-6f36-4764-8fa2-71663feb6997"
      },
      "source": [
        "yt_df_modified.head(1)"
      ],
      "execution_count": 52,
      "outputs": [
        {
          "output_type": "execute_result",
          "data": {
            "text/html": [
              "<div>\n",
              "<style scoped>\n",
              "    .dataframe tbody tr th:only-of-type {\n",
              "        vertical-align: middle;\n",
              "    }\n",
              "\n",
              "    .dataframe tbody tr th {\n",
              "        vertical-align: top;\n",
              "    }\n",
              "\n",
              "    .dataframe thead th {\n",
              "        text-align: right;\n",
              "    }\n",
              "</style>\n",
              "<table border=\"1\" class=\"dataframe\">\n",
              "  <thead>\n",
              "    <tr style=\"text-align: right;\">\n",
              "      <th></th>\n",
              "      <th>channel_name</th>\n",
              "      <th>titles</th>\n",
              "      <th>tags</th>\n",
              "      <th>likes_number</th>\n",
              "      <th>views_count</th>\n",
              "      <th>dislikes_number</th>\n",
              "      <th>commens_count</th>\n",
              "      <th>video_duration</th>\n",
              "    </tr>\n",
              "  </thead>\n",
              "  <tbody>\n",
              "    <tr>\n",
              "      <th>0</th>\n",
              "      <td>MKBHD</td>\n",
              "      <td>Surface Laptop Studio Impressions: Windows 11 ...</td>\n",
              "      <td>SURFACE LAPTOP</td>\n",
              "      <td>80208.0</td>\n",
              "      <td>2184860.0</td>\n",
              "      <td>1472.0</td>\n",
              "      <td>5720.0</td>\n",
              "      <td>687</td>\n",
              "    </tr>\n",
              "  </tbody>\n",
              "</table>\n",
              "</div>"
            ],
            "text/plain": [
              "  channel_name  ... video_duration\n",
              "0        MKBHD  ...            687\n",
              "\n",
              "[1 rows x 8 columns]"
            ]
          },
          "metadata": {},
          "execution_count": 52
        }
      ]
    },
    {
      "cell_type": "code",
      "metadata": {
        "id": "XehzYgsaoVod",
        "colab": {
          "base_uri": "https://localhost:8080/",
          "height": 80
        },
        "outputId": "ed1006c0-1241-4488-cb09-9ef08913ec9d"
      },
      "source": [
        "units_sold_df_mod.head(1)"
      ],
      "execution_count": 53,
      "outputs": [
        {
          "output_type": "execute_result",
          "data": {
            "text/html": [
              "<div>\n",
              "<style scoped>\n",
              "    .dataframe tbody tr th:only-of-type {\n",
              "        vertical-align: middle;\n",
              "    }\n",
              "\n",
              "    .dataframe tbody tr th {\n",
              "        vertical-align: top;\n",
              "    }\n",
              "\n",
              "    .dataframe thead th {\n",
              "        text-align: right;\n",
              "    }\n",
              "</style>\n",
              "<table border=\"1\" class=\"dataframe\">\n",
              "  <thead>\n",
              "    <tr style=\"text-align: right;\">\n",
              "      <th></th>\n",
              "      <th>company_name</th>\n",
              "      <th>device</th>\n",
              "      <th>year</th>\n",
              "      <th>units</th>\n",
              "    </tr>\n",
              "  </thead>\n",
              "  <tbody>\n",
              "    <tr>\n",
              "      <th>0</th>\n",
              "      <td>APPLE</td>\n",
              "      <td>IPHONE 6</td>\n",
              "      <td>2014</td>\n",
              "      <td>222000000</td>\n",
              "    </tr>\n",
              "  </tbody>\n",
              "</table>\n",
              "</div>"
            ],
            "text/plain": [
              "  company_name    device  year      units\n",
              "0        APPLE  IPHONE 6  2014  222000000"
            ]
          },
          "metadata": {},
          "execution_count": 53
        }
      ]
    },
    {
      "cell_type": "code",
      "metadata": {
        "id": "Pt1D9bbLoVod"
      },
      "source": [
        "pre_final_df = pd.merge(df_devices, \n",
        "                        units_sold_df_mod, \n",
        "                        on='device').drop(['number_of_devices', 'link', 'company_name_y'], axis=1)"
      ],
      "execution_count": 54,
      "outputs": []
    },
    {
      "cell_type": "code",
      "metadata": {
        "id": "e7wjmkY1oVod",
        "colab": {
          "base_uri": "https://localhost:8080/",
          "height": 80
        },
        "outputId": "87ad21ad-07f8-4f84-c69e-9100ad0b4989"
      },
      "source": [
        "yt_df_modified.head(1)"
      ],
      "execution_count": 55,
      "outputs": [
        {
          "output_type": "execute_result",
          "data": {
            "text/html": [
              "<div>\n",
              "<style scoped>\n",
              "    .dataframe tbody tr th:only-of-type {\n",
              "        vertical-align: middle;\n",
              "    }\n",
              "\n",
              "    .dataframe tbody tr th {\n",
              "        vertical-align: top;\n",
              "    }\n",
              "\n",
              "    .dataframe thead th {\n",
              "        text-align: right;\n",
              "    }\n",
              "</style>\n",
              "<table border=\"1\" class=\"dataframe\">\n",
              "  <thead>\n",
              "    <tr style=\"text-align: right;\">\n",
              "      <th></th>\n",
              "      <th>channel_name</th>\n",
              "      <th>titles</th>\n",
              "      <th>tags</th>\n",
              "      <th>likes_number</th>\n",
              "      <th>views_count</th>\n",
              "      <th>dislikes_number</th>\n",
              "      <th>commens_count</th>\n",
              "      <th>video_duration</th>\n",
              "    </tr>\n",
              "  </thead>\n",
              "  <tbody>\n",
              "    <tr>\n",
              "      <th>0</th>\n",
              "      <td>MKBHD</td>\n",
              "      <td>Surface Laptop Studio Impressions: Windows 11 ...</td>\n",
              "      <td>SURFACE LAPTOP</td>\n",
              "      <td>80208.0</td>\n",
              "      <td>2184860.0</td>\n",
              "      <td>1472.0</td>\n",
              "      <td>5720.0</td>\n",
              "      <td>687</td>\n",
              "    </tr>\n",
              "  </tbody>\n",
              "</table>\n",
              "</div>"
            ],
            "text/plain": [
              "  channel_name  ... video_duration\n",
              "0        MKBHD  ...            687\n",
              "\n",
              "[1 rows x 8 columns]"
            ]
          },
          "metadata": {},
          "execution_count": 55
        }
      ]
    },
    {
      "cell_type": "code",
      "metadata": {
        "id": "oOCA_XqdoVod"
      },
      "source": [
        "df = pd.merge(pre_final_df, \n",
        "              yt_df_modified, \n",
        "              left_on = 'device', \n",
        "              right_on = 'tags').drop(['tags', 'titles'], axis=1)"
      ],
      "execution_count": 56,
      "outputs": []
    },
    {
      "cell_type": "code",
      "metadata": {
        "id": "Q1PCKyqVoVoe",
        "colab": {
          "base_uri": "https://localhost:8080/",
          "height": 204
        },
        "outputId": "3abbb4bb-182f-4d9f-d978-016bd18c6db7"
      },
      "source": [
        "df.head()"
      ],
      "execution_count": 57,
      "outputs": [
        {
          "output_type": "execute_result",
          "data": {
            "text/html": [
              "<div>\n",
              "<style scoped>\n",
              "    .dataframe tbody tr th:only-of-type {\n",
              "        vertical-align: middle;\n",
              "    }\n",
              "\n",
              "    .dataframe tbody tr th {\n",
              "        vertical-align: top;\n",
              "    }\n",
              "\n",
              "    .dataframe thead th {\n",
              "        text-align: right;\n",
              "    }\n",
              "</style>\n",
              "<table border=\"1\" class=\"dataframe\">\n",
              "  <thead>\n",
              "    <tr style=\"text-align: right;\">\n",
              "      <th></th>\n",
              "      <th>company_name_x</th>\n",
              "      <th>device</th>\n",
              "      <th>year</th>\n",
              "      <th>units</th>\n",
              "      <th>channel_name</th>\n",
              "      <th>likes_number</th>\n",
              "      <th>views_count</th>\n",
              "      <th>dislikes_number</th>\n",
              "      <th>commens_count</th>\n",
              "      <th>video_duration</th>\n",
              "    </tr>\n",
              "  </thead>\n",
              "  <tbody>\n",
              "    <tr>\n",
              "      <th>0</th>\n",
              "      <td>APPLE</td>\n",
              "      <td>IPHONE 12 PRO MAX</td>\n",
              "      <td>2020</td>\n",
              "      <td>29000000</td>\n",
              "      <td>MKBHD</td>\n",
              "      <td>289750.0</td>\n",
              "      <td>6380863.0</td>\n",
              "      <td>6569.0</td>\n",
              "      <td>19865.0</td>\n",
              "      <td>1505</td>\n",
              "    </tr>\n",
              "    <tr>\n",
              "      <th>1</th>\n",
              "      <td>APPLE</td>\n",
              "      <td>IPHONE 12 PRO MAX</td>\n",
              "      <td>2020</td>\n",
              "      <td>29000000</td>\n",
              "      <td>MKBHD</td>\n",
              "      <td>170900.0</td>\n",
              "      <td>5512865.0</td>\n",
              "      <td>3293.0</td>\n",
              "      <td>12763.0</td>\n",
              "      <td>609</td>\n",
              "    </tr>\n",
              "    <tr>\n",
              "      <th>2</th>\n",
              "      <td>APPLE</td>\n",
              "      <td>IPHONE 12 PRO MAX</td>\n",
              "      <td>2020</td>\n",
              "      <td>29000000</td>\n",
              "      <td>MKBHD</td>\n",
              "      <td>230897.0</td>\n",
              "      <td>6736834.0</td>\n",
              "      <td>6498.0</td>\n",
              "      <td>27074.0</td>\n",
              "      <td>1105</td>\n",
              "    </tr>\n",
              "    <tr>\n",
              "      <th>3</th>\n",
              "      <td>APPLE</td>\n",
              "      <td>IPHONE 12 PRO MAX</td>\n",
              "      <td>2020</td>\n",
              "      <td>29000000</td>\n",
              "      <td>MRWHOSETHEBOSS</td>\n",
              "      <td>226495.0</td>\n",
              "      <td>3954624.0</td>\n",
              "      <td>6898.0</td>\n",
              "      <td>23637.0</td>\n",
              "      <td>968</td>\n",
              "    </tr>\n",
              "    <tr>\n",
              "      <th>4</th>\n",
              "      <td>APPLE</td>\n",
              "      <td>IPHONE 12 PRO MAX</td>\n",
              "      <td>2020</td>\n",
              "      <td>29000000</td>\n",
              "      <td>MRWHOSETHEBOSS</td>\n",
              "      <td>155226.0</td>\n",
              "      <td>4382765.0</td>\n",
              "      <td>2691.0</td>\n",
              "      <td>13550.0</td>\n",
              "      <td>593</td>\n",
              "    </tr>\n",
              "  </tbody>\n",
              "</table>\n",
              "</div>"
            ],
            "text/plain": [
              "  company_name_x             device  ...  commens_count  video_duration\n",
              "0          APPLE  IPHONE 12 PRO MAX  ...        19865.0            1505\n",
              "1          APPLE  IPHONE 12 PRO MAX  ...        12763.0             609\n",
              "2          APPLE  IPHONE 12 PRO MAX  ...        27074.0            1105\n",
              "3          APPLE  IPHONE 12 PRO MAX  ...        23637.0             968\n",
              "4          APPLE  IPHONE 12 PRO MAX  ...        13550.0             593\n",
              "\n",
              "[5 rows x 10 columns]"
            ]
          },
          "metadata": {},
          "execution_count": 57
        }
      ]
    },
    {
      "cell_type": "code",
      "metadata": {
        "id": "ZP-Ys3yMoVoe"
      },
      "source": [
        "df.drop_duplicates(inplace = True, ignore_index = True)"
      ],
      "execution_count": 58,
      "outputs": []
    },
    {
      "cell_type": "code",
      "metadata": {
        "id": "_RxRkLC3oVoe",
        "colab": {
          "base_uri": "https://localhost:8080/",
          "height": 204
        },
        "outputId": "d1458fde-e9a8-41d7-e1de-87f10ef104db"
      },
      "source": [
        "df.head()"
      ],
      "execution_count": 59,
      "outputs": [
        {
          "output_type": "execute_result",
          "data": {
            "text/html": [
              "<div>\n",
              "<style scoped>\n",
              "    .dataframe tbody tr th:only-of-type {\n",
              "        vertical-align: middle;\n",
              "    }\n",
              "\n",
              "    .dataframe tbody tr th {\n",
              "        vertical-align: top;\n",
              "    }\n",
              "\n",
              "    .dataframe thead th {\n",
              "        text-align: right;\n",
              "    }\n",
              "</style>\n",
              "<table border=\"1\" class=\"dataframe\">\n",
              "  <thead>\n",
              "    <tr style=\"text-align: right;\">\n",
              "      <th></th>\n",
              "      <th>company_name_x</th>\n",
              "      <th>device</th>\n",
              "      <th>year</th>\n",
              "      <th>units</th>\n",
              "      <th>channel_name</th>\n",
              "      <th>likes_number</th>\n",
              "      <th>views_count</th>\n",
              "      <th>dislikes_number</th>\n",
              "      <th>commens_count</th>\n",
              "      <th>video_duration</th>\n",
              "    </tr>\n",
              "  </thead>\n",
              "  <tbody>\n",
              "    <tr>\n",
              "      <th>0</th>\n",
              "      <td>APPLE</td>\n",
              "      <td>IPHONE 12 PRO MAX</td>\n",
              "      <td>2020</td>\n",
              "      <td>29000000</td>\n",
              "      <td>MKBHD</td>\n",
              "      <td>289750.0</td>\n",
              "      <td>6380863.0</td>\n",
              "      <td>6569.0</td>\n",
              "      <td>19865.0</td>\n",
              "      <td>1505</td>\n",
              "    </tr>\n",
              "    <tr>\n",
              "      <th>1</th>\n",
              "      <td>APPLE</td>\n",
              "      <td>IPHONE 12 PRO MAX</td>\n",
              "      <td>2020</td>\n",
              "      <td>29000000</td>\n",
              "      <td>MKBHD</td>\n",
              "      <td>170900.0</td>\n",
              "      <td>5512865.0</td>\n",
              "      <td>3293.0</td>\n",
              "      <td>12763.0</td>\n",
              "      <td>609</td>\n",
              "    </tr>\n",
              "    <tr>\n",
              "      <th>2</th>\n",
              "      <td>APPLE</td>\n",
              "      <td>IPHONE 12 PRO MAX</td>\n",
              "      <td>2020</td>\n",
              "      <td>29000000</td>\n",
              "      <td>MKBHD</td>\n",
              "      <td>230897.0</td>\n",
              "      <td>6736834.0</td>\n",
              "      <td>6498.0</td>\n",
              "      <td>27074.0</td>\n",
              "      <td>1105</td>\n",
              "    </tr>\n",
              "    <tr>\n",
              "      <th>3</th>\n",
              "      <td>APPLE</td>\n",
              "      <td>IPHONE 12 PRO MAX</td>\n",
              "      <td>2020</td>\n",
              "      <td>29000000</td>\n",
              "      <td>MRWHOSETHEBOSS</td>\n",
              "      <td>226495.0</td>\n",
              "      <td>3954624.0</td>\n",
              "      <td>6898.0</td>\n",
              "      <td>23637.0</td>\n",
              "      <td>968</td>\n",
              "    </tr>\n",
              "    <tr>\n",
              "      <th>4</th>\n",
              "      <td>APPLE</td>\n",
              "      <td>IPHONE 12 PRO MAX</td>\n",
              "      <td>2020</td>\n",
              "      <td>29000000</td>\n",
              "      <td>MRWHOSETHEBOSS</td>\n",
              "      <td>155226.0</td>\n",
              "      <td>4382765.0</td>\n",
              "      <td>2691.0</td>\n",
              "      <td>13550.0</td>\n",
              "      <td>593</td>\n",
              "    </tr>\n",
              "  </tbody>\n",
              "</table>\n",
              "</div>"
            ],
            "text/plain": [
              "  company_name_x             device  ...  commens_count  video_duration\n",
              "0          APPLE  IPHONE 12 PRO MAX  ...        19865.0            1505\n",
              "1          APPLE  IPHONE 12 PRO MAX  ...        12763.0             609\n",
              "2          APPLE  IPHONE 12 PRO MAX  ...        27074.0            1105\n",
              "3          APPLE  IPHONE 12 PRO MAX  ...        23637.0             968\n",
              "4          APPLE  IPHONE 12 PRO MAX  ...        13550.0             593\n",
              "\n",
              "[5 rows x 10 columns]"
            ]
          },
          "metadata": {},
          "execution_count": 59
        }
      ]
    },
    {
      "cell_type": "code",
      "metadata": {
        "id": "YhOpDA9loVoe"
      },
      "source": [
        "df.to_csv('final_df.csv')"
      ],
      "execution_count": 60,
      "outputs": []
    },
    {
      "cell_type": "markdown",
      "metadata": {
        "id": "06_UaoFkoVof"
      },
      "source": [
        "## EDA"
      ]
    },
    {
      "cell_type": "code",
      "metadata": {
        "colab": {
          "base_uri": "https://localhost:8080/",
          "height": 204
        },
        "id": "4bucdm6moVof",
        "outputId": "b3ae8f1b-40ba-430d-8bfd-5dc398077f2b"
      },
      "source": [
        "df = pd.read_csv('final_df.csv', index_col=0)\n",
        "df.drop(df[df['device'] == 'IPHONE'].index, inplace=True)\n",
        "df.drop('year', axis=1, inplace=True)\n",
        "df.head()"
      ],
      "execution_count": 61,
      "outputs": [
        {
          "output_type": "execute_result",
          "data": {
            "text/html": [
              "<div>\n",
              "<style scoped>\n",
              "    .dataframe tbody tr th:only-of-type {\n",
              "        vertical-align: middle;\n",
              "    }\n",
              "\n",
              "    .dataframe tbody tr th {\n",
              "        vertical-align: top;\n",
              "    }\n",
              "\n",
              "    .dataframe thead th {\n",
              "        text-align: right;\n",
              "    }\n",
              "</style>\n",
              "<table border=\"1\" class=\"dataframe\">\n",
              "  <thead>\n",
              "    <tr style=\"text-align: right;\">\n",
              "      <th></th>\n",
              "      <th>company_name_x</th>\n",
              "      <th>device</th>\n",
              "      <th>units</th>\n",
              "      <th>channel_name</th>\n",
              "      <th>likes_number</th>\n",
              "      <th>views_count</th>\n",
              "      <th>dislikes_number</th>\n",
              "      <th>commens_count</th>\n",
              "      <th>video_duration</th>\n",
              "    </tr>\n",
              "  </thead>\n",
              "  <tbody>\n",
              "    <tr>\n",
              "      <th>0</th>\n",
              "      <td>APPLE</td>\n",
              "      <td>IPHONE 12 PRO MAX</td>\n",
              "      <td>29000000</td>\n",
              "      <td>MKBHD</td>\n",
              "      <td>289750.0</td>\n",
              "      <td>6380863.0</td>\n",
              "      <td>6569.0</td>\n",
              "      <td>19865.0</td>\n",
              "      <td>1505</td>\n",
              "    </tr>\n",
              "    <tr>\n",
              "      <th>1</th>\n",
              "      <td>APPLE</td>\n",
              "      <td>IPHONE 12 PRO MAX</td>\n",
              "      <td>29000000</td>\n",
              "      <td>MKBHD</td>\n",
              "      <td>170900.0</td>\n",
              "      <td>5512865.0</td>\n",
              "      <td>3293.0</td>\n",
              "      <td>12763.0</td>\n",
              "      <td>609</td>\n",
              "    </tr>\n",
              "    <tr>\n",
              "      <th>2</th>\n",
              "      <td>APPLE</td>\n",
              "      <td>IPHONE 12 PRO MAX</td>\n",
              "      <td>29000000</td>\n",
              "      <td>MKBHD</td>\n",
              "      <td>230897.0</td>\n",
              "      <td>6736834.0</td>\n",
              "      <td>6498.0</td>\n",
              "      <td>27074.0</td>\n",
              "      <td>1105</td>\n",
              "    </tr>\n",
              "    <tr>\n",
              "      <th>3</th>\n",
              "      <td>APPLE</td>\n",
              "      <td>IPHONE 12 PRO MAX</td>\n",
              "      <td>29000000</td>\n",
              "      <td>MRWHOSETHEBOSS</td>\n",
              "      <td>226495.0</td>\n",
              "      <td>3954624.0</td>\n",
              "      <td>6898.0</td>\n",
              "      <td>23637.0</td>\n",
              "      <td>968</td>\n",
              "    </tr>\n",
              "    <tr>\n",
              "      <th>4</th>\n",
              "      <td>APPLE</td>\n",
              "      <td>IPHONE 12 PRO MAX</td>\n",
              "      <td>29000000</td>\n",
              "      <td>MRWHOSETHEBOSS</td>\n",
              "      <td>155226.0</td>\n",
              "      <td>4382765.0</td>\n",
              "      <td>2691.0</td>\n",
              "      <td>13550.0</td>\n",
              "      <td>593</td>\n",
              "    </tr>\n",
              "  </tbody>\n",
              "</table>\n",
              "</div>"
            ],
            "text/plain": [
              "  company_name_x             device  ...  commens_count video_duration\n",
              "0          APPLE  IPHONE 12 PRO MAX  ...        19865.0           1505\n",
              "1          APPLE  IPHONE 12 PRO MAX  ...        12763.0            609\n",
              "2          APPLE  IPHONE 12 PRO MAX  ...        27074.0           1105\n",
              "3          APPLE  IPHONE 12 PRO MAX  ...        23637.0            968\n",
              "4          APPLE  IPHONE 12 PRO MAX  ...        13550.0            593\n",
              "\n",
              "[5 rows x 9 columns]"
            ]
          },
          "metadata": {},
          "execution_count": 61
        }
      ]
    },
    {
      "cell_type": "code",
      "metadata": {
        "colab": {
          "base_uri": "https://localhost:8080/"
        },
        "id": "pGy7zsynoVof",
        "outputId": "b74845cc-d6cc-442b-8af1-2543db55bbc9"
      },
      "source": [
        "df.channel_name.unique()"
      ],
      "execution_count": 62,
      "outputs": [
        {
          "output_type": "execute_result",
          "data": {
            "text/plain": [
              "array(['MKBHD', 'MRWHOSETHEBOSS', 'UNBOX_THERAPY'], dtype=object)"
            ]
          },
          "metadata": {},
          "execution_count": 62
        }
      ]
    },
    {
      "cell_type": "markdown",
      "metadata": {
        "id": "eYpv6j6QiBrW"
      },
      "source": [
        "Let's see how many views each channel is likely to get more likes on its videos."
      ]
    },
    {
      "cell_type": "code",
      "metadata": {
        "colab": {
          "base_uri": "https://localhost:8080/",
          "height": 350
        },
        "id": "hRxXVE3toVof",
        "outputId": "3c217057-538d-4a7d-c819-c97e3b5a1a26"
      },
      "source": [
        "plt.figure(figsize=(10,5))\n",
        "plt.hist(df[df['channel_name'] == 'UNBOX_THERAPY'].likes_number, bins = 20, density=True, alpha = 0.5)\n",
        "plt.hist(df[df['channel_name'] == 'MRWHOSETHEBOSS'].likes_number, bins = 20, density=True, alpha = 0.5)\n",
        "plt.hist(df[df['channel_name'] == 'MKBHD'].likes_number, bins = 20, density=True, alpha = 0.5)\n",
        "plt.legend(['MKBHD','UNBOX_THERAPY', 'MRWHOSETHEBOSS'],shadow = True, loc = 0);\n",
        "plt.xlabel('Likes')\n",
        "plt.title('likes Plot')\n",
        "plt.show();"
      ],
      "execution_count": 63,
      "outputs": [
        {
          "output_type": "display_data",
          "data": {
            "image/png": "[encoded data removed]",
            "text/plain": [
              "<Figure size 720x360 with 1 Axes>"
            ]
          },
          "metadata": {
            "needs_background": "light"
          }
        }
      ]
    },
    {
      "cell_type": "markdown",
      "metadata": {
        "id": "-ie-LAYYiUeY"
      },
      "source": [
        "Let's see what channel has the most views on its videos."
      ]
    },
    {
      "cell_type": "code",
      "metadata": {
        "colab": {
          "base_uri": "https://localhost:8080/",
          "height": 351
        },
        "id": "BdqPU6szoVog",
        "outputId": "62d581fc-391a-487a-eb7f-6dd315ad4fc6"
      },
      "source": [
        "plt.figure(figsize=(10,5))\n",
        "plt.bar(df.channel_name.unique(),df.groupby('channel_name').views_count.sum())\n",
        "plt.title('Channels Most Viewed Videos')\n",
        "plt.xlabel('Channels')\n",
        "plt.ylabel('Views')\n",
        "plt.show();"
      ],
      "execution_count": 64,
      "outputs": [
        {
          "output_type": "display_data",
          "data": {
            "image/png": "[encoded data removed]",
            "text/plain": [
              "<Figure size 720x360 with 1 Axes>"
            ]
          },
          "metadata": {
            "needs_background": "light"
          }
        }
      ]
    },
    {
      "cell_type": "markdown",
      "metadata": {
        "id": "TzkPft2hjOcY"
      },
      "source": [
        "Let's now see what device has the most views on these channels."
      ]
    },
    {
      "cell_type": "code",
      "metadata": {
        "id": "_2O180gAoVog"
      },
      "source": [
        "views_units_df = pd.DataFrame([df.groupby(['device']).views_count.max(),df.groupby(['device']).units.max()]).T"
      ],
      "execution_count": 65,
      "outputs": []
    },
    {
      "cell_type": "code",
      "metadata": {
        "colab": {
          "base_uri": "https://localhost:8080/",
          "height": 456
        },
        "id": "CA5DkgpaoVog",
        "outputId": "d0c492f1-7f5a-4feb-e92c-7891f6466e82"
      },
      "source": [
        "X_axis = np.arange(len(views_units_df.index))\n",
        "plt.figure(figsize=[10,6])\n",
        "plt.bar(X_axis - 0.2, views_units_df.views_count, 0.4, label = 'Views Count')\n",
        "plt.bar(X_axis + 0.2, views_units_df.units, 0.4, label = 'Units')\n",
        "plt.xticks(X_axis, views_units_df.index, rotation=90, fontsize=6)\n",
        "plt.xlabel('Devices')\n",
        "plt.ylabel('Units Sold')\n",
        "plt.title(\"Views and Number of Devices Sold\")\n",
        "plt.legend()\n",
        "plt.show()"
      ],
      "execution_count": 66,
      "outputs": [
        {
          "output_type": "display_data",
          "data": {
            "image/png": "[encoded data removed]",
            "text/plain": [
              "<Figure size 720x432 with 1 Axes>"
            ]
          },
          "metadata": {
            "needs_background": "light"
          }
        }
      ]
    },
    {
      "cell_type": "code",
      "metadata": {
        "id": "ydaNVLVLoVoh"
      },
      "source": [
        "# Let's now see the relation between columns"
      ],
      "execution_count": null,
      "outputs": []
    },
    {
      "cell_type": "code",
      "metadata": {
        "id": "LwS5KciWoVoh",
        "colab": {
          "base_uri": "https://localhost:8080/",
          "height": 441
        },
        "outputId": "ddbb8041-cd00-4aaf-a95b-e85911669d84"
      },
      "source": [
        "sns.jointplot(x=\"units\", y=\"views_count\", kind=\"reg\", data=views_units_df);"
      ],
      "execution_count": 67,
      "outputs": [
        {
          "output_type": "display_data",
          "data": {
            "image/png": "[encoded data removed]",
            "text/plain": [
              "<Figure size 432x432 with 3 Axes>"
            ]
          },
          "metadata": {
            "needs_background": "light"
          }
        }
      ]
    },
    {
      "cell_type": "code",
      "metadata": {
        "id": "wCaDbdHAoVoh",
        "colab": {
          "base_uri": "https://localhost:8080/",
          "height": 441
        },
        "outputId": "b19504ca-35bb-483d-96c9-0aef170c6ca1"
      },
      "source": [
        "sns.jointplot(x=\"units\", y=\"views_count\", kind=\"reg\", data=views_units_df.drop(['IPHONE 6', 'IPHONE 6 PLUS']));"
      ],
      "execution_count": 68,
      "outputs": [
        {
          "output_type": "display_data",
          "data": {
            "image/png": "[encoded data removed]",
            "text/plain": [
              "<Figure size 432x432 with 3 Axes>"
            ]
          },
          "metadata": {
            "needs_background": "light"
          }
        }
      ]
    },
    {
      "cell_type": "code",
      "metadata": {
        "colab": {
          "base_uri": "https://localhost:8080/",
          "height": 341
        },
        "id": "C3Cqk-gZoVoi",
        "outputId": "16cb9d8b-a6f7-44f7-8bdb-b01c20bfc04e"
      },
      "source": [
        "sns.heatmap(df.corr(), cmap=\"seismic\", annot=True, vmin=-1, vmax=1);"
      ],
      "execution_count": 69,
      "outputs": [
        {
          "output_type": "display_data",
          "data": {
            "image/png": "[encoded data removed]",
            "text/plain": [
              "<Figure size 432x288 with 2 Axes>"
            ]
          },
          "metadata": {
            "needs_background": "light"
          }
        }
      ]
    },
    {
      "cell_type": "code",
      "metadata": {
        "colab": {
          "base_uri": "https://localhost:8080/",
          "height": 529
        },
        "id": "LxaTIHU3oVoi",
        "outputId": "4ed12ecd-f89a-4bdf-f639-d6b47007dd46"
      },
      "source": [
        "# Plot all of the variable-to-variable relations as scatterplots of original data\n",
        "sns.pairplot(df, height=1.2, aspect=1.5);"
      ],
      "execution_count": 70,
      "outputs": [
        {
          "output_type": "display_data",
          "data": {
            "image/png": "[encoded data removed]",
            "text/plain": [
              "<Figure size 777.6x518.4 with 42 Axes>"
            ]
          },
          "metadata": {
            "needs_background": "light"
          }
        }
      ]
    },
    {
      "cell_type": "code",
      "metadata": {
        "colab": {
          "base_uri": "https://localhost:8080/",
          "height": 529
        },
        "id": "x-WNvy3Vqfjs",
        "outputId": "02d7e095-8b68-47db-b440-4f4867f7cd8b"
      },
      "source": [
        "# Plot all of the variable-to-variable relations as scatterplots of filtered data\n",
        "sns.pairplot(df[(df.commens_count<1e6)&(df.views_count<5e7)&(df.video_duration<2100)], height=1.2, aspect=1.5);"
      ],
      "execution_count": null,
      "outputs": [
        {
          "output_type": "display_data",
          "data": {
            "image/png": "[encoded data removed]",
            "text/plain": [
              "<Figure size 777.6x518.4 with 42 Axes>"
            ]
          },
          "metadata": {
            "needs_background": "light"
          }
        }
      ]
    },
    {
      "cell_type": "code",
      "metadata": {
        "id": "gt1tp4sSzmAB"
      },
      "source": [
        "# Lets clean our dataframe\n",
        "df = df[(df.commens_count<1e6)&(df.views_count<5e7)&(df.video_duration<2100)].reset_index(drop=True).copy()"
      ],
      "execution_count": 75,
      "outputs": []
    },
    {
      "cell_type": "code",
      "metadata": {
        "colab": {
          "base_uri": "https://localhost:8080/",
          "height": 80
        },
        "id": "fTHvIR4Xp6rd",
        "outputId": "2a3b402b-5eb7-4596-f946-2a07852e0734"
      },
      "source": [
        "df.head(1)"
      ],
      "execution_count": 77,
      "outputs": [
        {
          "output_type": "execute_result",
          "data": {
            "text/html": [
              "<div>\n",
              "<style scoped>\n",
              "    .dataframe tbody tr th:only-of-type {\n",
              "        vertical-align: middle;\n",
              "    }\n",
              "\n",
              "    .dataframe tbody tr th {\n",
              "        vertical-align: top;\n",
              "    }\n",
              "\n",
              "    .dataframe thead th {\n",
              "        text-align: right;\n",
              "    }\n",
              "</style>\n",
              "<table border=\"1\" class=\"dataframe\">\n",
              "  <thead>\n",
              "    <tr style=\"text-align: right;\">\n",
              "      <th></th>\n",
              "      <th>company_name_x</th>\n",
              "      <th>device</th>\n",
              "      <th>units</th>\n",
              "      <th>channel_name</th>\n",
              "      <th>likes_number</th>\n",
              "      <th>views_count</th>\n",
              "      <th>dislikes_number</th>\n",
              "      <th>commens_count</th>\n",
              "      <th>video_duration</th>\n",
              "    </tr>\n",
              "  </thead>\n",
              "  <tbody>\n",
              "    <tr>\n",
              "      <th>0</th>\n",
              "      <td>APPLE</td>\n",
              "      <td>IPHONE 12 PRO MAX</td>\n",
              "      <td>29000000</td>\n",
              "      <td>MKBHD</td>\n",
              "      <td>289750.0</td>\n",
              "      <td>6380863.0</td>\n",
              "      <td>6569.0</td>\n",
              "      <td>19865.0</td>\n",
              "      <td>1505</td>\n",
              "    </tr>\n",
              "  </tbody>\n",
              "</table>\n",
              "</div>"
            ],
            "text/plain": [
              "  company_name_x             device  ...  commens_count video_duration\n",
              "0          APPLE  IPHONE 12 PRO MAX  ...        19865.0           1505\n",
              "\n",
              "[1 rows x 9 columns]"
            ]
          },
          "metadata": {},
          "execution_count": 77
        }
      ]
    },
    {
      "cell_type": "markdown",
      "metadata": {
        "id": "4kHvEDJyoVoi"
      },
      "source": [
        "## Linear Regression Experiments"
      ]
    },
    {
      "cell_type": "markdown",
      "metadata": {
        "id": "c7fj-55ioVoj"
      },
      "source": [
        "Now we'll convert categorical data to binary codes. After that, we will assign a new variable X containing features and y that contains the target (units sold). Finally, we'll split the data into train_val (training and validation) and testing datasets."
      ]
    },
    {
      "cell_type": "code",
      "metadata": {
        "id": "Uc_fatVqoVoj"
      },
      "source": [
        "df_ = pd.get_dummies(df, drop_first=True)"
      ],
      "execution_count": 78,
      "outputs": []
    },
    {
      "cell_type": "code",
      "metadata": {
        "id": "u5PpSjHfoVoj"
      },
      "source": [
        "X = df_.drop(columns='units')\n",
        "y = df_['units']"
      ],
      "execution_count": 79,
      "outputs": []
    },
    {
      "cell_type": "code",
      "metadata": {
        "id": "OMmVqy-7oVoj"
      },
      "source": [
        "X_sc = StandardScaler().fit_transform(X)\n",
        "X_train_val, X_test, y_train_val, y_test = train_test_split(X, y, test_size=0.2)"
      ],
      "execution_count": 80,
      "outputs": []
    },
    {
      "cell_type": "markdown",
      "metadata": {
        "id": "5G4Sg5d1oVoj"
      },
      "source": [
        "### LinearRegression()"
      ]
    },
    {
      "cell_type": "code",
      "metadata": {
        "colab": {
          "base_uri": "https://localhost:8080/"
        },
        "id": "cQwPjB3CoVok",
        "outputId": "304dbdc8-519e-4129-eb48-24f20a6ea36d"
      },
      "source": [
        "kf = KFold(10, shuffle = True)\n",
        "\n",
        "mae = []\n",
        "mse = []\n",
        "r2 = []\n",
        "adj_r2 = []\n",
        "\n",
        "for train_ind, val_ind in kf.split(X_train_val):\n",
        "    X_train, X_val = X.iloc[train_ind], X.iloc[val_ind]\n",
        "    y_train, y_val = y.iloc[train_ind], y.iloc[val_ind]\n",
        "\n",
        "    model = LinearRegression()\n",
        "    model.fit(X_train, y_train)\n",
        "    y_pred = model.predict(X_val)\n",
        "    \n",
        "    mae_ = mean_absolute_error(y_pred, y_val)\n",
        "    mse_ = mean_squared_error(y_pred, y_val)\n",
        "    r2_ = model.score(X_val, y_val)\n",
        "    adj_r2_ = 1 - (1-r2_)*(len(y_val)-1)/(len(y_val)-X_val.shape[1]-1)\n",
        "    \n",
        "    mae.append(mae_)\n",
        "    mse.append(mse_)\n",
        "    r2.append(r2_)\n",
        "    adj_r2.append(adj_r2_)\n",
        "    \n",
        "LR_model_scores = {'Mean Squared Error': np.mean(mse),\n",
        "                   'Mean Absolute Error': np.mean(mae),\n",
        "                   'r2': np.mean(r2),\n",
        "                   'adj r2': np.mean(adj_r2)}\n",
        "\n",
        "print(LR_model_scores)"
      ],
      "execution_count": 81,
      "outputs": [
        {
          "output_type": "stream",
          "name": "stdout",
          "text": [
            "{'Mean Squared Error': 1408566716922.7725, 'Mean Absolute Error': 34267.50662369481, 'r2': 0.999493895574348, 'adj r2': 0.9993433047427617}\n"
          ]
        }
      ]
    },
    {
      "cell_type": "markdown",
      "metadata": {
        "id": "hHhI6iERoVok"
      },
      "source": [
        "### Lasso()"
      ]
    },
    {
      "cell_type": "code",
      "metadata": {
        "colab": {
          "base_uri": "https://localhost:8080/"
        },
        "id": "IdkD8TAGoVok",
        "outputId": "ce28650f-3dbd-4b87-b045-936ff3e42de8"
      },
      "source": [
        "kf = KFold(10, shuffle = True)\n",
        "params = {'alpha': np.linspace(0.0001,10,100)}\n",
        "Lasso_model = GridSearchCV(Lasso(), param_grid=params, cv = kf, verbose=1)\n",
        "Lasso_model.fit(X_train_val, y_train_val)\n",
        "model_best = Lasso_model.best_estimator_\n",
        "model_best.fit(X_train_val, y_train_val)\n",
        "\n",
        "print(model_best)\n",
        "print(model_best.coef_)\n",
        "Lasso_model_scores = {'Mean Squared Error': mean_squared_error(model_best.predict(X_test), y_test),\n",
        "                      'Mean Absolute Error': mean_absolute_error(model_best.predict(X_test), y_test),\n",
        "                      'r2': model_best.score(X_train_val, y_train_val),\n",
        "                      'adj r2': 1 - (1-model_best.score(X_train_val, y_train_val))*(len(y_train_val)-1)/(len(y_train_val)-X_train_val.shape[1]-1)}\n",
        "\n",
        "print(Lasso_model_scores)"
      ],
      "execution_count": 82,
      "outputs": [
        {
          "output_type": "stream",
          "name": "stdout",
          "text": [
            "Fitting 10 folds for each of 100 candidates, totalling 1000 fits\n"
          ]
        },
        {
          "output_type": "stream",
          "name": "stderr",
          "text": [
            "[Parallel(n_jobs=1)]: Using backend SequentialBackend with 1 concurrent workers.\n"
          ]
        },
        {
          "output_type": "stream",
          "name": "stdout",
          "text": [
            "Lasso(alpha=0.5051454545454546, copy_X=True, fit_intercept=True, max_iter=1000,\n",
            "      normalize=False, positive=False, precompute=False, random_state=None,\n",
            "      selection='cyclic', tol=0.0001, warm_start=False)\n",
            "[ 6.31222178e-03 -6.33283841e-05 -1.04074904e-02  6.64686525e-04\n",
            "  4.34875089e-01 -6.50034560e+07 -4.88238977e+07 -6.93061804e+07\n",
            " -4.88238773e+07  0.00000000e+00 -3.34168055e+07 -6.04588861e+07\n",
            "  6.78996996e+06 -2.90988909e+07 -3.45990039e+07 -2.09989571e+06\n",
            " -2.09964272e+06 -1.11000932e+07 -1.10999908e+07 -2.55998530e+07\n",
            "  5.90030476e+06  5.90013426e+06  1.59001904e+07  1.59001317e+07\n",
            "  1.90004107e+06  1.89989104e+06 -3.69994344e+06 -3.70004089e+06\n",
            "  2.95831515e+07 -2.50168357e+07 -2.50168803e+07  2.74830829e+07\n",
            "  2.74824265e+07 -4.35170042e+07 -3.75151001e+07 -2.25164346e+07\n",
            " -1.25164323e+07 -2.51639151e+06 -2.05163242e+07  1.49483517e+08\n",
            "  1.49483382e+08 -5.95166165e+07 -5.95165555e+07  5.78347638e+06\n",
            "  5.78338601e+06  1.37834328e+07  1.37833423e+07 -9.51653641e+06\n",
            "  4.88333331e+06 -2.45166380e+07 -2.45166151e+07 -6.69159806e+06\n",
            " -6.69176260e+06 -6.69205930e+06 -6.69207902e+06 -1.16919719e+07\n",
            " -1.16918576e+07  0.00000000e+00  0.00000000e+00  8.30727621e+06\n",
            "  8.30567543e+06 -3.69221163e+06 -3.69223821e+06 -5.41301077e+06\n",
            " -5.41223374e+06 -5.25574725e+06  7.94115702e+06  7.94074597e+06\n",
            "  9.22381974e+02  1.38429506e+03]\n",
            "{'Mean Squared Error': 5176837826738.885, 'Mean Absolute Error': 92084.92990789813, 'r2': 0.9999999870445351, 'adj r2': 0.9999999867415339}\n"
          ]
        },
        {
          "output_type": "stream",
          "name": "stderr",
          "text": [
            "[Parallel(n_jobs=1)]: Done 1000 out of 1000 | elapsed:   47.9s finished\n"
          ]
        }
      ]
    },
    {
      "cell_type": "markdown",
      "metadata": {
        "id": "v5h0cpgOnR6k"
      },
      "source": [
        "### Ridge()"
      ]
    },
    {
      "cell_type": "code",
      "metadata": {
        "colab": {
          "base_uri": "https://localhost:8080/"
        },
        "id": "Dbk76NRf5OdD",
        "outputId": "18adf93b-9c94-4987-d9f2-1336d9b931e8"
      },
      "source": [
        "kf = KFold(10, shuffle = True)\n",
        "params = {'alpha': np.linspace(0.0001,10,100)}\n",
        "Ridge_model = GridSearchCV(Ridge(), param_grid=params, cv = kf, verbose=1)\n",
        "Ridge_model.fit(X_train_val, y_train_val)\n",
        "model_best = Ridge_model.best_estimator_\n",
        "model_best.fit(X_train_val, y_train_val)\n",
        "\n",
        "print(model_best)\n",
        "print(model_best.coef_)\n",
        "Ridge_model_scores = {'Mean Squared Error': mean_squared_error(model_best.predict(X_test), y_test),\n",
        "                      'Mean Absolute Error': mean_absolute_error(model_best.predict(X_test), y_test),\n",
        "                      'r2': model_best.score(X_train_val, y_train_val),\n",
        "                      'adj r2': 1 - (1-model_best.score(X_train_val, y_train_val))*(len(y_train_val)-1)/(len(y_train_val)-X_train_val.shape[1]-1)}\n",
        "\n",
        "print(Ridge_model_scores)"
      ],
      "execution_count": 83,
      "outputs": [
        {
          "output_type": "stream",
          "name": "stderr",
          "text": [
            "[Parallel(n_jobs=1)]: Using backend SequentialBackend with 1 concurrent workers.\n",
            "/usr/local/lib/python3.7/dist-packages/sklearn/linear_model/_ridge.py:148: LinAlgWarning: Ill-conditioned matrix (rcond=4.93667e-21): result may not be accurate.\n",
            "  overwrite_a=True).T\n",
            "/usr/local/lib/python3.7/dist-packages/sklearn/linear_model/_ridge.py:148: LinAlgWarning: Ill-conditioned matrix (rcond=4.83678e-21): result may not be accurate.\n",
            "  overwrite_a=True).T\n",
            "/usr/local/lib/python3.7/dist-packages/sklearn/linear_model/_ridge.py:148: LinAlgWarning: Ill-conditioned matrix (rcond=5.04392e-21): result may not be accurate.\n",
            "  overwrite_a=True).T\n",
            "/usr/local/lib/python3.7/dist-packages/sklearn/linear_model/_ridge.py:148: LinAlgWarning: Ill-conditioned matrix (rcond=4.9312e-21): result may not be accurate.\n",
            "  overwrite_a=True).T\n",
            "/usr/local/lib/python3.7/dist-packages/sklearn/linear_model/_ridge.py:148: LinAlgWarning: Ill-conditioned matrix (rcond=4.95657e-21): result may not be accurate.\n",
            "  overwrite_a=True).T\n"
          ]
        },
        {
          "output_type": "stream",
          "name": "stdout",
          "text": [
            "Fitting 10 folds for each of 100 candidates, totalling 1000 fits\n"
          ]
        },
        {
          "output_type": "stream",
          "name": "stderr",
          "text": [
            "/usr/local/lib/python3.7/dist-packages/sklearn/linear_model/_ridge.py:148: LinAlgWarning: Ill-conditioned matrix (rcond=4.78548e-21): result may not be accurate.\n",
            "  overwrite_a=True).T\n",
            "/usr/local/lib/python3.7/dist-packages/sklearn/linear_model/_ridge.py:148: LinAlgWarning: Ill-conditioned matrix (rcond=4.93729e-21): result may not be accurate.\n",
            "  overwrite_a=True).T\n",
            "/usr/local/lib/python3.7/dist-packages/sklearn/linear_model/_ridge.py:148: LinAlgWarning: Ill-conditioned matrix (rcond=5.00501e-21): result may not be accurate.\n",
            "  overwrite_a=True).T\n",
            "/usr/local/lib/python3.7/dist-packages/sklearn/linear_model/_ridge.py:148: LinAlgWarning: Ill-conditioned matrix (rcond=4.89243e-21): result may not be accurate.\n",
            "  overwrite_a=True).T\n",
            "/usr/local/lib/python3.7/dist-packages/sklearn/linear_model/_ridge.py:148: LinAlgWarning: Ill-conditioned matrix (rcond=4.92261e-21): result may not be accurate.\n",
            "  overwrite_a=True).T\n",
            "/usr/local/lib/python3.7/dist-packages/sklearn/linear_model/_ridge.py:148: LinAlgWarning: Ill-conditioned matrix (rcond=4.98494e-18): result may not be accurate.\n",
            "  overwrite_a=True).T\n",
            "/usr/local/lib/python3.7/dist-packages/sklearn/linear_model/_ridge.py:148: LinAlgWarning: Ill-conditioned matrix (rcond=4.88309e-18): result may not be accurate.\n",
            "  overwrite_a=True).T\n",
            "/usr/local/lib/python3.7/dist-packages/sklearn/linear_model/_ridge.py:148: LinAlgWarning: Ill-conditioned matrix (rcond=5.09261e-18): result may not be accurate.\n",
            "  overwrite_a=True).T\n",
            "/usr/local/lib/python3.7/dist-packages/sklearn/linear_model/_ridge.py:148: LinAlgWarning: Ill-conditioned matrix (rcond=4.97935e-18): result may not be accurate.\n",
            "  overwrite_a=True).T\n",
            "/usr/local/lib/python3.7/dist-packages/sklearn/linear_model/_ridge.py:148: LinAlgWarning: Ill-conditioned matrix (rcond=4.99787e-18): result may not be accurate.\n",
            "  overwrite_a=True).T\n",
            "/usr/local/lib/python3.7/dist-packages/sklearn/linear_model/_ridge.py:148: LinAlgWarning: Ill-conditioned matrix (rcond=4.83191e-18): result may not be accurate.\n",
            "  overwrite_a=True).T\n",
            "/usr/local/lib/python3.7/dist-packages/sklearn/linear_model/_ridge.py:148: LinAlgWarning: Ill-conditioned matrix (rcond=4.9869e-18): result may not be accurate.\n",
            "  overwrite_a=True).T\n",
            "/usr/local/lib/python3.7/dist-packages/sklearn/linear_model/_ridge.py:148: LinAlgWarning: Ill-conditioned matrix (rcond=5.05387e-18): result may not be accurate.\n",
            "  overwrite_a=True).T\n",
            "/usr/local/lib/python3.7/dist-packages/sklearn/linear_model/_ridge.py:148: LinAlgWarning: Ill-conditioned matrix (rcond=4.93978e-18): result may not be accurate.\n",
            "  overwrite_a=True).T\n",
            "/usr/local/lib/python3.7/dist-packages/sklearn/linear_model/_ridge.py:148: LinAlgWarning: Ill-conditioned matrix (rcond=4.96389e-18): result may not be accurate.\n",
            "  overwrite_a=True).T\n",
            "/usr/local/lib/python3.7/dist-packages/sklearn/linear_model/_ridge.py:148: LinAlgWarning: Ill-conditioned matrix (rcond=9.95492e-18): result may not be accurate.\n",
            "  overwrite_a=True).T\n",
            "/usr/local/lib/python3.7/dist-packages/sklearn/linear_model/_ridge.py:148: LinAlgWarning: Ill-conditioned matrix (rcond=9.74974e-18): result may not be accurate.\n",
            "  overwrite_a=True).T\n",
            "/usr/local/lib/python3.7/dist-packages/sklearn/linear_model/_ridge.py:148: LinAlgWarning: Ill-conditioned matrix (rcond=1.01687e-17): result may not be accurate.\n",
            "  overwrite_a=True).T\n",
            "/usr/local/lib/python3.7/dist-packages/sklearn/linear_model/_ridge.py:148: LinAlgWarning: Ill-conditioned matrix (rcond=9.94357e-18): result may not be accurate.\n",
            "  overwrite_a=True).T\n",
            "/usr/local/lib/python3.7/dist-packages/sklearn/linear_model/_ridge.py:148: LinAlgWarning: Ill-conditioned matrix (rcond=9.97437e-18): result may not be accurate.\n",
            "  overwrite_a=True).T\n",
            "/usr/local/lib/python3.7/dist-packages/sklearn/linear_model/_ridge.py:148: LinAlgWarning: Ill-conditioned matrix (rcond=9.64865e-18): result may not be accurate.\n",
            "  overwrite_a=True).T\n",
            "/usr/local/lib/python3.7/dist-packages/sklearn/linear_model/_ridge.py:148: LinAlgWarning: Ill-conditioned matrix (rcond=9.96105e-18): result may not be accurate.\n",
            "  overwrite_a=True).T\n",
            "/usr/local/lib/python3.7/dist-packages/sklearn/linear_model/_ridge.py:148: LinAlgWarning: Ill-conditioned matrix (rcond=1.00923e-17): result may not be accurate.\n",
            "  overwrite_a=True).T\n",
            "/usr/local/lib/python3.7/dist-packages/sklearn/linear_model/_ridge.py:148: LinAlgWarning: Ill-conditioned matrix (rcond=9.86383e-18): result may not be accurate.\n",
            "  overwrite_a=True).T\n",
            "/usr/local/lib/python3.7/dist-packages/sklearn/linear_model/_ridge.py:148: LinAlgWarning: Ill-conditioned matrix (rcond=9.90584e-18): result may not be accurate.\n",
            "  overwrite_a=True).T\n",
            "/usr/local/lib/python3.7/dist-packages/sklearn/linear_model/_ridge.py:148: LinAlgWarning: Ill-conditioned matrix (rcond=1.49182e-17): result may not be accurate.\n",
            "  overwrite_a=True).T\n",
            "/usr/local/lib/python3.7/dist-packages/sklearn/linear_model/_ridge.py:148: LinAlgWarning: Ill-conditioned matrix (rcond=1.46125e-17): result may not be accurate.\n",
            "  overwrite_a=True).T\n",
            "/usr/local/lib/python3.7/dist-packages/sklearn/linear_model/_ridge.py:148: LinAlgWarning: Ill-conditioned matrix (rcond=1.52369e-17): result may not be accurate.\n",
            "  overwrite_a=True).T\n",
            "/usr/local/lib/python3.7/dist-packages/sklearn/linear_model/_ridge.py:148: LinAlgWarning: Ill-conditioned matrix (rcond=1.49008e-17): result may not be accurate.\n",
            "  overwrite_a=True).T\n",
            "/usr/local/lib/python3.7/dist-packages/sklearn/linear_model/_ridge.py:148: LinAlgWarning: Ill-conditioned matrix (rcond=1.49409e-17): result may not be accurate.\n",
            "  overwrite_a=True).T\n",
            "/usr/local/lib/python3.7/dist-packages/sklearn/linear_model/_ridge.py:148: LinAlgWarning: Ill-conditioned matrix (rcond=1.44583e-17): result may not be accurate.\n",
            "  overwrite_a=True).T\n",
            "/usr/local/lib/python3.7/dist-packages/sklearn/linear_model/_ridge.py:148: LinAlgWarning: Ill-conditioned matrix (rcond=1.49302e-17): result may not be accurate.\n",
            "  overwrite_a=True).T\n",
            "/usr/local/lib/python3.7/dist-packages/sklearn/linear_model/_ridge.py:148: LinAlgWarning: Ill-conditioned matrix (rcond=1.51237e-17): result may not be accurate.\n",
            "  overwrite_a=True).T\n",
            "/usr/local/lib/python3.7/dist-packages/sklearn/linear_model/_ridge.py:148: LinAlgWarning: Ill-conditioned matrix (rcond=1.47804e-17): result may not be accurate.\n",
            "  overwrite_a=True).T\n",
            "/usr/local/lib/python3.7/dist-packages/sklearn/linear_model/_ridge.py:148: LinAlgWarning: Ill-conditioned matrix (rcond=1.48381e-17): result may not be accurate.\n",
            "  overwrite_a=True).T\n",
            "/usr/local/lib/python3.7/dist-packages/sklearn/linear_model/_ridge.py:148: LinAlgWarning: Ill-conditioned matrix (rcond=1.98769e-17): result may not be accurate.\n",
            "  overwrite_a=True).T\n",
            "/usr/local/lib/python3.7/dist-packages/sklearn/linear_model/_ridge.py:148: LinAlgWarning: Ill-conditioned matrix (rcond=1.94684e-17): result may not be accurate.\n",
            "  overwrite_a=True).T\n",
            "/usr/local/lib/python3.7/dist-packages/sklearn/linear_model/_ridge.py:148: LinAlgWarning: Ill-conditioned matrix (rcond=2.02996e-17): result may not be accurate.\n",
            "  overwrite_a=True).T\n",
            "/usr/local/lib/python3.7/dist-packages/sklearn/linear_model/_ridge.py:148: LinAlgWarning: Ill-conditioned matrix (rcond=1.98533e-17): result may not be accurate.\n",
            "  overwrite_a=True).T\n",
            "/usr/local/lib/python3.7/dist-packages/sklearn/linear_model/_ridge.py:148: LinAlgWarning: Ill-conditioned matrix (rcond=1.99023e-17): result may not be accurate.\n",
            "  overwrite_a=True).T\n",
            "/usr/local/lib/python3.7/dist-packages/sklearn/linear_model/_ridge.py:148: LinAlgWarning: Ill-conditioned matrix (rcond=1.9263e-17): result may not be accurate.\n",
            "  overwrite_a=True).T\n",
            "/usr/local/lib/python3.7/dist-packages/sklearn/linear_model/_ridge.py:148: LinAlgWarning: Ill-conditioned matrix (rcond=1.98961e-17): result may not be accurate.\n",
            "  overwrite_a=True).T\n",
            "/usr/local/lib/python3.7/dist-packages/sklearn/linear_model/_ridge.py:148: LinAlgWarning: Ill-conditioned matrix (rcond=2.01502e-17): result may not be accurate.\n",
            "  overwrite_a=True).T\n",
            "/usr/local/lib/python3.7/dist-packages/sklearn/linear_model/_ridge.py:148: LinAlgWarning: Ill-conditioned matrix (rcond=1.96919e-17): result may not be accurate.\n",
            "  overwrite_a=True).T\n",
            "/usr/local/lib/python3.7/dist-packages/sklearn/linear_model/_ridge.py:148: LinAlgWarning: Ill-conditioned matrix (rcond=1.97653e-17): result may not be accurate.\n",
            "  overwrite_a=True).T\n",
            "/usr/local/lib/python3.7/dist-packages/sklearn/linear_model/_ridge.py:148: LinAlgWarning: Ill-conditioned matrix (rcond=2.48329e-17): result may not be accurate.\n",
            "  overwrite_a=True).T\n",
            "/usr/local/lib/python3.7/dist-packages/sklearn/linear_model/_ridge.py:148: LinAlgWarning: Ill-conditioned matrix (rcond=2.4321e-17): result may not be accurate.\n",
            "  overwrite_a=True).T\n",
            "/usr/local/lib/python3.7/dist-packages/sklearn/linear_model/_ridge.py:148: LinAlgWarning: Ill-conditioned matrix (rcond=2.53585e-17): result may not be accurate.\n",
            "  overwrite_a=True).T\n",
            "/usr/local/lib/python3.7/dist-packages/sklearn/linear_model/_ridge.py:148: LinAlgWarning: Ill-conditioned matrix (rcond=2.48026e-17): result may not be accurate.\n",
            "  overwrite_a=True).T\n",
            "/usr/local/lib/python3.7/dist-packages/sklearn/linear_model/_ridge.py:148: LinAlgWarning: Ill-conditioned matrix (rcond=2.48613e-17): result may not be accurate.\n",
            "  overwrite_a=True).T\n",
            "/usr/local/lib/python3.7/dist-packages/sklearn/linear_model/_ridge.py:148: LinAlgWarning: Ill-conditioned matrix (rcond=2.40645e-17): result may not be accurate.\n",
            "  overwrite_a=True).T\n",
            "/usr/local/lib/python3.7/dist-packages/sklearn/linear_model/_ridge.py:148: LinAlgWarning: Ill-conditioned matrix (rcond=2.48602e-17): result may not be accurate.\n",
            "  overwrite_a=True).T\n",
            "/usr/local/lib/python3.7/dist-packages/sklearn/linear_model/_ridge.py:148: LinAlgWarning: Ill-conditioned matrix (rcond=2.51735e-17): result may not be accurate.\n",
            "  overwrite_a=True).T\n",
            "/usr/local/lib/python3.7/dist-packages/sklearn/linear_model/_ridge.py:148: LinAlgWarning: Ill-conditioned matrix (rcond=2.45998e-17): result may not be accurate.\n",
            "  overwrite_a=True).T\n",
            "/usr/local/lib/python3.7/dist-packages/sklearn/linear_model/_ridge.py:148: LinAlgWarning: Ill-conditioned matrix (rcond=2.469e-17): result may not be accurate.\n",
            "  overwrite_a=True).T\n",
            "/usr/local/lib/python3.7/dist-packages/sklearn/linear_model/_ridge.py:148: LinAlgWarning: Ill-conditioned matrix (rcond=2.97872e-17): result may not be accurate.\n",
            "  overwrite_a=True).T\n",
            "/usr/local/lib/python3.7/dist-packages/sklearn/linear_model/_ridge.py:148: LinAlgWarning: Ill-conditioned matrix (rcond=2.91715e-17): result may not be accurate.\n",
            "  overwrite_a=True).T\n",
            "/usr/local/lib/python3.7/dist-packages/sklearn/linear_model/_ridge.py:148: LinAlgWarning: Ill-conditioned matrix (rcond=3.04147e-17): result may not be accurate.\n",
            "  overwrite_a=True).T\n",
            "/usr/local/lib/python3.7/dist-packages/sklearn/linear_model/_ridge.py:148: LinAlgWarning: Ill-conditioned matrix (rcond=2.97497e-17): result may not be accurate.\n",
            "  overwrite_a=True).T\n",
            "/usr/local/lib/python3.7/dist-packages/sklearn/linear_model/_ridge.py:148: LinAlgWarning: Ill-conditioned matrix (rcond=2.98194e-17): result may not be accurate.\n",
            "  overwrite_a=True).T\n",
            "/usr/local/lib/python3.7/dist-packages/sklearn/linear_model/_ridge.py:148: LinAlgWarning: Ill-conditioned matrix (rcond=2.88638e-17): result may not be accurate.\n",
            "  overwrite_a=True).T\n",
            "/usr/local/lib/python3.7/dist-packages/sklearn/linear_model/_ridge.py:148: LinAlgWarning: Ill-conditioned matrix (rcond=2.98235e-17): result may not be accurate.\n",
            "  overwrite_a=True).T\n",
            "/usr/local/lib/python3.7/dist-packages/sklearn/linear_model/_ridge.py:148: LinAlgWarning: Ill-conditioned matrix (rcond=3.01945e-17): result may not be accurate.\n",
            "  overwrite_a=True).T\n",
            "/usr/local/lib/python3.7/dist-packages/sklearn/linear_model/_ridge.py:148: LinAlgWarning: Ill-conditioned matrix (rcond=2.95055e-17): result may not be accurate.\n",
            "  overwrite_a=True).T\n",
            "/usr/local/lib/python3.7/dist-packages/sklearn/linear_model/_ridge.py:148: LinAlgWarning: Ill-conditioned matrix (rcond=2.96139e-17): result may not be accurate.\n",
            "  overwrite_a=True).T\n",
            "/usr/local/lib/python3.7/dist-packages/sklearn/linear_model/_ridge.py:148: LinAlgWarning: Ill-conditioned matrix (rcond=3.47406e-17): result may not be accurate.\n",
            "  overwrite_a=True).T\n",
            "/usr/local/lib/python3.7/dist-packages/sklearn/linear_model/_ridge.py:148: LinAlgWarning: Ill-conditioned matrix (rcond=3.40209e-17): result may not be accurate.\n",
            "  overwrite_a=True).T\n",
            "/usr/local/lib/python3.7/dist-packages/sklearn/linear_model/_ridge.py:148: LinAlgWarning: Ill-conditioned matrix (rcond=3.54693e-17): result may not be accurate.\n",
            "  overwrite_a=True).T\n",
            "/usr/local/lib/python3.7/dist-packages/sklearn/linear_model/_ridge.py:148: LinAlgWarning: Ill-conditioned matrix (rcond=3.46956e-17): result may not be accurate.\n",
            "  overwrite_a=True).T\n",
            "/usr/local/lib/python3.7/dist-packages/sklearn/linear_model/_ridge.py:148: LinAlgWarning: Ill-conditioned matrix (rcond=3.47776e-17): result may not be accurate.\n",
            "  overwrite_a=True).T\n",
            "/usr/local/lib/python3.7/dist-packages/sklearn/linear_model/_ridge.py:148: LinAlgWarning: Ill-conditioned matrix (rcond=3.36619e-17): result may not be accurate.\n",
            "  overwrite_a=True).T\n",
            "/usr/local/lib/python3.7/dist-packages/sklearn/linear_model/_ridge.py:148: LinAlgWarning: Ill-conditioned matrix (rcond=3.47864e-17): result may not be accurate.\n",
            "  overwrite_a=True).T\n",
            "/usr/local/lib/python3.7/dist-packages/sklearn/linear_model/_ridge.py:148: LinAlgWarning: Ill-conditioned matrix (rcond=3.52142e-17): result may not be accurate.\n",
            "  overwrite_a=True).T\n",
            "/usr/local/lib/python3.7/dist-packages/sklearn/linear_model/_ridge.py:148: LinAlgWarning: Ill-conditioned matrix (rcond=3.44098e-17): result may not be accurate.\n",
            "  overwrite_a=True).T\n",
            "/usr/local/lib/python3.7/dist-packages/sklearn/linear_model/_ridge.py:148: LinAlgWarning: Ill-conditioned matrix (rcond=3.4538e-17): result may not be accurate.\n",
            "  overwrite_a=True).T\n",
            "/usr/local/lib/python3.7/dist-packages/sklearn/linear_model/_ridge.py:148: LinAlgWarning: Ill-conditioned matrix (rcond=3.96939e-17): result may not be accurate.\n",
            "  overwrite_a=True).T\n",
            "/usr/local/lib/python3.7/dist-packages/sklearn/linear_model/_ridge.py:148: LinAlgWarning: Ill-conditioned matrix (rcond=3.88698e-17): result may not be accurate.\n",
            "  overwrite_a=True).T\n",
            "/usr/local/lib/python3.7/dist-packages/sklearn/linear_model/_ridge.py:148: LinAlgWarning: Ill-conditioned matrix (rcond=4.05229e-17): result may not be accurate.\n",
            "  overwrite_a=True).T\n",
            "/usr/local/lib/python3.7/dist-packages/sklearn/linear_model/_ridge.py:148: LinAlgWarning: Ill-conditioned matrix (rcond=3.96406e-17): result may not be accurate.\n",
            "  overwrite_a=True).T\n",
            "/usr/local/lib/python3.7/dist-packages/sklearn/linear_model/_ridge.py:148: LinAlgWarning: Ill-conditioned matrix (rcond=3.97366e-17): result may not be accurate.\n",
            "  overwrite_a=True).T\n",
            "/usr/local/lib/python3.7/dist-packages/sklearn/linear_model/_ridge.py:148: LinAlgWarning: Ill-conditioned matrix (rcond=3.84592e-17): result may not be accurate.\n",
            "  overwrite_a=True).T\n",
            "/usr/local/lib/python3.7/dist-packages/sklearn/linear_model/_ridge.py:148: LinAlgWarning: Ill-conditioned matrix (rcond=3.97758e-17): result may not be accurate.\n",
            "  overwrite_a=True).T\n",
            "/usr/local/lib/python3.7/dist-packages/sklearn/linear_model/_ridge.py:148: LinAlgWarning: Ill-conditioned matrix (rcond=4.02332e-17): result may not be accurate.\n",
            "  overwrite_a=True).T\n",
            "/usr/local/lib/python3.7/dist-packages/sklearn/linear_model/_ridge.py:148: LinAlgWarning: Ill-conditioned matrix (rcond=3.93133e-17): result may not be accurate.\n",
            "  overwrite_a=True).T\n",
            "/usr/local/lib/python3.7/dist-packages/sklearn/linear_model/_ridge.py:148: LinAlgWarning: Ill-conditioned matrix (rcond=3.9463e-17): result may not be accurate.\n",
            "  overwrite_a=True).T\n",
            "/usr/local/lib/python3.7/dist-packages/sklearn/linear_model/_ridge.py:148: LinAlgWarning: Ill-conditioned matrix (rcond=4.46474e-17): result may not be accurate.\n",
            "  overwrite_a=True).T\n",
            "/usr/local/lib/python3.7/dist-packages/sklearn/linear_model/_ridge.py:148: LinAlgWarning: Ill-conditioned matrix (rcond=4.37186e-17): result may not be accurate.\n",
            "  overwrite_a=True).T\n",
            "/usr/local/lib/python3.7/dist-packages/sklearn/linear_model/_ridge.py:148: LinAlgWarning: Ill-conditioned matrix (rcond=4.55759e-17): result may not be accurate.\n",
            "  overwrite_a=True).T\n",
            "/usr/local/lib/python3.7/dist-packages/sklearn/linear_model/_ridge.py:148: LinAlgWarning: Ill-conditioned matrix (rcond=4.45853e-17): result may not be accurate.\n",
            "  overwrite_a=True).T\n",
            "/usr/local/lib/python3.7/dist-packages/sklearn/linear_model/_ridge.py:148: LinAlgWarning: Ill-conditioned matrix (rcond=4.46967e-17): result may not be accurate.\n",
            "  overwrite_a=True).T\n",
            "/usr/local/lib/python3.7/dist-packages/sklearn/linear_model/_ridge.py:148: LinAlgWarning: Ill-conditioned matrix (rcond=4.32564e-17): result may not be accurate.\n",
            "  overwrite_a=True).T\n",
            "/usr/local/lib/python3.7/dist-packages/sklearn/linear_model/_ridge.py:148: LinAlgWarning: Ill-conditioned matrix (rcond=4.4746e-17): result may not be accurate.\n",
            "  overwrite_a=True).T\n",
            "/usr/local/lib/python3.7/dist-packages/sklearn/linear_model/_ridge.py:148: LinAlgWarning: Ill-conditioned matrix (rcond=4.52517e-17): result may not be accurate.\n",
            "  overwrite_a=True).T\n",
            "/usr/local/lib/python3.7/dist-packages/sklearn/linear_model/_ridge.py:148: LinAlgWarning: Ill-conditioned matrix (rcond=4.42164e-17): result may not be accurate.\n",
            "  overwrite_a=True).T\n",
            "/usr/local/lib/python3.7/dist-packages/sklearn/linear_model/_ridge.py:148: LinAlgWarning: Ill-conditioned matrix (rcond=4.43893e-17): result may not be accurate.\n",
            "  overwrite_a=True).T\n",
            "/usr/local/lib/python3.7/dist-packages/sklearn/linear_model/_ridge.py:148: LinAlgWarning: Ill-conditioned matrix (rcond=4.96015e-17): result may not be accurate.\n",
            "  overwrite_a=True).T\n",
            "/usr/local/lib/python3.7/dist-packages/sklearn/linear_model/_ridge.py:148: LinAlgWarning: Ill-conditioned matrix (rcond=4.85678e-17): result may not be accurate.\n",
            "  overwrite_a=True).T\n",
            "/usr/local/lib/python3.7/dist-packages/sklearn/linear_model/_ridge.py:148: LinAlgWarning: Ill-conditioned matrix (rcond=5.06288e-17): result may not be accurate.\n",
            "  overwrite_a=True).T\n",
            "/usr/local/lib/python3.7/dist-packages/sklearn/linear_model/_ridge.py:148: LinAlgWarning: Ill-conditioned matrix (rcond=4.953e-17): result may not be accurate.\n",
            "  overwrite_a=True).T\n",
            "/usr/local/lib/python3.7/dist-packages/sklearn/linear_model/_ridge.py:148: LinAlgWarning: Ill-conditioned matrix (rcond=4.96582e-17): result may not be accurate.\n",
            "  overwrite_a=True).T\n",
            "/usr/local/lib/python3.7/dist-packages/sklearn/linear_model/_ridge.py:148: LinAlgWarning: Ill-conditioned matrix (rcond=4.80536e-17): result may not be accurate.\n",
            "  overwrite_a=True).T\n",
            "/usr/local/lib/python3.7/dist-packages/sklearn/linear_model/_ridge.py:148: LinAlgWarning: Ill-conditioned matrix (rcond=4.97176e-17): result may not be accurate.\n",
            "  overwrite_a=True).T\n",
            "/usr/local/lib/python3.7/dist-packages/sklearn/linear_model/_ridge.py:148: LinAlgWarning: Ill-conditioned matrix (rcond=5.02703e-17): result may not be accurate.\n",
            "  overwrite_a=True).T\n",
            "/usr/local/lib/python3.7/dist-packages/sklearn/linear_model/_ridge.py:148: LinAlgWarning: Ill-conditioned matrix (rcond=4.91197e-17): result may not be accurate.\n",
            "  overwrite_a=True).T\n",
            "/usr/local/lib/python3.7/dist-packages/sklearn/linear_model/_ridge.py:148: LinAlgWarning: Ill-conditioned matrix (rcond=4.93172e-17): result may not be accurate.\n",
            "  overwrite_a=True).T\n",
            "/usr/local/lib/python3.7/dist-packages/sklearn/linear_model/_ridge.py:148: LinAlgWarning: Ill-conditioned matrix (rcond=5.45565e-17): result may not be accurate.\n",
            "  overwrite_a=True).T\n",
            "/usr/local/lib/python3.7/dist-packages/sklearn/linear_model/_ridge.py:148: LinAlgWarning: Ill-conditioned matrix (rcond=5.34176e-17): result may not be accurate.\n",
            "  overwrite_a=True).T\n",
            "/usr/local/lib/python3.7/dist-packages/sklearn/linear_model/_ridge.py:148: LinAlgWarning: Ill-conditioned matrix (rcond=5.56818e-17): result may not be accurate.\n",
            "  overwrite_a=True).T\n",
            "/usr/local/lib/python3.7/dist-packages/sklearn/linear_model/_ridge.py:148: LinAlgWarning: Ill-conditioned matrix (rcond=5.44749e-17): result may not be accurate.\n",
            "  overwrite_a=True).T\n",
            "/usr/local/lib/python3.7/dist-packages/sklearn/linear_model/_ridge.py:148: LinAlgWarning: Ill-conditioned matrix (rcond=5.46212e-17): result may not be accurate.\n",
            "  overwrite_a=True).T\n",
            "/usr/local/lib/python3.7/dist-packages/sklearn/linear_model/_ridge.py:148: LinAlgWarning: Ill-conditioned matrix (rcond=5.28512e-17): result may not be accurate.\n",
            "  overwrite_a=True).T\n",
            "/usr/local/lib/python3.7/dist-packages/sklearn/linear_model/_ridge.py:148: LinAlgWarning: Ill-conditioned matrix (rcond=5.46908e-17): result may not be accurate.\n",
            "  overwrite_a=True).T\n",
            "/usr/local/lib/python3.7/dist-packages/sklearn/linear_model/_ridge.py:148: LinAlgWarning: Ill-conditioned matrix (rcond=5.5289e-17): result may not be accurate.\n",
            "  overwrite_a=True).T\n",
            "/usr/local/lib/python3.7/dist-packages/sklearn/linear_model/_ridge.py:148: LinAlgWarning: Ill-conditioned matrix (rcond=5.40232e-17): result may not be accurate.\n",
            "  overwrite_a=True).T\n",
            "/usr/local/lib/python3.7/dist-packages/sklearn/linear_model/_ridge.py:148: LinAlgWarning: Ill-conditioned matrix (rcond=5.42468e-17): result may not be accurate.\n",
            "  overwrite_a=True).T\n",
            "/usr/local/lib/python3.7/dist-packages/sklearn/linear_model/_ridge.py:148: LinAlgWarning: Ill-conditioned matrix (rcond=5.95125e-17): result may not be accurate.\n",
            "  overwrite_a=True).T\n",
            "/usr/local/lib/python3.7/dist-packages/sklearn/linear_model/_ridge.py:148: LinAlgWarning: Ill-conditioned matrix (rcond=5.82683e-17): result may not be accurate.\n",
            "  overwrite_a=True).T\n",
            "/usr/local/lib/python3.7/dist-packages/sklearn/linear_model/_ridge.py:148: LinAlgWarning: Ill-conditioned matrix (rcond=6.07351e-17): result may not be accurate.\n",
            "  overwrite_a=True).T\n",
            "/usr/local/lib/python3.7/dist-packages/sklearn/linear_model/_ridge.py:148: LinAlgWarning: Ill-conditioned matrix (rcond=5.942e-17): result may not be accurate.\n",
            "  overwrite_a=True).T\n",
            "/usr/local/lib/python3.7/dist-packages/sklearn/linear_model/_ridge.py:148: LinAlgWarning: Ill-conditioned matrix (rcond=5.9586e-17): result may not be accurate.\n",
            "  overwrite_a=True).T\n",
            "/usr/local/lib/python3.7/dist-packages/sklearn/linear_model/_ridge.py:148: LinAlgWarning: Ill-conditioned matrix (rcond=5.76493e-17): result may not be accurate.\n",
            "  overwrite_a=True).T\n",
            "/usr/local/lib/python3.7/dist-packages/sklearn/linear_model/_ridge.py:148: LinAlgWarning: Ill-conditioned matrix (rcond=5.96657e-17): result may not be accurate.\n",
            "  overwrite_a=True).T\n",
            "/usr/local/lib/python3.7/dist-packages/sklearn/linear_model/_ridge.py:148: LinAlgWarning: Ill-conditioned matrix (rcond=6.03081e-17): result may not be accurate.\n",
            "  overwrite_a=True).T\n",
            "/usr/local/lib/python3.7/dist-packages/sklearn/linear_model/_ridge.py:148: LinAlgWarning: Ill-conditioned matrix (rcond=5.89272e-17): result may not be accurate.\n",
            "  overwrite_a=True).T\n",
            "/usr/local/lib/python3.7/dist-packages/sklearn/linear_model/_ridge.py:148: LinAlgWarning: Ill-conditioned matrix (rcond=5.91783e-17): result may not be accurate.\n",
            "  overwrite_a=True).T\n",
            "/usr/local/lib/python3.7/dist-packages/sklearn/linear_model/_ridge.py:148: LinAlgWarning: Ill-conditioned matrix (rcond=6.44697e-17): result may not be accurate.\n",
            "  overwrite_a=True).T\n",
            "/usr/local/lib/python3.7/dist-packages/sklearn/linear_model/_ridge.py:148: LinAlgWarning: Ill-conditioned matrix (rcond=6.31199e-17): result may not be accurate.\n",
            "  overwrite_a=True).T\n",
            "/usr/local/lib/python3.7/dist-packages/sklearn/linear_model/_ridge.py:148: LinAlgWarning: Ill-conditioned matrix (rcond=6.57888e-17): result may not be accurate.\n",
            "  overwrite_a=True).T\n",
            "/usr/local/lib/python3.7/dist-packages/sklearn/linear_model/_ridge.py:148: LinAlgWarning: Ill-conditioned matrix (rcond=6.43657e-17): result may not be accurate.\n",
            "  overwrite_a=True).T\n",
            "/usr/local/lib/python3.7/dist-packages/sklearn/linear_model/_ridge.py:148: LinAlgWarning: Ill-conditioned matrix (rcond=6.45525e-17): result may not be accurate.\n",
            "  overwrite_a=True).T\n",
            "/usr/local/lib/python3.7/dist-packages/sklearn/linear_model/_ridge.py:148: LinAlgWarning: Ill-conditioned matrix (rcond=6.24481e-17): result may not be accurate.\n",
            "  overwrite_a=True).T\n",
            "/usr/local/lib/python3.7/dist-packages/sklearn/linear_model/_ridge.py:148: LinAlgWarning: Ill-conditioned matrix (rcond=6.46425e-17): result may not be accurate.\n",
            "  overwrite_a=True).T\n",
            "/usr/local/lib/python3.7/dist-packages/sklearn/linear_model/_ridge.py:148: LinAlgWarning: Ill-conditioned matrix (rcond=6.53277e-17): result may not be accurate.\n",
            "  overwrite_a=True).T\n",
            "/usr/local/lib/python3.7/dist-packages/sklearn/linear_model/_ridge.py:148: LinAlgWarning: Ill-conditioned matrix (rcond=6.38318e-17): result may not be accurate.\n",
            "  overwrite_a=True).T\n",
            "/usr/local/lib/python3.7/dist-packages/sklearn/linear_model/_ridge.py:148: LinAlgWarning: Ill-conditioned matrix (rcond=6.41118e-17): result may not be accurate.\n",
            "  overwrite_a=True).T\n",
            "/usr/local/lib/python3.7/dist-packages/sklearn/linear_model/_ridge.py:148: LinAlgWarning: Ill-conditioned matrix (rcond=6.94282e-17): result may not be accurate.\n",
            "  overwrite_a=True).T\n",
            "/usr/local/lib/python3.7/dist-packages/sklearn/linear_model/_ridge.py:148: LinAlgWarning: Ill-conditioned matrix (rcond=6.79726e-17): result may not be accurate.\n",
            "  overwrite_a=True).T\n",
            "/usr/local/lib/python3.7/dist-packages/sklearn/linear_model/_ridge.py:148: LinAlgWarning: Ill-conditioned matrix (rcond=7.08432e-17): result may not be accurate.\n",
            "  overwrite_a=True).T\n",
            "/usr/local/lib/python3.7/dist-packages/sklearn/linear_model/_ridge.py:148: LinAlgWarning: Ill-conditioned matrix (rcond=6.93118e-17): result may not be accurate.\n",
            "  overwrite_a=True).T\n",
            "/usr/local/lib/python3.7/dist-packages/sklearn/linear_model/_ridge.py:148: LinAlgWarning: Ill-conditioned matrix (rcond=6.95208e-17): result may not be accurate.\n",
            "  overwrite_a=True).T\n",
            "/usr/local/lib/python3.7/dist-packages/sklearn/linear_model/_ridge.py:148: LinAlgWarning: Ill-conditioned matrix (rcond=6.72477e-17): result may not be accurate.\n",
            "  overwrite_a=True).T\n",
            "/usr/local/lib/python3.7/dist-packages/sklearn/linear_model/_ridge.py:148: LinAlgWarning: Ill-conditioned matrix (rcond=6.9621e-17): result may not be accurate.\n",
            "  overwrite_a=True).T\n",
            "/usr/local/lib/python3.7/dist-packages/sklearn/linear_model/_ridge.py:148: LinAlgWarning: Ill-conditioned matrix (rcond=7.03478e-17): result may not be accurate.\n",
            "  overwrite_a=True).T\n",
            "/usr/local/lib/python3.7/dist-packages/sklearn/linear_model/_ridge.py:148: LinAlgWarning: Ill-conditioned matrix (rcond=6.87372e-17): result may not be accurate.\n",
            "  overwrite_a=True).T\n",
            "/usr/local/lib/python3.7/dist-packages/sklearn/linear_model/_ridge.py:148: LinAlgWarning: Ill-conditioned matrix (rcond=6.90473e-17): result may not be accurate.\n",
            "  overwrite_a=True).T\n",
            "/usr/local/lib/python3.7/dist-packages/sklearn/linear_model/_ridge.py:148: LinAlgWarning: Ill-conditioned matrix (rcond=7.43881e-17): result may not be accurate.\n",
            "  overwrite_a=True).T\n",
            "/usr/local/lib/python3.7/dist-packages/sklearn/linear_model/_ridge.py:148: LinAlgWarning: Ill-conditioned matrix (rcond=7.28265e-17): result may not be accurate.\n",
            "  overwrite_a=True).T\n",
            "/usr/local/lib/python3.7/dist-packages/sklearn/linear_model/_ridge.py:148: LinAlgWarning: Ill-conditioned matrix (rcond=7.58981e-17): result may not be accurate.\n",
            "  overwrite_a=True).T\n",
            "/usr/local/lib/python3.7/dist-packages/sklearn/linear_model/_ridge.py:148: LinAlgWarning: Ill-conditioned matrix (rcond=7.42585e-17): result may not be accurate.\n",
            "  overwrite_a=True).T\n",
            "/usr/local/lib/python3.7/dist-packages/sklearn/linear_model/_ridge.py:148: LinAlgWarning: Ill-conditioned matrix (rcond=7.44908e-17): result may not be accurate.\n",
            "  overwrite_a=True).T\n",
            "/usr/local/lib/python3.7/dist-packages/sklearn/linear_model/_ridge.py:148: LinAlgWarning: Ill-conditioned matrix (rcond=7.20481e-17): result may not be accurate.\n",
            "  overwrite_a=True).T\n",
            "/usr/local/lib/python3.7/dist-packages/sklearn/linear_model/_ridge.py:148: LinAlgWarning: Ill-conditioned matrix (rcond=7.46014e-17): result may not be accurate.\n",
            "  overwrite_a=True).T\n",
            "/usr/local/lib/python3.7/dist-packages/sklearn/linear_model/_ridge.py:148: LinAlgWarning: Ill-conditioned matrix (rcond=7.53685e-17): result may not be accurate.\n",
            "  overwrite_a=True).T\n",
            "/usr/local/lib/python3.7/dist-packages/sklearn/linear_model/_ridge.py:148: LinAlgWarning: Ill-conditioned matrix (rcond=7.36434e-17): result may not be accurate.\n",
            "  overwrite_a=True).T\n",
            "/usr/local/lib/python3.7/dist-packages/sklearn/linear_model/_ridge.py:148: LinAlgWarning: Ill-conditioned matrix (rcond=7.39847e-17): result may not be accurate.\n",
            "  overwrite_a=True).T\n",
            "/usr/local/lib/python3.7/dist-packages/sklearn/linear_model/_ridge.py:148: LinAlgWarning: Ill-conditioned matrix (rcond=7.93493e-17): result may not be accurate.\n",
            "  overwrite_a=True).T\n",
            "/usr/local/lib/python3.7/dist-packages/sklearn/linear_model/_ridge.py:148: LinAlgWarning: Ill-conditioned matrix (rcond=7.76817e-17): result may not be accurate.\n",
            "  overwrite_a=True).T\n",
            "/usr/local/lib/python3.7/dist-packages/sklearn/linear_model/_ridge.py:148: LinAlgWarning: Ill-conditioned matrix (rcond=8.09538e-17): result may not be accurate.\n",
            "  overwrite_a=True).T\n",
            "/usr/local/lib/python3.7/dist-packages/sklearn/linear_model/_ridge.py:148: LinAlgWarning: Ill-conditioned matrix (rcond=7.92058e-17): result may not be accurate.\n",
            "  overwrite_a=True).T\n",
            "/usr/local/lib/python3.7/dist-packages/sklearn/linear_model/_ridge.py:148: LinAlgWarning: Ill-conditioned matrix (rcond=7.94625e-17): result may not be accurate.\n",
            "  overwrite_a=True).T\n",
            "/usr/local/lib/python3.7/dist-packages/sklearn/linear_model/_ridge.py:148: LinAlgWarning: Ill-conditioned matrix (rcond=7.68493e-17): result may not be accurate.\n",
            "  overwrite_a=True).T\n",
            "/usr/local/lib/python3.7/dist-packages/sklearn/linear_model/_ridge.py:148: LinAlgWarning: Ill-conditioned matrix (rcond=7.95836e-17): result may not be accurate.\n",
            "  overwrite_a=True).T\n",
            "/usr/local/lib/python3.7/dist-packages/sklearn/linear_model/_ridge.py:148: LinAlgWarning: Ill-conditioned matrix (rcond=8.03898e-17): result may not be accurate.\n",
            "  overwrite_a=True).T\n",
            "/usr/local/lib/python3.7/dist-packages/sklearn/linear_model/_ridge.py:148: LinAlgWarning: Ill-conditioned matrix (rcond=7.85504e-17): result may not be accurate.\n",
            "  overwrite_a=True).T\n",
            "/usr/local/lib/python3.7/dist-packages/sklearn/linear_model/_ridge.py:148: LinAlgWarning: Ill-conditioned matrix (rcond=7.89241e-17): result may not be accurate.\n",
            "  overwrite_a=True).T\n",
            "/usr/local/lib/python3.7/dist-packages/sklearn/linear_model/_ridge.py:148: LinAlgWarning: Ill-conditioned matrix (rcond=8.43119e-17): result may not be accurate.\n",
            "  overwrite_a=True).T\n",
            "/usr/local/lib/python3.7/dist-packages/sklearn/linear_model/_ridge.py:148: LinAlgWarning: Ill-conditioned matrix (rcond=8.25381e-17): result may not be accurate.\n",
            "  overwrite_a=True).T\n",
            "/usr/local/lib/python3.7/dist-packages/sklearn/linear_model/_ridge.py:148: LinAlgWarning: Ill-conditioned matrix (rcond=8.60102e-17): result may not be accurate.\n",
            "  overwrite_a=True).T\n",
            "/usr/local/lib/python3.7/dist-packages/sklearn/linear_model/_ridge.py:148: LinAlgWarning: Ill-conditioned matrix (rcond=8.41538e-17): result may not be accurate.\n",
            "  overwrite_a=True).T\n",
            "/usr/local/lib/python3.7/dist-packages/sklearn/linear_model/_ridge.py:148: LinAlgWarning: Ill-conditioned matrix (rcond=8.4436e-17): result may not be accurate.\n",
            "  overwrite_a=True).T\n",
            "/usr/local/lib/python3.7/dist-packages/sklearn/linear_model/_ridge.py:148: LinAlgWarning: Ill-conditioned matrix (rcond=8.16515e-17): result may not be accurate.\n",
            "  overwrite_a=True).T\n",
            "/usr/local/lib/python3.7/dist-packages/sklearn/linear_model/_ridge.py:148: LinAlgWarning: Ill-conditioned matrix (rcond=8.45677e-17): result may not be accurate.\n",
            "  overwrite_a=True).T\n",
            "/usr/local/lib/python3.7/dist-packages/sklearn/linear_model/_ridge.py:148: LinAlgWarning: Ill-conditioned matrix (rcond=8.54119e-17): result may not be accurate.\n",
            "  overwrite_a=True).T\n",
            "/usr/local/lib/python3.7/dist-packages/sklearn/linear_model/_ridge.py:148: LinAlgWarning: Ill-conditioned matrix (rcond=8.34583e-17): result may not be accurate.\n",
            "  overwrite_a=True).T\n",
            "/usr/local/lib/python3.7/dist-packages/sklearn/linear_model/_ridge.py:148: LinAlgWarning: Ill-conditioned matrix (rcond=8.38655e-17): result may not be accurate.\n",
            "  overwrite_a=True).T\n",
            "/usr/local/lib/python3.7/dist-packages/sklearn/linear_model/_ridge.py:148: LinAlgWarning: Ill-conditioned matrix (rcond=8.9276e-17): result may not be accurate.\n",
            "  overwrite_a=True).T\n",
            "/usr/local/lib/python3.7/dist-packages/sklearn/linear_model/_ridge.py:148: LinAlgWarning: Ill-conditioned matrix (rcond=8.73958e-17): result may not be accurate.\n",
            "  overwrite_a=True).T\n",
            "/usr/local/lib/python3.7/dist-packages/sklearn/linear_model/_ridge.py:148: LinAlgWarning: Ill-conditioned matrix (rcond=9.10674e-17): result may not be accurate.\n",
            "  overwrite_a=True).T\n",
            "/usr/local/lib/python3.7/dist-packages/sklearn/linear_model/_ridge.py:148: LinAlgWarning: Ill-conditioned matrix (rcond=8.91023e-17): result may not be accurate.\n",
            "  overwrite_a=True).T\n",
            "/usr/local/lib/python3.7/dist-packages/sklearn/linear_model/_ridge.py:148: LinAlgWarning: Ill-conditioned matrix (rcond=8.94111e-17): result may not be accurate.\n",
            "  overwrite_a=True).T\n",
            "/usr/local/lib/python3.7/dist-packages/sklearn/linear_model/_ridge.py:148: LinAlgWarning: Ill-conditioned matrix (rcond=8.64545e-17): result may not be accurate.\n",
            "  overwrite_a=True).T\n",
            "/usr/local/lib/python3.7/dist-packages/sklearn/linear_model/_ridge.py:148: LinAlgWarning: Ill-conditioned matrix (rcond=8.94329e-17): result may not be accurate.\n",
            "  overwrite_a=True).T\n",
            "/usr/local/lib/python3.7/dist-packages/sklearn/linear_model/_ridge.py:148: LinAlgWarning: Ill-conditioned matrix (rcond=9.04346e-17): result may not be accurate.\n",
            "  overwrite_a=True).T\n",
            "/usr/local/lib/python3.7/dist-packages/sklearn/linear_model/_ridge.py:148: LinAlgWarning: Ill-conditioned matrix (rcond=8.83671e-17): result may not be accurate.\n",
            "  overwrite_a=True).T\n",
            "/usr/local/lib/python3.7/dist-packages/sklearn/linear_model/_ridge.py:148: LinAlgWarning: Ill-conditioned matrix (rcond=8.88088e-17): result may not be accurate.\n",
            "  overwrite_a=True).T\n",
            "/usr/local/lib/python3.7/dist-packages/sklearn/linear_model/_ridge.py:148: LinAlgWarning: Ill-conditioned matrix (rcond=9.42416e-17): result may not be accurate.\n",
            "  overwrite_a=True).T\n",
            "/usr/local/lib/python3.7/dist-packages/sklearn/linear_model/_ridge.py:148: LinAlgWarning: Ill-conditioned matrix (rcond=9.22549e-17): result may not be accurate.\n",
            "  overwrite_a=True).T\n",
            "/usr/local/lib/python3.7/dist-packages/sklearn/linear_model/_ridge.py:148: LinAlgWarning: Ill-conditioned matrix (rcond=9.61254e-17): result may not be accurate.\n",
            "  overwrite_a=True).T\n",
            "/usr/local/lib/python3.7/dist-packages/sklearn/linear_model/_ridge.py:148: LinAlgWarning: Ill-conditioned matrix (rcond=9.40515e-17): result may not be accurate.\n",
            "  overwrite_a=True).T\n",
            "/usr/local/lib/python3.7/dist-packages/sklearn/linear_model/_ridge.py:148: LinAlgWarning: Ill-conditioned matrix (rcond=9.43879e-17): result may not be accurate.\n",
            "  overwrite_a=True).T\n",
            "/usr/local/lib/python3.7/dist-packages/sklearn/linear_model/_ridge.py:148: LinAlgWarning: Ill-conditioned matrix (rcond=9.12584e-17): result may not be accurate.\n",
            "  overwrite_a=True).T\n",
            "/usr/local/lib/python3.7/dist-packages/sklearn/linear_model/_ridge.py:148: LinAlgWarning: Ill-conditioned matrix (rcond=9.44076e-17): result may not be accurate.\n",
            "  overwrite_a=True).T\n",
            "/usr/local/lib/python3.7/dist-packages/sklearn/linear_model/_ridge.py:148: LinAlgWarning: Ill-conditioned matrix (rcond=9.54579e-17): result may not be accurate.\n",
            "  overwrite_a=True).T\n",
            "/usr/local/lib/python3.7/dist-packages/sklearn/linear_model/_ridge.py:148: LinAlgWarning: Ill-conditioned matrix (rcond=9.32768e-17): result may not be accurate.\n",
            "  overwrite_a=True).T\n",
            "/usr/local/lib/python3.7/dist-packages/sklearn/linear_model/_ridge.py:148: LinAlgWarning: Ill-conditioned matrix (rcond=9.3754e-17): result may not be accurate.\n",
            "  overwrite_a=True).T\n",
            "/usr/local/lib/python3.7/dist-packages/sklearn/linear_model/_ridge.py:148: LinAlgWarning: Ill-conditioned matrix (rcond=9.92085e-17): result may not be accurate.\n",
            "  overwrite_a=True).T\n",
            "/usr/local/lib/python3.7/dist-packages/sklearn/linear_model/_ridge.py:148: LinAlgWarning: Ill-conditioned matrix (rcond=9.71153e-17): result may not be accurate.\n",
            "  overwrite_a=True).T\n",
            "/usr/local/lib/python3.7/dist-packages/sklearn/linear_model/_ridge.py:148: LinAlgWarning: Ill-conditioned matrix (rcond=1.01184e-16): result may not be accurate.\n",
            "  overwrite_a=True).T\n",
            "/usr/local/lib/python3.7/dist-packages/sklearn/linear_model/_ridge.py:148: LinAlgWarning: Ill-conditioned matrix (rcond=9.90013e-17): result may not be accurate.\n",
            "  overwrite_a=True).T\n",
            "/usr/local/lib/python3.7/dist-packages/sklearn/linear_model/_ridge.py:148: LinAlgWarning: Ill-conditioned matrix (rcond=9.93608e-17): result may not be accurate.\n",
            "  overwrite_a=True).T\n",
            "/usr/local/lib/python3.7/dist-packages/sklearn/linear_model/_ridge.py:148: LinAlgWarning: Ill-conditioned matrix (rcond=9.60633e-17): result may not be accurate.\n",
            "  overwrite_a=True).T\n",
            "/usr/local/lib/python3.7/dist-packages/sklearn/linear_model/_ridge.py:148: LinAlgWarning: Ill-conditioned matrix (rcond=9.93835e-17): result may not be accurate.\n",
            "  overwrite_a=True).T\n",
            "/usr/local/lib/python3.7/dist-packages/sklearn/linear_model/_ridge.py:148: LinAlgWarning: Ill-conditioned matrix (rcond=1.00482e-16): result may not be accurate.\n",
            "  overwrite_a=True).T\n",
            "/usr/local/lib/python3.7/dist-packages/sklearn/linear_model/_ridge.py:148: LinAlgWarning: Ill-conditioned matrix (rcond=9.81874e-17): result may not be accurate.\n",
            "  overwrite_a=True).T\n",
            "/usr/local/lib/python3.7/dist-packages/sklearn/linear_model/_ridge.py:148: LinAlgWarning: Ill-conditioned matrix (rcond=9.8701e-17): result may not be accurate.\n",
            "  overwrite_a=True).T\n",
            "/usr/local/lib/python3.7/dist-packages/sklearn/linear_model/_ridge.py:148: LinAlgWarning: Ill-conditioned matrix (rcond=1.04177e-16): result may not be accurate.\n",
            "  overwrite_a=True).T\n",
            "/usr/local/lib/python3.7/dist-packages/sklearn/linear_model/_ridge.py:148: LinAlgWarning: Ill-conditioned matrix (rcond=1.01977e-16): result may not be accurate.\n",
            "  overwrite_a=True).T\n",
            "/usr/local/lib/python3.7/dist-packages/sklearn/linear_model/_ridge.py:148: LinAlgWarning: Ill-conditioned matrix (rcond=1.06244e-16): result may not be accurate.\n",
            "  overwrite_a=True).T\n",
            "/usr/local/lib/python3.7/dist-packages/sklearn/linear_model/_ridge.py:148: LinAlgWarning: Ill-conditioned matrix (rcond=1.03952e-16): result may not be accurate.\n",
            "  overwrite_a=True).T\n",
            "/usr/local/lib/python3.7/dist-packages/sklearn/linear_model/_ridge.py:148: LinAlgWarning: Ill-conditioned matrix (rcond=1.04328e-16): result may not be accurate.\n",
            "  overwrite_a=True).T\n",
            "/usr/local/lib/python3.7/dist-packages/sklearn/linear_model/_ridge.py:148: LinAlgWarning: Ill-conditioned matrix (rcond=1.00869e-16): result may not be accurate.\n",
            "  overwrite_a=True).T\n",
            "/usr/local/lib/python3.7/dist-packages/sklearn/linear_model/_ridge.py:148: LinAlgWarning: Ill-conditioned matrix (rcond=1.04361e-16): result may not be accurate.\n",
            "  overwrite_a=True).T\n",
            "/usr/local/lib/python3.7/dist-packages/sklearn/linear_model/_ridge.py:148: LinAlgWarning: Ill-conditioned matrix (rcond=1.05507e-16): result may not be accurate.\n",
            "  overwrite_a=True).T\n",
            "/usr/local/lib/python3.7/dist-packages/sklearn/linear_model/_ridge.py:148: LinAlgWarning: Ill-conditioned matrix (rcond=1.03099e-16): result may not be accurate.\n",
            "  overwrite_a=True).T\n",
            "/usr/local/lib/python3.7/dist-packages/sklearn/linear_model/_ridge.py:148: LinAlgWarning: Ill-conditioned matrix (rcond=1.0365e-16): result may not be accurate.\n",
            "  overwrite_a=True).T\n",
            "/usr/local/lib/python3.7/dist-packages/sklearn/linear_model/_ridge.py:148: LinAlgWarning: Ill-conditioned matrix (rcond=1.09147e-16): result may not be accurate.\n",
            "  overwrite_a=True).T\n",
            "/usr/local/lib/python3.7/dist-packages/sklearn/linear_model/_ridge.py:148: LinAlgWarning: Ill-conditioned matrix (rcond=1.0684e-16): result may not be accurate.\n",
            "  overwrite_a=True).T\n",
            "/usr/local/lib/python3.7/dist-packages/sklearn/linear_model/_ridge.py:148: LinAlgWarning: Ill-conditioned matrix (rcond=1.08903e-16): result may not be accurate.\n",
            "  overwrite_a=True).T\n",
            "/usr/local/lib/python3.7/dist-packages/sklearn/linear_model/_ridge.py:148: LinAlgWarning: Ill-conditioned matrix (rcond=1.09295e-16): result may not be accurate.\n",
            "  overwrite_a=True).T\n",
            "/usr/local/lib/python3.7/dist-packages/sklearn/linear_model/_ridge.py:148: LinAlgWarning: Ill-conditioned matrix (rcond=1.05676e-16): result may not be accurate.\n",
            "  overwrite_a=True).T\n",
            "/usr/local/lib/python3.7/dist-packages/sklearn/linear_model/_ridge.py:148: LinAlgWarning: Ill-conditioned matrix (rcond=1.09339e-16): result may not be accurate.\n",
            "  overwrite_a=True).T\n",
            "/usr/local/lib/python3.7/dist-packages/sklearn/linear_model/_ridge.py:148: LinAlgWarning: Ill-conditioned matrix (rcond=1.10532e-16): result may not be accurate.\n",
            "  overwrite_a=True).T\n",
            "/usr/local/lib/python3.7/dist-packages/sklearn/linear_model/_ridge.py:148: LinAlgWarning: Ill-conditioned matrix (rcond=1.08011e-16): result may not be accurate.\n",
            "  overwrite_a=True).T\n",
            "/usr/local/lib/python3.7/dist-packages/sklearn/linear_model/_ridge.py:148: LinAlgWarning: Ill-conditioned matrix (rcond=1.086e-16): result may not be accurate.\n",
            "  overwrite_a=True).T\n",
            "/usr/local/lib/python3.7/dist-packages/sklearn/linear_model/_ridge.py:148: LinAlgWarning: Ill-conditioned matrix (rcond=1.10483e-16): result may not be accurate.\n",
            "  overwrite_a=True).T\n"
          ]
        },
        {
          "output_type": "stream",
          "name": "stdout",
          "text": [
            "Ridge(alpha=0.0001, copy_X=True, fit_intercept=True, max_iter=None,\n",
            "      normalize=False, random_state=None, solver='auto', tol=0.001)\n",
            "[-4.57972382e-05  2.55413494e-06 -6.38633668e-05 -1.45256085e-05\n",
            " -3.74499886e-02 -4.16487998e+07 -3.74777371e+07 -6.15698772e+07\n",
            " -3.74772659e+07  0.00000000e+00 -2.86124397e+07 -3.67290693e+07\n",
            "  6.99654434e+06 -2.59606370e+07 -3.14603533e+07  1.03910672e+06\n",
            "  1.03909616e+06 -7.96085280e+06 -7.96084093e+06 -2.24604790e+07\n",
            "  9.03904532e+06  9.03900636e+06  1.90390749e+07  1.90390449e+07\n",
            "  5.03910188e+06  5.03903723e+06 -5.60892001e+05 -5.60898478e+05\n",
            "  3.75266290e+07 -1.70733037e+07 -1.70732964e+07  3.54265887e+07\n",
            "  3.54259916e+07 -3.55731240e+07 -2.95703792e+07 -1.45732862e+07\n",
            " -4.57332164e+06  5.42665268e+06 -1.25732802e+07  1.57426569e+08\n",
            "  1.57426029e+08 -5.15733058e+07 -5.15732739e+07  1.37266650e+07\n",
            "  1.37266547e+07  2.17266615e+07  2.17266459e+07 -1.57333223e+06\n",
            "  1.28266523e+07 -1.65733234e+07 -1.65733225e+07 -1.00953639e+07\n",
            " -1.00954264e+07 -1.00954111e+07 -1.00954774e+07 -1.50950741e+07\n",
            " -1.50951946e+07  0.00000000e+00  0.00000000e+00  4.90435548e+06\n",
            "  4.90390642e+06 -7.09578167e+06 -7.09553579e+06 -2.08244818e+07\n",
            " -2.08243179e+07 -2.10421332e+07 -7.84345305e+06 -7.84348302e+06\n",
            "  6.78808429e+00  3.82348485e+01]\n",
            "{'Mean Squared Error': 4049330426268.227, 'Mean Absolute Error': 85919.44909817181, 'r2': 0.9999999999908183, 'adj r2': 0.9999999999906036}\n"
          ]
        },
        {
          "output_type": "stream",
          "name": "stderr",
          "text": [
            "[Parallel(n_jobs=1)]: Done 1000 out of 1000 | elapsed:   17.9s finished\n",
            "/usr/local/lib/python3.7/dist-packages/sklearn/linear_model/_ridge.py:148: LinAlgWarning: Ill-conditioned matrix (rcond=4.42999e-21): result may not be accurate.\n",
            "  overwrite_a=True).T\n",
            "/usr/local/lib/python3.7/dist-packages/sklearn/linear_model/_ridge.py:148: LinAlgWarning: Ill-conditioned matrix (rcond=4.42999e-21): result may not be accurate.\n",
            "  overwrite_a=True).T\n"
          ]
        }
      ]
    },
    {
      "cell_type": "markdown",
      "metadata": {
        "id": "Gi1vD70un9gF"
      },
      "source": [
        "### ElasticNet"
      ]
    },
    {
      "cell_type": "code",
      "metadata": {
        "colab": {
          "base_uri": "https://localhost:8080/"
        },
        "id": "H-jqkkiv5oCZ",
        "outputId": "e8e31431-30f5-46fe-f427-775ef20e8896"
      },
      "source": [
        "kf = KFold(10, shuffle = True)\n",
        "params = {'alpha': np.linspace(0.0001,10,100)}\n",
        "ElasticNet_model = GridSearchCV(ElasticNet(), param_grid=params, cv = kf, verbose=1)\n",
        "ElasticNet_model.fit(X_train_val, y_train_val)\n",
        "model_best = ElasticNet_model.best_estimator_\n",
        "model_best.fit(X_train_val, y_train_val)\n",
        "\n",
        "print(model_best)\n",
        "print(model_best.coef_)\n",
        "ElasticNet_model_scores = {'Mean Squared Error': mean_squared_error(model_best.predict(X_test), y_test),\n",
        "                           'Mean Absolute Error': mean_absolute_error(model_best.predict(X_test), y_test),\n",
        "                           'r2': model_best.score(X_train_val, y_train_val),\n",
        "                           'adj r2': 1 - (1-model_best.score(X_train_val, y_train_val))*(len(y_train_val)-1)/(len(y_train_val)-X_train_val.shape[1]-1)}\n",
        "\n",
        "print(ElasticNet_model_scores)"
      ],
      "execution_count": 84,
      "outputs": [
        {
          "output_type": "stream",
          "name": "stderr",
          "text": [
            "[Parallel(n_jobs=1)]: Using backend SequentialBackend with 1 concurrent workers.\n"
          ]
        },
        {
          "output_type": "stream",
          "name": "stdout",
          "text": [
            "Fitting 10 folds for each of 100 candidates, totalling 1000 fits\n"
          ]
        },
        {
          "output_type": "stream",
          "name": "stderr",
          "text": [
            "/usr/local/lib/python3.7/dist-packages/sklearn/linear_model/_coordinate_descent.py:476: ConvergenceWarning: Objective did not converge. You might want to increase the number of iterations. Duality gap: 5429671034612360.0, tolerance: 599564992947007.6\n",
            "  positive)\n",
            "/usr/local/lib/python3.7/dist-packages/sklearn/linear_model/_coordinate_descent.py:476: ConvergenceWarning: Objective did not converge. You might want to increase the number of iterations. Duality gap: 5471838905069917.0, tolerance: 615706745499849.8\n",
            "  positive)\n",
            "/usr/local/lib/python3.7/dist-packages/sklearn/linear_model/_coordinate_descent.py:476: ConvergenceWarning: Objective did not converge. You might want to increase the number of iterations. Duality gap: 5415782836657509.0, tolerance: 619874357748225.6\n",
            "  positive)\n",
            "/usr/local/lib/python3.7/dist-packages/sklearn/linear_model/_coordinate_descent.py:476: ConvergenceWarning: Objective did not converge. You might want to increase the number of iterations. Duality gap: 5455613669503648.0, tolerance: 611474099740237.4\n",
            "  positive)\n",
            "/usr/local/lib/python3.7/dist-packages/sklearn/linear_model/_coordinate_descent.py:476: ConvergenceWarning: Objective did not converge. You might want to increase the number of iterations. Duality gap: 5467301301550570.0, tolerance: 625701904087174.4\n",
            "  positive)\n",
            "/usr/local/lib/python3.7/dist-packages/sklearn/linear_model/_coordinate_descent.py:476: ConvergenceWarning: Objective did not converge. You might want to increase the number of iterations. Duality gap: 5458208828285014.0, tolerance: 601228594129601.5\n",
            "  positive)\n",
            "/usr/local/lib/python3.7/dist-packages/sklearn/linear_model/_coordinate_descent.py:476: ConvergenceWarning: Objective did not converge. You might want to increase the number of iterations. Duality gap: 5472634486218986.0, tolerance: 613561032607461.9\n",
            "  positive)\n",
            "/usr/local/lib/python3.7/dist-packages/sklearn/linear_model/_coordinate_descent.py:476: ConvergenceWarning: Objective did not converge. You might want to increase the number of iterations. Duality gap: 5467197339685391.0, tolerance: 623539608607448.4\n",
            "  positive)\n",
            "/usr/local/lib/python3.7/dist-packages/sklearn/linear_model/_coordinate_descent.py:476: ConvergenceWarning: Objective did not converge. You might want to increase the number of iterations. Duality gap: 5473754889353665.0, tolerance: 623679592903128.1\n",
            "  positive)\n",
            "/usr/local/lib/python3.7/dist-packages/sklearn/linear_model/_coordinate_descent.py:476: ConvergenceWarning: Objective did not converge. You might want to increase the number of iterations. Duality gap: 5470230241194509.0, tolerance: 591215263526547.5\n",
            "  positive)\n",
            "[Parallel(n_jobs=1)]: Done 1000 out of 1000 | elapsed:   47.6s finished\n",
            "/usr/local/lib/python3.7/dist-packages/sklearn/linear_model/_coordinate_descent.py:476: ConvergenceWarning: Objective did not converge. You might want to increase the number of iterations. Duality gap: 6077229279450078.0, tolerance: 680644901056331.4\n",
            "  positive)\n"
          ]
        },
        {
          "output_type": "stream",
          "name": "stdout",
          "text": [
            "ElasticNet(alpha=0.0001, copy_X=True, fit_intercept=True, l1_ratio=0.5,\n",
            "           max_iter=1000, normalize=False, positive=False, precompute=False,\n",
            "           random_state=None, selection='cyclic', tol=0.0001, warm_start=False)\n",
            "[-8.89725901e-02  4.12203946e-03 -8.32708313e-02 -3.02121538e-02\n",
            " -5.92226961e+01 -4.19805080e+07 -3.78889709e+07 -5.74826172e+07\n",
            " -3.71787956e+07  0.00000000e+00 -2.89607170e+07 -3.57451306e+07\n",
            "  2.39703071e+06 -2.57600003e+07 -3.08377948e+07  8.53136641e+05\n",
            "  8.39575124e+05 -8.08374398e+06 -8.06569948e+06 -2.20224799e+07\n",
            "  8.76098343e+06  8.70400243e+06  1.88040183e+07  1.87588412e+07\n",
            "  4.84567318e+06  4.75264894e+06 -7.46300063e+05 -7.55896754e+05\n",
            "  3.69384494e+07 -1.75614865e+07 -1.75497492e+07  3.47764950e+07\n",
            "  3.39063103e+07 -3.57841886e+07 -2.61126393e+07 -1.50343219e+07\n",
            " -5.08834367e+06  4.87131469e+06 -1.30248083e+07  1.56742021e+08\n",
            "  1.55923736e+08 -5.20656992e+07 -5.20166172e+07  1.31846650e+07\n",
            "  1.31695390e+07  2.11798489e+07  2.11565910e+07 -2.10584702e+06\n",
            "  1.22696975e+07 -1.70917153e+07 -1.70902133e+07 -9.87129157e+06\n",
            " -9.96296368e+06 -9.93975085e+06 -1.00385441e+07 -1.44517516e+07\n",
            " -1.46224002e+07  0.00000000e+00  0.00000000e+00  4.71043900e+06\n",
            "  4.13711020e+06 -7.49585840e+06 -7.12644139e+06 -2.09459803e+07\n",
            " -2.06989178e+07 -1.95301677e+07 -8.08375770e+06 -8.12309503e+06\n",
            "  7.22882620e+03  5.46113386e+04]\n",
            "{'Mean Squared Error': 4141974574857.1406, 'Mean Absolute Error': 148432.40660847878, 'r2': 0.9999815032352137, 'adj r2': 0.999981070634634}\n"
          ]
        },
        {
          "output_type": "stream",
          "name": "stderr",
          "text": [
            "/usr/local/lib/python3.7/dist-packages/sklearn/linear_model/_coordinate_descent.py:476: ConvergenceWarning: Objective did not converge. You might want to increase the number of iterations. Duality gap: 6077229279450078.0, tolerance: 680644901056331.4\n",
            "  positive)\n"
          ]
        }
      ]
    },
    {
      "cell_type": "code",
      "metadata": {
        "id": "7X6wrI-voAEX",
        "colab": {
          "base_uri": "https://localhost:8080/"
        },
        "outputId": "bfaf2ac1-5f80-423b-861a-11c39afe1418"
      },
      "source": [
        "print(Ridge_model_scores)\n",
        "print(Lasso_model_scores)\n",
        "print(ElasticNet_model_scores)\n",
        "print(LR_model_scores)"
      ],
      "execution_count": 85,
      "outputs": [
        {
          "output_type": "stream",
          "name": "stdout",
          "text": [
            "{'Mean Squared Error': 4049330426268.227, 'Mean Absolute Error': 85919.44909817181, 'r2': 0.9999999999908183, 'adj r2': 0.9999999999906036}\n",
            "{'Mean Squared Error': 5176837826738.885, 'Mean Absolute Error': 92084.92990789813, 'r2': 0.9999999870445351, 'adj r2': 0.9999999867415339}\n",
            "{'Mean Squared Error': 4141974574857.1406, 'Mean Absolute Error': 148432.40660847878, 'r2': 0.9999815032352137, 'adj r2': 0.999981070634634}\n",
            "{'Mean Squared Error': 1408566716922.7725, 'Mean Absolute Error': 34267.50662369481, 'r2': 0.999493895574348, 'adj r2': 0.9993433047427617}\n"
          ]
        }
      ]
    },
    {
      "cell_type": "markdown",
      "metadata": {
        "id": "q3yEEvVGoWnB"
      },
      "source": [
        "### We notice that there is data leakage. We will now consider the dataframe by removing devices/companies/channels_names (dropping categorical features)."
      ]
    },
    {
      "cell_type": "code",
      "metadata": {
        "id": "VZUeLgK-oVon"
      },
      "source": [
        "df_re_indixed = df.set_index(['channel_name','company_name_x', 'device'])"
      ],
      "execution_count": 86,
      "outputs": []
    },
    {
      "cell_type": "code",
      "metadata": {
        "id": "9Zaiqje993oo"
      },
      "source": [
        "df_re_indixed = pd.get_dummies(df_re_indixed, drop_first=True)"
      ],
      "execution_count": 87,
      "outputs": []
    },
    {
      "cell_type": "code",
      "metadata": {
        "id": "IQ6fpfN8wDqp"
      },
      "source": [
        "X = df_re_indixed.drop(columns=['units'])\n",
        "y = df_re_indixed['units']\n",
        "X_train_val, X_test, y_train_val, y_test = train_test_split(X, y, test_size=0.2)"
      ],
      "execution_count": 88,
      "outputs": []
    },
    {
      "cell_type": "code",
      "metadata": {
        "colab": {
          "base_uri": "https://localhost:8080/",
          "height": 235
        },
        "id": "rv1NXSTJwOk5",
        "outputId": "374223ec-ce3e-4cdc-a2d1-7bbf30c4a7f9"
      },
      "source": [
        "X_train_val.head()"
      ],
      "execution_count": 89,
      "outputs": [
        {
          "output_type": "execute_result",
          "data": {
            "text/html": [
              "<div>\n",
              "<style scoped>\n",
              "    .dataframe tbody tr th:only-of-type {\n",
              "        vertical-align: middle;\n",
              "    }\n",
              "\n",
              "    .dataframe tbody tr th {\n",
              "        vertical-align: top;\n",
              "    }\n",
              "\n",
              "    .dataframe thead th {\n",
              "        text-align: right;\n",
              "    }\n",
              "</style>\n",
              "<table border=\"1\" class=\"dataframe\">\n",
              "  <thead>\n",
              "    <tr style=\"text-align: right;\">\n",
              "      <th></th>\n",
              "      <th></th>\n",
              "      <th></th>\n",
              "      <th>likes_number</th>\n",
              "      <th>views_count</th>\n",
              "      <th>dislikes_number</th>\n",
              "      <th>commens_count</th>\n",
              "      <th>video_duration</th>\n",
              "    </tr>\n",
              "    <tr>\n",
              "      <th>channel_name</th>\n",
              "      <th>company_name_x</th>\n",
              "      <th>device</th>\n",
              "      <th></th>\n",
              "      <th></th>\n",
              "      <th></th>\n",
              "      <th></th>\n",
              "      <th></th>\n",
              "    </tr>\n",
              "  </thead>\n",
              "  <tbody>\n",
              "    <tr>\n",
              "      <th rowspan=\"3\" valign=\"top\">UNBOX_THERAPY</th>\n",
              "      <th rowspan=\"3\" valign=\"top\">APPLE</th>\n",
              "      <th>IPHONE 7</th>\n",
              "      <td>45745.0</td>\n",
              "      <td>3192048.0</td>\n",
              "      <td>7579.0</td>\n",
              "      <td>2115.0</td>\n",
              "      <td>263</td>\n",
              "    </tr>\n",
              "    <tr>\n",
              "      <th>IPHONE 7 PLUS</th>\n",
              "      <td>51716.0</td>\n",
              "      <td>1746284.0</td>\n",
              "      <td>1262.0</td>\n",
              "      <td>5693.0</td>\n",
              "      <td>226</td>\n",
              "    </tr>\n",
              "    <tr>\n",
              "      <th>IPHONE XS MAX</th>\n",
              "      <td>61544.0</td>\n",
              "      <td>3903275.0</td>\n",
              "      <td>2786.0</td>\n",
              "      <td>2390.0</td>\n",
              "      <td>350</td>\n",
              "    </tr>\n",
              "    <tr>\n",
              "      <th>MKBHD</th>\n",
              "      <th>SAMSUNG</th>\n",
              "      <th>GALAXY S7 EDGE</th>\n",
              "      <td>35345.0</td>\n",
              "      <td>1239244.0</td>\n",
              "      <td>828.0</td>\n",
              "      <td>3321.0</td>\n",
              "      <td>237</td>\n",
              "    </tr>\n",
              "    <tr>\n",
              "      <th>UNBOX_THERAPY</th>\n",
              "      <th>SAMSUNG</th>\n",
              "      <th>GALAXY S9</th>\n",
              "      <td>81616.0</td>\n",
              "      <td>3907379.0</td>\n",
              "      <td>11147.0</td>\n",
              "      <td>15303.0</td>\n",
              "      <td>292</td>\n",
              "    </tr>\n",
              "  </tbody>\n",
              "</table>\n",
              "</div>"
            ],
            "text/plain": [
              "                                             likes_number  ...  video_duration\n",
              "channel_name  company_name_x device                        ...                \n",
              "UNBOX_THERAPY APPLE          IPHONE 7             45745.0  ...             263\n",
              "                             IPHONE 7 PLUS        51716.0  ...             226\n",
              "                             IPHONE XS MAX        61544.0  ...             350\n",
              "MKBHD         SAMSUNG        GALAXY S7 EDGE       35345.0  ...             237\n",
              "UNBOX_THERAPY SAMSUNG        GALAXY S9            81616.0  ...             292\n",
              "\n",
              "[5 rows x 5 columns]"
            ]
          },
          "metadata": {},
          "execution_count": 89
        }
      ]
    },
    {
      "cell_type": "code",
      "metadata": {
        "colab": {
          "base_uri": "https://localhost:8080/"
        },
        "id": "57UR_7c8oVon",
        "outputId": "ab7a10ab-8b79-4bd7-e5e5-75acf9b0c24d"
      },
      "source": [
        "# LinearRegression()\n",
        "kf = KFold(10, shuffle = True)\n",
        "\n",
        "mae = []\n",
        "mse = []\n",
        "r2 = []\n",
        "adj_r2 = []\n",
        "\n",
        "for train_ind, val_ind in kf.split(X_train_val):\n",
        "    X_train, X_val = X.iloc[train_ind], X.iloc[val_ind]\n",
        "    y_train, y_val = y.iloc[train_ind], y.iloc[val_ind]\n",
        "\n",
        "    model = LinearRegression()\n",
        "    model.fit(X_train, y_train)\n",
        "    y_pred = model.predict(X_val)\n",
        "    \n",
        "    mae_ = mean_absolute_error(y_pred, y_val)\n",
        "    mse_ = mean_squared_error(y_pred, y_val)\n",
        "    r2_ = model.score(X_val, y_val)\n",
        "    adj_r2_ = 1 - (1-r2_)*(len(y_val)-1)/(len(y_val)-X_val.shape[1]-1)\n",
        "    \n",
        "    mae.append(mae_)\n",
        "    mse.append(mse_)\n",
        "    r2.append(r2_)\n",
        "    adj_r2.append(adj_r2_)\n",
        "    \n",
        "LR_model_scores_no_dummies = {'Mean Squared Error': np.mean(mse),\n",
        "                              'Mean Absolute Error': np.mean(mae),\n",
        "                              'r2': np.mean(r2),\n",
        "                              'adj r2': np.mean(adj_r2)}\n",
        "\n",
        "print(LR_model_scores_no_dummies)"
      ],
      "execution_count": 90,
      "outputs": [
        {
          "output_type": "stream",
          "name": "stdout",
          "text": [
            "{'Mean Squared Error': 2496177031265202.0, 'Mean Absolute Error': 32130082.90812721, 'r2': 0.007458195251534372, 'adj r2': -0.009062097661415502}\n"
          ]
        }
      ]
    },
    {
      "cell_type": "code",
      "metadata": {
        "colab": {
          "base_uri": "https://localhost:8080/"
        },
        "id": "VkP-H3oEBNMT",
        "outputId": "530fee94-fe8a-463f-906c-71d2a3eeb163"
      },
      "source": [
        "# Lasso()\n",
        "kf = KFold(10, shuffle = True)\n",
        "params = {'alpha': np.linspace(0.0001,10,100)}\n",
        "Lasso_model = GridSearchCV(Lasso(), param_grid=params, cv = kf, verbose=1)\n",
        "Lasso_model.fit(X_train_val, y_train_val);\n",
        "model_best = Lasso_model.best_estimator_\n",
        "model_best.fit(X_train_val, y_train_val);\n",
        "\n",
        "print(model_best)\n",
        "print(model_best.coef_)\n",
        "Lasso_model_scores_no_dummies = {'Mean Squared Error': mean_squared_error(model_best.predict(X_test), y_test),\n",
        "                                 'Mean Absolute Error': mean_absolute_error(model_best.predict(X_test), y_test),\n",
        "                                 'r2': model_best.score(X_train_val, y_train_val),\n",
        "                                 'adj r2': 1 - (1-model_best.score(X_train_val, y_train_val))*(len(y_train_val)-1)/(len(y_train_val)-X_train_val.shape[1]-1)}\n",
        "\n",
        "print(Lasso_model_scores_no_dummies)"
      ],
      "execution_count": 91,
      "outputs": [
        {
          "output_type": "stream",
          "name": "stdout",
          "text": [
            "Fitting 10 folds for each of 100 candidates, totalling 1000 fits\n"
          ]
        },
        {
          "output_type": "stream",
          "name": "stderr",
          "text": [
            "[Parallel(n_jobs=1)]: Using backend SequentialBackend with 1 concurrent workers.\n",
            "/usr/local/lib/python3.7/dist-packages/sklearn/linear_model/_coordinate_descent.py:476: ConvergenceWarning: Objective did not converge. You might want to increase the number of iterations. Duality gap: 2.599730712015563e+18, tolerance: 620077607022743.4\n",
            "  positive)\n",
            "/usr/local/lib/python3.7/dist-packages/sklearn/linear_model/_coordinate_descent.py:476: ConvergenceWarning: Objective did not converge. You might want to increase the number of iterations. Duality gap: 2.9386806377028756e+18, tolerance: 610818862887848.8\n",
            "  positive)\n",
            "/usr/local/lib/python3.7/dist-packages/sklearn/linear_model/_coordinate_descent.py:476: ConvergenceWarning: Objective did not converge. You might want to increase the number of iterations. Duality gap: 2.3796593348291676e+18, tolerance: 611929016363681.9\n",
            "  positive)\n",
            "/usr/local/lib/python3.7/dist-packages/sklearn/linear_model/_coordinate_descent.py:476: ConvergenceWarning: Objective did not converge. You might want to increase the number of iterations. Duality gap: 2.908389682149017e+18, tolerance: 615825372903485.9\n",
            "  positive)\n",
            "/usr/local/lib/python3.7/dist-packages/sklearn/linear_model/_coordinate_descent.py:476: ConvergenceWarning: Objective did not converge. You might want to increase the number of iterations. Duality gap: 2.1424298318991e+17, tolerance: 610789860560402.5\n",
            "  positive)\n",
            "/usr/local/lib/python3.7/dist-packages/sklearn/linear_model/_coordinate_descent.py:476: ConvergenceWarning: Objective did not converge. You might want to increase the number of iterations. Duality gap: 2.9315848128515466e+18, tolerance: 623012782041751.6\n",
            "  positive)\n",
            "/usr/local/lib/python3.7/dist-packages/sklearn/linear_model/_coordinate_descent.py:476: ConvergenceWarning: Objective did not converge. You might want to increase the number of iterations. Duality gap: 1.1231682548121856e+18, tolerance: 634016805178152.2\n",
            "  positive)\n",
            "/usr/local/lib/python3.7/dist-packages/sklearn/linear_model/_coordinate_descent.py:476: ConvergenceWarning: Objective did not converge. You might want to increase the number of iterations. Duality gap: 2.774976505663706e+18, tolerance: 610362103137042.0\n",
            "  positive)\n"
          ]
        },
        {
          "output_type": "stream",
          "name": "stdout",
          "text": [
            "Lasso(alpha=10.0, copy_X=True, fit_intercept=True, max_iter=1000,\n",
            "      normalize=False, positive=False, precompute=False, random_state=None,\n",
            "      selection='cyclic', tol=0.0001, warm_start=False)\n",
            "[-3.96591363e+01  1.03802000e+00  2.77021122e+02 -5.11328661e+01\n",
            " -2.28392288e+04]\n",
            "{'Mean Squared Error': 2113519269308373.2, 'Mean Absolute Error': 30562545.75382549, 'r2': 0.011684247864339746, 'adj r2': 0.010068296667257282}\n"
          ]
        },
        {
          "output_type": "stream",
          "name": "stderr",
          "text": [
            "[Parallel(n_jobs=1)]: Done 1000 out of 1000 | elapsed:    8.5s finished\n"
          ]
        }
      ]
    },
    {
      "cell_type": "code",
      "metadata": {
        "colab": {
          "base_uri": "https://localhost:8080/"
        },
        "id": "i6T7KSCABM-7",
        "outputId": "b656691b-0800-4cbe-907a-dcdc6ac8fb98"
      },
      "source": [
        "# Ridge()\n",
        "kf = KFold(10, shuffle = True)\n",
        "params = {'alpha': np.linspace(0.0001,10,100)}\n",
        "Ridge_model = GridSearchCV(Ridge(), param_grid=params, cv = kf, verbose=1)\n",
        "Ridge_model.fit(X_train_val, y_train_val)\n",
        "model_best = Ridge_model.best_estimator_\n",
        "model_best.fit(X_train_val, y_train_val)\n",
        "\n",
        "print(model_best)\n",
        "print(model_best.coef_)\n",
        "Ridge_model_scores_no_dummies = {'Mean Squared Error': mean_squared_error(model_best.predict(X_test), y_test),\n",
        "                                 'Mean Absolute Error': mean_absolute_error(model_best.predict(X_test), y_test),\n",
        "                                 'r2': model_best.score(X_train_val, y_train_val),\n",
        "                                 'adj r2': 1 - (1-model_best.score(X_train_val, y_train_val))*(len(y_train_val)-1)/(len(y_train_val)-X_train_val.shape[1]-1)}\n",
        "\n",
        "print(Ridge_model_scores_no_dummies)"
      ],
      "execution_count": 92,
      "outputs": [
        {
          "output_type": "stream",
          "name": "stdout",
          "text": [
            "Fitting 10 folds for each of 100 candidates, totalling 1000 fits\n"
          ]
        },
        {
          "output_type": "stream",
          "name": "stderr",
          "text": [
            "[Parallel(n_jobs=1)]: Using backend SequentialBackend with 1 concurrent workers.\n"
          ]
        },
        {
          "output_type": "stream",
          "name": "stdout",
          "text": [
            "Ridge(alpha=10.0, copy_X=True, fit_intercept=True, max_iter=None,\n",
            "      normalize=False, random_state=None, solver='auto', tol=0.001)\n",
            "[-3.96591392e+01  1.03802001e+00  2.77021124e+02 -5.11328652e+01\n",
            " -2.28392271e+04]\n",
            "{'Mean Squared Error': 2113519269931363.2, 'Mean Absolute Error': 30562545.76507429, 'r2': 0.011684247864339746, 'adj r2': 0.010068296667257282}\n"
          ]
        },
        {
          "output_type": "stream",
          "name": "stderr",
          "text": [
            "[Parallel(n_jobs=1)]: Done 1000 out of 1000 | elapsed:    6.6s finished\n"
          ]
        }
      ]
    },
    {
      "cell_type": "code",
      "metadata": {
        "colab": {
          "base_uri": "https://localhost:8080/"
        },
        "id": "vj-0xNd6BMrS",
        "outputId": "3cc7f12f-7d55-4330-e411-1e2e9918e96d"
      },
      "source": [
        "# ElasticNet()\n",
        "kf = KFold(10, shuffle = True)\n",
        "params = {'alpha': np.linspace(0.0001,10,100)}\n",
        "ElasticNet_model = GridSearchCV(ElasticNet(), param_grid=params, cv = kf, verbose=1)\n",
        "ElasticNet_model.fit(X_train_val, y_train_val)\n",
        "model_best = ElasticNet_model.best_estimator_\n",
        "model_best.fit(X_train_val, y_train_val)\n",
        "\n",
        "print(model_best)\n",
        "print(model_best.coef_)\n",
        "ElasticNet_model_scores_no_dummies = {'Mean Squared Error': mean_squared_error(model_best.predict(X_test), y_test),\n",
        "                                 'Mean Absolute Error': mean_absolute_error(model_best.predict(X_test), y_test),\n",
        "                                 'r2': model_best.score(X_train_val, y_train_val),\n",
        "                                 'adj r2': 1 - (1-model_best.score(X_train_val, y_train_val))*(len(y_train_val)-1)/(len(y_train_val)-X_train_val.shape[1]-1)}\n",
        "\n",
        "print(ElasticNet_model_scores_no_dummies)"
      ],
      "execution_count": 93,
      "outputs": [
        {
          "output_type": "stream",
          "name": "stdout",
          "text": [
            "Fitting 10 folds for each of 100 candidates, totalling 1000 fits\n"
          ]
        },
        {
          "output_type": "stream",
          "name": "stderr",
          "text": [
            "[Parallel(n_jobs=1)]: Using backend SequentialBackend with 1 concurrent workers.\n",
            "/usr/local/lib/python3.7/dist-packages/sklearn/linear_model/_coordinate_descent.py:476: ConvergenceWarning: Objective did not converge. You might want to increase the number of iterations. Duality gap: 2.544178386574097e+18, tolerance: 596591423182971.5\n",
            "  positive)\n",
            "/usr/local/lib/python3.7/dist-packages/sklearn/linear_model/_coordinate_descent.py:476: ConvergenceWarning: Objective did not converge. You might want to increase the number of iterations. Duality gap: 2.6375055446478285e+18, tolerance: 615648061444854.9\n",
            "  positive)\n",
            "/usr/local/lib/python3.7/dist-packages/sklearn/linear_model/_coordinate_descent.py:476: ConvergenceWarning: Objective did not converge. You might want to increase the number of iterations. Duality gap: 2.6266168540199035e+18, tolerance: 614129294558354.6\n",
            "  positive)\n",
            "/usr/local/lib/python3.7/dist-packages/sklearn/linear_model/_coordinate_descent.py:476: ConvergenceWarning: Objective did not converge. You might want to increase the number of iterations. Duality gap: 2.9995173412299284e+18, tolerance: 635321702241885.4\n",
            "  positive)\n",
            "/usr/local/lib/python3.7/dist-packages/sklearn/linear_model/_coordinate_descent.py:476: ConvergenceWarning: Objective did not converge. You might want to increase the number of iterations. Duality gap: 2.926756704608651e+18, tolerance: 620059490109395.5\n",
            "  positive)\n",
            "/usr/local/lib/python3.7/dist-packages/sklearn/linear_model/_coordinate_descent.py:476: ConvergenceWarning: Objective did not converge. You might want to increase the number of iterations. Duality gap: 2.708507653036939e+18, tolerance: 632610401230987.9\n",
            "  positive)\n",
            "/usr/local/lib/python3.7/dist-packages/sklearn/linear_model/_coordinate_descent.py:476: ConvergenceWarning: Objective did not converge. You might want to increase the number of iterations. Duality gap: 2.9499313032168207e+18, tolerance: 625947989420408.9\n",
            "  positive)\n",
            "/usr/local/lib/python3.7/dist-packages/sklearn/linear_model/_coordinate_descent.py:476: ConvergenceWarning: Objective did not converge. You might want to increase the number of iterations. Duality gap: 2.8809287588146975e+18, tolerance: 611988852992497.6\n",
            "  positive)\n"
          ]
        },
        {
          "output_type": "stream",
          "name": "stdout",
          "text": [
            "ElasticNet(alpha=10.0, copy_X=True, fit_intercept=True, l1_ratio=0.5,\n",
            "           max_iter=1000, normalize=False, positive=False, precompute=False,\n",
            "           random_state=None, selection='cyclic', tol=0.0001, warm_start=False)\n",
            "[-3.96642582e+01  1.03804515e+00  2.77023299e+02 -5.11311803e+01\n",
            " -2.28362118e+04]\n",
            "{'Mean Squared Error': 2113520349683196.8, 'Mean Absolute Error': 30562565.269188147, 'r2': 0.011684247710241347, 'adj r2': 0.01006829651290686}\n"
          ]
        },
        {
          "output_type": "stream",
          "name": "stderr",
          "text": [
            "[Parallel(n_jobs=1)]: Done 1000 out of 1000 | elapsed:    8.2s finished\n"
          ]
        }
      ]
    },
    {
      "cell_type": "code",
      "metadata": {
        "colab": {
          "base_uri": "https://localhost:8080/"
        },
        "id": "sAzwsMDjCHGs",
        "outputId": "22c10219-3489-4445-c3d7-154af883f7c6"
      },
      "source": [
        "print(Ridge_model_scores_no_dummies)\n",
        "print(Lasso_model_scores_no_dummies)\n",
        "print(ElasticNet_model_scores_no_dummies)\n",
        "print(LR_model_scores_no_dummies)"
      ],
      "execution_count": 94,
      "outputs": [
        {
          "output_type": "stream",
          "name": "stdout",
          "text": [
            "{'Mean Squared Error': 2113519269931363.2, 'Mean Absolute Error': 30562545.76507429, 'r2': 0.011684247864339746, 'adj r2': 0.010068296667257282}\n",
            "{'Mean Squared Error': 2113519269308373.2, 'Mean Absolute Error': 30562545.75382549, 'r2': 0.011684247864339746, 'adj r2': 0.010068296667257282}\n",
            "{'Mean Squared Error': 2113520349683196.8, 'Mean Absolute Error': 30562565.269188147, 'r2': 0.011684247710241347, 'adj r2': 0.01006829651290686}\n",
            "{'Mean Squared Error': 2496177031265202.0, 'Mean Absolute Error': 32130082.90812721, 'r2': 0.007458195251534372, 'adj r2': -0.009062097661415502}\n"
          ]
        }
      ]
    },
    {
      "cell_type": "markdown",
      "metadata": {
        "id": "CW452OMZPU4I"
      },
      "source": [
        "### Adding Polynomial Features"
      ]
    },
    {
      "cell_type": "code",
      "metadata": {
        "id": "ZOJDY-N_Vc0Z"
      },
      "source": [
        "X = df_re_indixed.drop(columns='units')\n",
        "y = df_re_indixed['units']"
      ],
      "execution_count": 95,
      "outputs": []
    },
    {
      "cell_type": "code",
      "metadata": {
        "id": "hG6RybKLVcfk"
      },
      "source": [
        "X_train_val, X_test, y_train_val, y_test = train_test_split(X, y, test_size=0.2)"
      ],
      "execution_count": 96,
      "outputs": []
    },
    {
      "cell_type": "code",
      "metadata": {
        "colab": {
          "base_uri": "https://localhost:8080/"
        },
        "id": "sd4JtA5ZVcRX",
        "outputId": "76508875-1d42-4e9f-8e96-94778bad52fa"
      },
      "source": [
        "# LinearRegression()\n",
        "kf = KFold(10, shuffle = True)\n",
        "\n",
        "mae = []\n",
        "mse = []\n",
        "r2 = []\n",
        "adj_r2 = []\n",
        "\n",
        "for train_ind, val_ind in kf.split(X_train_val):\n",
        "    X_train, X_val = X.iloc[train_ind], X.iloc[val_ind]\n",
        "    y_train, y_val = y.iloc[train_ind], y.iloc[val_ind]\n",
        "\n",
        "    model = make_pipeline(PolynomialFeatures(3), LinearRegression())\n",
        "    model.fit(X_train, y_train)\n",
        "    y_pred = model.predict(X_val)\n",
        "    \n",
        "    mae_ = mean_absolute_error(y_pred, y_val)\n",
        "    mse_ = mean_squared_error(y_pred, y_val)\n",
        "    r2_ = model.score(X_val, y_val)\n",
        "    adj_r2_ = 1 - (1-r2_)*(len(y_val)-1)/(len(y_val)-X_val.shape[1]-1)\n",
        "    \n",
        "    mae.append(mae_)\n",
        "    mse.append(mse_)\n",
        "    r2.append(r2_)\n",
        "    adj_r2.append(adj_r2_)\n",
        "    \n",
        "LR_model_scores_polynomial = {'Mean Squared Error': np.mean(mse),\n",
        "                   'Mean Absolute Error': np.mean(mae),\n",
        "                   'r2': np.mean(r2),\n",
        "                   'adj r2': np.mean(adj_r2)}\n",
        "\n",
        "print(LR_model_scores_polynomial)"
      ],
      "execution_count": 97,
      "outputs": [
        {
          "output_type": "stream",
          "name": "stdout",
          "text": [
            "{'Mean Squared Error': 3471289877115589.0, 'Mean Absolute Error': 34889086.42171568, 'r2': -0.4157151995284766, 'adj r2': -0.43927733358036064}\n"
          ]
        }
      ]
    },
    {
      "cell_type": "code",
      "metadata": {
        "colab": {
          "base_uri": "https://localhost:8080/"
        },
        "id": "LFn6tOT3Xsg6",
        "outputId": "3c73c351-24d6-4d0b-d5a8-4233ead24529"
      },
      "source": [
        "# Lasso()\n",
        "Lasso_model = make_pipeline(PolynomialFeatures(3), Lasso())\n",
        "Lasso_model.fit(X_train_val, y_train_val)\n",
        "\n",
        "Lasso_model_scores_polynomial = {'Mean Squared Error': mean_squared_error(Lasso_model.predict(X_test), y_test),\n",
        "                                 'Mean Absolute Error': mean_absolute_error(Lasso_model.predict(X_test), y_test),\n",
        "                                 'r2': Lasso_model.score(X_train_val, y_train_val),\n",
        "                                 'adj r2': 1 - (1-Lasso_model.score(X_train_val, y_train_val))*(len(y_train_val)-1)/(len(y_train_val)-X_train_val.shape[1]-1)}\n",
        "\n",
        "print(Lasso_model_scores_polynomial)"
      ],
      "execution_count": 98,
      "outputs": [
        {
          "output_type": "stream",
          "name": "stdout",
          "text": [
            "{'Mean Squared Error': 2088664348868614.8, 'Mean Absolute Error': 31076955.3949388, 'r2': 0.04159373528893329, 'adj r2': 0.04002668776651497}\n"
          ]
        },
        {
          "output_type": "stream",
          "name": "stderr",
          "text": [
            "/usr/local/lib/python3.7/dist-packages/sklearn/linear_model/_coordinate_descent.py:476: ConvergenceWarning: Objective did not converge. You might want to increase the number of iterations. Duality gap: 3.313645606285685e+18, tolerance: 691490806740369.1\n",
            "  positive)\n"
          ]
        }
      ]
    },
    {
      "cell_type": "code",
      "metadata": {
        "colab": {
          "base_uri": "https://localhost:8080/"
        },
        "id": "62NSoN04XnGw",
        "outputId": "0fe24e5c-59a2-4cc6-bc7d-62a4f00cf18c"
      },
      "source": [
        "# Ridge()\n",
        "Ridge_model = make_pipeline(PolynomialFeatures(3), Ridge())\n",
        "Ridge_model.fit(X_train_val, y_train_val)\n",
        "\n",
        "Ridge_model_scores_polynomial = {'Mean Squared Error': mean_squared_error(Ridge_model.predict(X_test), y_test),\n",
        "                                 'Mean Absolute Error': mean_absolute_error(Ridge_model.predict(X_test), y_test),\n",
        "                                 'r2': Ridge_model.score(X_train_val, y_train_val),\n",
        "                                 'adj r2': 1 - (1-Ridge_model.score(X_train_val, y_train_val))*(len(y_train_val)-1)/(len(y_train_val)-X_train_val.shape[1]-1)}\n",
        "\n",
        "print(Ridge_model_scores_polynomial)"
      ],
      "execution_count": 102,
      "outputs": [
        {
          "output_type": "stream",
          "name": "stdout",
          "text": [
            "{'Mean Squared Error': 2113516642758446.5, 'Mean Absolute Error': 31218857.51126697, 'r2': 0.045247826064829806, 'adj r2': 0.043686753183967864}\n"
          ]
        },
        {
          "output_type": "stream",
          "name": "stderr",
          "text": [
            "/usr/local/lib/python3.7/dist-packages/sklearn/linear_model/_ridge.py:148: LinAlgWarning: Ill-conditioned matrix (rcond=7.60866e-46): result may not be accurate.\n",
            "  overwrite_a=True).T\n"
          ]
        }
      ]
    },
    {
      "cell_type": "code",
      "metadata": {
        "colab": {
          "base_uri": "https://localhost:8080/"
        },
        "id": "IPJA4CD2WChD",
        "outputId": "42980da2-40ed-43bb-a209-6716e0c98cab"
      },
      "source": [
        "# ElasticNet()\n",
        "ElasticNet_model = make_pipeline(PolynomialFeatures(3), ElasticNet())\n",
        "ElasticNet_model.fit(X_train_val, y_train_val)\n",
        "\n",
        "ElasticNet_model_scores_polynomial = {'Mean Squared Error': mean_squared_error(ElasticNet_model.predict(X_test), y_test),\n",
        "                                 'Mean Absolute Error': mean_absolute_error(ElasticNet_model.predict(X_test), y_test),\n",
        "                                 'r2': ElasticNet_model.score(X_train_val, y_train_val),\n",
        "                                 'adj r2': 1 - (1-ElasticNet_model.score(X_train_val, y_train_val))*(len(y_train_val)-1)/(len(y_train_val)-X_train_val.shape[1]-1)}\n",
        "\n",
        "print(ElasticNet_model_scores_polynomial)"
      ],
      "execution_count": 103,
      "outputs": [
        {
          "output_type": "stream",
          "name": "stdout",
          "text": [
            "{'Mean Squared Error': 2088665058422853.5, 'Mean Absolute Error': 31076790.924558677, 'r2': 0.04159402504178311, 'adj r2': 0.04002697799312671}\n"
          ]
        },
        {
          "output_type": "stream",
          "name": "stderr",
          "text": [
            "/usr/local/lib/python3.7/dist-packages/sklearn/linear_model/_coordinate_descent.py:476: ConvergenceWarning: Objective did not converge. You might want to increase the number of iterations. Duality gap: 3.313659156297242e+18, tolerance: 691490806740369.1\n",
            "  positive)\n"
          ]
        }
      ]
    },
    {
      "cell_type": "code",
      "metadata": {
        "id": "LPYFOq6YWCK2",
        "colab": {
          "base_uri": "https://localhost:8080/"
        },
        "outputId": "c88bbc71-8a2c-430b-d359-1bdd1200b19c"
      },
      "source": [
        "print(Ridge_model_scores_polynomial)\n",
        "print(Lasso_model_scores_polynomial)\n",
        "print(ElasticNet_model_scores_polynomial)\n",
        "print(LR_model_scores_polynomial)"
      ],
      "execution_count": 104,
      "outputs": [
        {
          "output_type": "stream",
          "name": "stdout",
          "text": [
            "{'Mean Squared Error': 2113516642758446.5, 'Mean Absolute Error': 31218857.51126697, 'r2': 0.045247826064829806, 'adj r2': 0.043686753183967864}\n",
            "{'Mean Squared Error': 2088664348868614.8, 'Mean Absolute Error': 31076955.3949388, 'r2': 0.04159373528893329, 'adj r2': 0.04002668776651497}\n",
            "{'Mean Squared Error': 2088665058422853.5, 'Mean Absolute Error': 31076790.924558677, 'r2': 0.04159402504178311, 'adj r2': 0.04002697799312671}\n",
            "{'Mean Squared Error': 3471289877115589.0, 'Mean Absolute Error': 34889086.42171568, 'r2': -0.4157151995284766, 'adj r2': -0.43927733358036064}\n"
          ]
        }
      ]
    },
    {
      "cell_type": "markdown",
      "metadata": {
        "id": "MvdtTWY_NI4V"
      },
      "source": [
        "### Grouping by unit"
      ]
    },
    {
      "cell_type": "code",
      "metadata": {
        "id": "grnJgG2erdqN",
        "colab": {
          "base_uri": "https://localhost:8080/",
          "height": 204
        },
        "outputId": "28dd0a4a-9d3f-4b33-80bb-9aed0eb5e72d"
      },
      "source": [
        "df.head()"
      ],
      "execution_count": null,
      "outputs": [
        {
          "output_type": "execute_result",
          "data": {
            "text/html": [
              "<div>\n",
              "<style scoped>\n",
              "    .dataframe tbody tr th:only-of-type {\n",
              "        vertical-align: middle;\n",
              "    }\n",
              "\n",
              "    .dataframe tbody tr th {\n",
              "        vertical-align: top;\n",
              "    }\n",
              "\n",
              "    .dataframe thead th {\n",
              "        text-align: right;\n",
              "    }\n",
              "</style>\n",
              "<table border=\"1\" class=\"dataframe\">\n",
              "  <thead>\n",
              "    <tr style=\"text-align: right;\">\n",
              "      <th></th>\n",
              "      <th>company_name_x</th>\n",
              "      <th>device</th>\n",
              "      <th>units</th>\n",
              "      <th>channel_name</th>\n",
              "      <th>likes_number</th>\n",
              "      <th>views_count</th>\n",
              "      <th>dislikes_number</th>\n",
              "      <th>commens_count</th>\n",
              "      <th>video_duration</th>\n",
              "    </tr>\n",
              "  </thead>\n",
              "  <tbody>\n",
              "    <tr>\n",
              "      <th>0</th>\n",
              "      <td>APPLE</td>\n",
              "      <td>IPHONE 12 PRO MAX</td>\n",
              "      <td>29000000.0</td>\n",
              "      <td>MKBHD</td>\n",
              "      <td>289750.0</td>\n",
              "      <td>6380863.0</td>\n",
              "      <td>6569.0</td>\n",
              "      <td>19865.0</td>\n",
              "      <td>1505</td>\n",
              "    </tr>\n",
              "    <tr>\n",
              "      <th>1</th>\n",
              "      <td>APPLE</td>\n",
              "      <td>IPHONE 12 PRO MAX</td>\n",
              "      <td>29000000.0</td>\n",
              "      <td>MKBHD</td>\n",
              "      <td>170900.0</td>\n",
              "      <td>5512865.0</td>\n",
              "      <td>3293.0</td>\n",
              "      <td>12763.0</td>\n",
              "      <td>609</td>\n",
              "    </tr>\n",
              "    <tr>\n",
              "      <th>2</th>\n",
              "      <td>APPLE</td>\n",
              "      <td>IPHONE 12 PRO MAX</td>\n",
              "      <td>29000000.0</td>\n",
              "      <td>MKBHD</td>\n",
              "      <td>230897.0</td>\n",
              "      <td>6736834.0</td>\n",
              "      <td>6498.0</td>\n",
              "      <td>27074.0</td>\n",
              "      <td>1105</td>\n",
              "    </tr>\n",
              "    <tr>\n",
              "      <th>3</th>\n",
              "      <td>APPLE</td>\n",
              "      <td>IPHONE 12 PRO MAX</td>\n",
              "      <td>29000000.0</td>\n",
              "      <td>MRWHOSETHEBOSS</td>\n",
              "      <td>226495.0</td>\n",
              "      <td>3954624.0</td>\n",
              "      <td>6898.0</td>\n",
              "      <td>23637.0</td>\n",
              "      <td>968</td>\n",
              "    </tr>\n",
              "    <tr>\n",
              "      <th>4</th>\n",
              "      <td>APPLE</td>\n",
              "      <td>IPHONE 12 PRO MAX</td>\n",
              "      <td>29000000.0</td>\n",
              "      <td>MRWHOSETHEBOSS</td>\n",
              "      <td>155226.0</td>\n",
              "      <td>4382765.0</td>\n",
              "      <td>2691.0</td>\n",
              "      <td>13550.0</td>\n",
              "      <td>593</td>\n",
              "    </tr>\n",
              "  </tbody>\n",
              "</table>\n",
              "</div>"
            ],
            "text/plain": [
              "  company_name_x             device  ...  commens_count video_duration\n",
              "0          APPLE  IPHONE 12 PRO MAX  ...        19865.0           1505\n",
              "1          APPLE  IPHONE 12 PRO MAX  ...        12763.0            609\n",
              "2          APPLE  IPHONE 12 PRO MAX  ...        27074.0           1105\n",
              "3          APPLE  IPHONE 12 PRO MAX  ...        23637.0            968\n",
              "4          APPLE  IPHONE 12 PRO MAX  ...        13550.0            593\n",
              "\n",
              "[5 rows x 9 columns]"
            ]
          },
          "metadata": {},
          "execution_count": 156
        }
      ]
    },
    {
      "cell_type": "code",
      "metadata": {
        "colab": {
          "base_uri": "https://localhost:8080/"
        },
        "id": "4ZB67UVNP8Y5",
        "outputId": "885b5958-e1e4-49b6-ee45-f80090fcc2d8"
      },
      "source": [
        "df_goupedby_units = df.groupby(['units'])['likes_number',\t'views_count',\t'dislikes_number',\t'commens_count',\t'video_duration'].mean()\n",
        "df_goupedby_units.reset_index(inplace = True)"
      ],
      "execution_count": 105,
      "outputs": [
        {
          "output_type": "stream",
          "name": "stderr",
          "text": [
            "/usr/local/lib/python3.7/dist-packages/ipykernel_launcher.py:1: FutureWarning: Indexing with multiple keys (implicitly converted to a tuple of keys) will be deprecated, use a list instead.\n",
            "  \"\"\"Entry point for launching an IPython kernel.\n"
          ]
        }
      ]
    },
    {
      "cell_type": "code",
      "metadata": {
        "id": "OCpR688rP8Jk"
      },
      "source": [
        "X = df_goupedby_units.drop(columns='units')\n",
        "y = df_goupedby_units['units']"
      ],
      "execution_count": 106,
      "outputs": []
    },
    {
      "cell_type": "code",
      "metadata": {
        "id": "_yeWEKFzP8Cg"
      },
      "source": [
        "X_train_val, X_test, y_train_val, y_test = train_test_split(X, y, test_size=0.2)"
      ],
      "execution_count": 107,
      "outputs": []
    },
    {
      "cell_type": "code",
      "metadata": {
        "colab": {
          "base_uri": "https://localhost:8080/"
        },
        "id": "crMGr_00P77H",
        "outputId": "259d75b9-827a-41d0-a968-b9dfb87311d7"
      },
      "source": [
        "# LinearRegression()\n",
        "kf = KFold(10, shuffle = True)\n",
        "\n",
        "mae = []\n",
        "mse = []\n",
        "r2 = []\n",
        "adj_r2 = []\n",
        "\n",
        "for train_ind, val_ind in kf.split(X_train_val):\n",
        "    X_train, X_val = X.iloc[train_ind], X.iloc[val_ind]\n",
        "    y_train, y_val = y.iloc[train_ind], y.iloc[val_ind]\n",
        "\n",
        "    model = LinearRegression()\n",
        "    model.fit(X_train, y_train)\n",
        "    y_pred = model.predict(X_val)\n",
        "    \n",
        "    mae_ = mean_absolute_error(y_pred, y_val)\n",
        "    mse_ = mean_squared_error(y_pred, y_val)\n",
        "    r2_ = model.score(X_val, y_val)\n",
        "    adj_r2_ = 1 - (1-r2_)*(len(y_val)-1)/(len(y_val)-X_val.shape[1]-1)\n",
        "    \n",
        "    mae.append(mae_)\n",
        "    mse.append(mse_)\n",
        "    r2.append(r2_)\n",
        "    adj_r2.append(adj_r2_)\n",
        "    \n",
        "LR_model_scores_GBU = {'Mean Squared Error': np.mean(mse),\n",
        "                   'Mean Absolute Error': np.mean(mae),\n",
        "                   'r2': np.mean(r2),\n",
        "                   'adj r2': np.mean(adj_r2)}\n",
        "\n",
        "print(LR_model_scores_GBU)"
      ],
      "execution_count": 108,
      "outputs": [
        {
          "output_type": "stream",
          "name": "stdout",
          "text": [
            "{'Mean Squared Error': 323755082636291.7, 'Mean Absolute Error': 14984077.641091924, 'r2': -38.416337606836265, 'adj r2': 14.094199577913301}\n"
          ]
        }
      ]
    },
    {
      "cell_type": "code",
      "metadata": {
        "colab": {
          "base_uri": "https://localhost:8080/"
        },
        "id": "mwmpo9ScP7vY",
        "outputId": "1a61654d-8b50-4932-e17f-05f7b330d9ce"
      },
      "source": [
        "# Lasso()\n",
        "kf = KFold(10, shuffle = True)\n",
        "params = {'alpha': np.linspace(0.0001,10,100)}\n",
        "Lasso_model = GridSearchCV(Lasso(), param_grid=params, cv = kf, verbose=1)\n",
        "Lasso_model.fit(X_train_val, y_train_val)\n",
        "model_best = Lasso_model.best_estimator_\n",
        "model_best.fit(X_train_val, y_train_val)\n",
        "\n",
        "print(model_best)\n",
        "print(model_best.coef_)\n",
        "Lasso_model_scores_GBU = {'Mean Squared Error': mean_squared_error(model_best.predict(X_test), y_test),\n",
        "                      'Mean Absolute Error': mean_absolute_error(model_best.predict(X_test), y_test),\n",
        "                      'r2': model_best.score(X_train_val, y_train_val),\n",
        "                      'adj r2': 1 - (1-model_best.score(X_train_val, y_train_val))*(len(y_train_val)-1)/(len(y_train_val)-X_train_val.shape[1]-1)}\n",
        "\n",
        "print(Lasso_model_scores_GBU)"
      ],
      "execution_count": 109,
      "outputs": [
        {
          "output_type": "stream",
          "name": "stdout",
          "text": [
            "Fitting 10 folds for each of 100 candidates, totalling 1000 fits\n"
          ]
        },
        {
          "output_type": "stream",
          "name": "stderr",
          "text": [
            "[Parallel(n_jobs=1)]: Using backend SequentialBackend with 1 concurrent workers.\n",
            "/usr/local/lib/python3.7/dist-packages/sklearn/linear_model/_coordinate_descent.py:476: ConvergenceWarning: Objective did not converge. You might want to increase the number of iterations. Duality gap: 1.7009795447696698e+16, tolerance: 4791836897374.783\n",
            "  positive)\n",
            "/usr/local/lib/python3.7/dist-packages/sklearn/linear_model/_coordinate_descent.py:476: ConvergenceWarning: Objective did not converge. You might want to increase the number of iterations. Duality gap: 1.7136826248172584e+16, tolerance: 4738169938961.739\n",
            "  positive)\n",
            "/usr/local/lib/python3.7/dist-packages/sklearn/linear_model/_coordinate_descent.py:476: ConvergenceWarning: Objective did not converge. You might want to increase the number of iterations. Duality gap: 1.6991291725761832e+16, tolerance: 4752493222405.217\n",
            "  positive)\n",
            "/usr/local/lib/python3.7/dist-packages/sklearn/linear_model/_coordinate_descent.py:476: ConvergenceWarning: Objective did not converge. You might want to increase the number of iterations. Duality gap: 1.5362442955509618e+16, tolerance: 4762549245799.132\n",
            "  positive)\n",
            "/usr/local/lib/python3.7/dist-packages/sklearn/linear_model/_coordinate_descent.py:476: ConvergenceWarning: Objective did not converge. You might want to increase the number of iterations. Duality gap: 1.7232463622379888e+16, tolerance: 4753780891249.566\n",
            "  positive)\n",
            "/usr/local/lib/python3.7/dist-packages/sklearn/linear_model/_coordinate_descent.py:476: ConvergenceWarning: Objective did not converge. You might want to increase the number of iterations. Duality gap: 1.7408723435799872e+16, tolerance: 4751256026440.0\n",
            "  positive)\n",
            "/usr/local/lib/python3.7/dist-packages/sklearn/linear_model/_coordinate_descent.py:476: ConvergenceWarning: Objective did not converge. You might want to increase the number of iterations. Duality gap: 2857237514367940.0, tolerance: 1661006992477.501\n",
            "  positive)\n",
            "/usr/local/lib/python3.7/dist-packages/sklearn/linear_model/_coordinate_descent.py:476: ConvergenceWarning: Objective did not converge. You might want to increase the number of iterations. Duality gap: 1.5591626780878104e+16, tolerance: 4855070528415.0\n",
            "  positive)\n",
            "/usr/local/lib/python3.7/dist-packages/sklearn/linear_model/_coordinate_descent.py:476: ConvergenceWarning: Objective did not converge. You might want to increase the number of iterations. Duality gap: 1.694574429121241e+16, tolerance: 4703629358740.002\n",
            "  positive)\n",
            "/usr/local/lib/python3.7/dist-packages/sklearn/linear_model/_coordinate_descent.py:476: ConvergenceWarning: Objective did not converge. You might want to increase the number of iterations. Duality gap: 1.480890695284723e+16, tolerance: 4583523862665.001\n",
            "  positive)\n",
            "/usr/local/lib/python3.7/dist-packages/sklearn/linear_model/_coordinate_descent.py:476: ConvergenceWarning: Objective did not converge. You might want to increase the number of iterations. Duality gap: 289983083238984.0, tolerance: 4751256026440.0\n",
            "  positive)\n"
          ]
        },
        {
          "output_type": "stream",
          "name": "stdout",
          "text": [
            "Lasso(alpha=10.0, copy_X=True, fit_intercept=True, max_iter=1000,\n",
            "      normalize=False, positive=False, precompute=False, random_state=None,\n",
            "      selection='cyclic', tol=0.0001, warm_start=False)\n",
            "[ 8.28339095e+02 -3.17102630e+01  2.61393191e+04  3.25679305e+02\n",
            " -2.40576008e+05]\n",
            "{'Mean Squared Error': 832159486382303.8, 'Mean Absolute Error': 24093566.405033343, 'r2': 0.27163320236229394, 'adj r2': 0.08954150295286745}\n"
          ]
        },
        {
          "output_type": "stream",
          "name": "stderr",
          "text": [
            "[Parallel(n_jobs=1)]: Done 1000 out of 1000 | elapsed:    3.7s finished\n"
          ]
        }
      ]
    },
    {
      "cell_type": "code",
      "metadata": {
        "colab": {
          "base_uri": "https://localhost:8080/"
        },
        "id": "UqV4-68LP7mn",
        "outputId": "cfe1bfde-17dc-4675-ab99-4881c1142077"
      },
      "source": [
        "# Ridge()\n",
        "kf = KFold(10, shuffle = True)\n",
        "params = {'alpha': np.linspace(0.0001,10,100)}\n",
        "Ridge_model = GridSearchCV(Ridge(), param_grid=params, cv = kf, verbose=1)\n",
        "Ridge_model.fit(X_train_val, y_train_val)\n",
        "model_best = Ridge_model.best_estimator_\n",
        "model_best.fit(X_train_val, y_train_val)\n",
        "\n",
        "print(model_best)\n",
        "print(model_best.coef_)\n",
        "Ridge_model_scores_GBU = {'Mean Squared Error': mean_squared_error(model_best.predict(X_test), y_test),\n",
        "                      'Mean Absolute Error': mean_absolute_error(model_best.predict(X_test), y_test),\n",
        "                      'r2': model_best.score(X_train_val, y_train_val),\n",
        "                      'adj r2': 1 - (1-model_best.score(X_train_val, y_train_val))*(len(y_train_val)-1)/(len(y_train_val)-X_train_val.shape[1]-1)}\n",
        "\n",
        "print(Ridge_model_scores_GBU)"
      ],
      "execution_count": 110,
      "outputs": [
        {
          "output_type": "stream",
          "name": "stdout",
          "text": [
            "Fitting 10 folds for each of 100 candidates, totalling 1000 fits\n"
          ]
        },
        {
          "output_type": "stream",
          "name": "stderr",
          "text": [
            "[Parallel(n_jobs=1)]: Using backend SequentialBackend with 1 concurrent workers.\n"
          ]
        },
        {
          "output_type": "stream",
          "name": "stdout",
          "text": [
            "Ridge(alpha=10.0, copy_X=True, fit_intercept=True, max_iter=None,\n",
            "      normalize=False, random_state=None, solver='auto', tol=0.001)\n",
            "[ 8.28267771e+02 -3.17087757e+01  2.61386910e+04  3.25729383e+02\n",
            " -2.40560541e+05]\n",
            "{'Mean Squared Error': 832144241957381.4, 'Mean Absolute Error': 24093672.602382388, 'r2': 0.27163320160646365, 'adj r2': 0.08954150200807953}\n"
          ]
        },
        {
          "output_type": "stream",
          "name": "stderr",
          "text": [
            "[Parallel(n_jobs=1)]: Done 1000 out of 1000 | elapsed:    3.5s finished\n"
          ]
        }
      ]
    },
    {
      "cell_type": "code",
      "metadata": {
        "colab": {
          "base_uri": "https://localhost:8080/"
        },
        "id": "n3t-0mjeTEFa",
        "outputId": "6f11f045-db35-434f-c17c-0a21030912e2"
      },
      "source": [
        "# ElasticNet()\n",
        "kf = KFold(10, shuffle = True)\n",
        "params = {'alpha': np.linspace(0.0001,10,100)}\n",
        "ElasticNet_model = GridSearchCV(ElasticNet(), param_grid=params, cv = kf, verbose=1)\n",
        "ElasticNet_model.fit(X_train_val, y_train_val)\n",
        "model_best = ElasticNet_model.best_estimator_\n",
        "model_best.fit(X_train_val, y_train_val)\n",
        "\n",
        "print(model_best)\n",
        "print(model_best.coef_)\n",
        "ElasticNet_model_scores_GBU = {'Mean Squared Error': mean_squared_error(model_best.predict(X_test), y_test),\n",
        "                           'Mean Absolute Error': mean_absolute_error(model_best.predict(X_test), y_test),\n",
        "                           'r2': model_best.score(X_train_val, y_train_val),\n",
        "                           'adj r2': 1 - (1-model_best.score(X_train_val, y_train_val))*(len(y_train_val)-1)/(len(y_train_val)-X_train_val.shape[1]-1)}\n",
        "\n",
        "print(ElasticNet_model_scores_GBU)"
      ],
      "execution_count": 111,
      "outputs": [
        {
          "output_type": "stream",
          "name": "stdout",
          "text": [
            "Fitting 10 folds for each of 100 candidates, totalling 1000 fits\n"
          ]
        },
        {
          "output_type": "stream",
          "name": "stderr",
          "text": [
            "[Parallel(n_jobs=1)]: Using backend SequentialBackend with 1 concurrent workers.\n",
            "/usr/local/lib/python3.7/dist-packages/sklearn/linear_model/_coordinate_descent.py:476: ConvergenceWarning: Objective did not converge. You might want to increase the number of iterations. Duality gap: 1.4938270401011832e+16, tolerance: 4468059506961.741\n",
            "  positive)\n",
            "/usr/local/lib/python3.7/dist-packages/sklearn/linear_model/_coordinate_descent.py:476: ConvergenceWarning: Objective did not converge. You might want to increase the number of iterations. Duality gap: 1.6802912614542964e+16, tolerance: 4795283854418.263\n",
            "  positive)\n",
            "/usr/local/lib/python3.7/dist-packages/sklearn/linear_model/_coordinate_descent.py:476: ConvergenceWarning: Objective did not converge. You might want to increase the number of iterations. Duality gap: 1.7532662749269886e+16, tolerance: 4721702630206.088\n",
            "  positive)\n",
            "/usr/local/lib/python3.7/dist-packages/sklearn/linear_model/_coordinate_descent.py:476: ConvergenceWarning: Objective did not converge. You might want to increase the number of iterations. Duality gap: 1.6587399675116068e+16, tolerance: 4628837917132.175\n",
            "  positive)\n",
            "/usr/local/lib/python3.7/dist-packages/sklearn/linear_model/_coordinate_descent.py:476: ConvergenceWarning: Objective did not converge. You might want to increase the number of iterations. Duality gap: 1.7637413785369392e+16, tolerance: 4922836897374.783\n",
            "  positive)\n",
            "/usr/local/lib/python3.7/dist-packages/sklearn/linear_model/_coordinate_descent.py:476: ConvergenceWarning: Objective did not converge. You might want to increase the number of iterations. Duality gap: 1.6805748236922878e+16, tolerance: 4829274463503.4795\n",
            "  positive)\n",
            "/usr/local/lib/python3.7/dist-packages/sklearn/linear_model/_coordinate_descent.py:476: ConvergenceWarning: Objective did not converge. You might want to increase the number of iterations. Duality gap: 1.6973609210490046e+16, tolerance: 4641753858415.002\n",
            "  positive)\n",
            "/usr/local/lib/python3.7/dist-packages/sklearn/linear_model/_coordinate_descent.py:476: ConvergenceWarning: Objective did not converge. You might want to increase the number of iterations. Duality gap: 3484124504220456.0, tolerance: 1670061369540.001\n",
            "  positive)\n",
            "/usr/local/lib/python3.7/dist-packages/sklearn/linear_model/_coordinate_descent.py:476: ConvergenceWarning: Objective did not converge. You might want to increase the number of iterations. Duality gap: 1.5944392158655802e+16, tolerance: 4768970525915.001\n",
            "  positive)\n",
            "/usr/local/lib/python3.7/dist-packages/sklearn/linear_model/_coordinate_descent.py:476: ConvergenceWarning: Objective did not converge. You might want to increase the number of iterations. Duality gap: 1.5469194574023484e+16, tolerance: 4856790527665.001\n",
            "  positive)\n",
            "/usr/local/lib/python3.7/dist-packages/sklearn/linear_model/_coordinate_descent.py:476: ConvergenceWarning: Objective did not converge. You might want to increase the number of iterations. Duality gap: 190022507808980.0, tolerance: 4795283854418.263\n",
            "  positive)\n",
            "/usr/local/lib/python3.7/dist-packages/sklearn/linear_model/_coordinate_descent.py:476: ConvergenceWarning: Objective did not converge. You might want to increase the number of iterations. Duality gap: 1501705031286104.0, tolerance: 4721702630206.088\n",
            "  positive)\n"
          ]
        },
        {
          "output_type": "stream",
          "name": "stdout",
          "text": [
            "ElasticNet(alpha=10.0, copy_X=True, fit_intercept=True, l1_ratio=0.5,\n",
            "           max_iter=1000, normalize=False, positive=False, precompute=False,\n",
            "           random_state=None, selection='cyclic', tol=0.0001, warm_start=False)\n",
            "[ 8.27412486e+02 -3.16909404e+01  2.61311595e+04  3.26329882e+02\n",
            " -2.40375071e+05]\n",
            "{'Mean Squared Error': 831961614730531.1, 'Mean Absolute Error': 24094946.14059974, 'r2': 0.271633074822179, 'adj r2': 0.0895413435277238}\n"
          ]
        },
        {
          "output_type": "stream",
          "name": "stderr",
          "text": [
            "[Parallel(n_jobs=1)]: Done 1000 out of 1000 | elapsed:    3.6s finished\n"
          ]
        }
      ]
    },
    {
      "cell_type": "code",
      "metadata": {
        "colab": {
          "base_uri": "https://localhost:8080/"
        },
        "id": "Ya5SwaRD7h6S",
        "outputId": "c17e4abf-a01d-4167-df96-eb1df1937fbc"
      },
      "source": [
        "print(Ridge_model_scores_GBU)\n",
        "print(Lasso_model_scores_GBU)\n",
        "print(ElasticNet_model_scores_GBU)\n",
        "print(LR_model_scores_GBU)"
      ],
      "execution_count": 114,
      "outputs": [
        {
          "output_type": "stream",
          "name": "stdout",
          "text": [
            "{'Mean Squared Error': 832144241957381.4, 'Mean Absolute Error': 24093672.602382388, 'r2': 0.27163320160646365, 'adj r2': 0.08954150200807953}\n",
            "{'Mean Squared Error': 832159486382303.8, 'Mean Absolute Error': 24093566.405033343, 'r2': 0.27163320236229394, 'adj r2': 0.08954150295286745}\n",
            "{'Mean Squared Error': 831961614730531.1, 'Mean Absolute Error': 24094946.14059974, 'r2': 0.271633074822179, 'adj r2': 0.0895413435277238}\n",
            "{'Mean Squared Error': 323755082636291.7, 'Mean Absolute Error': 14984077.641091924, 'r2': -38.416337606836265, 'adj r2': 14.094199577913301}\n"
          ]
        }
      ]
    },
    {
      "cell_type": "markdown",
      "metadata": {
        "id": "8Q1cpoShca8e"
      },
      "source": [
        "### Extra Experiment: We'll predict the views_count by training the model on the likes, dislikes, comments, and the video duration."
      ]
    },
    {
      "cell_type": "code",
      "metadata": {
        "id": "3xsM1BlNcARz"
      },
      "source": [
        "X = df[['likes_number',\t'dislikes_number',\t'commens_count',\t'video_duration']]\n",
        "y = df['views_count']"
      ],
      "execution_count": 115,
      "outputs": []
    },
    {
      "cell_type": "code",
      "metadata": {
        "id": "rvaeEnSHbpnY"
      },
      "source": [
        "X_train_val, X_test, y_train_val, y_test = train_test_split(X, y, test_size=0.2)"
      ],
      "execution_count": 116,
      "outputs": []
    },
    {
      "cell_type": "code",
      "metadata": {
        "colab": {
          "base_uri": "https://localhost:8080/"
        },
        "id": "TKFIXz-kbpPx",
        "outputId": "4cd9089a-e571-4976-cca6-c1b0569a866a"
      },
      "source": [
        "# LinearRegression()\n",
        "kf = KFold(10, shuffle = True)\n",
        "\n",
        "mae = []\n",
        "mse = []\n",
        "r2 = []\n",
        "adj_r2 = []\n",
        "\n",
        "for train_ind, val_ind in kf.split(X_train_val):\n",
        "    X_train, X_val = X.iloc[train_ind], X.iloc[val_ind]\n",
        "    y_train, y_val = y.iloc[train_ind], y.iloc[val_ind]\n",
        "\n",
        "    model = LinearRegression()\n",
        "    model.fit(X_train, y_train)\n",
        "    y_pred = model.predict(X_val)\n",
        "    \n",
        "    mae_ = mean_absolute_error(y_pred, y_val)\n",
        "    mse_ = mean_squared_error(y_pred, y_val)\n",
        "    r2_ = model.score(X_val, y_val)\n",
        "    adj_r2_ = 1 - (1-r2_)*(len(y_val)-1)/(len(y_val)-X_val.shape[1]-1)\n",
        "    \n",
        "    mae.append(mae_)\n",
        "    mse.append(mse_)\n",
        "    r2.append(r2_)\n",
        "    adj_r2.append(adj_r2_)\n",
        "    \n",
        "LR_model_scores_EXTRA = {'Mean Squared Error': np.mean(mse),\n",
        "                   'Mean Absolute Error': np.mean(mae),\n",
        "                   'r2': np.mean(r2),\n",
        "                   'adj r2': np.mean(adj_r2)}\n",
        "\n",
        "print(LR_model_scores_EXTRA)"
      ],
      "execution_count": 117,
      "outputs": [
        {
          "output_type": "stream",
          "name": "stdout",
          "text": [
            "{'Mean Squared Error': 1863240985512.0864, 'Mean Absolute Error': 805668.6500771141, 'r2': 0.6993030587207767, 'adj r2': 0.6953118682900089}\n"
          ]
        }
      ]
    },
    {
      "cell_type": "code",
      "metadata": {
        "colab": {
          "base_uri": "https://localhost:8080/"
        },
        "id": "0WBuCZ8mbpLf",
        "outputId": "4d067985-4637-4764-ab58-626eec87d85b"
      },
      "source": [
        "# Lasso()\n",
        "kf = KFold(10, shuffle = True)\n",
        "params = {'alpha': np.linspace(0.0001,10,100)}\n",
        "Lasso_model = GridSearchCV(Lasso(), param_grid=params, cv = kf, verbose=1)\n",
        "Lasso_model.fit(X_train_val, y_train_val)\n",
        "model_best = Lasso_model.best_estimator_\n",
        "model_best.fit(X_train_val, y_train_val)\n",
        "\n",
        "print(model_best)\n",
        "print(model_best.coef_)\n",
        "Lasso_model_scores_EXTRA = {'Mean Squared Error': mean_squared_error(model_best.predict(X_test), y_test),\n",
        "                      'Mean Absolute Error': mean_absolute_error(model_best.predict(X_test), y_test),\n",
        "                      'r2': model_best.score(X_train_val, y_train_val),\n",
        "                      'adj r2': 1 - (1-model_best.score(X_train_val, y_train_val))*(len(y_train_val)-1)/(len(y_train_val)-X_train_val.shape[1]-1)}\n",
        "\n",
        "print(Lasso_model_scores_EXTRA)"
      ],
      "execution_count": 118,
      "outputs": [
        {
          "output_type": "stream",
          "name": "stdout",
          "text": [
            "Fitting 10 folds for each of 100 candidates, totalling 1000 fits\n"
          ]
        },
        {
          "output_type": "stream",
          "name": "stderr",
          "text": [
            "[Parallel(n_jobs=1)]: Using backend SequentialBackend with 1 concurrent workers.\n"
          ]
        },
        {
          "output_type": "stream",
          "name": "stdout",
          "text": [
            "Lasso(alpha=10.0, copy_X=True, fit_intercept=True, max_iter=1000,\n",
            "      normalize=False, positive=False, precompute=False, random_state=None,\n",
            "      selection='cyclic', tol=0.0001, warm_start=False)\n",
            "[  34.18698154   67.93581924    8.08183577 -293.90193657]\n",
            "{'Mean Squared Error': 2175361366938.7249, 'Mean Absolute Error': 845008.0118464333, 'r2': 0.7074235009676139, 'adj r2': 0.7070409230022233}\n"
          ]
        },
        {
          "output_type": "stream",
          "name": "stderr",
          "text": [
            "[Parallel(n_jobs=1)]: Done 1000 out of 1000 | elapsed:    6.3s finished\n"
          ]
        }
      ]
    },
    {
      "cell_type": "code",
      "metadata": {
        "colab": {
          "base_uri": "https://localhost:8080/"
        },
        "id": "A3xzxibIbpGs",
        "outputId": "ae12d12a-eb80-46d1-fff9-274c1564e4c4"
      },
      "source": [
        "# Ridge()\n",
        "kf = KFold(10, shuffle = True)\n",
        "params = {'alpha': np.linspace(0.0001,10,100)}\n",
        "Ridge_model = GridSearchCV(Ridge(), param_grid=params, cv = kf, verbose=1)\n",
        "Ridge_model.fit(X_train_val, y_train_val)\n",
        "model_best = Ridge_model.best_estimator_\n",
        "model_best.fit(X_train_val, y_train_val)\n",
        "\n",
        "print(model_best)\n",
        "print(model_best.coef_)\n",
        "Ridge_model_scores_EXTRA = {'Mean Squared Error': mean_squared_error(model_best.predict(X_test), y_test),\n",
        "                      'Mean Absolute Error': mean_absolute_error(model_best.predict(X_test), y_test),\n",
        "                      'r2': model_best.score(X_train_val, y_train_val),\n",
        "                      'adj r2': 1 - (1-model_best.score(X_train_val, y_train_val))*(len(y_train_val)-1)/(len(y_train_val)-X_train_val.shape[1]-1)}\n",
        "\n",
        "print(Ridge_model_scores_EXTRA)"
      ],
      "execution_count": 119,
      "outputs": [
        {
          "output_type": "stream",
          "name": "stdout",
          "text": [
            "Fitting 10 folds for each of 100 candidates, totalling 1000 fits\n"
          ]
        },
        {
          "output_type": "stream",
          "name": "stderr",
          "text": [
            "[Parallel(n_jobs=1)]: Using backend SequentialBackend with 1 concurrent workers.\n"
          ]
        },
        {
          "output_type": "stream",
          "name": "stdout",
          "text": [
            "Ridge(alpha=10.0, copy_X=True, fit_intercept=True, max_iter=None,\n",
            "      normalize=False, random_state=None, solver='auto', tol=0.001)\n",
            "[  34.18698187   67.93581957    8.08183561 -293.90218014]\n",
            "{'Mean Squared Error': 2175361355506.2341, 'Mean Absolute Error': 845008.0119921543, 'r2': 0.7074235009676144, 'adj r2': 0.7070409230022239}\n"
          ]
        },
        {
          "output_type": "stream",
          "name": "stderr",
          "text": [
            "[Parallel(n_jobs=1)]: Done 1000 out of 1000 | elapsed:    3.9s finished\n"
          ]
        }
      ]
    },
    {
      "cell_type": "code",
      "metadata": {
        "colab": {
          "base_uri": "https://localhost:8080/"
        },
        "id": "RElJmn9UbZcn",
        "outputId": "11e898d7-1f19-4897-9eae-2d7426ff1cb6"
      },
      "source": [
        "# ElasticNet()\n",
        "kf = KFold(10, shuffle = True)\n",
        "params = {'alpha': np.linspace(0.0001,10,100)}\n",
        "ElasticNet_model = GridSearchCV(ElasticNet(), param_grid=params, cv = kf, verbose=1)\n",
        "ElasticNet_model.fit(X_train_val, y_train_val)\n",
        "model_best = ElasticNet_model.best_estimator_\n",
        "model_best.fit(X_train_val, y_train_val)\n",
        "\n",
        "print(model_best)\n",
        "print(model_best.coef_)\n",
        "ElasticNet_model_scores_EXTRA = {'Mean Squared Error': mean_squared_error(model_best.predict(X_test), y_test),\n",
        "                           'Mean Absolute Error': mean_absolute_error(model_best.predict(X_test), y_test),\n",
        "                           'r2': model_best.score(X_train_val, y_train_val),\n",
        "                           'adj r2': 1 - (1-model_best.score(X_train_val, y_train_val))*(len(y_train_val)-1)/(len(y_train_val)-X_train_val.shape[1]-1)}\n",
        "\n",
        "print(ElasticNet_model_scores_EXTRA)"
      ],
      "execution_count": 120,
      "outputs": [
        {
          "output_type": "stream",
          "name": "stdout",
          "text": [
            "Fitting 10 folds for each of 100 candidates, totalling 1000 fits\n"
          ]
        },
        {
          "output_type": "stream",
          "name": "stderr",
          "text": [
            "[Parallel(n_jobs=1)]: Using backend SequentialBackend with 1 concurrent workers.\n"
          ]
        },
        {
          "output_type": "stream",
          "name": "stdout",
          "text": [
            "ElasticNet(alpha=10.0, copy_X=True, fit_intercept=True, l1_ratio=0.5,\n",
            "           max_iter=1000, normalize=False, positive=False, precompute=False,\n",
            "           random_state=None, selection='cyclic', tol=0.0001, warm_start=False)\n",
            "[  34.18692206   67.93586063    8.08186709 -293.86238464]\n",
            "{'Mean Squared Error': 2175363227854.3096, 'Mean Absolute Error': 845007.9989405065, 'r2': 0.7074235009576046, 'adj r2': 0.707040922992201}\n"
          ]
        },
        {
          "output_type": "stream",
          "name": "stderr",
          "text": [
            "[Parallel(n_jobs=1)]: Done 1000 out of 1000 | elapsed:    6.4s finished\n"
          ]
        }
      ]
    },
    {
      "cell_type": "code",
      "metadata": {
        "id": "RlZRQC0NBBcd"
      },
      "source": [
        "df_EXTRA_Scrs = pd.DataFrame([LR_model_scores_EXTRA,\n",
        "                              Lasso_model_scores_EXTRA,\n",
        "                              Ridge_model_scores_EXTRA,\n",
        "                              ElasticNet_model_scores_EXTRA],\n",
        "                              index = ['LR_scores_EXTRA',\n",
        "                              'Lasso_scores_EXTRA',\n",
        "                              'Ridge_scores_EXTRA',\n",
        "                              'ElasticNet_scores_EXTRA']\n",
        ")"
      ],
      "execution_count": 121,
      "outputs": []
    },
    {
      "cell_type": "code",
      "metadata": {
        "colab": {
          "base_uri": "https://localhost:8080/",
          "height": 173
        },
        "id": "2ACtKHdfejgY",
        "outputId": "1c283950-f825-4b3a-d734-e0e5b957ba79"
      },
      "source": [
        "df_EXTRA_Scrs"
      ],
      "execution_count": 122,
      "outputs": [
        {
          "output_type": "execute_result",
          "data": {
            "text/html": [
              "<div>\n",
              "<style scoped>\n",
              "    .dataframe tbody tr th:only-of-type {\n",
              "        vertical-align: middle;\n",
              "    }\n",
              "\n",
              "    .dataframe tbody tr th {\n",
              "        vertical-align: top;\n",
              "    }\n",
              "\n",
              "    .dataframe thead th {\n",
              "        text-align: right;\n",
              "    }\n",
              "</style>\n",
              "<table border=\"1\" class=\"dataframe\">\n",
              "  <thead>\n",
              "    <tr style=\"text-align: right;\">\n",
              "      <th></th>\n",
              "      <th>Mean Squared Error</th>\n",
              "      <th>Mean Absolute Error</th>\n",
              "      <th>r2</th>\n",
              "      <th>adj r2</th>\n",
              "    </tr>\n",
              "  </thead>\n",
              "  <tbody>\n",
              "    <tr>\n",
              "      <th>LR_scores_EXTRA</th>\n",
              "      <td>1.863241e+12</td>\n",
              "      <td>805668.650077</td>\n",
              "      <td>0.699303</td>\n",
              "      <td>0.695312</td>\n",
              "    </tr>\n",
              "    <tr>\n",
              "      <th>Lasso_scores_EXTRA</th>\n",
              "      <td>2.175361e+12</td>\n",
              "      <td>845008.011846</td>\n",
              "      <td>0.707424</td>\n",
              "      <td>0.707041</td>\n",
              "    </tr>\n",
              "    <tr>\n",
              "      <th>Ridge_scores_EXTRA</th>\n",
              "      <td>2.175361e+12</td>\n",
              "      <td>845008.011992</td>\n",
              "      <td>0.707424</td>\n",
              "      <td>0.707041</td>\n",
              "    </tr>\n",
              "    <tr>\n",
              "      <th>ElasticNet_scores_EXTRA</th>\n",
              "      <td>2.175363e+12</td>\n",
              "      <td>845007.998941</td>\n",
              "      <td>0.707424</td>\n",
              "      <td>0.707041</td>\n",
              "    </tr>\n",
              "  </tbody>\n",
              "</table>\n",
              "</div>"
            ],
            "text/plain": [
              "                         Mean Squared Error  ...    adj r2\n",
              "LR_scores_EXTRA                1.863241e+12  ...  0.695312\n",
              "Lasso_scores_EXTRA             2.175361e+12  ...  0.707041\n",
              "Ridge_scores_EXTRA             2.175361e+12  ...  0.707041\n",
              "ElasticNet_scores_EXTRA        2.175363e+12  ...  0.707041\n",
              "\n",
              "[4 rows x 4 columns]"
            ]
          },
          "metadata": {},
          "execution_count": 122
        }
      ]
    },
    {
      "cell_type": "markdown",
      "metadata": {
        "id": "TvJge5LyJL40"
      },
      "source": [
        "## Classification"
      ]
    },
    {
      "cell_type": "markdown",
      "metadata": {
        "id": "mVmQmMv38nnh"
      },
      "source": [
        "We will start by plotting the hustogram of the labels (Units Sold) to see the best way to plit our labels into intervals."
      ]
    },
    {
      "cell_type": "code",
      "metadata": {
        "colab": {
          "base_uri": "https://localhost:8080/",
          "height": 278
        },
        "id": "H6e23y_IzztU",
        "outputId": "04f09bbb-9f31-46e2-96d2-29f9729d1bd2"
      },
      "source": [
        "plt.hist(df.units, bins=35);"
      ],
      "execution_count": 123,
      "outputs": [
        {
          "output_type": "display_data",
          "data": {
            "image/png": "[encoded data removed]",
            "text/plain": [
              "<Figure size 432x288 with 1 Axes>"
            ]
          },
          "metadata": {
            "needs_background": "light"
          }
        }
      ]
    },
    {
      "cell_type": "code",
      "metadata": {
        "id": "FzAv0SJ7LrRB"
      },
      "source": [
        "X = df.drop(columns=['company_name_x',\t'device',\t'units',\t'channel_name'])\n",
        "y_ = df['units'].sort_values()"
      ],
      "execution_count": 144,
      "outputs": []
    },
    {
      "cell_type": "code",
      "metadata": {
        "id": "-OfIrle4R8aT"
      },
      "source": [
        "y = y_.copy()"
      ],
      "execution_count": 145,
      "outputs": []
    },
    {
      "cell_type": "code",
      "metadata": {
        "id": "U0Oeg0QzMIlI"
      },
      "source": [
        "y[y_<0.25e8], y[(y_>=0.25e8)&(y_<=0.75e8)], y[(y_>0.75e8)&(y_<=1e8)], y[y_>1e8] = 'A','B','C', 'D'"
      ],
      "execution_count": 146,
      "outputs": []
    },
    {
      "cell_type": "code",
      "metadata": {
        "id": "n0KeaW5yaPUc"
      },
      "source": [
        "X_train_val, X_test, y_train_val, y_test = train_test_split(X, y, test_size=0.2)"
      ],
      "execution_count": 147,
      "outputs": []
    },
    {
      "cell_type": "markdown",
      "metadata": {
        "id": "nCuVptDO91KK"
      },
      "source": [
        "### LogisticRegression()"
      ]
    },
    {
      "cell_type": "code",
      "metadata": {
        "id": "azliJFipnnp4",
        "colab": {
          "base_uri": "https://localhost:8080/"
        },
        "outputId": "4ee6894f-8dbe-4295-9f7d-e5e03619d4a8"
      },
      "source": [
        "log_reg_model = LogisticRegression(max_iter=X.shape[0]).fit(X_train_val,y_train_val)\n",
        "log_r2 = log_reg_model.score(X_test,y_test)\n",
        "y_pred = log_reg_model.predict(X_test)\n",
        "log_adj_r2 = 1 - (1-log_reg_model.score(X_train_val, y_train_val))*(len(y_train_val)-1)/(len(y_train_val)-X_train_val.shape[1]-1)\n",
        "log_reg_scores = {'adj r2': log_adj_r2, \n",
        "                  'accuracy_score': accuracy_score(y_test, y_pred)}\n",
        "print(log_reg_scores)"
      ],
      "execution_count": 148,
      "outputs": [
        {
          "output_type": "stream",
          "name": "stdout",
          "text": [
            "{'adj r2': 0.4465508651706691, 'accuracy_score': 0.48239895697522817}\n"
          ]
        }
      ]
    },
    {
      "cell_type": "markdown",
      "metadata": {
        "id": "wGE3Ej4bBFH9"
      },
      "source": [
        "### SVM"
      ]
    },
    {
      "cell_type": "code",
      "metadata": {
        "id": "BbrddCQzoVot",
        "colab": {
          "base_uri": "https://localhost:8080/"
        },
        "outputId": "f1e2d3db-ea1c-4042-95e7-7d7001c856bc"
      },
      "source": [
        "clf = svm.SVC()\n",
        "clf.fit(X_train_val, y_train_val)\n",
        "y_pred = clf.predict(X_test)\n",
        "\n",
        "svm_r2 = clf.score(X_test,y_test)\n",
        "svm_adj_r2 = 1 - (1-clf.score(X_train_val, y_train_val))*(len(y_train_val)-1)/(len(y_train_val)-X_train_val.shape[1]-1)\n",
        "\n",
        "svm_scores = {'adj r2': svm_adj_r2, \n",
        "              'accuracy_score': accuracy_score(y_test, y_pred)}\n",
        "print(svm_scores)"
      ],
      "execution_count": 151,
      "outputs": [
        {
          "output_type": "stream",
          "name": "stdout",
          "text": [
            "{'adj r2': 0.49133676680777394, 'accuracy_score': 0.516297262059974}\n"
          ]
        }
      ]
    },
    {
      "cell_type": "markdown",
      "metadata": {
        "id": "9EH6moYP-BMJ"
      },
      "source": [
        "### RandomForestRegressor()"
      ]
    },
    {
      "cell_type": "code",
      "metadata": {
        "id": "oWgVH3peDLbM"
      },
      "source": [
        "X = df_.drop(columns=['units'])\n",
        "y = df_['units'].sort_values()\n",
        "X_train_val, X_test, y_train_val, y_test = train_test_split(X, y, test_size=0.2)"
      ],
      "execution_count": 156,
      "outputs": []
    },
    {
      "cell_type": "code",
      "metadata": {
        "id": "E1ZdWHvJnnnT",
        "colab": {
          "base_uri": "https://localhost:8080/"
        },
        "outputId": "5b17ddd4-0798-4b68-9c2d-7f114e428e15"
      },
      "source": [
        "regr = RandomForestRegressor(max_depth=2)\n",
        "regr.fit(X_train_val, y_train_val)\n",
        "RandomForestRegressor_scores = {'SCORE': regr.score(X_train_val,y_train_val),\n",
        "                                'MAE': mean_absolute_error(regr.predict(X_test),y_test),\n",
        "                                'MSE': mean_squared_error(regr.predict(X_test),y_test)}\n",
        "print(RandomForestRegressor_scores)"
      ],
      "execution_count": 162,
      "outputs": [
        {
          "output_type": "stream",
          "name": "stdout",
          "text": [
            "{'SCORE': 0.6179541964497788, 'MAE': 21319539.314396553, 'MSE': 892940764409815.6}\n"
          ]
        }
      ]
    },
    {
      "cell_type": "markdown",
      "metadata": {
        "id": "UXWXykgtBK8_"
      },
      "source": [
        "## Final Scores"
      ]
    },
    {
      "cell_type": "code",
      "metadata": {
        "id": "AeZPCNgjoVou"
      },
      "source": [
        "df_Lin_Mod_Scrs = pd.DataFrame([LR_model_scores,Lasso_model_scores,\n",
        "                   Ridge_model_scores,\n",
        "                   ElasticNet_model_scores,\n",
        "                   LR_model_scores_no_dummies,\n",
        "                   Lasso_model_scores_no_dummies,\n",
        "                   Ridge_model_scores_no_dummies,\n",
        "                   ElasticNet_model_scores_no_dummies,\n",
        "                   LR_model_scores_polynomial,\n",
        "                   Lasso_model_scores_polynomial,\n",
        "                   Ridge_model_scores_polynomial,\n",
        "                   ElasticNet_model_scores_polynomial,\n",
        "                   LR_model_scores_GBU,\n",
        "                   Lasso_model_scores_GBU,\n",
        "                   Ridge_model_scores_GBU,\n",
        "                   ElasticNet_model_scores_GBU],\n",
        "                  index = ['LR_scores','Lasso_scores',\n",
        "                   'Ridge_scores',\n",
        "                   'ElasticNet_scores',\n",
        "                   'LR_scores_no_dummies',\n",
        "                   'Lasso_scores_no_dummies',\n",
        "                   'Ridge_scores_no_dummies',\n",
        "                   'ElasticNet_scores_no_dummies',\n",
        "                   'LR_scores_polynomial',\n",
        "                   'Lasso_scores_polynomial',\n",
        "                   'Ridge_scores_polynomial',\n",
        "                   'ElasticNet_scores_polynomial',\n",
        "                   'LR_scores_GBU',\n",
        "                   'Lasso_scores_GBU',\n",
        "                   'Ridge_scores_GBU',\n",
        "                   'ElasticNet_scores_GBU']\n",
        ")\n",
        "df_clf_scores = pd.DataFrame([log_reg_scores,svm_scores],index=['log_reg_scores','svm_scores'])\n"
      ],
      "execution_count": 159,
      "outputs": []
    },
    {
      "cell_type": "code",
      "metadata": {
        "colab": {
          "base_uri": "https://localhost:8080/",
          "height": 545
        },
        "id": "yCXvhd5TouQj",
        "outputId": "87f72e3d-706b-43c0-cd1b-89291e5f2d47"
      },
      "source": [
        "df_Lin_Mod_Scrs "
      ],
      "execution_count": 160,
      "outputs": [
        {
          "output_type": "execute_result",
          "data": {
            "text/html": [
              "<div>\n",
              "<style scoped>\n",
              "    .dataframe tbody tr th:only-of-type {\n",
              "        vertical-align: middle;\n",
              "    }\n",
              "\n",
              "    .dataframe tbody tr th {\n",
              "        vertical-align: top;\n",
              "    }\n",
              "\n",
              "    .dataframe thead th {\n",
              "        text-align: right;\n",
              "    }\n",
              "</style>\n",
              "<table border=\"1\" class=\"dataframe\">\n",
              "  <thead>\n",
              "    <tr style=\"text-align: right;\">\n",
              "      <th></th>\n",
              "      <th>Mean Squared Error</th>\n",
              "      <th>Mean Absolute Error</th>\n",
              "      <th>r2</th>\n",
              "      <th>adj r2</th>\n",
              "    </tr>\n",
              "  </thead>\n",
              "  <tbody>\n",
              "    <tr>\n",
              "      <th>LR_scores</th>\n",
              "      <td>1.408567e+12</td>\n",
              "      <td>3.426751e+04</td>\n",
              "      <td>0.999494</td>\n",
              "      <td>0.999343</td>\n",
              "    </tr>\n",
              "    <tr>\n",
              "      <th>Lasso_scores</th>\n",
              "      <td>5.176838e+12</td>\n",
              "      <td>9.208493e+04</td>\n",
              "      <td>1.000000</td>\n",
              "      <td>1.000000</td>\n",
              "    </tr>\n",
              "    <tr>\n",
              "      <th>Ridge_scores</th>\n",
              "      <td>4.049330e+12</td>\n",
              "      <td>8.591945e+04</td>\n",
              "      <td>1.000000</td>\n",
              "      <td>1.000000</td>\n",
              "    </tr>\n",
              "    <tr>\n",
              "      <th>ElasticNet_scores</th>\n",
              "      <td>4.141975e+12</td>\n",
              "      <td>1.484324e+05</td>\n",
              "      <td>0.999982</td>\n",
              "      <td>0.999981</td>\n",
              "    </tr>\n",
              "    <tr>\n",
              "      <th>LR_scores_no_dummies</th>\n",
              "      <td>2.496177e+15</td>\n",
              "      <td>3.213008e+07</td>\n",
              "      <td>0.007458</td>\n",
              "      <td>-0.009062</td>\n",
              "    </tr>\n",
              "    <tr>\n",
              "      <th>Lasso_scores_no_dummies</th>\n",
              "      <td>2.113519e+15</td>\n",
              "      <td>3.056255e+07</td>\n",
              "      <td>0.011684</td>\n",
              "      <td>0.010068</td>\n",
              "    </tr>\n",
              "    <tr>\n",
              "      <th>Ridge_scores_no_dummies</th>\n",
              "      <td>2.113519e+15</td>\n",
              "      <td>3.056255e+07</td>\n",
              "      <td>0.011684</td>\n",
              "      <td>0.010068</td>\n",
              "    </tr>\n",
              "    <tr>\n",
              "      <th>ElasticNet_scores_no_dummies</th>\n",
              "      <td>2.113520e+15</td>\n",
              "      <td>3.056257e+07</td>\n",
              "      <td>0.011684</td>\n",
              "      <td>0.010068</td>\n",
              "    </tr>\n",
              "    <tr>\n",
              "      <th>LR_scores_polynomial</th>\n",
              "      <td>3.471290e+15</td>\n",
              "      <td>3.488909e+07</td>\n",
              "      <td>-0.415715</td>\n",
              "      <td>-0.439277</td>\n",
              "    </tr>\n",
              "    <tr>\n",
              "      <th>Lasso_scores_polynomial</th>\n",
              "      <td>2.088664e+15</td>\n",
              "      <td>3.107696e+07</td>\n",
              "      <td>0.041594</td>\n",
              "      <td>0.040027</td>\n",
              "    </tr>\n",
              "    <tr>\n",
              "      <th>Ridge_scores_polynomial</th>\n",
              "      <td>2.113517e+15</td>\n",
              "      <td>3.121886e+07</td>\n",
              "      <td>0.045248</td>\n",
              "      <td>0.043687</td>\n",
              "    </tr>\n",
              "    <tr>\n",
              "      <th>ElasticNet_scores_polynomial</th>\n",
              "      <td>2.088665e+15</td>\n",
              "      <td>3.107679e+07</td>\n",
              "      <td>0.041594</td>\n",
              "      <td>0.040027</td>\n",
              "    </tr>\n",
              "    <tr>\n",
              "      <th>LR_scores_GBU</th>\n",
              "      <td>3.237551e+14</td>\n",
              "      <td>1.498408e+07</td>\n",
              "      <td>-38.416338</td>\n",
              "      <td>14.094200</td>\n",
              "    </tr>\n",
              "    <tr>\n",
              "      <th>Lasso_scores_GBU</th>\n",
              "      <td>8.321595e+14</td>\n",
              "      <td>2.409357e+07</td>\n",
              "      <td>0.271633</td>\n",
              "      <td>0.089542</td>\n",
              "    </tr>\n",
              "    <tr>\n",
              "      <th>Ridge_scores_GBU</th>\n",
              "      <td>8.321442e+14</td>\n",
              "      <td>2.409367e+07</td>\n",
              "      <td>0.271633</td>\n",
              "      <td>0.089542</td>\n",
              "    </tr>\n",
              "    <tr>\n",
              "      <th>ElasticNet_scores_GBU</th>\n",
              "      <td>8.319616e+14</td>\n",
              "      <td>2.409495e+07</td>\n",
              "      <td>0.271633</td>\n",
              "      <td>0.089541</td>\n",
              "    </tr>\n",
              "  </tbody>\n",
              "</table>\n",
              "</div>"
            ],
            "text/plain": [
              "                              Mean Squared Error  ...     adj r2\n",
              "LR_scores                           1.408567e+12  ...   0.999343\n",
              "Lasso_scores                        5.176838e+12  ...   1.000000\n",
              "Ridge_scores                        4.049330e+12  ...   1.000000\n",
              "ElasticNet_scores                   4.141975e+12  ...   0.999981\n",
              "LR_scores_no_dummies                2.496177e+15  ...  -0.009062\n",
              "Lasso_scores_no_dummies             2.113519e+15  ...   0.010068\n",
              "Ridge_scores_no_dummies             2.113519e+15  ...   0.010068\n",
              "ElasticNet_scores_no_dummies        2.113520e+15  ...   0.010068\n",
              "LR_scores_polynomial                3.471290e+15  ...  -0.439277\n",
              "Lasso_scores_polynomial             2.088664e+15  ...   0.040027\n",
              "Ridge_scores_polynomial             2.113517e+15  ...   0.043687\n",
              "ElasticNet_scores_polynomial        2.088665e+15  ...   0.040027\n",
              "LR_scores_GBU                       3.237551e+14  ...  14.094200\n",
              "Lasso_scores_GBU                    8.321595e+14  ...   0.089542\n",
              "Ridge_scores_GBU                    8.321442e+14  ...   0.089542\n",
              "ElasticNet_scores_GBU               8.319616e+14  ...   0.089541\n",
              "\n",
              "[16 rows x 4 columns]"
            ]
          },
          "metadata": {},
          "execution_count": 160
        }
      ]
    },
    {
      "cell_type": "code",
      "metadata": {
        "id": "lVpfvIHQoVov",
        "colab": {
          "base_uri": "https://localhost:8080/",
          "height": 111
        },
        "outputId": "54de17fc-8fc8-42c7-977a-6575c7a1e07c"
      },
      "source": [
        "df_clf_scores"
      ],
      "execution_count": 161,
      "outputs": [
        {
          "output_type": "execute_result",
          "data": {
            "text/html": [
              "<div>\n",
              "<style scoped>\n",
              "    .dataframe tbody tr th:only-of-type {\n",
              "        vertical-align: middle;\n",
              "    }\n",
              "\n",
              "    .dataframe tbody tr th {\n",
              "        vertical-align: top;\n",
              "    }\n",
              "\n",
              "    .dataframe thead th {\n",
              "        text-align: right;\n",
              "    }\n",
              "</style>\n",
              "<table border=\"1\" class=\"dataframe\">\n",
              "  <thead>\n",
              "    <tr style=\"text-align: right;\">\n",
              "      <th></th>\n",
              "      <th>adj r2</th>\n",
              "      <th>accuracy_score</th>\n",
              "    </tr>\n",
              "  </thead>\n",
              "  <tbody>\n",
              "    <tr>\n",
              "      <th>log_reg_scores</th>\n",
              "      <td>0.446551</td>\n",
              "      <td>0.482399</td>\n",
              "    </tr>\n",
              "    <tr>\n",
              "      <th>svm_scores</th>\n",
              "      <td>0.491337</td>\n",
              "      <td>0.516297</td>\n",
              "    </tr>\n",
              "  </tbody>\n",
              "</table>\n",
              "</div>"
            ],
            "text/plain": [
              "                  adj r2  accuracy_score\n",
              "log_reg_scores  0.446551        0.482399\n",
              "svm_scores      0.491337        0.516297"
            ]
          },
          "metadata": {},
          "execution_count": 161
        }
      ]
    },
    {
      "cell_type": "code",
      "metadata": {
        "colab": {
          "base_uri": "https://localhost:8080/"
        },
        "id": "8Z30duGPEYz4",
        "outputId": "dd4174cf-b5b0-4e48-f7f3-48c163b0b988"
      },
      "source": [
        "RandomForestRegressor_scores"
      ],
      "execution_count": 163,
      "outputs": [
        {
          "output_type": "execute_result",
          "data": {
            "text/plain": [
              "{'MAE': 21319539.314396553,\n",
              " 'MSE': 892940764409815.6,\n",
              " 'SCORE': 0.6179541964497788}"
            ]
          },
          "metadata": {},
          "execution_count": 163
        }
      ]
    },
    {
      "cell_type": "code",
      "metadata": {
        "id": "dSH62fmaE4A_"
      },
      "source": [
        ""
      ],
      "execution_count": null,
      "outputs": []
    }
  ]
}