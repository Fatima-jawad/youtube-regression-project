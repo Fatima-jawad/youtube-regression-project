{
  "nbformat": 4,
  "nbformat_minor": 0,
  "metadata": {
    "colab": {
      "name": "scraping-wiki.ipynb",
      "provenance": [],
      "collapsed_sections": [],
      "authorship_tag": "ABX9TyOiigMtdqbj+R3nCpZWnmdp",
      "include_colab_link": true
    },
    "kernelspec": {
      "name": "python3",
      "display_name": "Python 3"
    },
    "language_info": {
      "name": "python"
    }
  },
  "cells": [
    {
      "cell_type": "markdown",
      "metadata": {
        "id": "view-in-github",
        "colab_type": "text"
      },
      "source": [
        "<a href=\"https://colab.research.google.com/github/Fatima-jawad/youtube-regression-project/blob/main/scraping_wiki.ipynb\" target=\"_parent\"><img src=\"https://colab.research.google.com/assets/colab-badge.svg\" alt=\"Open In Colab\"/></a>"
      ]
    },
    {
      "cell_type": "code",
      "metadata": {
        "colab": {
          "base_uri": "https://localhost:8080/"
        },
        "id": "ZBxasneYXdJe",
        "outputId": "b4db9ae3-f940-4292-a43f-2f91343c7517"
      },
      "source": [
        "# install chromium, its driver, and selenium\n",
        "!apt-get update\n",
        "!apt install chromium-chromedriver\n",
        "!cp /usr/lib/chromium-browser/chromedriver /usr/bin\n",
        "!pip install beautifulsoup4\n",
        "!pip install selenium"
      ],
      "execution_count": null,
      "outputs": [
        {
          "output_type": "stream",
          "name": "stdout",
          "text": [
            "\r0% [Working]\r            \rGet:1 http://security.ubuntu.com/ubuntu bionic-security InRelease [88.7 kB]\n",
            "Ign:2 https://developer.download.nvidia.com/compute/cuda/repos/ubuntu1804/x86_64  InRelease\n",
            "Hit:3 http://ppa.launchpad.net/c2d4u.team/c2d4u4.0+/ubuntu bionic InRelease\n",
            "Ign:4 https://developer.download.nvidia.com/compute/machine-learning/repos/ubuntu1804/x86_64  InRelease\n",
            "Hit:5 https://developer.download.nvidia.com/compute/cuda/repos/ubuntu1804/x86_64  Release\n",
            "Hit:6 https://developer.download.nvidia.com/compute/machine-learning/repos/ubuntu1804/x86_64  Release\n",
            "Hit:7 http://archive.ubuntu.com/ubuntu bionic InRelease\n",
            "Get:8 http://archive.ubuntu.com/ubuntu bionic-updates InRelease [88.7 kB]\n",
            "Hit:9 http://ppa.launchpad.net/cran/libgit2/ubuntu bionic InRelease\n",
            "Hit:10 https://cloud.r-project.org/bin/linux/ubuntu bionic-cran40/ InRelease\n",
            "Hit:11 http://ppa.launchpad.net/deadsnakes/ppa/ubuntu bionic InRelease\n",
            "Get:12 http://archive.ubuntu.com/ubuntu bionic-backports InRelease [74.6 kB]\n",
            "Hit:13 http://ppa.launchpad.net/graphics-drivers/ppa/ubuntu bionic InRelease\n",
            "Fetched 252 kB in 3s (86.2 kB/s)\n",
            "Reading package lists... Done\n",
            "Reading package lists... Done\n",
            "Building dependency tree       \n",
            "Reading state information... Done\n",
            "chromium-chromedriver is already the newest version (94.0.4606.71-0ubuntu0.18.04.1).\n",
            "0 upgraded, 0 newly installed, 0 to remove and 39 not upgraded.\n",
            "cp: '/usr/lib/chromium-browser/chromedriver' and '/usr/bin/chromedriver' are the same file\n",
            "Requirement already satisfied: beautifulsoup4 in /usr/local/lib/python3.7/dist-packages (4.6.3)\n",
            "Requirement already satisfied: selenium in /usr/local/lib/python3.7/dist-packages (3.141.0)\n",
            "Requirement already satisfied: urllib3 in /usr/local/lib/python3.7/dist-packages (from selenium) (1.24.3)\n"
          ]
        }
      ]
    },
    {
      "cell_type": "code",
      "metadata": {
        "id": "bX0aCSOjXtlM"
      },
      "source": [
        "# set options to be headless, ..\n",
        "from selenium import webdriver\n",
        "from selenium.webdriver.common.keys import Keys\n",
        "from bs4 import BeautifulSoup\n",
        "import requests\n",
        "import time, os\n",
        "import pandas as pd"
      ],
      "execution_count": null,
      "outputs": []
    },
    {
      "cell_type": "code",
      "metadata": {
        "id": "KTxDD_WlXx20"
      },
      "source": [
        "options = webdriver.ChromeOptions()\n",
        "options.add_argument('--headless')\n",
        "options.add_argument('--no-sandbox')\n",
        "options.add_argument('--disable-dev-shm-usage')"
      ],
      "execution_count": null,
      "outputs": []
    },
    {
      "cell_type": "code",
      "metadata": {
        "colab": {
          "base_uri": "https://localhost:8080/",
          "height": 363
        },
        "id": "xoMAGsJ03fiI",
        "outputId": "1926c367-c334-4245-9173-e3776104f675"
      },
      "source": [
        "driver = webdriver.Chrome('chromedriver',options=options)\n",
        "driver.get(\"\") "
      ],
      "execution_count": null,
      "outputs": [
        {
          "output_type": "error",
          "ename": "InvalidArgumentException",
          "evalue": "ignored",
          "traceback": [
            "\u001b[0;31m---------------------------------------------------------------------------\u001b[0m",
            "\u001b[0;31mInvalidArgumentException\u001b[0m                  Traceback (most recent call last)",
            "\u001b[0;32m<ipython-input-6-d53da07b7392>\u001b[0m in \u001b[0;36m<module>\u001b[0;34m()\u001b[0m\n\u001b[1;32m      1\u001b[0m \u001b[0mdriver\u001b[0m \u001b[0;34m=\u001b[0m \u001b[0mwebdriver\u001b[0m\u001b[0;34m.\u001b[0m\u001b[0mChrome\u001b[0m\u001b[0;34m(\u001b[0m\u001b[0;34m'chromedriver'\u001b[0m\u001b[0;34m,\u001b[0m\u001b[0moptions\u001b[0m\u001b[0;34m=\u001b[0m\u001b[0moptions\u001b[0m\u001b[0;34m)\u001b[0m\u001b[0;34m\u001b[0m\u001b[0;34m\u001b[0m\u001b[0m\n\u001b[0;32m----> 2\u001b[0;31m \u001b[0mdriver\u001b[0m\u001b[0;34m.\u001b[0m\u001b[0mget\u001b[0m\u001b[0;34m(\u001b[0m\u001b[0;34m\"\"\u001b[0m\u001b[0;34m)\u001b[0m\u001b[0;34m\u001b[0m\u001b[0;34m\u001b[0m\u001b[0m\n\u001b[0m",
            "\u001b[0;32m/usr/local/lib/python3.7/dist-packages/selenium/webdriver/remote/webdriver.py\u001b[0m in \u001b[0;36mget\u001b[0;34m(self, url)\u001b[0m\n\u001b[1;32m    331\u001b[0m         \u001b[0mLoads\u001b[0m \u001b[0ma\u001b[0m \u001b[0mweb\u001b[0m \u001b[0mpage\u001b[0m \u001b[0;32min\u001b[0m \u001b[0mthe\u001b[0m \u001b[0mcurrent\u001b[0m \u001b[0mbrowser\u001b[0m \u001b[0msession\u001b[0m\u001b[0;34m.\u001b[0m\u001b[0;34m\u001b[0m\u001b[0;34m\u001b[0m\u001b[0m\n\u001b[1;32m    332\u001b[0m         \"\"\"\n\u001b[0;32m--> 333\u001b[0;31m         \u001b[0mself\u001b[0m\u001b[0;34m.\u001b[0m\u001b[0mexecute\u001b[0m\u001b[0;34m(\u001b[0m\u001b[0mCommand\u001b[0m\u001b[0;34m.\u001b[0m\u001b[0mGET\u001b[0m\u001b[0;34m,\u001b[0m \u001b[0;34m{\u001b[0m\u001b[0;34m'url'\u001b[0m\u001b[0;34m:\u001b[0m \u001b[0murl\u001b[0m\u001b[0;34m}\u001b[0m\u001b[0;34m)\u001b[0m\u001b[0;34m\u001b[0m\u001b[0;34m\u001b[0m\u001b[0m\n\u001b[0m\u001b[1;32m    334\u001b[0m \u001b[0;34m\u001b[0m\u001b[0m\n\u001b[1;32m    335\u001b[0m     \u001b[0;34m@\u001b[0m\u001b[0mproperty\u001b[0m\u001b[0;34m\u001b[0m\u001b[0;34m\u001b[0m\u001b[0m\n",
            "\u001b[0;32m/usr/local/lib/python3.7/dist-packages/selenium/webdriver/remote/webdriver.py\u001b[0m in \u001b[0;36mexecute\u001b[0;34m(self, driver_command, params)\u001b[0m\n\u001b[1;32m    319\u001b[0m         \u001b[0mresponse\u001b[0m \u001b[0;34m=\u001b[0m \u001b[0mself\u001b[0m\u001b[0;34m.\u001b[0m\u001b[0mcommand_executor\u001b[0m\u001b[0;34m.\u001b[0m\u001b[0mexecute\u001b[0m\u001b[0;34m(\u001b[0m\u001b[0mdriver_command\u001b[0m\u001b[0;34m,\u001b[0m \u001b[0mparams\u001b[0m\u001b[0;34m)\u001b[0m\u001b[0;34m\u001b[0m\u001b[0;34m\u001b[0m\u001b[0m\n\u001b[1;32m    320\u001b[0m         \u001b[0;32mif\u001b[0m \u001b[0mresponse\u001b[0m\u001b[0;34m:\u001b[0m\u001b[0;34m\u001b[0m\u001b[0;34m\u001b[0m\u001b[0m\n\u001b[0;32m--> 321\u001b[0;31m             \u001b[0mself\u001b[0m\u001b[0;34m.\u001b[0m\u001b[0merror_handler\u001b[0m\u001b[0;34m.\u001b[0m\u001b[0mcheck_response\u001b[0m\u001b[0;34m(\u001b[0m\u001b[0mresponse\u001b[0m\u001b[0;34m)\u001b[0m\u001b[0;34m\u001b[0m\u001b[0;34m\u001b[0m\u001b[0m\n\u001b[0m\u001b[1;32m    322\u001b[0m             response['value'] = self._unwrap_value(\n\u001b[1;32m    323\u001b[0m                 response.get('value', None))\n",
            "\u001b[0;32m/usr/local/lib/python3.7/dist-packages/selenium/webdriver/remote/errorhandler.py\u001b[0m in \u001b[0;36mcheck_response\u001b[0;34m(self, response)\u001b[0m\n\u001b[1;32m    240\u001b[0m                 \u001b[0malert_text\u001b[0m \u001b[0;34m=\u001b[0m \u001b[0mvalue\u001b[0m\u001b[0;34m[\u001b[0m\u001b[0;34m'alert'\u001b[0m\u001b[0;34m]\u001b[0m\u001b[0;34m.\u001b[0m\u001b[0mget\u001b[0m\u001b[0;34m(\u001b[0m\u001b[0;34m'text'\u001b[0m\u001b[0;34m)\u001b[0m\u001b[0;34m\u001b[0m\u001b[0;34m\u001b[0m\u001b[0m\n\u001b[1;32m    241\u001b[0m             \u001b[0;32mraise\u001b[0m \u001b[0mexception_class\u001b[0m\u001b[0;34m(\u001b[0m\u001b[0mmessage\u001b[0m\u001b[0;34m,\u001b[0m \u001b[0mscreen\u001b[0m\u001b[0;34m,\u001b[0m \u001b[0mstacktrace\u001b[0m\u001b[0;34m,\u001b[0m \u001b[0malert_text\u001b[0m\u001b[0;34m)\u001b[0m\u001b[0;34m\u001b[0m\u001b[0;34m\u001b[0m\u001b[0m\n\u001b[0;32m--> 242\u001b[0;31m         \u001b[0;32mraise\u001b[0m \u001b[0mexception_class\u001b[0m\u001b[0;34m(\u001b[0m\u001b[0mmessage\u001b[0m\u001b[0;34m,\u001b[0m \u001b[0mscreen\u001b[0m\u001b[0;34m,\u001b[0m \u001b[0mstacktrace\u001b[0m\u001b[0;34m)\u001b[0m\u001b[0;34m\u001b[0m\u001b[0;34m\u001b[0m\u001b[0m\n\u001b[0m\u001b[1;32m    243\u001b[0m \u001b[0;34m\u001b[0m\u001b[0m\n\u001b[1;32m    244\u001b[0m     \u001b[0;32mdef\u001b[0m \u001b[0m_value_or_default\u001b[0m\u001b[0;34m(\u001b[0m\u001b[0mself\u001b[0m\u001b[0;34m,\u001b[0m \u001b[0mobj\u001b[0m\u001b[0;34m,\u001b[0m \u001b[0mkey\u001b[0m\u001b[0;34m,\u001b[0m \u001b[0mdefault\u001b[0m\u001b[0;34m)\u001b[0m\u001b[0;34m:\u001b[0m\u001b[0;34m\u001b[0m\u001b[0;34m\u001b[0m\u001b[0m\n",
            "\u001b[0;31mInvalidArgumentException\u001b[0m: Message: invalid argument\n  (Session info: headless chrome=94.0.4606.71)\n"
          ]
        }
      ]
    },
    {
      "cell_type": "code",
      "metadata": {
        "colab": {
          "base_uri": "https://localhost:8080/"
        },
        "id": "QGRejIu65YNk",
        "outputId": "e0868d70-1f43-4384-f25d-9c098660b76e"
      },
      "source": [
        "url = \"https://en.wikipedia.org/wiki/List_of_best-selling_mobile_phones#Top-selling_mobile_phones\"\n",
        "wikipage = requests.get(url)\n",
        "print(wikipage.status_code)\n"
      ],
      "execution_count": null,
      "outputs": [
        {
          "output_type": "stream",
          "name": "stdout",
          "text": [
            "200\n"
          ]
        }
      ]
    },
    {
      "cell_type": "code",
      "metadata": {
        "id": "jxcZA4RsY6_U"
      },
      "source": [
        "soup = BeautifulSoup(wikipage.text, \"html5lib\")"
      ],
      "execution_count": null,
      "outputs": []
    },
    {
      "cell_type": "code",
      "metadata": {
        "colab": {
          "base_uri": "https://localhost:8080/"
        },
        "id": "wDJH3aHcZDQS",
        "outputId": "1be8b456-1ba2-4ecb-9ec1-ce4be483def3"
      },
      "source": [
        "print(soup.prettify()[:100])"
      ],
      "execution_count": null,
      "outputs": [
        {
          "output_type": "stream",
          "name": "stdout",
          "text": [
            "<!DOCTYPE html>\n",
            "<html class=\"client-nojs\" dir=\"ltr\" lang=\"en\">\n",
            " <head>\n",
            "  <meta charset=\"utf-8\"/>\n",
            "  <\n"
          ]
        }
      ]
    },
    {
      "cell_type": "code",
      "metadata": {
        "colab": {
          "base_uri": "https://localhost:8080/"
        },
        "id": "R5qhm-s1ZIK-",
        "outputId": "733e8ca5-8fd2-4485-b682-414682c982ce"
      },
      "source": [
        "columns = soup.find('table', class_='wikitable').find('tr')#.find_all('th') \n",
        "type(columns)"
      ],
      "execution_count": null,
      "outputs": [
        {
          "output_type": "execute_result",
          "data": {
            "text/plain": [
              "bs4.element.Tag"
            ]
          },
          "metadata": {},
          "execution_count": 6
        }
      ]
    },
    {
      "cell_type": "code",
      "metadata": {
        "colab": {
          "base_uri": "https://localhost:8080/"
        },
        "id": "TcrYeMNKZ312",
        "outputId": "2684a8c2-149f-4047-e9e3-879d6319bdac"
      },
      "source": [
        "print(columns.prettify())\n",
        "print(columns.text)"
      ],
      "execution_count": null,
      "outputs": [
        {
          "output_type": "stream",
          "name": "stdout",
          "text": [
            "<tr>\n",
            " <th>\n",
            "  Manufacturer\n",
            " </th>\n",
            " <th>\n",
            "  Model\n",
            " </th>\n",
            " <th>\n",
            "  Form factor\n",
            " </th>\n",
            " <th>\n",
            "  Smartphone?\n",
            " </th>\n",
            " <th>\n",
            "  Year\n",
            " </th>\n",
            " <th colspan=\"2\" data-sort-type=\"number\">\n",
            "  Graph (million units)\n",
            " </th>\n",
            "</tr>\n",
            "\n",
            "\n",
            "Manufacturer\n",
            "\n",
            "Model\n",
            "\n",
            "Form factor\n",
            "\n",
            "Smartphone?\n",
            "\n",
            "Year\n",
            "\n",
            "Graph (million units)\n",
            "\n"
          ]
        }
      ]
    },
    {
      "cell_type": "code",
      "metadata": {
        "id": "XlJ0wf4LaFAO"
      },
      "source": [
        "column_names = columns.text"
      ],
      "execution_count": null,
      "outputs": []
    },
    {
      "cell_type": "code",
      "metadata": {
        "id": "HMEtF-0gcZPD"
      },
      "source": [
        "column_names = column_names.replace('\\n','  ').strip().split('  ')"
      ],
      "execution_count": null,
      "outputs": []
    },
    {
      "cell_type": "code",
      "metadata": {
        "id": "GoczU4decaip"
      },
      "source": [
        "column_names = [value for value in column_names if value != '']"
      ],
      "execution_count": null,
      "outputs": []
    },
    {
      "cell_type": "code",
      "metadata": {
        "id": "yP_Is1dJdj87"
      },
      "source": [
        "column_names.append('dropthis')"
      ],
      "execution_count": null,
      "outputs": []
    },
    {
      "cell_type": "code",
      "metadata": {
        "id": "fpy055XFdvZa"
      },
      "source": [
        "data = soup.find('table', class_='wikitable').find('tbody')"
      ],
      "execution_count": null,
      "outputs": []
    },
    {
      "cell_type": "code",
      "metadata": {
        "colab": {
          "base_uri": "https://localhost:8080/"
        },
        "id": "7wkvGkVSeWbi",
        "outputId": "d570b32e-5864-4ea0-dac3-4eeb3390989f"
      },
      "source": [
        "# print(data.prettify())\n",
        "type(data)"
      ],
      "execution_count": null,
      "outputs": [
        {
          "output_type": "execute_result",
          "data": {
            "text/plain": [
              "bs4.element.Tag"
            ]
          },
          "metadata": {},
          "execution_count": 13
        }
      ]
    },
    {
      "cell_type": "code",
      "metadata": {
        "id": "uYJ7Rt8bebdM"
      },
      "source": [
        "devices_list = []\n",
        "for row in data.find_all('tr')[1:]:\n",
        "  devices_list.append(row.text.strip().split('\\n\\n'))"
      ],
      "execution_count": null,
      "outputs": []
    },
    {
      "cell_type": "code",
      "metadata": {
        "colab": {
          "base_uri": "https://localhost:8080/"
        },
        "id": "3advFHTMtUOG",
        "outputId": "49bc7f4f-700d-4fc4-b500-4da049a2fee0"
      },
      "source": [
        "devices_list"
      ],
      "execution_count": null,
      "outputs": [
        {
          "output_type": "execute_result",
          "data": {
            "text/plain": [
              "[['Nokia', '1100', 'Bar', 'No', '2003', '250[3][1][4]', '250'],\n",
              " ['Nokia', '1110', 'Bar', 'No', '2005', '250[3][1][5]', '250'],\n",
              " ['Apple',\n",
              "  'iPhone 6 and iPhone 6 Plus',\n",
              "  'Touchscreen',\n",
              "  'Yes',\n",
              "  '2014',\n",
              "  '222[2][3]',\n",
              "  '222'],\n",
              " ['Nokia', '105 (2013) and 105 (2015)', 'Bar', 'No', '2013', '200[6]', '200'],\n",
              " ['Nokia', '3210', 'Bar', 'No', '1999', '160[1][5][7]', '160'],\n",
              " ['Nokia', '6600', 'Bar', 'Yes', '2003', '150[3][1]', '150'],\n",
              " ['Nokia', '1200', 'Bar', 'No', '2007', '150[3][1][5]', '150'],\n",
              " ['Nokia', '5230', 'Touchscreen', 'Yes', '2009', '150[3][1][5]', '150'],\n",
              " ['Samsung', 'E1100', 'Bar', 'No', '2009', '150[3]', '150'],\n",
              " ['Nokia',\n",
              "  '2600 (2610/2626/2630)',\n",
              "  'Bar',\n",
              "  'No',\n",
              "  '2004',\n",
              "  '135[3][1][5][4]',\n",
              "  '135'],\n",
              " ['Motorola', 'RAZR V3', 'Flip phone', 'No', '2004', '130[3][5]', '130'],\n",
              " ['Nokia', '1600 (1650/1661)', 'Bar', 'No', '2005', '130[3][1][5][4]', '130'],\n",
              " ['Nokia', '3310 (3330)', 'Bar', 'No', '2000', '126[3][1][5][8]', '126'],\n",
              " ['Apple', 'iPhone 11', 'Touchscreen', 'Yes', '2019', '102.1[9][10]', '102.1'],\n",
              " ['Apple',\n",
              "  'iPhone 12 and iPhone 12 mini',\n",
              "  'Touchscreen',\n",
              "  'Yes',\n",
              "  '2020',\n",
              "  '100[11]',\n",
              "  '100'],\n",
              " ['Nokia', '1208 (1209)', 'Bar', 'No', '2007', '100[3][1][5]', '100'],\n",
              " ['Nokia', '1280', 'Bar', 'No', '2010', '100[12]', '100'],\n",
              " ['Apple',\n",
              "  'iPhone 8 and iPhone 8 Plus',\n",
              "  'Touchscreen',\n",
              "  'Yes',\n",
              "  '2017',\n",
              "  '86.3[13][9]',\n",
              "  '86.3'],\n",
              " ['Samsung', 'Galaxy S4', 'Touchscreen', 'Yes', '2013', '80[3]', '80'],\n",
              " ['Apple',\n",
              "  'iPhone 7 and iPhone 7 Plus',\n",
              "  'Touchscreen',\n",
              "  'Yes',\n",
              "  '2016',\n",
              "  '78.3[2]',\n",
              "  '78.3'],\n",
              " ['Apple', 'iPhone XR', 'Touchscreen', 'Yes', '2018', '77.4[9][14]', '77.4'],\n",
              " ['Nokia', '6010 (6020/6030)', 'Bar', 'No', '2004', '75[3][5][4]', '75'],\n",
              " ['Apple', 'iPhone 5', 'Touchscreen', 'Yes', '2012', '70[2][3]', '70'],\n",
              " ['Samsung',\n",
              "  'Galaxy S III and Galaxy S III Mini',\n",
              "  'Touchscreen',\n",
              "  'Yes',\n",
              "  '2012',\n",
              "  '70[15]',\n",
              "  '70'],\n",
              " ['Nokia', '5130 (5220/5310)', 'Bar', 'No', '2007', '65[3][5]', '65'],\n",
              " ['Apple', 'iPhone X', 'Touchscreen', 'Yes', '2017', '63[16]', '63'],\n",
              " ['Apple', 'iPhone 4S', 'Touchscreen', 'Yes', '2011', '60[3][5][17]', '60'],\n",
              " ['Motorola', 'StarTAC', 'Flip phone', 'No', '1996', '60[3][5]', '60'],\n",
              " ['Motorola', 'C200', 'Bar', 'No', '2003', '60[5]', '60'],\n",
              " ['Motorola', 'C139', 'Bar', 'No', '2005', '60[17]', '60'],\n",
              " ['Samsung',\n",
              "  'Galaxy S7 and Galaxy S7 edge',\n",
              "  'Touchscreen',\n",
              "  'Yes',\n",
              "  '2016',\n",
              "  '55[18]',\n",
              "  '55'],\n",
              " ['Apple', 'iPhone 5S', 'Touchscreen', 'Yes', '2013', '52[2]', '52'],\n",
              " ['Nokia', '3100 (3120)', 'Bar', 'No', '2003', '50[5]', '50'],\n",
              " ['Nokia', '6230 (6233)', 'Bar', 'No', '2004', '50[5]', '50'],\n",
              " ['Apple', 'iPhone 4', 'Touchscreen', 'Yes', '2010', '50[17]', '50'],\n",
              " ['Apple',\n",
              "  'iPhone XS and iPhone XS Max',\n",
              "  'Touchscreen',\n",
              "  'Yes',\n",
              "  '2018',\n",
              "  '48[19]',\n",
              "  '48'],\n",
              " ['Apple',\n",
              "  'iPhone 11 Pro and iPhone 11 Pro Max',\n",
              "  'Touchscreen',\n",
              "  'Yes',\n",
              "  '2019',\n",
              "  '47.5[9][14]',\n",
              "  '47.5'],\n",
              " ['Samsung',\n",
              "  'Galaxy S6 and Galaxy S6 edge',\n",
              "  'Touchscreen',\n",
              "  'Yes',\n",
              "  '2015',\n",
              "  '45[20]',\n",
              "  '45'],\n",
              " ['Nokia', 'N70 (N72/N73)', 'Bar', 'Yes', '2005', '45[17][4]', '45'],\n",
              " ['Samsung',\n",
              "  'Galaxy S8 and Galaxy S8+',\n",
              "  'Touchscreen',\n",
              "  'Yes',\n",
              "  '2017',\n",
              "  '41[21]',\n",
              "  '41'],\n",
              " ['Samsung', 'Galaxy S II', 'Touchscreen', 'Yes', '2011', '40[5]', '40'],\n",
              " ['Samsung',\n",
              "  'Galaxy S10, Galaxy S10+ and Galaxy S10e',\n",
              "  'Touchscreen',\n",
              "  'Yes',\n",
              "  '2019',\n",
              "  '37[22]',\n",
              "  '37'],\n",
              " ['Samsung',\n",
              "  'Galaxy S9 and Galaxy S9+',\n",
              "  'Touchscreen',\n",
              "  'Yes',\n",
              "  '2018',\n",
              "  '35.4[9]',\n",
              "  '35.4'],\n",
              " ['Nokia', '2650', 'Flip phone', 'No', '2004', '35[5]', '35'],\n",
              " ['Nokia', '6300', 'Bar', 'No', '2006', '35[4]', '35'],\n",
              " ['Apple', 'iPhone 3GS', 'Touchscreen', 'Yes', '2009', '35[5]', '35'],\n",
              " ['Huawei',\n",
              "  'P20, P20 Pro and P20 Lite',\n",
              "  'Touchscreen',\n",
              "  'Yes',\n",
              "  '2018',\n",
              "  '32[23][9]',\n",
              "  '32'],\n",
              " ['Samsung', 'Galaxy A10', 'Touchscreen', 'Yes', '2019', '30.3[9]', '30.3'],\n",
              " ['Samsung', 'E250', 'Slider', 'No', '2006', '30[17]', '30'],\n",
              " ['LG', 'KP100', 'Bar', 'No', '2008', '30[24]', '30'],\n",
              " ['Samsung', 'Galaxy Note II', 'Touchscreen', 'Yes', '2012', '30[25]', '30'],\n",
              " ['Nokia', '5200 (5300)', 'Slider', 'No', '2006', '30[4]', '30'],\n",
              " ['Xiaomi',\n",
              "  'Redmi Note 8 and Redmi Note 8 Pro',\n",
              "  'Touchscreen',\n",
              "  'Yes',\n",
              "  '2019',\n",
              "  '30[26]',\n",
              "  '30'],\n",
              " ['Apple', 'iPhone 12 Pro Max', 'Touchscreen', 'Yes', '2020', '29[27]', '29'],\n",
              " ['Samsung',\n",
              "  'Galaxy S20, Galaxy S20+ and Galaxy S20 Ultra',\n",
              "  'Touchscreen',\n",
              "  'Yes',\n",
              "  '2020',\n",
              "  '28[28]',\n",
              "  '28'],\n",
              " ['Samsung', 'Galaxy S', 'Touchscreen', 'Yes', '2010', '25[29]', '25'],\n",
              " ['Samsung',\n",
              "  'Galaxy Grand Prime Plus',\n",
              "  'Touchscreen',\n",
              "  'Yes',\n",
              "  '2016',\n",
              "  '24.2[9]',\n",
              "  '24.2'],\n",
              " ['Samsung', 'Galaxy A50', 'Touchscreen', 'Yes', '2019', '24.2[9]', '24.2'],\n",
              " ['Apple',\n",
              "  'iPhone SE (2nd generation)',\n",
              "  'Touchscreen',\n",
              "  'Yes',\n",
              "  '2020',\n",
              "  '24.2[10]',\n",
              "  '24.2'],\n",
              " ['Samsung', 'Galaxy A51', 'Touchscreen', 'Yes', '2019', '23.2[10]', '23.2'],\n",
              " ['Samsung', 'Galaxy A20', 'Touchscreen', 'Yes', '2019', '23.1[9]', '23.1'],\n",
              " ['LG',\n",
              "  'Chocolate VX8500',\n",
              "  'Slider',\n",
              "  'No',\n",
              "  '2006',\n",
              "  '21[30][31][32][33]',\n",
              "  '21'],\n",
              " ['Nokia', '2100', 'Bar', 'No', '2003', '20[34][7]', '20'],\n",
              " ['Xiaomi',\n",
              "  'Redmi Note 7 and Redmi Note 7 Pro',\n",
              "  'Touchscreen',\n",
              "  'Yes',\n",
              "  '2019',\n",
              "  '20[35]',\n",
              "  '20'],\n",
              " ['Huawei', 'P30 and P30 Pro', 'Touchscreen', 'Yes', '2019', '20[36]', '20'],\n",
              " ['Samsung', 'Galaxy A21s', 'Touchscreen', 'Yes', '2020', '19.4[10]', '19.4'],\n",
              " ['Huawei',\n",
              "  'Mate 10 and Mate 10 Pro',\n",
              "  'Touchscreen',\n",
              "  'Yes',\n",
              "  '2017',\n",
              "  '17[37]',\n",
              "  '17'],\n",
              " ['Huawei',\n",
              "  'Mate 20 and Mate 20 Pro',\n",
              "  'Touchscreen',\n",
              "  'Yes',\n",
              "  '2018',\n",
              "  '17[36]',\n",
              "  '17'],\n",
              " ['Samsung', 'Galaxy A01', 'Touchscreen', 'Yes', '2019', '16.9[10]', '16.9'],\n",
              " ['HTC', 'Thunderbolt', 'Touchscreen', 'Yes', '2011', '16[17]', '16'],\n",
              " ['Huawei', 'Mate 9', 'Touchscreen', 'Yes', '2016', '15.8[38]', '15.8'],\n",
              " ['Samsung', 'Galaxy A11', 'Touchscreen', 'Yes', '2020', '15.3[10]', '15.3'],\n",
              " ['Samsung',\n",
              "  'Galaxy J2 Core',\n",
              "  'Touchscreen',\n",
              "  'Yes',\n",
              "  '2018',\n",
              "  '15.2[9]',\n",
              "  '15.2'],\n",
              " ['Nokia', '5610 XpressMusic', 'Slider', 'No', '2007', '15[4]', '15'],\n",
              " ['Nokia', '5800 XpressMusic', 'Touchscreen', 'Yes', '2008', '15[4]', '15'],\n",
              " ['Nokia', 'E71', 'Keyboard bar', 'Yes', '2008', '15[4]', '15'],\n",
              " ['Sony Ericsson', 'K300 (K310)', 'Bar', 'No', '2004', '15[17][39]', '15'],\n",
              " ['Sony Ericsson', 'K750', 'Bar', 'No', '2005', '15[17]', '15'],\n",
              " ['Sony Ericsson', 'W800 (W810)', 'Bar', 'No', '2006', '15[17][39]', '15'],\n",
              " ['Research In Motion (RIM)',\n",
              "  'BlackBerry Pearl',\n",
              "  'Bar',\n",
              "  'Yes',\n",
              "  '2006',\n",
              "  '15[17]',\n",
              "  '15'],\n",
              " ['Xiaomi', 'Redmi Note 9 Pro', 'Touchscreen', 'Yes', '2020', '15[10]', '15'],\n",
              " ['Samsung',\n",
              "  'Galaxy S21, Galaxy S21+ and Galaxy S21 Ultra',\n",
              "  'Touchscreen',\n",
              "  'Yes',\n",
              "  '2021',\n",
              "  '13.5[28]',\n",
              "  '13.5'],\n",
              " ['Motorola', 'Droid Bionic', 'Touchscreen', 'Yes', '2011', '13[17]', '13'],\n",
              " ['LG', 'Cookie (KP500)', 'Touchscreen', 'No', '2009', '13[40][41]', '13'],\n",
              " ['Apple',\n",
              "  'iPhone 6S and iPhone 6S Plus',\n",
              "  'Touchscreen',\n",
              "  'Yes',\n",
              "  '2015',\n",
              "  '13[42]',\n",
              "  '13'],\n",
              " ['Huawei',\n",
              "  'Mate 30 and Mate 30 Pro',\n",
              "  'Touchscreen',\n",
              "  'Yes',\n",
              "  '2019',\n",
              "  '12[43]',\n",
              "  '12'],\n",
              " ['Samsung', 'SGH-E700', 'Flip phone', 'No', '2003', '10[44]', '10'],\n",
              " ['Nokia', 'N95', 'Slider', 'Yes', '2007', '10[45]', '10'],\n",
              " ['LG', 'Shine', 'Slider', 'No', '2008', '10[46]', '10'],\n",
              " ['Samsung',\n",
              "  'Star/Tocco Lite (S5230)',\n",
              "  'Touchscreen',\n",
              "  'No',\n",
              "  '2009',\n",
              "  '10[47]',\n",
              "  '10'],\n",
              " ['Samsung', 'Galaxy Note', 'Touchscreen', 'Yes', '2011', '10[48][49]', '10'],\n",
              " ['Xiaomi', 'Mi 2', 'Touchscreen', 'Yes', '2012', '10[50]', '10'],\n",
              " ['Samsung', 'Galaxy Note 3', 'Touchscreen', 'Yes', '2013', '10[51]', '10'],\n",
              " ['LG', 'G3', 'Touchscreen', 'Yes', '2014', '10[52][53][54]', '10'],\n",
              " ['Samsung', 'Galaxy Note 8', 'Touchscreen', 'Yes', '2017', '10[55]', '10'],\n",
              " ['Xiaomi', 'Redmi 6A', 'Touchscreen', 'Yes', '2019', '10[56]', '10'],\n",
              " ['Oppo', 'A5', 'Touchscreen', 'Yes', '2019', '9.7[56]', '9.7'],\n",
              " ['Samsung', 'Galaxy Note 9', 'Touchscreen', 'Yes', '2018', '9.6[55]', '9.6'],\n",
              " ['Samsung', 'Galaxy A30', 'Touchscreen', 'Yes', '2019', '9.2[56]', '9.2'],\n",
              " ['Xiaomi', 'Redmi 8A', 'Touchscreen', 'Yes', '2019', '7.3[14]', '7.3'],\n",
              " ['Oppo', 'F1 Plus', 'Touchscreen', 'Yes', '2016', '7[57]', '7'],\n",
              " ['Xiaomi', 'Redmi 8', 'Touchscreen', 'Yes', '2019', '6.8[14]', '6.8'],\n",
              " ['Samsung', 'Galaxy J4+', 'Touchscreen', 'Yes', '2018', '6.4[58]', '6.4'],\n",
              " ['Apple', 'iPhone', 'Touchscreen', 'Yes', '2007', '6[59]', '6'],\n",
              " ['LG', 'Viewty (KU990)', 'Bar', 'No', '2007', '5[60]', '5'],\n",
              " ['Samsung', 'Galaxy J6+', 'Touchscreen', 'Yes', '2018', '4.9[58]', '4.9'],\n",
              " ['Samsung', 'Galaxy Note 4', 'Touchscreen', 'Yes', '2014', '4.5[61]', '4.5'],\n",
              " ['Samsung', 'Galaxy A10s', 'Touchscreen', 'Yes', '2019', '3.9[58]', '3.9'],\n",
              " ['Samsung', 'Galaxy A30s', 'Touchscreen', 'Yes', '2019', '3.4[58]', '3.4'],\n",
              " ['Nokia', 'N-Gage', 'Taco', 'Yes', '2003', '3[4]', '3'],\n",
              " ['LG', 'G2', 'Touchscreen', 'Yes', '2013', '3[62][63]', '3'],\n",
              " ['LeTV', 'LeEco Le 1s', 'Touchscreen', 'Yes', '2016', '3[64][65]', '3'],\n",
              " ['Google',\n",
              "  'Pixel and Pixel XL',\n",
              "  'Touchscreen',\n",
              "  'Yes',\n",
              "  '2016',\n",
              "  '2.1[66]',\n",
              "  '2.1'],\n",
              " ['Palm', 'Centro', 'Keyboard bar', 'Yes', '2007', '2[67]', '2'],\n",
              " ['Nokia', 'N97', 'Tilt slider', 'Yes', '2009', '2[4]', '2']]"
            ]
          },
          "metadata": {},
          "execution_count": 77
        }
      ]
    },
    {
      "cell_type": "code",
      "metadata": {
        "colab": {
          "base_uri": "https://localhost:8080/",
          "height": 206
        },
        "id": "tqfG44g4sbCA",
        "outputId": "0f9cba9b-2f2b-4706-e459-3f3ffe1f19f0"
      },
      "source": [
        "df = pd.DataFrame(devices_list, columns=column_names)\n",
        "df.head()"
      ],
      "execution_count": null,
      "outputs": [
        {
          "output_type": "execute_result",
          "data": {
            "text/html": [
              "<div>\n",
              "<style scoped>\n",
              "    .dataframe tbody tr th:only-of-type {\n",
              "        vertical-align: middle;\n",
              "    }\n",
              "\n",
              "    .dataframe tbody tr th {\n",
              "        vertical-align: top;\n",
              "    }\n",
              "\n",
              "    .dataframe thead th {\n",
              "        text-align: right;\n",
              "    }\n",
              "</style>\n",
              "<table border=\"1\" class=\"dataframe\">\n",
              "  <thead>\n",
              "    <tr style=\"text-align: right;\">\n",
              "      <th></th>\n",
              "      <th>Manufacturer</th>\n",
              "      <th>Model</th>\n",
              "      <th>Form factor</th>\n",
              "      <th>Smartphone?</th>\n",
              "      <th>Year</th>\n",
              "      <th>Graph (million units)</th>\n",
              "      <th>dropthis</th>\n",
              "    </tr>\n",
              "  </thead>\n",
              "  <tbody>\n",
              "    <tr>\n",
              "      <th>0</th>\n",
              "      <td>Nokia</td>\n",
              "      <td>1100</td>\n",
              "      <td>Bar</td>\n",
              "      <td>No</td>\n",
              "      <td>2003</td>\n",
              "      <td>250[3][1][4]</td>\n",
              "      <td>250</td>\n",
              "    </tr>\n",
              "    <tr>\n",
              "      <th>1</th>\n",
              "      <td>Nokia</td>\n",
              "      <td>1110</td>\n",
              "      <td>Bar</td>\n",
              "      <td>No</td>\n",
              "      <td>2005</td>\n",
              "      <td>250[3][1][5]</td>\n",
              "      <td>250</td>\n",
              "    </tr>\n",
              "    <tr>\n",
              "      <th>2</th>\n",
              "      <td>Apple</td>\n",
              "      <td>iPhone 6 and iPhone 6 Plus</td>\n",
              "      <td>Touchscreen</td>\n",
              "      <td>Yes</td>\n",
              "      <td>2014</td>\n",
              "      <td>222[2][3]</td>\n",
              "      <td>222</td>\n",
              "    </tr>\n",
              "    <tr>\n",
              "      <th>3</th>\n",
              "      <td>Nokia</td>\n",
              "      <td>105 (2013) and 105 (2015)</td>\n",
              "      <td>Bar</td>\n",
              "      <td>No</td>\n",
              "      <td>2013</td>\n",
              "      <td>200[6]</td>\n",
              "      <td>200</td>\n",
              "    </tr>\n",
              "    <tr>\n",
              "      <th>4</th>\n",
              "      <td>Nokia</td>\n",
              "      <td>3210</td>\n",
              "      <td>Bar</td>\n",
              "      <td>No</td>\n",
              "      <td>1999</td>\n",
              "      <td>160[1][5][7]</td>\n",
              "      <td>160</td>\n",
              "    </tr>\n",
              "  </tbody>\n",
              "</table>\n",
              "</div>"
            ],
            "text/plain": [
              "  Manufacturer                       Model  ... Graph (million units) dropthis\n",
              "0        Nokia                        1100  ...          250[3][1][4]      250\n",
              "1        Nokia                        1110  ...          250[3][1][5]      250\n",
              "2        Apple  iPhone 6 and iPhone 6 Plus  ...             222[2][3]      222\n",
              "3        Nokia   105 (2013) and 105 (2015)  ...                200[6]      200\n",
              "4        Nokia                        3210  ...          160[1][5][7]      160\n",
              "\n",
              "[5 rows x 7 columns]"
            ]
          },
          "metadata": {},
          "execution_count": 78
        }
      ]
    },
    {
      "cell_type": "code",
      "metadata": {
        "colab": {
          "base_uri": "https://localhost:8080/"
        },
        "id": "aSh-LtGIqSbj",
        "outputId": "06fd7136-4a5d-4a2b-95e0-83470081ac9c"
      },
      "source": [
        "df.columns"
      ],
      "execution_count": null,
      "outputs": [
        {
          "output_type": "execute_result",
          "data": {
            "text/plain": [
              "Index(['Manufacturer', 'Model', 'Form factor', 'Smartphone?', 'Year',\n",
              "       'Graph (million units)', 'dropthis'],\n",
              "      dtype='object')"
            ]
          },
          "metadata": {},
          "execution_count": 86
        }
      ]
    },
    {
      "cell_type": "code",
      "metadata": {
        "colab": {
          "base_uri": "https://localhost:8080/",
          "height": 206
        },
        "id": "zISlzj0XvpCL",
        "outputId": "572ecd30-565b-4290-a69c-088809174521"
      },
      "source": [
        "df.drop(columns=['Graph (million units)'],inplace=True)\n",
        "df.head()"
      ],
      "execution_count": null,
      "outputs": [
        {
          "output_type": "execute_result",
          "data": {
            "text/html": [
              "<div>\n",
              "<style scoped>\n",
              "    .dataframe tbody tr th:only-of-type {\n",
              "        vertical-align: middle;\n",
              "    }\n",
              "\n",
              "    .dataframe tbody tr th {\n",
              "        vertical-align: top;\n",
              "    }\n",
              "\n",
              "    .dataframe thead th {\n",
              "        text-align: right;\n",
              "    }\n",
              "</style>\n",
              "<table border=\"1\" class=\"dataframe\">\n",
              "  <thead>\n",
              "    <tr style=\"text-align: right;\">\n",
              "      <th></th>\n",
              "      <th>Manufacturer</th>\n",
              "      <th>Model</th>\n",
              "      <th>Form factor</th>\n",
              "      <th>Smartphone?</th>\n",
              "      <th>Year</th>\n",
              "      <th>dropthis</th>\n",
              "    </tr>\n",
              "  </thead>\n",
              "  <tbody>\n",
              "    <tr>\n",
              "      <th>0</th>\n",
              "      <td>Nokia</td>\n",
              "      <td>1100</td>\n",
              "      <td>Bar</td>\n",
              "      <td>No</td>\n",
              "      <td>2003</td>\n",
              "      <td>250</td>\n",
              "    </tr>\n",
              "    <tr>\n",
              "      <th>1</th>\n",
              "      <td>Nokia</td>\n",
              "      <td>1110</td>\n",
              "      <td>Bar</td>\n",
              "      <td>No</td>\n",
              "      <td>2005</td>\n",
              "      <td>250</td>\n",
              "    </tr>\n",
              "    <tr>\n",
              "      <th>2</th>\n",
              "      <td>Apple</td>\n",
              "      <td>iPhone 6 and iPhone 6 Plus</td>\n",
              "      <td>Touchscreen</td>\n",
              "      <td>Yes</td>\n",
              "      <td>2014</td>\n",
              "      <td>222</td>\n",
              "    </tr>\n",
              "    <tr>\n",
              "      <th>3</th>\n",
              "      <td>Nokia</td>\n",
              "      <td>105 (2013) and 105 (2015)</td>\n",
              "      <td>Bar</td>\n",
              "      <td>No</td>\n",
              "      <td>2013</td>\n",
              "      <td>200</td>\n",
              "    </tr>\n",
              "    <tr>\n",
              "      <th>4</th>\n",
              "      <td>Nokia</td>\n",
              "      <td>3210</td>\n",
              "      <td>Bar</td>\n",
              "      <td>No</td>\n",
              "      <td>1999</td>\n",
              "      <td>160</td>\n",
              "    </tr>\n",
              "  </tbody>\n",
              "</table>\n",
              "</div>"
            ],
            "text/plain": [
              "  Manufacturer                       Model  ...  Year dropthis\n",
              "0        Nokia                        1100  ...  2003      250\n",
              "1        Nokia                        1110  ...  2005      250\n",
              "2        Apple  iPhone 6 and iPhone 6 Plus  ...  2014      222\n",
              "3        Nokia   105 (2013) and 105 (2015)  ...  2013      200\n",
              "4        Nokia                        3210  ...  1999      160\n",
              "\n",
              "[5 rows x 6 columns]"
            ]
          },
          "metadata": {},
          "execution_count": 88
        }
      ]
    },
    {
      "cell_type": "code",
      "metadata": {
        "colab": {
          "base_uri": "https://localhost:8080/",
          "height": 424
        },
        "id": "eo1tdJEvwJM1",
        "outputId": "6198f27e-f289-41c0-8557-89de7a0ff145"
      },
      "source": [
        "df.rename(columns={'dropthis': 'million units'})"
      ],
      "execution_count": null,
      "outputs": [
        {
          "output_type": "execute_result",
          "data": {
            "text/html": [
              "<div>\n",
              "<style scoped>\n",
              "    .dataframe tbody tr th:only-of-type {\n",
              "        vertical-align: middle;\n",
              "    }\n",
              "\n",
              "    .dataframe tbody tr th {\n",
              "        vertical-align: top;\n",
              "    }\n",
              "\n",
              "    .dataframe thead th {\n",
              "        text-align: right;\n",
              "    }\n",
              "</style>\n",
              "<table border=\"1\" class=\"dataframe\">\n",
              "  <thead>\n",
              "    <tr style=\"text-align: right;\">\n",
              "      <th></th>\n",
              "      <th>Manufacturer</th>\n",
              "      <th>Model</th>\n",
              "      <th>Form factor</th>\n",
              "      <th>Smartphone?</th>\n",
              "      <th>Year</th>\n",
              "      <th>million units</th>\n",
              "    </tr>\n",
              "  </thead>\n",
              "  <tbody>\n",
              "    <tr>\n",
              "      <th>0</th>\n",
              "      <td>Nokia</td>\n",
              "      <td>1100</td>\n",
              "      <td>Bar</td>\n",
              "      <td>No</td>\n",
              "      <td>2003</td>\n",
              "      <td>250</td>\n",
              "    </tr>\n",
              "    <tr>\n",
              "      <th>1</th>\n",
              "      <td>Nokia</td>\n",
              "      <td>1110</td>\n",
              "      <td>Bar</td>\n",
              "      <td>No</td>\n",
              "      <td>2005</td>\n",
              "      <td>250</td>\n",
              "    </tr>\n",
              "    <tr>\n",
              "      <th>2</th>\n",
              "      <td>Apple</td>\n",
              "      <td>iPhone 6 and iPhone 6 Plus</td>\n",
              "      <td>Touchscreen</td>\n",
              "      <td>Yes</td>\n",
              "      <td>2014</td>\n",
              "      <td>222</td>\n",
              "    </tr>\n",
              "    <tr>\n",
              "      <th>3</th>\n",
              "      <td>Nokia</td>\n",
              "      <td>105 (2013) and 105 (2015)</td>\n",
              "      <td>Bar</td>\n",
              "      <td>No</td>\n",
              "      <td>2013</td>\n",
              "      <td>200</td>\n",
              "    </tr>\n",
              "    <tr>\n",
              "      <th>4</th>\n",
              "      <td>Nokia</td>\n",
              "      <td>3210</td>\n",
              "      <td>Bar</td>\n",
              "      <td>No</td>\n",
              "      <td>1999</td>\n",
              "      <td>160</td>\n",
              "    </tr>\n",
              "    <tr>\n",
              "      <th>...</th>\n",
              "      <td>...</td>\n",
              "      <td>...</td>\n",
              "      <td>...</td>\n",
              "      <td>...</td>\n",
              "      <td>...</td>\n",
              "      <td>...</td>\n",
              "    </tr>\n",
              "    <tr>\n",
              "      <th>110</th>\n",
              "      <td>LG</td>\n",
              "      <td>G2</td>\n",
              "      <td>Touchscreen</td>\n",
              "      <td>Yes</td>\n",
              "      <td>2013</td>\n",
              "      <td>3</td>\n",
              "    </tr>\n",
              "    <tr>\n",
              "      <th>111</th>\n",
              "      <td>LeTV</td>\n",
              "      <td>LeEco Le 1s</td>\n",
              "      <td>Touchscreen</td>\n",
              "      <td>Yes</td>\n",
              "      <td>2016</td>\n",
              "      <td>3</td>\n",
              "    </tr>\n",
              "    <tr>\n",
              "      <th>112</th>\n",
              "      <td>Google</td>\n",
              "      <td>Pixel and Pixel XL</td>\n",
              "      <td>Touchscreen</td>\n",
              "      <td>Yes</td>\n",
              "      <td>2016</td>\n",
              "      <td>2.1</td>\n",
              "    </tr>\n",
              "    <tr>\n",
              "      <th>113</th>\n",
              "      <td>Palm</td>\n",
              "      <td>Centro</td>\n",
              "      <td>Keyboard bar</td>\n",
              "      <td>Yes</td>\n",
              "      <td>2007</td>\n",
              "      <td>2</td>\n",
              "    </tr>\n",
              "    <tr>\n",
              "      <th>114</th>\n",
              "      <td>Nokia</td>\n",
              "      <td>N97</td>\n",
              "      <td>Tilt slider</td>\n",
              "      <td>Yes</td>\n",
              "      <td>2009</td>\n",
              "      <td>2</td>\n",
              "    </tr>\n",
              "  </tbody>\n",
              "</table>\n",
              "<p>115 rows × 6 columns</p>\n",
              "</div>"
            ],
            "text/plain": [
              "    Manufacturer                       Model  ...  Year million units\n",
              "0          Nokia                        1100  ...  2003           250\n",
              "1          Nokia                        1110  ...  2005           250\n",
              "2          Apple  iPhone 6 and iPhone 6 Plus  ...  2014           222\n",
              "3          Nokia   105 (2013) and 105 (2015)  ...  2013           200\n",
              "4          Nokia                        3210  ...  1999           160\n",
              "..           ...                         ...  ...   ...           ...\n",
              "110           LG                          G2  ...  2013             3\n",
              "111         LeTV                 LeEco Le 1s  ...  2016             3\n",
              "112       Google          Pixel and Pixel XL  ...  2016           2.1\n",
              "113         Palm                      Centro  ...  2007             2\n",
              "114        Nokia                         N97  ...  2009             2\n",
              "\n",
              "[115 rows x 6 columns]"
            ]
          },
          "metadata": {},
          "execution_count": 89
        }
      ]
    },
    {
      "cell_type": "code",
      "metadata": {
        "id": "Hm-jaxytwrWs"
      },
      "source": [
        ""
      ],
      "execution_count": null,
      "outputs": []
    }
  ]
}