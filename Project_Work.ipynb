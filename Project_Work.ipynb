{
 "cells": [
  {
   "cell_type": "markdown",
   "metadata": {},
   "source": [
    "# A Study of the Effect of YouTube Tech Channels to the Units Sold of Newly Released Devices"
   ]
  },
  {
   "cell_type": "code",
   "execution_count": 2,
   "metadata": {},
   "outputs": [],
   "source": [
    "# Libraries used\n",
    "\n",
    "import requests\n",
    "from bs4 import BeautifulSoup\n",
    "import pandas as pd\n",
    "from fake_useragent import UserAgent\n",
    "import time, os\n",
    "import numpy as np\n",
    "import sys\n",
    "from tqdm import tqdm\n",
    "from api import *\n",
    "import google_auth_oauthlib.flow\n",
    "import googleapiclient.discovery\n",
    "import googleapiclient.errors\n"
   ]
  },
  {
   "cell_type": "code",
   "execution_count": 3,
   "metadata": {},
   "outputs": [],
   "source": [
    "# pip install --upgrade google-auth-oauthlib google-auth-httplib2"
   ]
  },
  {
   "cell_type": "code",
   "execution_count": 4,
   "metadata": {},
   "outputs": [],
   "source": [
    "# pip install --upgrade google-api-python-client"
   ]
  },
  {
   "cell_type": "markdown",
   "metadata": {},
   "source": [
    "## Scrapping"
   ]
  },
  {
   "cell_type": "markdown",
   "metadata": {},
   "source": [
    "### In this section, we will scrap Wikipedia to get the financial information we want for each device."
   ]
  },
  {
   "cell_type": "code",
   "execution_count": 5,
   "metadata": {},
   "outputs": [
    {
     "name": "stdout",
     "output_type": "stream",
     "text": [
      "200\n"
     ]
    }
   ],
   "source": [
    "url = \"https://en.wikipedia.org/wiki/List_of_best-selling_mobile_phones#Top-selling_mobile_phones\"\n",
    "wikipage = requests.get(url)\n",
    "soup = BeautifulSoup(wikipage.text, \"html5lib\")\n",
    "\n",
    "print(wikipage.status_code)"
   ]
  },
  {
   "cell_type": "code",
   "execution_count": 6,
   "metadata": {},
   "outputs": [],
   "source": [
    "columns = soup.find('table', class_='wikitable').find('tr') "
   ]
  },
  {
   "cell_type": "code",
   "execution_count": 7,
   "metadata": {},
   "outputs": [],
   "source": [
    "column_names = columns.text\n",
    "column_names = column_names.replace('\\n','  ').strip().split('  ')\n",
    "column_names = [value for value in column_names if value != '']\n",
    "column_names.append('x')"
   ]
  },
  {
   "cell_type": "code",
   "execution_count": 8,
   "metadata": {},
   "outputs": [],
   "source": [
    "data = soup.find('table', class_='wikitable').find('tbody')"
   ]
  },
  {
   "cell_type": "code",
   "execution_count": 9,
   "metadata": {},
   "outputs": [],
   "source": [
    "devices_list = []\n",
    "for row in data.find_all('tr')[1:]:\n",
    "    devices_list.append(row.text.strip().split('\\n\\n'))"
   ]
  },
  {
   "cell_type": "code",
   "execution_count": 10,
   "metadata": {},
   "outputs": [
    {
     "data": {
      "text/html": [
       "<div>\n",
       "<style scoped>\n",
       "    .dataframe tbody tr th:only-of-type {\n",
       "        vertical-align: middle;\n",
       "    }\n",
       "\n",
       "    .dataframe tbody tr th {\n",
       "        vertical-align: top;\n",
       "    }\n",
       "\n",
       "    .dataframe thead th {\n",
       "        text-align: right;\n",
       "    }\n",
       "</style>\n",
       "<table border=\"1\" class=\"dataframe\">\n",
       "  <thead>\n",
       "    <tr style=\"text-align: right;\">\n",
       "      <th></th>\n",
       "      <th>Manufacturer</th>\n",
       "      <th>Model</th>\n",
       "      <th>Form factor</th>\n",
       "      <th>Smartphone?</th>\n",
       "      <th>Year</th>\n",
       "      <th>Graph (million units)</th>\n",
       "      <th>x</th>\n",
       "    </tr>\n",
       "  </thead>\n",
       "  <tbody>\n",
       "    <tr>\n",
       "      <th>0</th>\n",
       "      <td>Nokia</td>\n",
       "      <td>1100</td>\n",
       "      <td>Bar</td>\n",
       "      <td>No</td>\n",
       "      <td>2003</td>\n",
       "      <td>250[3][1][4]</td>\n",
       "      <td>250</td>\n",
       "    </tr>\n",
       "    <tr>\n",
       "      <th>1</th>\n",
       "      <td>Nokia</td>\n",
       "      <td>1110</td>\n",
       "      <td>Bar</td>\n",
       "      <td>No</td>\n",
       "      <td>2005</td>\n",
       "      <td>250[3][1][5]</td>\n",
       "      <td>250</td>\n",
       "    </tr>\n",
       "    <tr>\n",
       "      <th>2</th>\n",
       "      <td>Apple</td>\n",
       "      <td>iPhone 6 and iPhone 6 Plus</td>\n",
       "      <td>Touchscreen</td>\n",
       "      <td>Yes</td>\n",
       "      <td>2014</td>\n",
       "      <td>222[2][3]</td>\n",
       "      <td>222</td>\n",
       "    </tr>\n",
       "    <tr>\n",
       "      <th>3</th>\n",
       "      <td>Nokia</td>\n",
       "      <td>105 (2013) and 105 (2015)</td>\n",
       "      <td>Bar</td>\n",
       "      <td>No</td>\n",
       "      <td>2013</td>\n",
       "      <td>200[6]</td>\n",
       "      <td>200</td>\n",
       "    </tr>\n",
       "    <tr>\n",
       "      <th>4</th>\n",
       "      <td>Nokia</td>\n",
       "      <td>3210</td>\n",
       "      <td>Bar</td>\n",
       "      <td>No</td>\n",
       "      <td>1999</td>\n",
       "      <td>160[1][5][7]</td>\n",
       "      <td>160</td>\n",
       "    </tr>\n",
       "    <tr>\n",
       "      <th>...</th>\n",
       "      <td>...</td>\n",
       "      <td>...</td>\n",
       "      <td>...</td>\n",
       "      <td>...</td>\n",
       "      <td>...</td>\n",
       "      <td>...</td>\n",
       "      <td>...</td>\n",
       "    </tr>\n",
       "    <tr>\n",
       "      <th>110</th>\n",
       "      <td>LG</td>\n",
       "      <td>G2</td>\n",
       "      <td>Touchscreen</td>\n",
       "      <td>Yes</td>\n",
       "      <td>2013</td>\n",
       "      <td>3[62][63]</td>\n",
       "      <td>3</td>\n",
       "    </tr>\n",
       "    <tr>\n",
       "      <th>111</th>\n",
       "      <td>LeTV</td>\n",
       "      <td>LeEco Le 1s</td>\n",
       "      <td>Touchscreen</td>\n",
       "      <td>Yes</td>\n",
       "      <td>2016</td>\n",
       "      <td>3[64][65]</td>\n",
       "      <td>3</td>\n",
       "    </tr>\n",
       "    <tr>\n",
       "      <th>112</th>\n",
       "      <td>Google</td>\n",
       "      <td>Pixel and Pixel XL</td>\n",
       "      <td>Touchscreen</td>\n",
       "      <td>Yes</td>\n",
       "      <td>2016</td>\n",
       "      <td>2.1[66]</td>\n",
       "      <td>2.1</td>\n",
       "    </tr>\n",
       "    <tr>\n",
       "      <th>113</th>\n",
       "      <td>Palm</td>\n",
       "      <td>Centro</td>\n",
       "      <td>Keyboard bar</td>\n",
       "      <td>Yes</td>\n",
       "      <td>2007</td>\n",
       "      <td>2[67]</td>\n",
       "      <td>2</td>\n",
       "    </tr>\n",
       "    <tr>\n",
       "      <th>114</th>\n",
       "      <td>Nokia</td>\n",
       "      <td>N97</td>\n",
       "      <td>Tilt slider</td>\n",
       "      <td>Yes</td>\n",
       "      <td>2009</td>\n",
       "      <td>2[4]</td>\n",
       "      <td>2</td>\n",
       "    </tr>\n",
       "  </tbody>\n",
       "</table>\n",
       "<p>115 rows × 7 columns</p>\n",
       "</div>"
      ],
      "text/plain": [
       "    Manufacturer                       Model   Form factor Smartphone?  Year  \\\n",
       "0          Nokia                        1100           Bar          No  2003   \n",
       "1          Nokia                        1110           Bar          No  2005   \n",
       "2          Apple  iPhone 6 and iPhone 6 Plus   Touchscreen         Yes  2014   \n",
       "3          Nokia   105 (2013) and 105 (2015)           Bar          No  2013   \n",
       "4          Nokia                        3210           Bar          No  1999   \n",
       "..           ...                         ...           ...         ...   ...   \n",
       "110           LG                          G2   Touchscreen         Yes  2013   \n",
       "111         LeTV                 LeEco Le 1s   Touchscreen         Yes  2016   \n",
       "112       Google          Pixel and Pixel XL   Touchscreen         Yes  2016   \n",
       "113         Palm                      Centro  Keyboard bar         Yes  2007   \n",
       "114        Nokia                         N97   Tilt slider         Yes  2009   \n",
       "\n",
       "    Graph (million units)    x  \n",
       "0            250[3][1][4]  250  \n",
       "1            250[3][1][5]  250  \n",
       "2               222[2][3]  222  \n",
       "3                  200[6]  200  \n",
       "4            160[1][5][7]  160  \n",
       "..                    ...  ...  \n",
       "110             3[62][63]    3  \n",
       "111             3[64][65]    3  \n",
       "112               2.1[66]  2.1  \n",
       "113                 2[67]    2  \n",
       "114                  2[4]    2  \n",
       "\n",
       "[115 rows x 7 columns]"
      ]
     },
     "execution_count": 10,
     "metadata": {},
     "output_type": "execute_result"
    }
   ],
   "source": [
    "units_sold_df = pd.DataFrame(devices_list, columns=column_names)\n",
    "units_sold_df"
   ]
  },
  {
   "cell_type": "code",
   "execution_count": 11,
   "metadata": {},
   "outputs": [
    {
     "data": {
      "text/html": [
       "<div>\n",
       "<style scoped>\n",
       "    .dataframe tbody tr th:only-of-type {\n",
       "        vertical-align: middle;\n",
       "    }\n",
       "\n",
       "    .dataframe tbody tr th {\n",
       "        vertical-align: top;\n",
       "    }\n",
       "\n",
       "    .dataframe thead th {\n",
       "        text-align: right;\n",
       "    }\n",
       "</style>\n",
       "<table border=\"1\" class=\"dataframe\">\n",
       "  <thead>\n",
       "    <tr style=\"text-align: right;\">\n",
       "      <th></th>\n",
       "      <th>Manufacturer</th>\n",
       "      <th>Model</th>\n",
       "      <th>Smartphone?</th>\n",
       "      <th>Year</th>\n",
       "      <th>x</th>\n",
       "    </tr>\n",
       "  </thead>\n",
       "  <tbody>\n",
       "    <tr>\n",
       "      <th>0</th>\n",
       "      <td>Nokia</td>\n",
       "      <td>1100</td>\n",
       "      <td>No</td>\n",
       "      <td>2003</td>\n",
       "      <td>250</td>\n",
       "    </tr>\n",
       "    <tr>\n",
       "      <th>1</th>\n",
       "      <td>Nokia</td>\n",
       "      <td>1110</td>\n",
       "      <td>No</td>\n",
       "      <td>2005</td>\n",
       "      <td>250</td>\n",
       "    </tr>\n",
       "    <tr>\n",
       "      <th>2</th>\n",
       "      <td>Apple</td>\n",
       "      <td>iPhone 6 and iPhone 6 Plus</td>\n",
       "      <td>Yes</td>\n",
       "      <td>2014</td>\n",
       "      <td>222</td>\n",
       "    </tr>\n",
       "    <tr>\n",
       "      <th>3</th>\n",
       "      <td>Nokia</td>\n",
       "      <td>105 (2013) and 105 (2015)</td>\n",
       "      <td>No</td>\n",
       "      <td>2013</td>\n",
       "      <td>200</td>\n",
       "    </tr>\n",
       "    <tr>\n",
       "      <th>4</th>\n",
       "      <td>Nokia</td>\n",
       "      <td>3210</td>\n",
       "      <td>No</td>\n",
       "      <td>1999</td>\n",
       "      <td>160</td>\n",
       "    </tr>\n",
       "  </tbody>\n",
       "</table>\n",
       "</div>"
      ],
      "text/plain": [
       "  Manufacturer                       Model Smartphone?  Year    x\n",
       "0        Nokia                        1100          No  2003  250\n",
       "1        Nokia                        1110          No  2005  250\n",
       "2        Apple  iPhone 6 and iPhone 6 Plus         Yes  2014  222\n",
       "3        Nokia   105 (2013) and 105 (2015)          No  2013  200\n",
       "4        Nokia                        3210          No  1999  160"
      ]
     },
     "execution_count": 11,
     "metadata": {},
     "output_type": "execute_result"
    }
   ],
   "source": [
    "units_sold_df.drop(columns=['Graph (million units)', 'Form factor'],inplace=True)\n",
    "units_sold_df.head()"
   ]
  },
  {
   "cell_type": "code",
   "execution_count": 12,
   "metadata": {},
   "outputs": [],
   "source": [
    "units_sold_df.rename(columns={'Manufacturer':'company_name', \n",
    "                              'Model':'device', \n",
    "                              'x':'units', \n",
    "                              'Smartphone?':'smartphone?', \n",
    "                              'Year': 'year'},inplace=True)"
   ]
  },
  {
   "cell_type": "code",
   "execution_count": 13,
   "metadata": {},
   "outputs": [],
   "source": [
    "units_sold_df = units_sold_df[units_sold_df['smartphone?'] == 'Yes'].reset_index(drop=True).drop(columns=['smartphone?'])"
   ]
  },
  {
   "cell_type": "code",
   "execution_count": 14,
   "metadata": {},
   "outputs": [],
   "source": [
    "units_sold_df['year'] = units_sold_df['year'].astype('int32')\n",
    "units_sold_df['units'] = units_sold_df['units'].astype('float32') * 1000000"
   ]
  },
  {
   "cell_type": "code",
   "execution_count": 15,
   "metadata": {},
   "outputs": [],
   "source": [
    "units_sold_df['company_name'] = units_sold_df.company_name.str.upper()\n",
    "units_sold_df['device'] = units_sold_df.device.str.upper()"
   ]
  },
  {
   "cell_type": "code",
   "execution_count": 16,
   "metadata": {},
   "outputs": [
    {
     "data": {
      "text/html": [
       "<div>\n",
       "<style scoped>\n",
       "    .dataframe tbody tr th:only-of-type {\n",
       "        vertical-align: middle;\n",
       "    }\n",
       "\n",
       "    .dataframe tbody tr th {\n",
       "        vertical-align: top;\n",
       "    }\n",
       "\n",
       "    .dataframe thead th {\n",
       "        text-align: right;\n",
       "    }\n",
       "</style>\n",
       "<table border=\"1\" class=\"dataframe\">\n",
       "  <thead>\n",
       "    <tr style=\"text-align: right;\">\n",
       "      <th></th>\n",
       "      <th>company_name</th>\n",
       "      <th>device</th>\n",
       "      <th>year</th>\n",
       "      <th>units</th>\n",
       "    </tr>\n",
       "  </thead>\n",
       "  <tbody>\n",
       "    <tr>\n",
       "      <th>0</th>\n",
       "      <td>APPLE</td>\n",
       "      <td>IPHONE 6 AND IPHONE 6 PLUS</td>\n",
       "      <td>2014</td>\n",
       "      <td>2.220000e+08</td>\n",
       "    </tr>\n",
       "    <tr>\n",
       "      <th>1</th>\n",
       "      <td>NOKIA</td>\n",
       "      <td>6600</td>\n",
       "      <td>2003</td>\n",
       "      <td>1.500000e+08</td>\n",
       "    </tr>\n",
       "    <tr>\n",
       "      <th>2</th>\n",
       "      <td>NOKIA</td>\n",
       "      <td>5230</td>\n",
       "      <td>2009</td>\n",
       "      <td>1.500000e+08</td>\n",
       "    </tr>\n",
       "    <tr>\n",
       "      <th>3</th>\n",
       "      <td>APPLE</td>\n",
       "      <td>IPHONE 11</td>\n",
       "      <td>2019</td>\n",
       "      <td>1.021000e+08</td>\n",
       "    </tr>\n",
       "    <tr>\n",
       "      <th>4</th>\n",
       "      <td>APPLE</td>\n",
       "      <td>IPHONE 12 AND IPHONE 12 MINI</td>\n",
       "      <td>2020</td>\n",
       "      <td>1.000000e+08</td>\n",
       "    </tr>\n",
       "  </tbody>\n",
       "</table>\n",
       "</div>"
      ],
      "text/plain": [
       "  company_name                        device  year         units\n",
       "0        APPLE    IPHONE 6 AND IPHONE 6 PLUS  2014  2.220000e+08\n",
       "1        NOKIA                          6600  2003  1.500000e+08\n",
       "2        NOKIA                          5230  2009  1.500000e+08\n",
       "3        APPLE                     IPHONE 11  2019  1.021000e+08\n",
       "4        APPLE  IPHONE 12 AND IPHONE 12 MINI  2020  1.000000e+08"
      ]
     },
     "execution_count": 16,
     "metadata": {},
     "output_type": "execute_result"
    }
   ],
   "source": [
    "units_sold_df.head()"
   ]
  },
  {
   "cell_type": "markdown",
   "metadata": {},
   "source": [
    "We notice that in some cases, there are two devices in the 'device' column. Next, we will clean it."
   ]
  },
  {
   "cell_type": "code",
   "execution_count": 17,
   "metadata": {},
   "outputs": [],
   "source": [
    "cn = []                 # company_name\n",
    "d = []                  # device\n",
    "y = []                  # year\n",
    "u = []                  # year\n",
    "\n",
    "for a_string in units_sold_df.device:\n",
    "    for a_list in a_string.split('AND'):\n",
    "        \n",
    "        cn.append(units_sold_df[units_sold_df['device'] == a_string].company_name.values[0])\n",
    "        d.append(a_list.split(',')[0].strip().upper())\n",
    "        y.append(units_sold_df[units_sold_df['device'] == a_string].year.values[0])\n",
    "        u.append(units_sold_df[units_sold_df['device'] == a_string].units.values[0])\n",
    "\n",
    "units_sold_df_mod = pd.DataFrame({'company_name': cn,\n",
    "                                  'device': d,\n",
    "                                  'year': y,\n",
    "                                  'units': u})"
   ]
  },
  {
   "cell_type": "code",
   "execution_count": 18,
   "metadata": {},
   "outputs": [
    {
     "data": {
      "text/html": [
       "<div>\n",
       "<style scoped>\n",
       "    .dataframe tbody tr th:only-of-type {\n",
       "        vertical-align: middle;\n",
       "    }\n",
       "\n",
       "    .dataframe tbody tr th {\n",
       "        vertical-align: top;\n",
       "    }\n",
       "\n",
       "    .dataframe thead th {\n",
       "        text-align: right;\n",
       "    }\n",
       "</style>\n",
       "<table border=\"1\" class=\"dataframe\">\n",
       "  <thead>\n",
       "    <tr style=\"text-align: right;\">\n",
       "      <th></th>\n",
       "      <th>company_name</th>\n",
       "      <th>device</th>\n",
       "      <th>year</th>\n",
       "      <th>units</th>\n",
       "    </tr>\n",
       "  </thead>\n",
       "  <tbody>\n",
       "    <tr>\n",
       "      <th>0</th>\n",
       "      <td>APPLE</td>\n",
       "      <td>IPHONE 6</td>\n",
       "      <td>2014</td>\n",
       "      <td>2.220000e+08</td>\n",
       "    </tr>\n",
       "    <tr>\n",
       "      <th>1</th>\n",
       "      <td>APPLE</td>\n",
       "      <td>IPHONE 6 PLUS</td>\n",
       "      <td>2014</td>\n",
       "      <td>2.220000e+08</td>\n",
       "    </tr>\n",
       "    <tr>\n",
       "      <th>2</th>\n",
       "      <td>NOKIA</td>\n",
       "      <td>6600</td>\n",
       "      <td>2003</td>\n",
       "      <td>1.500000e+08</td>\n",
       "    </tr>\n",
       "    <tr>\n",
       "      <th>3</th>\n",
       "      <td>NOKIA</td>\n",
       "      <td>5230</td>\n",
       "      <td>2009</td>\n",
       "      <td>1.500000e+08</td>\n",
       "    </tr>\n",
       "    <tr>\n",
       "      <th>4</th>\n",
       "      <td>APPLE</td>\n",
       "      <td>IPHONE 11</td>\n",
       "      <td>2019</td>\n",
       "      <td>1.021000e+08</td>\n",
       "    </tr>\n",
       "  </tbody>\n",
       "</table>\n",
       "</div>"
      ],
      "text/plain": [
       "  company_name         device  year         units\n",
       "0        APPLE       IPHONE 6  2014  2.220000e+08\n",
       "1        APPLE  IPHONE 6 PLUS  2014  2.220000e+08\n",
       "2        NOKIA           6600  2003  1.500000e+08\n",
       "3        NOKIA           5230  2009  1.500000e+08\n",
       "4        APPLE      IPHONE 11  2019  1.021000e+08"
      ]
     },
     "execution_count": 18,
     "metadata": {},
     "output_type": "execute_result"
    }
   ],
   "source": [
    "units_sold_df_mod.head()"
   ]
  },
  {
   "cell_type": "markdown",
   "metadata": {},
   "source": [
    "### In this section, we will scrap (https://www.gsmarena.com/makers.php3) to get all companies names, devices and number of devices."
   ]
  },
  {
   "cell_type": "code",
   "execution_count": 19,
   "metadata": {},
   "outputs": [],
   "source": [
    "the_link = 'https://www.gsmarena.com/makers.php3'\n",
    "ua = UserAgent()\n",
    "def get_soup(the_link):\n",
    "    source_code = requests.get(the_link, headers = {'User-agent': ua.random})\n",
    "    return BeautifulSoup(source_code.text, 'html5lib')"
   ]
  },
  {
   "cell_type": "code",
   "execution_count": 20,
   "metadata": {},
   "outputs": [],
   "source": [
    "soup = get_soup(the_link)\n",
    "list_of_companies = soup.find('div', {'class': 'st-text'})\n",
    "\n",
    "company_name = []\n",
    "links = []\n",
    "number_of_devices = []\n",
    "\n",
    "for anchor in list_of_companies.findAll('a'):\n",
    "    company_name.append(anchor.text.strip())\n",
    "    links.append('https://www.gsmarena.com/'+anchor.attrs['href'])\n",
    "    number_of_devices.append(anchor.find('span').text)"
   ]
  },
  {
   "cell_type": "markdown",
   "metadata": {},
   "source": [
    "We notice that companies names and the number of devices in company_name list are compined into a single string as shown below."
   ]
  },
  {
   "cell_type": "code",
   "execution_count": 21,
   "metadata": {},
   "outputs": [
    {
     "name": "stdout",
     "output_type": "stream",
     "text": [
      "['Acer100 devices', 'alcatel405 devices']\n",
      "['100 devices', '405 devices']\n"
     ]
    }
   ],
   "source": [
    "print(company_name[:2])\n",
    "print(number_of_devices[:2])"
   ]
  },
  {
   "cell_type": "markdown",
   "metadata": {},
   "source": [
    "We will now clean the data"
   ]
  },
  {
   "cell_type": "code",
   "execution_count": 22,
   "metadata": {},
   "outputs": [],
   "source": [
    "for i in range(len(company_name)):\n",
    "    company_name[i] = company_name[i].replace(number_of_devices[i],'')"
   ]
  },
  {
   "cell_type": "code",
   "execution_count": 23,
   "metadata": {},
   "outputs": [
    {
     "name": "stdout",
     "output_type": "stream",
     "text": [
      "['Acer', 'alcatel']\n",
      "['100 devices', '405 devices']\n"
     ]
    }
   ],
   "source": [
    "# Now data is cleaned\n",
    "print(company_name[:2])\n",
    "print(number_of_devices[:2])"
   ]
  },
  {
   "cell_type": "code",
   "execution_count": 24,
   "metadata": {},
   "outputs": [],
   "source": [
    "df1 = pd.DataFrame()\n",
    "df1['company_name'] = company_name\n",
    "df1['link'] = links\n",
    "df1['number_of_devices'] = [int(i.replace('devices','').strip()) for i in number_of_devices]"
   ]
  },
  {
   "cell_type": "code",
   "execution_count": 25,
   "metadata": {},
   "outputs": [],
   "source": [
    "df1['company_name'] = df1.company_name.str.upper()"
   ]
  },
  {
   "cell_type": "code",
   "execution_count": 26,
   "metadata": {},
   "outputs": [],
   "source": [
    "df2 = pd.merge(df1, units_sold_df_mod, on='company_name')[['company_name', 'link']].drop_duplicates().reset_index(drop=True)"
   ]
  },
  {
   "cell_type": "code",
   "execution_count": 31,
   "metadata": {},
   "outputs": [
    {
     "data": {
      "text/html": [
       "<div>\n",
       "<style scoped>\n",
       "    .dataframe tbody tr th:only-of-type {\n",
       "        vertical-align: middle;\n",
       "    }\n",
       "\n",
       "    .dataframe tbody tr th {\n",
       "        vertical-align: top;\n",
       "    }\n",
       "\n",
       "    .dataframe thead th {\n",
       "        text-align: right;\n",
       "    }\n",
       "</style>\n",
       "<table border=\"1\" class=\"dataframe\">\n",
       "  <thead>\n",
       "    <tr style=\"text-align: right;\">\n",
       "      <th></th>\n",
       "      <th>company_name</th>\n",
       "      <th>link</th>\n",
       "    </tr>\n",
       "  </thead>\n",
       "  <tbody>\n",
       "    <tr>\n",
       "      <th>0</th>\n",
       "      <td>APPLE</td>\n",
       "      <td>https://www.gsmarena.com/apple-phones-48.php</td>\n",
       "    </tr>\n",
       "    <tr>\n",
       "      <th>1</th>\n",
       "      <td>GOOGLE</td>\n",
       "      <td>https://www.gsmarena.com/google-phones-107.php</td>\n",
       "    </tr>\n",
       "    <tr>\n",
       "      <th>2</th>\n",
       "      <td>HTC</td>\n",
       "      <td>https://www.gsmarena.com/htc-phones-45.php</td>\n",
       "    </tr>\n",
       "    <tr>\n",
       "      <th>3</th>\n",
       "      <td>HUAWEI</td>\n",
       "      <td>https://www.gsmarena.com/huawei-phones-58.php</td>\n",
       "    </tr>\n",
       "    <tr>\n",
       "      <th>4</th>\n",
       "      <td>LG</td>\n",
       "      <td>https://www.gsmarena.com/lg-phones-20.php</td>\n",
       "    </tr>\n",
       "    <tr>\n",
       "      <th>5</th>\n",
       "      <td>MOTOROLA</td>\n",
       "      <td>https://www.gsmarena.com/motorola-phones-4.php</td>\n",
       "    </tr>\n",
       "    <tr>\n",
       "      <th>6</th>\n",
       "      <td>NOKIA</td>\n",
       "      <td>https://www.gsmarena.com/nokia-phones-1.php</td>\n",
       "    </tr>\n",
       "    <tr>\n",
       "      <th>7</th>\n",
       "      <td>OPPO</td>\n",
       "      <td>https://www.gsmarena.com/oppo-phones-82.php</td>\n",
       "    </tr>\n",
       "    <tr>\n",
       "      <th>8</th>\n",
       "      <td>PALM</td>\n",
       "      <td>https://www.gsmarena.com/palm-phones-27.php</td>\n",
       "    </tr>\n",
       "    <tr>\n",
       "      <th>9</th>\n",
       "      <td>SAMSUNG</td>\n",
       "      <td>https://www.gsmarena.com/samsung-phones-9.php</td>\n",
       "    </tr>\n",
       "    <tr>\n",
       "      <th>10</th>\n",
       "      <td>XIAOMI</td>\n",
       "      <td>https://www.gsmarena.com/xiaomi-phones-80.php</td>\n",
       "    </tr>\n",
       "  </tbody>\n",
       "</table>\n",
       "</div>"
      ],
      "text/plain": [
       "   company_name                                            link\n",
       "0         APPLE    https://www.gsmarena.com/apple-phones-48.php\n",
       "1        GOOGLE  https://www.gsmarena.com/google-phones-107.php\n",
       "2           HTC      https://www.gsmarena.com/htc-phones-45.php\n",
       "3        HUAWEI   https://www.gsmarena.com/huawei-phones-58.php\n",
       "4            LG       https://www.gsmarena.com/lg-phones-20.php\n",
       "5      MOTOROLA  https://www.gsmarena.com/motorola-phones-4.php\n",
       "6         NOKIA     https://www.gsmarena.com/nokia-phones-1.php\n",
       "7          OPPO     https://www.gsmarena.com/oppo-phones-82.php\n",
       "8          PALM     https://www.gsmarena.com/palm-phones-27.php\n",
       "9       SAMSUNG   https://www.gsmarena.com/samsung-phones-9.php\n",
       "10       XIAOMI   https://www.gsmarena.com/xiaomi-phones-80.php"
      ]
     },
     "execution_count": 31,
     "metadata": {},
     "output_type": "execute_result"
    }
   ],
   "source": [
    "df2"
   ]
  },
  {
   "cell_type": "markdown",
   "metadata": {},
   "source": [
    "Now we wand to scrap on the companies that we have its devices number of units sold."
   ]
  },
  {
   "cell_type": "code",
   "execution_count": 38,
   "metadata": {},
   "outputs": [
    {
     "name": "stderr",
     "output_type": "stream",
     "text": [
      "100%|███████████████████████████████████████████████████████████████████████████████| 11/11 [1:13:23<00:00, 400.27s/it]\n"
     ]
    }
   ],
   "source": [
    "devices = []\n",
    "companies_names = []\n",
    "for a_link in tqdm(df2.link.values):   #for a_link in ['https://www.gsmarena.com/acer-phones-59.php']:\n",
    "    soup = get_soup(a_link)\n",
    "    cn = df1[df1['link'] == a_link]['company_name'].values[0]\n",
    "    \n",
    "    # We'll now generate a list with all the pages containing a company's device \n",
    "    all_pages_links = [a_link]\n",
    "    list_of_pages = soup.find('div', {'class': 'nav-pages'})\n",
    "    try:\n",
    "        for i in list_of_pages.find_all('a'):\n",
    "            all_pages_links.append('https://www.gsmarena.com/'+i.get('href'))\n",
    "    except:\n",
    "        pass\n",
    "    \n",
    "    # We'll get all the devices names \n",
    "    for page_link in all_pages_links:\n",
    "        soup = get_soup(page_link)\n",
    "        list_of_devices = soup.find('div', {'class': 'makers'})\n",
    "        time.sleep(1+np.random.randint(0,1))\n",
    "        try:\n",
    "            for name in list_of_devices.find_all('span'):\n",
    "                time.sleep(1+np.random.randint(0,1))\n",
    "                devices.append(name.text)\n",
    "                companies_names.append(cn)\n",
    "        except:\n",
    "            devices.append(list_of_pages.find('span').text)\n",
    "    time.sleep(1+np.random.randint(0,1))"
   ]
  },
  {
   "cell_type": "code",
   "execution_count": 29,
   "metadata": {},
   "outputs": [],
   "source": [
    "# Now we will create a dataframe that contains the companies names and the names of the devices\n",
    "CN_D = pd.DataFrame({'company_name':companies_names, 'device':devices})\n",
    "CN_D.to_csv('CN_D.csv', index = False)"
   ]
  },
  {
   "cell_type": "markdown",
   "metadata": {},
   "source": [
    "Since scrapping takes alot of time to run, we'll use the saved data in the csv file."
   ]
  },
  {
   "cell_type": "code",
   "execution_count": 32,
   "metadata": {},
   "outputs": [
    {
     "data": {
      "text/html": [
       "<div>\n",
       "<style scoped>\n",
       "    .dataframe tbody tr th:only-of-type {\n",
       "        vertical-align: middle;\n",
       "    }\n",
       "\n",
       "    .dataframe tbody tr th {\n",
       "        vertical-align: top;\n",
       "    }\n",
       "\n",
       "    .dataframe thead th {\n",
       "        text-align: right;\n",
       "    }\n",
       "</style>\n",
       "<table border=\"1\" class=\"dataframe\">\n",
       "  <thead>\n",
       "    <tr style=\"text-align: right;\">\n",
       "      <th></th>\n",
       "      <th>company_name</th>\n",
       "      <th>device</th>\n",
       "    </tr>\n",
       "  </thead>\n",
       "  <tbody>\n",
       "    <tr>\n",
       "      <th>0</th>\n",
       "      <td>APPLE</td>\n",
       "      <td>iPhone 13 Pro Max</td>\n",
       "    </tr>\n",
       "    <tr>\n",
       "      <th>1</th>\n",
       "      <td>APPLE</td>\n",
       "      <td>iPhone 13 Pro</td>\n",
       "    </tr>\n",
       "    <tr>\n",
       "      <th>2</th>\n",
       "      <td>APPLE</td>\n",
       "      <td>iPhone 13</td>\n",
       "    </tr>\n",
       "    <tr>\n",
       "      <th>3</th>\n",
       "      <td>APPLE</td>\n",
       "      <td>iPhone 13 mini</td>\n",
       "    </tr>\n",
       "    <tr>\n",
       "      <th>4</th>\n",
       "      <td>APPLE</td>\n",
       "      <td>iPad mini (2021)</td>\n",
       "    </tr>\n",
       "    <tr>\n",
       "      <th>...</th>\n",
       "      <td>...</td>\n",
       "      <td>...</td>\n",
       "    </tr>\n",
       "    <tr>\n",
       "      <th>4207</th>\n",
       "      <td>XIAOMI</td>\n",
       "      <td>Mi Max 4 Pro</td>\n",
       "    </tr>\n",
       "    <tr>\n",
       "      <th>4208</th>\n",
       "      <td>XIAOMI</td>\n",
       "      <td>Mi Max 4</td>\n",
       "    </tr>\n",
       "    <tr>\n",
       "      <th>4209</th>\n",
       "      <td>XIAOMI</td>\n",
       "      <td>Mi 6c</td>\n",
       "    </tr>\n",
       "    <tr>\n",
       "      <th>4210</th>\n",
       "      <td>XIAOMI</td>\n",
       "      <td>Redmi Pro 2</td>\n",
       "    </tr>\n",
       "    <tr>\n",
       "      <th>4211</th>\n",
       "      <td>XIAOMI</td>\n",
       "      <td>Mi Note Plus</td>\n",
       "    </tr>\n",
       "  </tbody>\n",
       "</table>\n",
       "<p>4212 rows × 2 columns</p>\n",
       "</div>"
      ],
      "text/plain": [
       "     company_name             device\n",
       "0           APPLE  iPhone 13 Pro Max\n",
       "1           APPLE      iPhone 13 Pro\n",
       "2           APPLE          iPhone 13\n",
       "3           APPLE     iPhone 13 mini\n",
       "4           APPLE   iPad mini (2021)\n",
       "...           ...                ...\n",
       "4207       XIAOMI       Mi Max 4 Pro\n",
       "4208       XIAOMI           Mi Max 4\n",
       "4209       XIAOMI              Mi 6c\n",
       "4210       XIAOMI        Redmi Pro 2\n",
       "4211       XIAOMI       Mi Note Plus\n",
       "\n",
       "[4212 rows x 2 columns]"
      ]
     },
     "execution_count": 32,
     "metadata": {},
     "output_type": "execute_result"
    }
   ],
   "source": [
    "CN_D = pd.read_csv('CN_D.csv')\n",
    "CN_D"
   ]
  },
  {
   "cell_type": "code",
   "execution_count": 33,
   "metadata": {},
   "outputs": [],
   "source": [
    "# Now we will join the two dataframes\n",
    "df_devices = pd.merge(df1, CN_D, on='company_name')"
   ]
  },
  {
   "cell_type": "code",
   "execution_count": 34,
   "metadata": {},
   "outputs": [],
   "source": [
    "df_devices['device'] = df_devices.device.str.upper()"
   ]
  },
  {
   "cell_type": "code",
   "execution_count": 35,
   "metadata": {},
   "outputs": [
    {
     "data": {
      "text/html": [
       "<div>\n",
       "<style scoped>\n",
       "    .dataframe tbody tr th:only-of-type {\n",
       "        vertical-align: middle;\n",
       "    }\n",
       "\n",
       "    .dataframe tbody tr th {\n",
       "        vertical-align: top;\n",
       "    }\n",
       "\n",
       "    .dataframe thead th {\n",
       "        text-align: right;\n",
       "    }\n",
       "</style>\n",
       "<table border=\"1\" class=\"dataframe\">\n",
       "  <thead>\n",
       "    <tr style=\"text-align: right;\">\n",
       "      <th></th>\n",
       "      <th>company_name</th>\n",
       "      <th>link</th>\n",
       "      <th>number_of_devices</th>\n",
       "      <th>device</th>\n",
       "    </tr>\n",
       "  </thead>\n",
       "  <tbody>\n",
       "    <tr>\n",
       "      <th>0</th>\n",
       "      <td>APPLE</td>\n",
       "      <td>https://www.gsmarena.com/apple-phones-48.php</td>\n",
       "      <td>98</td>\n",
       "      <td>IPHONE 13 PRO MAX</td>\n",
       "    </tr>\n",
       "    <tr>\n",
       "      <th>1</th>\n",
       "      <td>APPLE</td>\n",
       "      <td>https://www.gsmarena.com/apple-phones-48.php</td>\n",
       "      <td>98</td>\n",
       "      <td>IPHONE 13 PRO</td>\n",
       "    </tr>\n",
       "    <tr>\n",
       "      <th>2</th>\n",
       "      <td>APPLE</td>\n",
       "      <td>https://www.gsmarena.com/apple-phones-48.php</td>\n",
       "      <td>98</td>\n",
       "      <td>IPHONE 13</td>\n",
       "    </tr>\n",
       "    <tr>\n",
       "      <th>3</th>\n",
       "      <td>APPLE</td>\n",
       "      <td>https://www.gsmarena.com/apple-phones-48.php</td>\n",
       "      <td>98</td>\n",
       "      <td>IPHONE 13 MINI</td>\n",
       "    </tr>\n",
       "    <tr>\n",
       "      <th>4</th>\n",
       "      <td>APPLE</td>\n",
       "      <td>https://www.gsmarena.com/apple-phones-48.php</td>\n",
       "      <td>98</td>\n",
       "      <td>IPAD MINI (2021)</td>\n",
       "    </tr>\n",
       "    <tr>\n",
       "      <th>...</th>\n",
       "      <td>...</td>\n",
       "      <td>...</td>\n",
       "      <td>...</td>\n",
       "      <td>...</td>\n",
       "    </tr>\n",
       "    <tr>\n",
       "      <th>4207</th>\n",
       "      <td>XIAOMI</td>\n",
       "      <td>https://www.gsmarena.com/xiaomi-phones-80.php</td>\n",
       "      <td>229</td>\n",
       "      <td>MI MAX 4 PRO</td>\n",
       "    </tr>\n",
       "    <tr>\n",
       "      <th>4208</th>\n",
       "      <td>XIAOMI</td>\n",
       "      <td>https://www.gsmarena.com/xiaomi-phones-80.php</td>\n",
       "      <td>229</td>\n",
       "      <td>MI MAX 4</td>\n",
       "    </tr>\n",
       "    <tr>\n",
       "      <th>4209</th>\n",
       "      <td>XIAOMI</td>\n",
       "      <td>https://www.gsmarena.com/xiaomi-phones-80.php</td>\n",
       "      <td>229</td>\n",
       "      <td>MI 6C</td>\n",
       "    </tr>\n",
       "    <tr>\n",
       "      <th>4210</th>\n",
       "      <td>XIAOMI</td>\n",
       "      <td>https://www.gsmarena.com/xiaomi-phones-80.php</td>\n",
       "      <td>229</td>\n",
       "      <td>REDMI PRO 2</td>\n",
       "    </tr>\n",
       "    <tr>\n",
       "      <th>4211</th>\n",
       "      <td>XIAOMI</td>\n",
       "      <td>https://www.gsmarena.com/xiaomi-phones-80.php</td>\n",
       "      <td>229</td>\n",
       "      <td>MI NOTE PLUS</td>\n",
       "    </tr>\n",
       "  </tbody>\n",
       "</table>\n",
       "<p>4212 rows × 4 columns</p>\n",
       "</div>"
      ],
      "text/plain": [
       "     company_name                                           link  \\\n",
       "0           APPLE   https://www.gsmarena.com/apple-phones-48.php   \n",
       "1           APPLE   https://www.gsmarena.com/apple-phones-48.php   \n",
       "2           APPLE   https://www.gsmarena.com/apple-phones-48.php   \n",
       "3           APPLE   https://www.gsmarena.com/apple-phones-48.php   \n",
       "4           APPLE   https://www.gsmarena.com/apple-phones-48.php   \n",
       "...           ...                                            ...   \n",
       "4207       XIAOMI  https://www.gsmarena.com/xiaomi-phones-80.php   \n",
       "4208       XIAOMI  https://www.gsmarena.com/xiaomi-phones-80.php   \n",
       "4209       XIAOMI  https://www.gsmarena.com/xiaomi-phones-80.php   \n",
       "4210       XIAOMI  https://www.gsmarena.com/xiaomi-phones-80.php   \n",
       "4211       XIAOMI  https://www.gsmarena.com/xiaomi-phones-80.php   \n",
       "\n",
       "      number_of_devices             device  \n",
       "0                    98  IPHONE 13 PRO MAX  \n",
       "1                    98      IPHONE 13 PRO  \n",
       "2                    98          IPHONE 13  \n",
       "3                    98     IPHONE 13 MINI  \n",
       "4                    98   IPAD MINI (2021)  \n",
       "...                 ...                ...  \n",
       "4207                229       MI MAX 4 PRO  \n",
       "4208                229           MI MAX 4  \n",
       "4209                229              MI 6C  \n",
       "4210                229        REDMI PRO 2  \n",
       "4211                229       MI NOTE PLUS  \n",
       "\n",
       "[4212 rows x 4 columns]"
      ]
     },
     "execution_count": 35,
     "metadata": {},
     "output_type": "execute_result"
    }
   ],
   "source": [
    "df_devices"
   ]
  },
  {
   "cell_type": "code",
   "execution_count": null,
   "metadata": {},
   "outputs": [],
   "source": []
  },
  {
   "cell_type": "markdown",
   "metadata": {},
   "source": [
    "### In the next section, we will scrap YouTube to get the length of the video, number of like and dislikes, the channels names, and the devices the reviews were about."
   ]
  },
  {
   "cell_type": "code",
   "execution_count": 148,
   "metadata": {},
   "outputs": [],
   "source": [
    "videoIds=[]\n",
    "scopes = [\"https://www.googleapis.com/auth/youtube.readonly\"]\n",
    "os.environ[\"OAUTHLIB_INSECURE_TRANSPORT\"] = \"1\""
   ]
  },
  {
   "cell_type": "code",
   "execution_count": 82,
   "metadata": {},
   "outputs": [],
   "source": [
    "# SETUP\n",
    "api_service_name = \"youtube\"\n",
    "api_version = \"v3\"\n",
    "token = api_token\n",
    "youtube = googleapiclient.discovery.build(api_service_name, api_version, developerKey=token)"
   ]
  },
  {
   "cell_type": "code",
   "execution_count": 80,
   "metadata": {},
   "outputs": [],
   "source": [
    "# Three of the most popular Tech channels were selected\n",
    "channels_names = ['marquesbrownlee','unboxtherapy','Mrwhosetheboss']\n",
    "ranges = [] # Number of videos devided by 50"
   ]
  },
  {
   "cell_type": "code",
   "execution_count": 89,
   "metadata": {},
   "outputs": [],
   "source": [
    "def get_upload_list(a_channel_name):\n",
    "    uploads_lists = []\n",
    "    # Get Channel details (Find the uploads playlist id from it)\n",
    "    channelReq = youtube.channels().list(\n",
    "        part=\"snippet,contentDetails,statistics\",\n",
    "        forUsername=a_channel_name\n",
    "    )\n",
    "    channelRes = channelReq.execute()\n",
    "    uploads_lists.append(channelRes['items'][0]['contentDetails']['relatedPlaylists']['uploads'])\n",
    "    \n",
    "    \n",
    "    return uploads_lists"
   ]
  },
  {
   "cell_type": "code",
   "execution_count": 92,
   "metadata": {},
   "outputs": [],
   "source": [
    "# # channelReq = youtube.channels().list(\n",
    "#     part=\"snippet,contentDetails,statistics\",\n",
    "#     forUsername='marquesbrownlee'\n",
    "# )\n",
    "# channelRes = channelReq.execute()"
   ]
  },
  {
   "cell_type": "code",
   "execution_count": 104,
   "metadata": {},
   "outputs": [
    {
     "data": {
      "text/plain": [
       "'UUBJycsmduvYEL83R_U4JriQ'"
      ]
     },
     "execution_count": 104,
     "metadata": {},
     "output_type": "execute_result"
    }
   ],
   "source": [
    "# channelRes['items'][0]['contentDetails']['relatedPlaylists']['uploads']"
   ]
  },
  {
   "cell_type": "code",
   "execution_count": 105,
   "metadata": {},
   "outputs": [],
   "source": [
    "# get_upload_list(channels_names)"
   ]
  },
  {
   "cell_type": "code",
   "execution_count": 151,
   "metadata": {},
   "outputs": [],
   "source": [
    "def get_vids_ids(channels_names, uploads_list, ranges):\n",
    "    videos_Ids=[]\n",
    "    channels_names_modified = []\n",
    "    \n",
    "    for i in range(len(channels_names)):\n",
    "        # ---------------------------------------------------------------------------------\n",
    "        # Get the uploads of a channel\n",
    "        uploadsReq = youtube.playlistItems().list(\n",
    "            part=\"snippet,contentDetails\",\n",
    "            maxResults=50,\n",
    "            playlistId=uploads_list[i],\n",
    "        )\n",
    "        uploadsRes = uploadsReq.execute()\n",
    "        for video in range(len(uploadsRes['items'])):\n",
    "            videos_Ids.append(uploadsRes['items'][video]['contentDetails']['videoId'])\n",
    "            channels_names_modified.append(channels_names[i])\n",
    "        # ---------------------------------------------------------------------------------    \n",
    "        NEXT_PAGE_TOKEN = uploadsRes['nextPageToken']\n",
    "        for page in range(ranges[i]): ####################### What is it used for? or how to get it? Can we generalize? \n",
    "            # Get the uploads of a channel\n",
    "            nextUploadsReq = youtube.playlistItems().list(\n",
    "                part=\"snippet,contentDetails\",\n",
    "                maxResults=50,\n",
    "                playlistId=uploads_list[i],\n",
    "                pageToken=NEXT_PAGE_TOKEN\n",
    "            )\n",
    "            nextUploadsRes = nextUploadsReq.execute()\n",
    "            try:\n",
    "                NEXT_PAGE_TOKEN = nextUploadsRes['nextPageToken']\n",
    "                for video in range(len(nextUploadsRes['items'])):\n",
    "                    videos_Ids.append(nextUploadsRes['items'][video]['contentDetails']['videoId'])\n",
    "                    channels_names_modified.append(channels_names[i])\n",
    "            except:\n",
    "                print('No next page on:   '+ channels_names[i])\n",
    "    return videos_Ids, channels_names_modified"
   ]
  },
  {
   "cell_type": "code",
   "execution_count": 152,
   "metadata": {},
   "outputs": [],
   "source": [
    "def get_vid_details(videoIds, channels_names_modified):\n",
    "    titles = []\n",
    "    tags = []\n",
    "    likeCount = []\n",
    "    viewCount = []\n",
    "    dislikeCount = []\n",
    "    commentCount = []\n",
    "    # ---------------------------------------------------------------------------------\n",
    "    # Get channel's stats videos details\n",
    "    fifties = 0\n",
    "    for iter in range(len(videoIds)):\n",
    "        vidReq = youtube.videos().list(\n",
    "            part=\"snippet,contentDetails,statistics\",\n",
    "            id=videoIds[iter]\n",
    "        )\n",
    "        vidRes = vidReq.execute()\n",
    "        try:\n",
    "            viewCount.append(vidRes['items'][0]['statistics']['viewCount'])\n",
    "        except:\n",
    "            print('video with no viewCount') \n",
    "            viewCount.append(None)\n",
    "        try:\n",
    "            likeCount.append(vidRes['items'][0]['statistics']['likeCount'])\n",
    "        except:\n",
    "            print('video with no likeCount') \n",
    "            likeCount.append(None)\n",
    "        try:\n",
    "            dislikeCount.append(vidRes['items'][0]['statistics']['dislikeCount'])\n",
    "        except:\n",
    "            print('video with no dislikeCount') \n",
    "            dislikeCount.append(None)\n",
    "        try:\n",
    "            commentCount.append(vidRes['items'][0]['statistics']['commentCount'])\n",
    "        except:\n",
    "            print('video with no commentCount') \n",
    "            commentCount.append(None)\n",
    "        try:\n",
    "            titles.append(vidRes['items'][0]['snippet']['title'])\n",
    "        except:\n",
    "            print('video with no titles') \n",
    "            titles.append(None)\n",
    "        try:\n",
    "            tags.append(vidRes['items'][0]['snippet']['tags'])\n",
    "        except:\n",
    "            print('video with no tags') \n",
    "            tags.append(None)\n",
    "            \n",
    "    df = pd.DataFrame({'channel_name': channels_names_modified, \n",
    "                         'titles': titles, \n",
    "                         'tags': tags, \n",
    "                         'likes_number': likeCount, \n",
    "                         'views count': viewCount,\n",
    "                         'dislikes_number': dislikeCount, \n",
    "                         'commens_count': commentCount})\n",
    "    return df ################################################### GET THE DURATION !!"
   ]
  },
  {
   "cell_type": "code",
   "execution_count": null,
   "metadata": {},
   "outputs": [],
   "source": []
  },
  {
   "cell_type": "code",
   "execution_count": null,
   "metadata": {},
   "outputs": [],
   "source": [
    "yt_df.to_csv('youtube_scrapping_data.csv')"
   ]
  },
  {
   "cell_type": "code",
   "execution_count": 38,
   "metadata": {},
   "outputs": [],
   "source": [
    "yt_df = pd.read_csv('youtube_data.csv', index_col=0).reset_index(drop=True)"
   ]
  },
  {
   "cell_type": "code",
   "execution_count": 40,
   "metadata": {},
   "outputs": [
    {
     "name": "stderr",
     "output_type": "stream",
     "text": [
      "C:\\Users\\Windows10\\anaconda3\\lib\\site-packages\\pandas\\core\\indexing.py:671: SettingWithCopyWarning: \n",
      "A value is trying to be set on a copy of a slice from a DataFrame\n",
      "\n",
      "See the caveats in the documentation: https://pandas.pydata.org/pandas-docs/stable/user_guide/indexing.html#returning-a-view-versus-a-copy\n",
      "  self._setitem_with_indexer(indexer, value)\n"
     ]
    }
   ],
   "source": [
    "# H M S\n",
    "# H M\n",
    "# H   S\n",
    "# H \n",
    "#   M S\n",
    "#   M\n",
    "#     S\n",
    "\n",
    "for i in range(yt_df.shape[0]):\n",
    "    x = yt_df.video_duration.str.strip('PT').iloc[i]\n",
    "    if 'H' in x and 'M' in x and 'S' in x:\n",
    "        h = int(x.split('H')[0])\n",
    "        m = int(x.split('H')[1].split('M')[0])\n",
    "        s = int(x.split('H')[1].split('M')[1].strip('S'))\n",
    "        yt_df['video_duration'].iloc[i] = (h * 60 * 60) + (m * 60) + s\n",
    "        \n",
    "    elif 'H' in x and 'M' in x and 'S' not in x:\n",
    "        h = int(x.split('H')[0])\n",
    "        m = int(x.split('H')[1].strip('M'))\n",
    "        yt_df['video_duration'].iloc[i] = (h * 60 * 60) + (m * 60)\n",
    "        \n",
    "    elif 'H' in x and 'M' not in x and 'S' in x:\n",
    "        h = int(x.split('H')[0])\n",
    "        s = int(x.split('H')[1].strip('S'))\n",
    "        yt_df['video_duration'].iloc[i] = (h * 60 * 60) + s\n",
    "                \n",
    "    elif 'H' in x and 'M' not in x and 'S' not in x:\n",
    "        h = int(x.strip('H'))\n",
    "        yt_df['video_duration'].iloc[i] = (h * 60 * 60)\n",
    "        \n",
    "    elif not 'H' in x and 'M' in x and 'S' in x:\n",
    "        m = int(x.split('M')[0])\n",
    "        s = int(x.split('M')[1].strip('S'))\n",
    "        yt_df['video_duration'].iloc[i] = (m * 60) + s\n",
    "        \n",
    "    elif not 'H' in x and 'M' in x and 'S' not in x:\n",
    "        m = int(x.strip('M'))\n",
    "        yt_df['video_duration'].iloc[i] = (m * 60)\n",
    "        \n",
    "    elif not 'H' in x and 'M' not in x and 'S' in x:\n",
    "        s = int(x.strip('S'))\n",
    "        yt_df['video_duration'].iloc[i] = s\n",
    "    "
   ]
  },
  {
   "cell_type": "code",
   "execution_count": 46,
   "metadata": {},
   "outputs": [
    {
     "data": {
      "text/plain": [
       "\"['surface laptop', 'surface studio', 'surface laptop studio', 'mkbhd', 'MKBHD', 'Microsoft Surface', 'Microsoft Surface Laptop Studio', 'Windows 11']\""
      ]
     },
     "execution_count": 46,
     "metadata": {},
     "output_type": "execute_result"
    }
   ],
   "source": [
    "yt_df.tags.iloc[0]"
   ]
  },
  {
   "cell_type": "code",
   "execution_count": 41,
   "metadata": {},
   "outputs": [],
   "source": [
    "yt_df['channel_name'] = yt_df.channel_name.str.upper()"
   ]
  },
  {
   "cell_type": "code",
   "execution_count": 42,
   "metadata": {},
   "outputs": [],
   "source": [
    "yt_df.dropna(inplace = True)\n",
    "yt_df.reset_index(drop=True, inplace = True)"
   ]
  },
  {
   "cell_type": "code",
   "execution_count": 47,
   "metadata": {},
   "outputs": [],
   "source": [
    "channel_name = []\n",
    "titles = []\n",
    "tags = []\n",
    "likes_number = []\n",
    "views_count = []\n",
    "dislikes_number = []\n",
    "commens_count = []\n",
    "video_duration = []\n",
    "for ii in range(yt_df.shape[0]): \n",
    "    for i in yt_df.tags.iloc[ii].strip(\"'[]'\").split(','):\n",
    "        channel_name.append(yt_df.channel_name.iloc[ii])\n",
    "        tags.append(i.strip().strip(\"''\").strip())\n",
    "        titles.append(yt_df.titles.iloc[ii])\n",
    "        likes_number.append(yt_df.likes_number.iloc[ii])\n",
    "        dislikes_number.append(yt_df.dislikes_number.iloc[ii])\n",
    "        commens_count.append(yt_df.commens_count.iloc[ii])\n",
    "        video_duration.append(yt_df.video_duration.iloc[ii])\n",
    "        views_count.append(yt_df['views count'].iloc[ii])"
   ]
  },
  {
   "cell_type": "code",
   "execution_count": 48,
   "metadata": {},
   "outputs": [],
   "source": [
    "yt_df_modified = pd.DataFrame({'channel_name': channel_name,\n",
    "                               'titles': titles,\n",
    "                               'tags': tags,\n",
    "                               'likes_number': likes_number,\n",
    "                               'views_count': views_count,\n",
    "                               'dislikes_number': dislikes_number,\n",
    "                               'commens_count': commens_count,\n",
    "                               'video_duration': video_duration})"
   ]
  },
  {
   "cell_type": "code",
   "execution_count": 49,
   "metadata": {},
   "outputs": [],
   "source": [
    "yt_df_modified['tags'] = yt_df_modified.tags.str.upper()"
   ]
  },
  {
   "cell_type": "code",
   "execution_count": 50,
   "metadata": {},
   "outputs": [
    {
     "data": {
      "text/html": [
       "<div>\n",
       "<style scoped>\n",
       "    .dataframe tbody tr th:only-of-type {\n",
       "        vertical-align: middle;\n",
       "    }\n",
       "\n",
       "    .dataframe tbody tr th {\n",
       "        vertical-align: top;\n",
       "    }\n",
       "\n",
       "    .dataframe thead th {\n",
       "        text-align: right;\n",
       "    }\n",
       "</style>\n",
       "<table border=\"1\" class=\"dataframe\">\n",
       "  <thead>\n",
       "    <tr style=\"text-align: right;\">\n",
       "      <th></th>\n",
       "      <th>channel_name</th>\n",
       "      <th>titles</th>\n",
       "      <th>tags</th>\n",
       "      <th>likes_number</th>\n",
       "      <th>views_count</th>\n",
       "      <th>dislikes_number</th>\n",
       "      <th>commens_count</th>\n",
       "      <th>video_duration</th>\n",
       "    </tr>\n",
       "  </thead>\n",
       "  <tbody>\n",
       "    <tr>\n",
       "      <th>0</th>\n",
       "      <td>MKBHD</td>\n",
       "      <td>Surface Laptop Studio Impressions: Windows 11 ...</td>\n",
       "      <td>SURFACE LAPTOP</td>\n",
       "      <td>80208.0</td>\n",
       "      <td>2184860.0</td>\n",
       "      <td>1472.0</td>\n",
       "      <td>5720.0</td>\n",
       "      <td>687</td>\n",
       "    </tr>\n",
       "    <tr>\n",
       "      <th>1</th>\n",
       "      <td>MKBHD</td>\n",
       "      <td>Surface Laptop Studio Impressions: Windows 11 ...</td>\n",
       "      <td>SURFACE STUDIO</td>\n",
       "      <td>80208.0</td>\n",
       "      <td>2184860.0</td>\n",
       "      <td>1472.0</td>\n",
       "      <td>5720.0</td>\n",
       "      <td>687</td>\n",
       "    </tr>\n",
       "    <tr>\n",
       "      <th>2</th>\n",
       "      <td>MKBHD</td>\n",
       "      <td>Surface Laptop Studio Impressions: Windows 11 ...</td>\n",
       "      <td>SURFACE LAPTOP STUDIO</td>\n",
       "      <td>80208.0</td>\n",
       "      <td>2184860.0</td>\n",
       "      <td>1472.0</td>\n",
       "      <td>5720.0</td>\n",
       "      <td>687</td>\n",
       "    </tr>\n",
       "    <tr>\n",
       "      <th>3</th>\n",
       "      <td>MKBHD</td>\n",
       "      <td>Surface Laptop Studio Impressions: Windows 11 ...</td>\n",
       "      <td>MKBHD</td>\n",
       "      <td>80208.0</td>\n",
       "      <td>2184860.0</td>\n",
       "      <td>1472.0</td>\n",
       "      <td>5720.0</td>\n",
       "      <td>687</td>\n",
       "    </tr>\n",
       "    <tr>\n",
       "      <th>4</th>\n",
       "      <td>MKBHD</td>\n",
       "      <td>Surface Laptop Studio Impressions: Windows 11 ...</td>\n",
       "      <td>MKBHD</td>\n",
       "      <td>80208.0</td>\n",
       "      <td>2184860.0</td>\n",
       "      <td>1472.0</td>\n",
       "      <td>5720.0</td>\n",
       "      <td>687</td>\n",
       "    </tr>\n",
       "    <tr>\n",
       "      <th>...</th>\n",
       "      <td>...</td>\n",
       "      <td>...</td>\n",
       "      <td>...</td>\n",
       "      <td>...</td>\n",
       "      <td>...</td>\n",
       "      <td>...</td>\n",
       "      <td>...</td>\n",
       "      <td>...</td>\n",
       "    </tr>\n",
       "    <tr>\n",
       "      <th>127117</th>\n",
       "      <td>UNBOX_THERAPY</td>\n",
       "      <td>Lacie 2big Quadra Unboxing &amp; Overview in HD!</td>\n",
       "      <td>HOT</td>\n",
       "      <td>170.0</td>\n",
       "      <td>10440.0</td>\n",
       "      <td>5.0</td>\n",
       "      <td>17.0</td>\n",
       "      <td>283</td>\n",
       "    </tr>\n",
       "    <tr>\n",
       "      <th>127118</th>\n",
       "      <td>UNBOX_THERAPY</td>\n",
       "      <td>Lacie 2big Quadra Unboxing &amp; Overview in HD!</td>\n",
       "      <td>SWAP</td>\n",
       "      <td>170.0</td>\n",
       "      <td>10440.0</td>\n",
       "      <td>5.0</td>\n",
       "      <td>17.0</td>\n",
       "      <td>283</td>\n",
       "    </tr>\n",
       "    <tr>\n",
       "      <th>127119</th>\n",
       "      <td>UNBOX_THERAPY</td>\n",
       "      <td>Lacie 2big Quadra Unboxing &amp; Overview in HD!</td>\n",
       "      <td>7200RPM</td>\n",
       "      <td>170.0</td>\n",
       "      <td>10440.0</td>\n",
       "      <td>5.0</td>\n",
       "      <td>17.0</td>\n",
       "      <td>283</td>\n",
       "    </tr>\n",
       "    <tr>\n",
       "      <th>127120</th>\n",
       "      <td>UNBOX_THERAPY</td>\n",
       "      <td>Lacie 2big Quadra Unboxing &amp; Overview in HD!</td>\n",
       "      <td>32MB</td>\n",
       "      <td>170.0</td>\n",
       "      <td>10440.0</td>\n",
       "      <td>5.0</td>\n",
       "      <td>17.0</td>\n",
       "      <td>283</td>\n",
       "    </tr>\n",
       "    <tr>\n",
       "      <th>127121</th>\n",
       "      <td>UNBOX_THERAPY</td>\n",
       "      <td>Lacie 2big Quadra Unboxing &amp; Overview in HD!</td>\n",
       "      <td>CACHE</td>\n",
       "      <td>170.0</td>\n",
       "      <td>10440.0</td>\n",
       "      <td>5.0</td>\n",
       "      <td>17.0</td>\n",
       "      <td>283</td>\n",
       "    </tr>\n",
       "  </tbody>\n",
       "</table>\n",
       "<p>127122 rows × 8 columns</p>\n",
       "</div>"
      ],
      "text/plain": [
       "         channel_name                                             titles  \\\n",
       "0               MKBHD  Surface Laptop Studio Impressions: Windows 11 ...   \n",
       "1               MKBHD  Surface Laptop Studio Impressions: Windows 11 ...   \n",
       "2               MKBHD  Surface Laptop Studio Impressions: Windows 11 ...   \n",
       "3               MKBHD  Surface Laptop Studio Impressions: Windows 11 ...   \n",
       "4               MKBHD  Surface Laptop Studio Impressions: Windows 11 ...   \n",
       "...               ...                                                ...   \n",
       "127117  UNBOX_THERAPY       Lacie 2big Quadra Unboxing & Overview in HD!   \n",
       "127118  UNBOX_THERAPY       Lacie 2big Quadra Unboxing & Overview in HD!   \n",
       "127119  UNBOX_THERAPY       Lacie 2big Quadra Unboxing & Overview in HD!   \n",
       "127120  UNBOX_THERAPY       Lacie 2big Quadra Unboxing & Overview in HD!   \n",
       "127121  UNBOX_THERAPY       Lacie 2big Quadra Unboxing & Overview in HD!   \n",
       "\n",
       "                         tags  likes_number  views_count  dislikes_number  \\\n",
       "0              SURFACE LAPTOP       80208.0    2184860.0           1472.0   \n",
       "1              SURFACE STUDIO       80208.0    2184860.0           1472.0   \n",
       "2       SURFACE LAPTOP STUDIO       80208.0    2184860.0           1472.0   \n",
       "3                       MKBHD       80208.0    2184860.0           1472.0   \n",
       "4                       MKBHD       80208.0    2184860.0           1472.0   \n",
       "...                       ...           ...          ...              ...   \n",
       "127117                    HOT         170.0      10440.0              5.0   \n",
       "127118                   SWAP         170.0      10440.0              5.0   \n",
       "127119                7200RPM         170.0      10440.0              5.0   \n",
       "127120                   32MB         170.0      10440.0              5.0   \n",
       "127121                  CACHE         170.0      10440.0              5.0   \n",
       "\n",
       "        commens_count  video_duration  \n",
       "0              5720.0             687  \n",
       "1              5720.0             687  \n",
       "2              5720.0             687  \n",
       "3              5720.0             687  \n",
       "4              5720.0             687  \n",
       "...               ...             ...  \n",
       "127117           17.0             283  \n",
       "127118           17.0             283  \n",
       "127119           17.0             283  \n",
       "127120           17.0             283  \n",
       "127121           17.0             283  \n",
       "\n",
       "[127122 rows x 8 columns]"
      ]
     },
     "execution_count": 50,
     "metadata": {},
     "output_type": "execute_result"
    }
   ],
   "source": [
    "yt_df_modified"
   ]
  },
  {
   "cell_type": "markdown",
   "metadata": {},
   "source": [
    "### Final DataFrame preparation."
   ]
  },
  {
   "cell_type": "code",
   "execution_count": 52,
   "metadata": {},
   "outputs": [
    {
     "data": {
      "text/html": [
       "<div>\n",
       "<style scoped>\n",
       "    .dataframe tbody tr th:only-of-type {\n",
       "        vertical-align: middle;\n",
       "    }\n",
       "\n",
       "    .dataframe tbody tr th {\n",
       "        vertical-align: top;\n",
       "    }\n",
       "\n",
       "    .dataframe thead th {\n",
       "        text-align: right;\n",
       "    }\n",
       "</style>\n",
       "<table border=\"1\" class=\"dataframe\">\n",
       "  <thead>\n",
       "    <tr style=\"text-align: right;\">\n",
       "      <th></th>\n",
       "      <th>company_name</th>\n",
       "      <th>link</th>\n",
       "      <th>number_of_devices</th>\n",
       "      <th>device</th>\n",
       "    </tr>\n",
       "  </thead>\n",
       "  <tbody>\n",
       "    <tr>\n",
       "      <th>0</th>\n",
       "      <td>APPLE</td>\n",
       "      <td>https://www.gsmarena.com/apple-phones-48.php</td>\n",
       "      <td>98</td>\n",
       "      <td>IPHONE 13 PRO MAX</td>\n",
       "    </tr>\n",
       "  </tbody>\n",
       "</table>\n",
       "</div>"
      ],
      "text/plain": [
       "  company_name                                          link  \\\n",
       "0        APPLE  https://www.gsmarena.com/apple-phones-48.php   \n",
       "\n",
       "   number_of_devices             device  \n",
       "0                 98  IPHONE 13 PRO MAX  "
      ]
     },
     "execution_count": 52,
     "metadata": {},
     "output_type": "execute_result"
    }
   ],
   "source": [
    "df_devices.head(1)"
   ]
  },
  {
   "cell_type": "code",
   "execution_count": 53,
   "metadata": {},
   "outputs": [
    {
     "data": {
      "text/html": [
       "<div>\n",
       "<style scoped>\n",
       "    .dataframe tbody tr th:only-of-type {\n",
       "        vertical-align: middle;\n",
       "    }\n",
       "\n",
       "    .dataframe tbody tr th {\n",
       "        vertical-align: top;\n",
       "    }\n",
       "\n",
       "    .dataframe thead th {\n",
       "        text-align: right;\n",
       "    }\n",
       "</style>\n",
       "<table border=\"1\" class=\"dataframe\">\n",
       "  <thead>\n",
       "    <tr style=\"text-align: right;\">\n",
       "      <th></th>\n",
       "      <th>channel_name</th>\n",
       "      <th>titles</th>\n",
       "      <th>tags</th>\n",
       "      <th>likes_number</th>\n",
       "      <th>views_count</th>\n",
       "      <th>dislikes_number</th>\n",
       "      <th>commens_count</th>\n",
       "      <th>video_duration</th>\n",
       "    </tr>\n",
       "  </thead>\n",
       "  <tbody>\n",
       "    <tr>\n",
       "      <th>0</th>\n",
       "      <td>MKBHD</td>\n",
       "      <td>Surface Laptop Studio Impressions: Windows 11 ...</td>\n",
       "      <td>SURFACE LAPTOP</td>\n",
       "      <td>80208.0</td>\n",
       "      <td>2184860.0</td>\n",
       "      <td>1472.0</td>\n",
       "      <td>5720.0</td>\n",
       "      <td>687</td>\n",
       "    </tr>\n",
       "  </tbody>\n",
       "</table>\n",
       "</div>"
      ],
      "text/plain": [
       "  channel_name                                             titles  \\\n",
       "0        MKBHD  Surface Laptop Studio Impressions: Windows 11 ...   \n",
       "\n",
       "             tags  likes_number  views_count  dislikes_number  commens_count  \\\n",
       "0  SURFACE LAPTOP       80208.0    2184860.0           1472.0         5720.0   \n",
       "\n",
       "   video_duration  \n",
       "0             687  "
      ]
     },
     "execution_count": 53,
     "metadata": {},
     "output_type": "execute_result"
    }
   ],
   "source": [
    "yt_df_modified.head(1)"
   ]
  },
  {
   "cell_type": "code",
   "execution_count": 54,
   "metadata": {},
   "outputs": [
    {
     "data": {
      "text/html": [
       "<div>\n",
       "<style scoped>\n",
       "    .dataframe tbody tr th:only-of-type {\n",
       "        vertical-align: middle;\n",
       "    }\n",
       "\n",
       "    .dataframe tbody tr th {\n",
       "        vertical-align: top;\n",
       "    }\n",
       "\n",
       "    .dataframe thead th {\n",
       "        text-align: right;\n",
       "    }\n",
       "</style>\n",
       "<table border=\"1\" class=\"dataframe\">\n",
       "  <thead>\n",
       "    <tr style=\"text-align: right;\">\n",
       "      <th></th>\n",
       "      <th>company_name</th>\n",
       "      <th>device</th>\n",
       "      <th>year</th>\n",
       "      <th>units</th>\n",
       "    </tr>\n",
       "  </thead>\n",
       "  <tbody>\n",
       "    <tr>\n",
       "      <th>0</th>\n",
       "      <td>APPLE</td>\n",
       "      <td>IPHONE 6</td>\n",
       "      <td>2014</td>\n",
       "      <td>222000000.0</td>\n",
       "    </tr>\n",
       "  </tbody>\n",
       "</table>\n",
       "</div>"
      ],
      "text/plain": [
       "  company_name    device  year        units\n",
       "0        APPLE  IPHONE 6  2014  222000000.0"
      ]
     },
     "execution_count": 54,
     "metadata": {},
     "output_type": "execute_result"
    }
   ],
   "source": [
    "units_sold_df_mod.head(1)"
   ]
  },
  {
   "cell_type": "code",
   "execution_count": 60,
   "metadata": {},
   "outputs": [],
   "source": [
    "pre_final_df = pd.merge(df_devices, \n",
    "                        units_sold_df_mod, \n",
    "                        on='device').drop(['number_of_devices', 'link', 'company_name_y'], axis=1)"
   ]
  },
  {
   "cell_type": "code",
   "execution_count": 68,
   "metadata": {},
   "outputs": [
    {
     "data": {
      "text/html": [
       "<div>\n",
       "<style scoped>\n",
       "    .dataframe tbody tr th:only-of-type {\n",
       "        vertical-align: middle;\n",
       "    }\n",
       "\n",
       "    .dataframe tbody tr th {\n",
       "        vertical-align: top;\n",
       "    }\n",
       "\n",
       "    .dataframe thead th {\n",
       "        text-align: right;\n",
       "    }\n",
       "</style>\n",
       "<table border=\"1\" class=\"dataframe\">\n",
       "  <thead>\n",
       "    <tr style=\"text-align: right;\">\n",
       "      <th></th>\n",
       "      <th>channel_name</th>\n",
       "      <th>titles</th>\n",
       "      <th>tags</th>\n",
       "      <th>likes_number</th>\n",
       "      <th>views_count</th>\n",
       "      <th>dislikes_number</th>\n",
       "      <th>commens_count</th>\n",
       "      <th>video_duration</th>\n",
       "    </tr>\n",
       "  </thead>\n",
       "  <tbody>\n",
       "    <tr>\n",
       "      <th>0</th>\n",
       "      <td>MKBHD</td>\n",
       "      <td>Surface Laptop Studio Impressions: Windows 11 ...</td>\n",
       "      <td>SURFACE LAPTOP</td>\n",
       "      <td>80208.0</td>\n",
       "      <td>2184860.0</td>\n",
       "      <td>1472.0</td>\n",
       "      <td>5720.0</td>\n",
       "      <td>687</td>\n",
       "    </tr>\n",
       "  </tbody>\n",
       "</table>\n",
       "</div>"
      ],
      "text/plain": [
       "  channel_name                                             titles  \\\n",
       "0        MKBHD  Surface Laptop Studio Impressions: Windows 11 ...   \n",
       "\n",
       "             tags  likes_number  views_count  dislikes_number  commens_count  \\\n",
       "0  SURFACE LAPTOP       80208.0    2184860.0           1472.0         5720.0   \n",
       "\n",
       "   video_duration  \n",
       "0             687  "
      ]
     },
     "execution_count": 68,
     "metadata": {},
     "output_type": "execute_result"
    }
   ],
   "source": [
    "yt_df_modified.head(1)"
   ]
  },
  {
   "cell_type": "code",
   "execution_count": 67,
   "metadata": {},
   "outputs": [],
   "source": [
    "df = pd.merge(pre_final_df, \n",
    "              yt_df_modified, \n",
    "              left_on = 'device', \n",
    "              right_on = 'tags').drop(['tags', 'titles'], axis=1)"
   ]
  },
  {
   "cell_type": "code",
   "execution_count": 70,
   "metadata": {},
   "outputs": [
    {
     "data": {
      "text/plain": [
       "(4898, 10)"
      ]
     },
     "execution_count": 70,
     "metadata": {},
     "output_type": "execute_result"
    }
   ],
   "source": [
    "df"
   ]
  },
  {
   "cell_type": "code",
   "execution_count": 75,
   "metadata": {},
   "outputs": [],
   "source": [
    "df.drop_duplicates(inplace = True, ignore_index = True)"
   ]
  },
  {
   "cell_type": "code",
   "execution_count": 76,
   "metadata": {},
   "outputs": [
    {
     "data": {
      "text/html": [
       "<div>\n",
       "<style scoped>\n",
       "    .dataframe tbody tr th:only-of-type {\n",
       "        vertical-align: middle;\n",
       "    }\n",
       "\n",
       "    .dataframe tbody tr th {\n",
       "        vertical-align: top;\n",
       "    }\n",
       "\n",
       "    .dataframe thead th {\n",
       "        text-align: right;\n",
       "    }\n",
       "</style>\n",
       "<table border=\"1\" class=\"dataframe\">\n",
       "  <thead>\n",
       "    <tr style=\"text-align: right;\">\n",
       "      <th></th>\n",
       "      <th>company_name_x</th>\n",
       "      <th>device</th>\n",
       "      <th>year</th>\n",
       "      <th>units</th>\n",
       "      <th>channel_name</th>\n",
       "      <th>likes_number</th>\n",
       "      <th>views_count</th>\n",
       "      <th>dislikes_number</th>\n",
       "      <th>commens_count</th>\n",
       "      <th>video_duration</th>\n",
       "    </tr>\n",
       "  </thead>\n",
       "  <tbody>\n",
       "    <tr>\n",
       "      <th>0</th>\n",
       "      <td>APPLE</td>\n",
       "      <td>IPHONE 12 PRO MAX</td>\n",
       "      <td>2020</td>\n",
       "      <td>2.900000e+07</td>\n",
       "      <td>MKBHD</td>\n",
       "      <td>289750.0</td>\n",
       "      <td>6380863.0</td>\n",
       "      <td>6569.0</td>\n",
       "      <td>19865.0</td>\n",
       "      <td>1505</td>\n",
       "    </tr>\n",
       "    <tr>\n",
       "      <th>1</th>\n",
       "      <td>APPLE</td>\n",
       "      <td>IPHONE 12 PRO MAX</td>\n",
       "      <td>2020</td>\n",
       "      <td>2.900000e+07</td>\n",
       "      <td>MKBHD</td>\n",
       "      <td>170900.0</td>\n",
       "      <td>5512865.0</td>\n",
       "      <td>3293.0</td>\n",
       "      <td>12763.0</td>\n",
       "      <td>609</td>\n",
       "    </tr>\n",
       "    <tr>\n",
       "      <th>2</th>\n",
       "      <td>APPLE</td>\n",
       "      <td>IPHONE 12 PRO MAX</td>\n",
       "      <td>2020</td>\n",
       "      <td>2.900000e+07</td>\n",
       "      <td>MKBHD</td>\n",
       "      <td>230897.0</td>\n",
       "      <td>6736834.0</td>\n",
       "      <td>6498.0</td>\n",
       "      <td>27074.0</td>\n",
       "      <td>1105</td>\n",
       "    </tr>\n",
       "    <tr>\n",
       "      <th>3</th>\n",
       "      <td>APPLE</td>\n",
       "      <td>IPHONE 12 PRO MAX</td>\n",
       "      <td>2020</td>\n",
       "      <td>2.900000e+07</td>\n",
       "      <td>MRWHOSETHEBOSS</td>\n",
       "      <td>226495.0</td>\n",
       "      <td>3954624.0</td>\n",
       "      <td>6898.0</td>\n",
       "      <td>23637.0</td>\n",
       "      <td>968</td>\n",
       "    </tr>\n",
       "    <tr>\n",
       "      <th>4</th>\n",
       "      <td>APPLE</td>\n",
       "      <td>IPHONE 12 PRO MAX</td>\n",
       "      <td>2020</td>\n",
       "      <td>2.900000e+07</td>\n",
       "      <td>MRWHOSETHEBOSS</td>\n",
       "      <td>155226.0</td>\n",
       "      <td>4382765.0</td>\n",
       "      <td>2691.0</td>\n",
       "      <td>13550.0</td>\n",
       "      <td>593</td>\n",
       "    </tr>\n",
       "    <tr>\n",
       "      <th>...</th>\n",
       "      <td>...</td>\n",
       "      <td>...</td>\n",
       "      <td>...</td>\n",
       "      <td>...</td>\n",
       "      <td>...</td>\n",
       "      <td>...</td>\n",
       "      <td>...</td>\n",
       "      <td>...</td>\n",
       "      <td>...</td>\n",
       "      <td>...</td>\n",
       "    </tr>\n",
       "    <tr>\n",
       "      <th>4857</th>\n",
       "      <td>SAMSUNG</td>\n",
       "      <td>GALAXY S21</td>\n",
       "      <td>2021</td>\n",
       "      <td>1.350000e+07</td>\n",
       "      <td>MRWHOSETHEBOSS</td>\n",
       "      <td>266979.0</td>\n",
       "      <td>7767749.0</td>\n",
       "      <td>4771.0</td>\n",
       "      <td>17198.0</td>\n",
       "      <td>1093</td>\n",
       "    </tr>\n",
       "    <tr>\n",
       "      <th>4858</th>\n",
       "      <td>XIAOMI</td>\n",
       "      <td>REDMI 8</td>\n",
       "      <td>2019</td>\n",
       "      <td>6.800000e+06</td>\n",
       "      <td>MRWHOSETHEBOSS</td>\n",
       "      <td>68267.0</td>\n",
       "      <td>3046416.0</td>\n",
       "      <td>2970.0</td>\n",
       "      <td>2037.0</td>\n",
       "      <td>436</td>\n",
       "    </tr>\n",
       "    <tr>\n",
       "      <th>4859</th>\n",
       "      <td>XIAOMI</td>\n",
       "      <td>REDMI NOTE 7 PRO</td>\n",
       "      <td>2019</td>\n",
       "      <td>2.000000e+07</td>\n",
       "      <td>UNBOX_THERAPY</td>\n",
       "      <td>36921.0</td>\n",
       "      <td>1248998.0</td>\n",
       "      <td>1057.0</td>\n",
       "      <td>5495.0</td>\n",
       "      <td>393</td>\n",
       "    </tr>\n",
       "    <tr>\n",
       "      <th>4860</th>\n",
       "      <td>XIAOMI</td>\n",
       "      <td>REDMI NOTE 7</td>\n",
       "      <td>2019</td>\n",
       "      <td>2.000000e+07</td>\n",
       "      <td>MRWHOSETHEBOSS</td>\n",
       "      <td>68267.0</td>\n",
       "      <td>3046416.0</td>\n",
       "      <td>2970.0</td>\n",
       "      <td>2037.0</td>\n",
       "      <td>436</td>\n",
       "    </tr>\n",
       "    <tr>\n",
       "      <th>4861</th>\n",
       "      <td>XIAOMI</td>\n",
       "      <td>REDMI NOTE 7</td>\n",
       "      <td>2019</td>\n",
       "      <td>2.000000e+07</td>\n",
       "      <td>UNBOX_THERAPY</td>\n",
       "      <td>36921.0</td>\n",
       "      <td>1248998.0</td>\n",
       "      <td>1057.0</td>\n",
       "      <td>5495.0</td>\n",
       "      <td>393</td>\n",
       "    </tr>\n",
       "  </tbody>\n",
       "</table>\n",
       "<p>4862 rows × 10 columns</p>\n",
       "</div>"
      ],
      "text/plain": [
       "     company_name_x             device  year         units    channel_name  \\\n",
       "0             APPLE  IPHONE 12 PRO MAX  2020  2.900000e+07           MKBHD   \n",
       "1             APPLE  IPHONE 12 PRO MAX  2020  2.900000e+07           MKBHD   \n",
       "2             APPLE  IPHONE 12 PRO MAX  2020  2.900000e+07           MKBHD   \n",
       "3             APPLE  IPHONE 12 PRO MAX  2020  2.900000e+07  MRWHOSETHEBOSS   \n",
       "4             APPLE  IPHONE 12 PRO MAX  2020  2.900000e+07  MRWHOSETHEBOSS   \n",
       "...             ...                ...   ...           ...             ...   \n",
       "4857        SAMSUNG         GALAXY S21  2021  1.350000e+07  MRWHOSETHEBOSS   \n",
       "4858         XIAOMI            REDMI 8  2019  6.800000e+06  MRWHOSETHEBOSS   \n",
       "4859         XIAOMI   REDMI NOTE 7 PRO  2019  2.000000e+07   UNBOX_THERAPY   \n",
       "4860         XIAOMI       REDMI NOTE 7  2019  2.000000e+07  MRWHOSETHEBOSS   \n",
       "4861         XIAOMI       REDMI NOTE 7  2019  2.000000e+07   UNBOX_THERAPY   \n",
       "\n",
       "      likes_number  views_count  dislikes_number  commens_count  \\\n",
       "0         289750.0    6380863.0           6569.0        19865.0   \n",
       "1         170900.0    5512865.0           3293.0        12763.0   \n",
       "2         230897.0    6736834.0           6498.0        27074.0   \n",
       "3         226495.0    3954624.0           6898.0        23637.0   \n",
       "4         155226.0    4382765.0           2691.0        13550.0   \n",
       "...            ...          ...              ...            ...   \n",
       "4857      266979.0    7767749.0           4771.0        17198.0   \n",
       "4858       68267.0    3046416.0           2970.0         2037.0   \n",
       "4859       36921.0    1248998.0           1057.0         5495.0   \n",
       "4860       68267.0    3046416.0           2970.0         2037.0   \n",
       "4861       36921.0    1248998.0           1057.0         5495.0   \n",
       "\n",
       "      video_duration  \n",
       "0               1505  \n",
       "1                609  \n",
       "2               1105  \n",
       "3                968  \n",
       "4                593  \n",
       "...              ...  \n",
       "4857            1093  \n",
       "4858             436  \n",
       "4859             393  \n",
       "4860             436  \n",
       "4861             393  \n",
       "\n",
       "[4862 rows x 10 columns]"
      ]
     },
     "execution_count": 76,
     "metadata": {},
     "output_type": "execute_result"
    }
   ],
   "source": [
    "df"
   ]
  },
  {
   "cell_type": "code",
   "execution_count": 77,
   "metadata": {},
   "outputs": [],
   "source": [
    "df.to_csv('final_df.csv')"
   ]
  },
  {
   "cell_type": "code",
   "execution_count": null,
   "metadata": {},
   "outputs": [],
   "source": []
  },
  {
   "cell_type": "code",
   "execution_count": null,
   "metadata": {},
   "outputs": [],
   "source": []
  },
  {
   "cell_type": "markdown",
   "metadata": {},
   "source": [
    "## EDA"
   ]
  },
  {
   "cell_type": "code",
   "execution_count": null,
   "metadata": {},
   "outputs": [],
   "source": []
  },
  {
   "cell_type": "code",
   "execution_count": null,
   "metadata": {},
   "outputs": [],
   "source": []
  },
  {
   "cell_type": "code",
   "execution_count": null,
   "metadata": {},
   "outputs": [],
   "source": []
  },
  {
   "cell_type": "markdown",
   "metadata": {},
   "source": [
    "## Regression and Experiments"
   ]
  },
  {
   "cell_type": "code",
   "execution_count": null,
   "metadata": {},
   "outputs": [],
   "source": []
  },
  {
   "cell_type": "code",
   "execution_count": null,
   "metadata": {},
   "outputs": [],
   "source": []
  },
  {
   "cell_type": "code",
   "execution_count": null,
   "metadata": {},
   "outputs": [],
   "source": []
  },
  {
   "cell_type": "code",
   "execution_count": null,
   "metadata": {},
   "outputs": [],
   "source": []
  },
  {
   "cell_type": "code",
   "execution_count": null,
   "metadata": {},
   "outputs": [],
   "source": []
  },
  {
   "cell_type": "code",
   "execution_count": null,
   "metadata": {},
   "outputs": [],
   "source": [
    "#  \n",
    "# \n",
    "# \n",
    "# \n",
    "# find a way to join YT (tags)\n",
    "# EDA\n",
    "# Regression\n",
    "# Final Analysis and conclusion \n",
    "# Presentation"
   ]
  },
  {
   "cell_type": "code",
   "execution_count": null,
   "metadata": {},
   "outputs": [],
   "source": []
  },
  {
   "cell_type": "code",
   "execution_count": null,
   "metadata": {},
   "outputs": [],
   "source": []
  },
  {
   "cell_type": "code",
   "execution_count": null,
   "metadata": {},
   "outputs": [],
   "source": []
  },
  {
   "cell_type": "code",
   "execution_count": null,
   "metadata": {},
   "outputs": [],
   "source": []
  }
 ],
 "metadata": {
  "kernelspec": {
   "display_name": "Python 3",
   "language": "python",
   "name": "python3"
  },
  "language_info": {
   "codemirror_mode": {
    "name": "ipython",
    "version": 3
   },
   "file_extension": ".py",
   "mimetype": "text/x-python",
   "name": "python",
   "nbconvert_exporter": "python",
   "pygments_lexer": "ipython3",
   "version": "3.8.3"
  }
 },
 "nbformat": 4,
 "nbformat_minor": 4
}
