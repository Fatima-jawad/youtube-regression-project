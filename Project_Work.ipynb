{
 "cells": [
  {
   "cell_type": "markdown",
   "metadata": {},
   "source": [
    "# Title"
   ]
  },
  {
   "cell_type": "code",
   "execution_count": 1,
   "metadata": {},
   "outputs": [],
   "source": [
    "# Libraries used\n",
    "\n",
    "import requests\n",
    "from bs4 import BeautifulSoup\n",
    "import pandas as pd\n",
    "from fake_useragent import UserAgent\n",
    "import time\n",
    "import numpy as np\n",
    "import sys"
   ]
  },
  {
   "cell_type": "markdown",
   "metadata": {},
   "source": [
    "## Scrapping"
   ]
  },
  {
   "cell_type": "markdown",
   "metadata": {},
   "source": [
    "### In this section, we will scrap (https://www.gsmarena.com/makers.php3) to get all companies names, devices and number of devices."
   ]
  },
  {
   "cell_type": "code",
   "execution_count": null,
   "metadata": {},
   "outputs": [],
   "source": [
    "the_link = 'https://www.gsmarena.com/makers.php3'\n",
    "ua = UserAgent()\n",
    "def get_soup(the_link):\n",
    "    source_code = requests.get(the_link, headers = {'User-agent': ua.random})\n",
    "    return BeautifulSoup(source_code.text, 'html5lib')\n"
   ]
  },
  {
   "cell_type": "code",
   "execution_count": null,
   "metadata": {},
   "outputs": [],
   "source": [
    "soup = get_soup(the_link)\n",
    "list_of_companies = soup.find('div', {'class': 'st-text'})\n",
    "\n",
    "company_name = []\n",
    "links = []\n",
    "number_of_devices = []\n",
    "\n",
    "for anchor in list_of_companies.findAll('a'):\n",
    "    company_name.append(anchor.text.strip())\n",
    "    links.append('https://www.gsmarena.com/'+anchor.attrs['href'])\n",
    "    number_of_devices.append(anchor.find('span').text)"
   ]
  },
  {
   "cell_type": "markdown",
   "metadata": {},
   "source": [
    "We notice that companies names and the number of devices in company_name list are compined into a single string as shown below."
   ]
  },
  {
   "cell_type": "code",
   "execution_count": null,
   "metadata": {},
   "outputs": [],
   "source": [
    "print(company_name[:2])\n",
    "print(number_of_devices[:2])"
   ]
  },
  {
   "cell_type": "markdown",
   "metadata": {},
   "source": [
    "We will now clean the data"
   ]
  },
  {
   "cell_type": "code",
   "execution_count": null,
   "metadata": {},
   "outputs": [],
   "source": [
    "for i in range(len(company_name)):\n",
    "    company_name[i] = company_name[i].replace(number_of_devices[i],'')"
   ]
  },
  {
   "cell_type": "code",
   "execution_count": null,
   "metadata": {},
   "outputs": [],
   "source": [
    "# Now data is cleaned\n",
    "print(company_name[:2])\n",
    "print(number_of_devices[:2])"
   ]
  },
  {
   "cell_type": "code",
   "execution_count": null,
   "metadata": {},
   "outputs": [],
   "source": [
    "df1 = pd.DataFrame()\n",
    "df1['company_name'] = company_name\n",
    "df1['link'] = links\n",
    "df1['number_of_devices'] = [int(i.replace('devices','').strip()) for i in number_of_devices]"
   ]
  },
  {
   "cell_type": "code",
   "execution_count": null,
   "metadata": {},
   "outputs": [],
   "source": [
    "devices = []\n",
    "companies_names = []\n",
    "for a_link in df1.link.values:\n",
    "    soup = get_soup(a_link)\n",
    "    cn = df1[df1[link] == a_link]['company_name'].values[0]\n",
    "    \n",
    "    # We'll now generate a list with all the pages containing a company's device \n",
    "    all_pages_links = [a_link]\n",
    "    list_of_pages = soup.find('div', {'class': 'nav-pages'})\n",
    "    try:\n",
    "        for i in list_of_pages.find_all('a'):\n",
    "            all_pages_links.append('https://www.gsmarena.com/'+i.get('href'))\n",
    "    except:\n",
    "        pass\n",
    "    \n",
    "    # We'll get all the devices names \n",
    "    for page_link in all_pages_links:\n",
    "        soup = get_soup(page_link)\n",
    "        list_of_devices = soup.find('div', {'class': 'makers'})\n",
    "        time.sleep(1+np.random.ranint(0,3))\n",
    "        try:\n",
    "            for name in list_of_devices.find_all('span'):\n",
    "                time.sleep(1+np.random.ranint(0,3))\n",
    "                devices.append(name.text)\n",
    "                companies_names.append(cn)\n",
    "        except:\n",
    "            devices.append(list_of_pages.find('span').text)\n",
    "    time.sleep(1+np.random.ranint(0,3))\n",
    "    \n",
    "devices"
   ]
  },
  {
   "cell_type": "code",
   "execution_count": null,
   "metadata": {},
   "outputs": [],
   "source": [
    "# Now we will create a dataframe that contains the companies names and the names of the devices\n",
    "CN_D = pd.DataFrame({'CN':companies_names, 'D':devices})"
   ]
  },
  {
   "cell_type": "code",
   "execution_count": null,
   "metadata": {},
   "outputs": [],
   "source": [
    "# Now we will join the two dataframes\n",
    "df_devices = pd.merge(df1, CN_D, on='company_name')\n",
    "df_devices"
   ]
  },
  {
   "cell_type": "markdown",
   "metadata": {},
   "source": [
    "### In the next section, we will scrap Wikipedia to get the financial information we want for each device."
   ]
  },
  {
   "cell_type": "code",
   "execution_count": null,
   "metadata": {},
   "outputs": [],
   "source": [
    "# wikipedia Scrapping"
   ]
  },
  {
   "cell_type": "code",
   "execution_count": null,
   "metadata": {},
   "outputs": [],
   "source": []
  },
  {
   "cell_type": "code",
   "execution_count": null,
   "metadata": {},
   "outputs": [],
   "source": []
  },
  {
   "cell_type": "code",
   "execution_count": null,
   "metadata": {},
   "outputs": [],
   "source": []
  },
  {
   "cell_type": "markdown",
   "metadata": {},
   "source": [
    "### In the next section, we will scrap YouTube to get the length of the video, number of like and dislikes, the channels names, and the devices the reviews were about."
   ]
  },
  {
   "cell_type": "code",
   "execution_count": null,
   "metadata": {},
   "outputs": [],
   "source": [
    "# YouTube Scrapping"
   ]
  },
  {
   "cell_type": "code",
   "execution_count": null,
   "metadata": {},
   "outputs": [],
   "source": []
  },
  {
   "cell_type": "code",
   "execution_count": null,
   "metadata": {},
   "outputs": [],
   "source": []
  },
  {
   "cell_type": "code",
   "execution_count": null,
   "metadata": {},
   "outputs": [],
   "source": []
  },
  {
   "cell_type": "markdown",
   "metadata": {},
   "source": [
    "## Regression"
   ]
  },
  {
   "cell_type": "code",
   "execution_count": null,
   "metadata": {},
   "outputs": [],
   "source": []
  },
  {
   "cell_type": "code",
   "execution_count": null,
   "metadata": {},
   "outputs": [],
   "source": []
  },
  {
   "cell_type": "code",
   "execution_count": null,
   "metadata": {},
   "outputs": [],
   "source": []
  },
  {
   "cell_type": "code",
   "execution_count": null,
   "metadata": {},
   "outputs": [],
   "source": []
  }
 ],
 "metadata": {
  "kernelspec": {
   "display_name": "Python 3",
   "language": "python",
   "name": "python3"
  },
  "language_info": {
   "codemirror_mode": {
    "name": "ipython",
    "version": 3
   },
   "file_extension": ".py",
   "mimetype": "text/x-python",
   "name": "python",
   "nbconvert_exporter": "python",
   "pygments_lexer": "ipython3",
   "version": "3.8.3"
  }
 },
 "nbformat": 4,
 "nbformat_minor": 4
}
